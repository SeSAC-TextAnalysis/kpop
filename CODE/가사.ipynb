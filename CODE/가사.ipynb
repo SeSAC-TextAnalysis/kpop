{
 "cells": [
  {
   "cell_type": "code",
   "execution_count": 26,
   "id": "4bf13ba2-a829-475e-ad29-1461c71454b7",
   "metadata": {},
   "outputs": [],
   "source": [
    "import re\n",
    "import time\n",
    "import requests\n",
    "from bs4 import BeautifulSoup\n",
    "import csv"
   ]
  },
  {
   "cell_type": "markdown",
   "id": "414ff3a4-216a-4cc8-ad58-4f2fe7c2c0c8",
   "metadata": {},
   "source": [
    "### 곡 정보에서 가사 가져오기"
   ]
  },
  {
   "cell_type": "code",
   "execution_count": 19,
   "id": "c0b5650c-0724-4fcb-87b7-4d475bc520ea",
   "metadata": {},
   "outputs": [],
   "source": [
    "def clean_song_name(song_name):\n",
    "    song_name = re.sub('\\\\t', '', song_name)\n",
    "    # song_name : ['곡명','TOMBOY']\n",
    "    song_name = song_name.split()[1]\n",
    "    return song_name"
   ]
  },
  {
   "cell_type": "code",
   "execution_count": 20,
   "id": "d86c44cb-00ab-457c-a882-fb8cf15686a5",
   "metadata": {},
   "outputs": [],
   "source": [
    "# 텍스트에 있는 \\n과 \\t를 제거하고 문장 양옆의 띄어쓰기를 지운다.\n",
    "def clean_text(text):\n",
    "    text = re.sub('\\\\t', '', text)\n",
    "    text = re.sub('\\\\n', '', text)\n",
    "    text = text.strip()\n",
    "    return text"
   ]
  },
  {
   "cell_type": "code",
   "execution_count": 4,
   "id": "1e362abc-1e14-401a-92a4-de686f713944",
   "metadata": {},
   "outputs": [],
   "source": [
    "# {'songId':'가사'} 형식으로 dict를 만드는 함수\n",
    "def make_lyrics_dict(songIdList):\n",
    "    result_list = {}\n",
    "    headers ={'User-Agent' : 'Mozilla/5.0 (Windows NT 10.0; Win64; x64) AppleWebKit/537.36 (KHTML, like Gecko) Chrome/117.0.0.0 Safari/537.36'}\n",
    "    \n",
    "    for songId in songIdList:\n",
    "        url = f\"https://www.melon.com/song/detail.htm?songId={songId}\"    \n",
    "        res = requests.get(url, headers = headers)\n",
    "        \n",
    "        # 성공일 경우\n",
    "        if res.status_code == 200:\n",
    "            text = res.text\n",
    "        \n",
    "            bs = BeautifulSoup(res.text, 'html.parser')\n",
    "            # lyrics 가사\n",
    "            # song_name 가수명\n",
    "            # artist 아티스트명\n",
    "            lyrics = bs.select_one(\"#d_video_summary\").text\n",
    "            lyrics = clean_text(lyrics)\n",
    "\n",
    "            '''        \n",
    "            info = bs.select(\".info\")[1]\n",
    "            song_name = info.select_one(\".song_name\").text\n",
    "            song_name = clean_song_name(song_name)\n",
    "            \n",
    "            artist = info.select_one(\".artist\").text\n",
    "            artist = clean_text(artist)\n",
    "            '''\n",
    "            result_list[songId] = lyrics\n",
    "\n",
    "        time.sleep(0.3)\n",
    "        \n",
    "    return result_list"
   ]
  },
  {
   "cell_type": "code",
   "execution_count": 21,
   "id": "045e1cd1-6e98-4aa3-8db7-5e2f56fe3167",
   "metadata": {},
   "outputs": [],
   "source": [
    "songIdList = ['34847378',\n",
    " '34754292',\n",
    " '34431086',\n",
    " '34657844',\n",
    " '34061322',\n",
    " '34349913',\n",
    " '34845949',\n",
    " '33496587',\n",
    " '34997078',\n",
    " '34927767',\n",
    " '33480898',\n",
    " '34626109',\n",
    " '34256568',\n",
    " '34772475',\n",
    " '35454426',\n",
    " '34752700',\n",
    " '35454425',\n",
    " '35546497',\n",
    " '34943312',\n",
    " '35383397',\n",
    " '34875621',\n",
    " '33487342',\n",
    " '34298499',\n",
    " '34481680',\n",
    " '34101563',\n",
    " '4446485',\n",
    " '34787226',\n",
    " '34701627',\n",
    " '33978183',\n",
    " '32872978',\n",
    " '35383398',\n",
    " '34538515',\n",
    " '33655994',\n",
    " '35009233',\n",
    " '33507137',\n",
    " '35542908',\n",
    " '34599917',\n",
    " '33061995',\n",
    " '35595136',\n",
    " '34398735',\n",
    " '30962526',\n",
    " '34360855',\n",
    " '32508053',\n",
    " '32698101',\n",
    " '3414749',\n",
    " '33666269',\n",
    " '34908740',\n",
    " '33625988',\n",
    " '34819473',\n",
    " '34494149',\n",
    " '33239419',\n",
    " '34754299',\n",
    " '34041584',\n",
    " '35333345',\n",
    " '35361345',\n",
    " '34535898',\n",
    " '33372781',\n",
    " '30244931',\n",
    " '33448767',\n",
    " '34436674',\n",
    " '32061975',\n",
    " '34930368',\n",
    " '34298496',\n",
    " '33359725',\n",
    " '34817660',\n",
    " '35252996',\n",
    " '32183386',\n",
    " '33976677',\n",
    " '34668619',\n",
    " '33868791',\n",
    " '35413033',\n",
    " '30287019',\n",
    " '33503722',\n",
    " '35485544',\n",
    " '35008524',\n",
    " '35504734',\n",
    " '34481682',\n",
    " '35640077',\n",
    " '35730562',\n",
    " '33464805',\n",
    " '34373632',\n",
    " '35238221',\n",
    " '4276080',\n",
    " '35729104',\n",
    " '35177030',\n",
    " '33725775',\n",
    " '34883833',\n",
    " '35238220',\n",
    " '35665282',\n",
    " '34100776',\n",
    " '34632789',\n",
    " '35272060',\n",
    " '34461065',\n",
    " '35008525',\n",
    " '35643794',\n",
    " '31853557',\n",
    " '34701816',\n",
    " '32794652',\n",
    " '34399272',\n",
    " '33248758']\n",
    "songId = songIdList[1]"
   ]
  },
  {
   "cell_type": "code",
   "execution_count": 24,
   "id": "f8dad146-530b-4d0e-a915-017ca491a58a",
   "metadata": {},
   "outputs": [],
   "source": [
    "lyrics_dict = make_lyrics_dict(songIdList)"
   ]
  },
  {
   "cell_type": "code",
   "execution_count": 23,
   "id": "0b924a8f-9859-43b2-ae66-2fddec36d96c",
   "metadata": {},
   "outputs": [
    {
     "data": {
      "text/plain": [
       "{'34847378': '네가 참 궁금해 그건 너도 마찬가지이거면 충분해 쫓고 쫓는 이런 놀이참을 수 없는 이끌림과 호기심 묘한 너와 나 두고 보면 알겠지Woo 눈동자 아래로Woo 감추고 있는 거Woo yeah It’s so bad It’s good 난 그 맘을 좀 봐야겠어Narcissistic, my god I love it서로를 비춘 밤아름다운 까만 눈빛 더 빠져 깊이(넌 내게로 난 네게로) 숨 참고 love diveWoo lalalalalalalaWoo 어서 와서 love diveWoo oh perfect sacrifice yeah숨 참고 love dive마음은 이렇게 알다가도 모르지사랑이라는 건 한순간에 필 테니직접 들어와 두 눈으로 확인해내 맘 가장 깊은 데로 오면 돼Woo 망설일 시간은Woo 3초면 되는 걸Woo yeah It’s so bad It’s good 원하면 감히 뛰어들어Narcissistic, my god I love it서로를 비춘 밤아름다운 까만 눈빛 더 빠져 깊이(넌 내게로 난 네게로) 숨 참고 love diveWoo lalalalalalalaWoo 어서 와서 love diveWoo oh perfect sacrifice yeah숨 참고 love dive숨 참고 love dive 숨 참고 love dive숨 참고 love dive숨 참고 love diveWoo lalalalalalalaWoo 어서 와서 love diveWoo oh perfect sacrifice yeah숨 참고 love dive',\n",
       " '34754292': 'Look at you 넌 못 감당해 날Ya took off hook기분은 Coke like brrrLook at my toe나의 Ex 이름 TattooI got to drink up now네가 싫다 해도 좋아Why are you cranky, boy?뭘 그리 찡그려 너Do you want a blond barbie doll?It’s not here, I’m not a doll미친 연이라 말해What’s the loss to me ya사정없이 까보라고You’ll lose to me ya사랑 그깟 거 따위내 몸에 상처 하나도 어림없지너의 썩은 내 나는 향수나 뿌릴 바엔Ye I’m a Tomboy (Umm ah umm)Ye I’ll be the Tomboy (Umm ah)This is my attitudeYe I’ll be the TomboyI don’t wanna play this ping pongI would rather film a Tik TokYour mom raised you as a princeBut this is queendom, right?I like dancing, I love ma friendsSometimes we swearwithout cigarettesI like to eh on drinking whiskeyI won’t change it, what the hell?미친 척이라 말해What’s the loss to me ya사정없이 씹으라고You’re lost to me ya사랑 그깟 거 따위내 눈에 눈물 한 방울 어림없지너의 하찮은 말에 미소나 지을 바엔Ye I’m a Tomboy (Umm ah umm)Ye I’ll be the Tomboy (Umm ah)This is my attitudeYe I’ll be the TomboySaid you get it?You get the song right,you’ll get what I mean “Tomboy”La la la la la la la la laLa la la la la la la la laLa la la la la la la la laLa la la la la la la la laThree, two, oneIt’s neither man nor womanMan nor womanIt’s neither man nor womanJust me I-DLEIt’s neither man nor womanMan nor womanIt’s neither man nor womanJust me loving Tomboy',\n",
       " '34431086': '뭐하고 있었니 늦었지만잠시 나올래너의 집 골목에 있는놀이터에 앉아 있어친구들 만나서 오랜만에술을 좀 했는데자꾸만 니 얼굴 떠올라무작정 달려왔어이 맘 모르겠니요즘 난 미친 사람처럼너만 생각해대책없이 네가 점점 좋아져아냐 안 취했어 진짜야널 정말 사랑해눈물이 날만큼 원하고 있어정말로 몰랐니가끔 전화해 장난치듯주말엔 뭐할거냐며너의 관심 끌던 나를그리고 한번씩 누나 주려 샀는데너 그냥 준다고생색 낸 선물도 너 때문에 산거야이 맘 모르겠니요즘 난 미친 사람처럼너만 생각해대책없이 네가 점점 좋아져아냐 안 취했어 진짜야널 정말 사랑해진심이야 믿어줘갑자기 이런 말 놀랐다면 미안해부담이 되는게 당연해이해해 널하지만 내 고백도 이해해 주겠니 oh지금 당장 대답하진마나와 일주일만 사귀어줄래후회없이 잘 해주고 싶은데그 후에도 니가 싫다면나 그때 포기할게귀찮게 안할게 혼자 아플게진심이야 너를 사랑하고 있어',\n",
       " '34657844': '너와 함께 하고 싶은 일들을상상하는 게요즘 내 일상이 되고너의 즐거워하는 모습을 보고 있으면자연스레 따라 웃고 있는 걸너의 행동에 설레어하고 뒤척이다가지새운 밤이 많아지는데이건 누가 봐도 사랑일 텐데종일 함께면 질릴 텐데나 돌아서도 온통 너인 건아무래도 사랑인가 봐점점 너와 하고 싶은 일들 생각하면서하룰 보낸 날이 많아지는데이건 누가 봐도 사랑일 텐데종일 함께면 질릴 텐데나 돌아서도 온통 너인 건아무래도 사랑인가 봐너의 행복해하는 모습을 보고 있으면나도 모르게 따라 웃는데이 정도면 알아줄 만하잖아너도 용기 낼만 하잖아나만 이런 게 아니라면우리 만나볼 만하잖아아무래도 사랑인가 봐',\n",
       " '34061322': '눈물이 난다 이 길을 걸으면그 사람 손길이 자꾸 생각이 난다붙잡지 못하고 가슴만 떨었지내 아름답던 사람아사랑이란 게 참 쓰린 거더라잡으려 할수록 더 멀어지더라이별이란 게 참 쉬운 거더라내 잊지 못할 사람아사랑아 왜 도망가수줍은 아이처럼행여 놓아버릴까 봐꼭 움켜쥐지만그리움이 쫓아 사랑은 늘 도망가잠시 쉬어가면 좋을 텐데바람이 분다 옷깃을 세워도차가운 이별의 눈물이 차올라잊지 못해서 가슴에 사무친내 소중했던 사람아사랑아 왜 도망가수줍은 아이처럼행여 놓아버릴까 봐꼭 움켜쥐지만그리움이 쫓아 사랑은 늘 도망가잠시 쉬어가면 좋을 텐데기다림도 애태움도 다 버려야 하는데무얼 찾아 이 길을 서성일까무얼 찾아 여기 있나사랑아 왜 도망가수줍은 아이처럼행여 놓아버릴까 봐꼭 움켜쥐지만그리움이 쫓아 사랑은 늘 도망가잠시 쉬어가면 좋을 텐데잠시 쉬어가면 좋을 텐데',\n",
       " '34349913': \"따분한 나의 눈빛이무표정했던 얼굴이널 보며 빛나고 있어널 담은 눈동자는 odd내 안에 빼곡하게 피어나는 blue내가 지금 느끼는 이 감정들은 true내 입술을 간지럽힌 낯선 그 이름난 몰랐어 내 맘이 이리 다채로운지긴 꿈을 꾸게 해 이 방은 작은 heaven춤을 추곤 해 실컷 어지러울 만큼Oh my, oh my god한 칸 더 채우고 있어잘 봐 1, 2, 3, 4, 5, 6, 7You make me feel like eleven투명한 너와 나의 사이가만히 들여다보다일렁인 물결 속으로더 빠져드는 걸그날 향기로운 보랏빛의 mood셀 수 없이 반복해도 기분 좋은 꿈감히 누가 이렇게 날 설레게 할 줄난 몰랐어 내 맘이 이리 다채로운지긴 꿈을 꾸게 해 이 방은 작은 heaven춤을 추곤 해 실컷 어지러울 만큼Oh my, oh my god한 칸 더 채우고 있어잘 봐 1, 2, 3, 4, 5, 6, 7You make me feel like eleven내 앞에 있는 너를그 눈에 비친 나를 (그 눈에 비친 나를)Aya, aya, aya (가만히 바라봐)내 앞에 있는 너를그 눈에 비친 나를가만히 바라봐Don't say now서둘러 오진 마이 순간이 좋아 난미처 몰랐어 내 맘이 이리 다채로운지긴 꿈을 꾸게 해 이 방은 작은 heaven춤을 추곤 해 실컷 어지러울 만큼Oh my, oh my god한 칸 더 채우고 있어잘 봐 1, 2, 3, 4, 5, 6, 7You make me feel like eleven내 앞에 있는 너를그 눈에 비친 나를Aya, aya, aya내 앞에 있는 너를그 눈에 비친 나를사랑하게 됐거든\",\n",
       " '34845949': '이듬해 질 녘 꽃 피는 봄 한여름 밤의 꿈가을 타 겨울 내릴 눈 1년 네 번 또다시 봄정들었던 내 젊은 날 이제는 안녕아름답던 우리의 봄 여름 가을 겨울 “Four seasons with no reason.”비 갠 뒤에 비애(悲哀) 대신 a happy end비스듬히 씩 비웃듯 칠색 무늬의 무지개철없이 철 지나 철들지 못해(still)철부지에 철 그른지 오래, Marchin’ 비발디차이코프스키, 오늘의 사계를 맞이해마침내, 마치 넷이 못내 Boy 저 하늘만 바라보고서 사계절 잘 지내고 있어 Good-bye 떠난 사람 또 나타난 사람머리 위 저세상 난 떠나 영감의 amazon지난 밤의 트라우마 다 묻고 목숨 바쳐 달려올 새 출발 하는 왕복선 변할래 전보다는 더욱더좋은 사람 더욱더 더 나은 사람 더욱더아침 이슬을 맞고 내 안에 분노 과거에 묻고For Life울었던 웃었던 소년과 소녀가 그리워 나찬란했던 사랑했던 그 시절만 자꾸 기억나 계절은 날이 갈수록 속절없이 흘러붉게 물들이고 파랗게 멍들어 가슴을 훑고언젠가 다시 올 그날 그때를 위하여 (그대를 위하여)아름다울 우리의 봄 여름 가을 겨울La la la la la la la la la la la La la la la la la la la la la la La la la la la la la la la la la La la la la la la la la la la la 이듬해 질 녘 꽃 피는 봄 한여름 밤의 꿈가을 타 겨울 내린 눈 봄 여름 가을 겨울',\n",
       " '33496587': '끝없이 별빛이 내리던 밤기분 좋은 바람이두 뺨을 스치고 새벽 바다 한곳을 보는아름다운 너와 나그림을 그려갔어모래 위 떨린 손끝으로날 향해 웃어주는 입술끝 모양과 저 달보다사랑스러운 두 눈을 가진 네가다정히 내 이름을부르면 내 마음이녹아내려 언제나나 하날 위해 준비된선물 같아 널 안으면잠들지 않는 바다 위를너와 함께 걷는 거 같아하늘 아래 너와 나남은 내 모든 날을 너에게다 줘도 안 아까워이제서야 내가사랑에 눈을 뜬 건 가봐경험하지 못했고믿기지 않는 일만일어나고 있는 거 아니5월에 피는 봄꽃 처럼내 사랑도 피어나부는 바람에 살며시 실어 보내다정히 내 이름을부르면 내 마음이녹아내려 언제나나 하날 위해 준비된선물 같아 널 안으면잠들지 않는 바다 위를너와 함께 걷는 거 같아하늘 아래 너와 나설레는 지금이꿈이 아닌 걸 알잖아난 더 바랄 게 없어먼 훗날 내 생애아주 작은 소리로귓가에 말할 거야내 곁에 머물러줘서마음 다해 고맙다고어떤 말로도 표현 못 할내 인생의 전부였다고이 순간 너를 꼭 안고고백할게 언제나우리 모든 날들과별빛 아래 우리 그림자제일로 특별하다고길고 긴 겨울 끝을 지나너의 앞에 서있는 지금선명한 목소리로널 사랑한다고말할게',\n",
       " '34997078': \"20 22 PSY Coming back (이리 오너라)Long time no see huh? 오래간만이지 huh? 우리 다시 웃고 울고 지지고 볶고 Let’s get locoPandemic's over uh 그래 기분이 오져 uh 다시 그분이 오죠 uh Everybody say 뻑적지근해 걸쩍지근해 시끌벅적거리네 너무 좋아 북적거리네 동서남북 Aye강남강북 Aye 싹 다 모여 Throw yo hands in the airI say yeahCan you feel it?Can you feel it? Oh oh woo yeah Oh woo oh Can you feel it?Can you feel it?Oh oh woo yeah Ah 준비하시고 (Go) 쏘세요 (Oh) That that I like that (Like that)기분 좋아 Babe (Babe) 흔들어 좌 우 위 아래로 (Sing it)One two three to the four (Sing it)That that I like that That that I like that babe That that I like that It’s like that that yo That that I like that That that I like that babe That that I like that It’s like that야 내가 뭐 하는 사람인지 까먹었지? That that I like that (Like that)시간이 지나도 변함없이 That that I like that (Like that) I don't care I don't care that I like that That that I like that (Like that)내가 바라보고 바라왔던 사람들아 모두 다 Ready set go되려 늘어난 맷집 때리던 분이 불편하겠지너네 바람대로 망할 거라 고사 지낸 사람들을 모아다가 가볍게 때찌적당히 하라고 Oh oh oh 그냥 닥치고 다 같이 놀아보자고 Oh oh oh   민윤기와 박재상 Can you feel it?Can you feel it? Oh oh woo yeah Oh woo oh Can you feel it?Can you feel it?Oh oh woo yeah Ah 준비하시고 (Go) 쏘세요 (Oh)That that I like that (Like that)기분 좋아 Babe (Babe) 흔들어 좌 우 위 아래로 (Sing it)One two three to the four (Sing it)That that I like that That that I like that babe That that I like that It’s like that that yo That that I like that That that I like that babe That that I like that It’s like that that yoDo what you wanna Say what you wanna Do what you wanna (Say what?)That that I like that babe Do what you wanna Say what you wanna Do what you wanna (Say what?)That that I like that babe That that I like that\",\n",
       " '34927767': 'Back to the day갓 10대가 됐을 때그때 내가 널 보지 못했다면어땠을까 해왜인지 외로워지는 밤에 You say흐린 추억 속에 네게 안겨 잠드네Yeah 친구들과의 술자리나는 또 네 얘기를 꺼내보고 싶다는 넋두리에친구들 답은 뻔해10년도 더 된 애를 사랑할 수 있냬이제 그만 잊으래근데 그게 잘 안돼그래 걔 말마따나넌 아담의 사과일 수도But 난 신을 안 믿으니까네 전화 바로 픽업지금 주소 찍어어디든 상관없어 다 갈 테니까그건 사랑이 아냐그건 미련이 아냐그냥 정이라고 하자임마 네가 뭘 알아이건 사랑이 맞아분명 약속했단 말이야I know I’m wrong그 자리에 그대로두고 온 기억들을더듬고 있을 때면You say그건 사랑이 아냐그건 미련이 아냐그냥 정리하고 가자아메리카노보단 라떼를맛있게 내리던 네 집 앞 카페를매일 같이 갔었었던 그때를내려줄게 쓰지 않아 이제는넌 매일 밤 예뻐 예뻐해주며 날 재워 재워식어버린 널 데워 태워꿈에서 날 깨워 줘버려진 기억들 속에서쓸만한 컷들을 찾고 있어이미 내 곁에 더는 없는 너지만난 너를 느낄 수 있어닿을 듯 안 닿을 듯떠나는 뒷모습이왜인지 행복해 보여너라도 행복해줘그건 사랑이 아냐그건 미련이 아냐그냥 정이라고 하자임마 네가 뭘 알아이건 사랑이 맞아분명 약속했단 말이야I know I’m wrong그 자리에 그대로두고 온 기억들을더듬고 있을 때면You say그건 사랑이 아냐그건 미련이 아냐그냥 정리하고 가자그건 사랑이 아냐그건 미련이 아냐그냥 정이라고 하자임마 네 말이 맞아이건 사랑이 아냐그냥 정리하고 가자',\n",
       " '33480898': '이제야 목적지를 정했지만가려한 날 막아서네 난 갈 길이 먼데새빨간 얼굴로 화를 냈던친구가 생각나네이미 난 발걸음을 떼었지만가려한 날 재촉하네 걷기도 힘든데새파랗게 겁에 질려 도망간친구가 뇌에 맴도네건반처럼 생긴 도로 위수많은 동그라미들 모두가멈췄다 굴렀다 말은 잘 들어그건 나도 문제가 아냐붉은색 푸른색 그 사이3초 그 짧은 시간노란색 빛을 내는저기 저 신호등이내 머릿속을 텅 비워버려내가 빠른지도느린지도 모르겠어그저 눈앞이 샛노랄 뿐이야솔직히 말하자면 차라리운전대를 못 잡던 어릴 때가더 좋았었던 것 같아그땐 함께 온 세상을거닐 친구가 있었으니건반처럼 생긴 도로 위수많은 조명들이 날 빠르게번갈아 가며 비추고 있지만난 아직 초짜란 말이야붉은색 푸른색 그 사이3초 그 짧은 시간노란색 빛을 내는 저기 저 신호등이내 머릿속을 텅 비워버려내가 빠른지도느린지도 모르겠어그저 눈앞이 샛노랄 뿐이야꼬질꼬질한 사람이나부자 곁엔 아무도 없는삼색 조명과 이색 칠 위에서 있어 괴롭히지 마붉은색 푸른색 그 사이3초 그 짧은 시간노란색 빛을 내는 저기 저 신호등이내 머릿속을 텅 비워버려내가 빠른지도느린지도 모르겠어그저 눈앞이 샛노랄 뿐이야',\n",
       " '34626109': 'Falling in love너에겐 난 Option시작부터 다른 너와 나깨지는 Heart빗나간 네 Mention익숙하거든I think I lost my mindBut It’s my kind of love아끼지 않고 다쏟아내고는 주저앉아문득 어느 순간지친 내가 보여애쓰고 있지만So I can’t love youEven though I do밀어내 봐도난 너를 못 이겨날 버리고날 잃을수록넌 반짝이는 아이러니So I N V UI N V UI N V U기대지 마기대하지도 마몇 번을 되뇌고 되놰도그 손길 한 번에무너지는 날 볼 때네 기분은 어때I guess I lost my mindYeah It’s my kind of love늘 처음인 것처럼서툴러서 또 상처가 나무뎌지기 전에아물기도 전에잔뜩 헤집어놔So I can’t love youEven though I do밀어내 봐도난 너를 못 이겨날 버리고날 잃을수록넌 반짝이는 아이러니So I N V UI N V UI N V U식은 온기부서진 맘이자꾸 날 할퀴어아파도 못 멈춰So when you leavePlease make it easyCause I N V UI N V UI N V UI N V UI N V U',\n",
       " '34256568': \"내가 슬플 때마다이 노래가 찾아와세상이 둥근 것처럼 우린 동글동글인생은 회전목마우린 매일 달려가언제쯤 끝나 난 잘 몰라어머, 벌써 정신없이 달려왔어Speed up 어제로 돌아가는 시곌 보다가어려워 어른이 되어가는 과정이 Uh huhOn the road, 24 시간이 아까워 Uh huhBig noise, Everything brand new어렸을 때처럼 바뀌지 않는 걸찾아 나섰단 말야 왜냐면 그때가 더 좋았어 난So let me go back타임머신 타고 I'll go back승호가 좋았을 때처럼만내가 슬플 때마다이 노래가 찾아와세상이 둥근 것처럼 우리인생은 회전목마우린 매일 달려가언제쯤 끝나 난 잘 몰라빙빙 돌아가는 회전목마처럼영원히 계속될 것처럼빙빙 돌아올 우리의 시간처럼인생은 회전목마어머 벌써 정신없이 달려왔어Speed up 어제로 돌아가는 시곌 보다가청춘까지 뺏은 현재 탓할 곳은 어디 없네Twenty two 세에게 너무 큰 벽그게 말로 하고 싶어도 어려웠어가끔은 어렸을 때로 돌아가불가능하단 건 나도 잘 알아그 순간만 고칠 수 있다면지금의 나는 더 나았을까달려가는 미터기 돈은 올라가기사님과 어색하게 눈이 맞아창문을 열어보지만 기분은 좋아지지 않아그래서 손을 밖으로 쭉 뻗어 쭉 뻗어흔들리는 택시는 어느새 목적지에 도달했다고 해방 하나 있는 내 집 안의 손에 있던 짐들은 내가 힘들 때마다이 노래가 찾아와세상이 둥근 것처럼 우리인생은 회전목마우린 계속 달려가언제쯤 끝날지 잘 몰라빙빙 돌아가는 회전목마처럼영원히 계속될 것처럼빙빙 돌아올 우리의 시간처럼인생은 회전목마I'm on a TV showYou would never even know사실 얼마나 많이불안했는지정신없이 돌아서 어딜 봐야 할지 모르겠어들리나요 여길 보란 말이빙빙 돌아가는 회전목마처럼영원히 계속될 것처럼빙빙 돌아올 우리의 시간처럼인생은 회전목마빙빙 돌아가는 회전목마처럼영원히 계속될 것처럼빙빙 돌아올 우리의 시간처럼인생은 회전목마\",\n",
       " '34772475': 'Red Velvet무도회를 뒤집어작은 소란을 또 일으켜This is gonna be a crazy night(To-na-na-na-na-na-night)등장부터 인사까지 파격적이게우리 살짝 놀아볼까솔직하게 Bae bae지금부터 시작해 볼게(Feel my vibe and sway)꽃가루를 날려폭죽을 더 크게 터트려우릴 오만과 편견에 가두지 마자유로워 지금Feel my rhythm Come with me상상해 봐 뭐든지노래를 따라서 저 달빛에 춤을 춰바로 지금 (Play my rhythm)Follow follow my heartbeat해가 떠올 때까지Feel my rhythm 멈추지 말아 줘이 순간을 놓지 마 Baby차는 Old and Classic(Just ride)이제 조금 낯선 다른 차원까지(Get loud)상상할 수 없던 곳 시간 속예고 없이 등장해이 밤은 멋지고 우린Fun and wild and brave시선을 끄는 네 MotionG-give me a new direction끝없는 Black hole처럼빠져드는 Sweet emotion너를 태운 채 (Sway)어디로든 떠날래 (Way)온 세상 모든 경계를다 휘저을래 (Oh yeah)꽃가루를 날려(흩날려)Champagne을 더 크게 터트려(마음껏)더는 어제와 내일에 가두지 마자유로워 지금Feel my rhythm Come with me상상해 봐 뭐든지노래를 따라서 저 달빛에 춤을 춰바로 지금 (Play my rhythm)Follow follow my heartbeat해가 떠올 때까지Feel my rhythm 멈추지 말아 줘이 순간을 놓지 마 Baby온 세상이 멈추는 순간What a what a feeling어서 내 손을 잡아(All right)본 적 없던 Film빠져드는 You and I Next time 시계를 돌려어디로 가볼까Come on 또다시 시작해You and IFeel my rhythm Come with me상상해 봐 뭐든지노래를 따라서 저 달빛에 춤을 춰바로 지금 (Play my rhythm)Follow follow my heartbeat해가 떠올 때까지Feel my rhythm 끝나지 않는 꿈이 순간을 놓지 마 Baby',\n",
       " '35454426': '(1,2,3,4)Baby, got me looking so crazy빠져버리는 daydreamGot me feeling you너도 말해줄래누가 내게 뭐라든남들과는 달라 넌Maybe you could be the one날 믿어봐 한번I’m not looking for just funMaybe I could be the oneOh baby예민하대 나 lately너 없이는 매일 매일이 yeah재미없어 어쩌지I just want youCall my phone right nowI just wanna hear you’re mine‘Cause I know what you like boyYou’re my chemical hype boy내 지난날들은눈 뜨면 잊는 꿈Hype boy 너만 원해Hype boy 내가 전해And we can go high말해봐 yeah느껴봐 mm mmTake him to the skyYou know I hype you boy눈을 감아말해봐 yeah느껴봐 mm mmTake him to the skyYou know I hype you boy잠에 들려고 잠에 들려 해도네 생각에 또 새벽 세 시 uh-oh알려줄 거야 they can’t have you no more봐봐 여기 내 이름 써있다고누가 내게 뭐라든남들과는 달라 넌Maybe you could be the one날 믿어봐 한번I’m not looking for just funMaybe I could be the oneOh baby예민하대 나 lately너 없이는 매일 매일이 yeah재미없어 어쩌지I just want youCall my phone right nowI just wanna hear you’re mine‘Cause I know what you like boyYou’re my chemical hype boy내 지난날들은눈 뜨면 잊는 꿈Hype boy 너만 원해Hype boy 내가 전해And we can go high말해봐 yeah느껴봐 mm mmTake him to the skyYou know I hype you boy눈을 감아말해봐 yeah느껴봐 mm mmTake him to the skyYou know I hype you boy',\n",
       " '34752700': '길거리를 걷다 보면사랑 노래만 흘러나와나는 왜 저런 게 낯설까난 한국말까지 서툴러번역기도 전혀 도움 안 돼네 맘엔 어떨까 걱정만어떤 단어를 쓸지 I don’t know어떤 말을 할지 I don’t know나는 왜 이런지 I don’t knowYou’re on my mind어떤 단어를 쓸지 I don’t know어떤 말을 할지 I don’t know나는 왜 이런지 I don’t knowYou’re on my mindBaby 정말 생각 안 나Body language로 자신 있어보여줄게girl just give me some your time너를 보면 손에 땀 나긴장 풀게 한 번 웃어줘Let me take u on a magic carpet ride손을 잡아 따라와맑은 날씨 보름달가르쳐줘 오늘 밤가나다라마바사손을 잡아 따라와맑은 날씨 보름달가르쳐줘 오늘 밤가나다라마바사너무 완벽하지 않아도걱정 마 네 맘을 조금 알 것 같아네게 좀 더 다가서 볼까고민해 매일 밤길거리를 걷다 보면계속 계속 네 생각이 나이런 내 모습이 왜 낯설까번역기 위에서헤매는 네 손가락까지자꾸만 생각이 나는 걸Body language도 나는 괜찮아But 생각 안 나면 그냥 웃어줘모든 것을 알려줄게 오늘 밤내가 나쁜 남자처럼 보여도너를 볼 때면 맘이 여려져I wouldn’t mind if I died in your arms손을 잡아 따라와맑은 날씨 보름달가르쳐줘 오늘 밤가나다라마바사손을 잡아 따라와맑은 날씨 보름달가르쳐줘 오늘 밤가나다라마바사손을 잡아 따라와맑은 날씨 보름달가르쳐줘 오늘 밤가나다라마바사손을 잡아 따라와맑은 날씨 보름달가르쳐줘 오늘 밤가나다라마바사',\n",
       " '35454425': 'You and me내 맘이 보이지 한참을 쳐다봐가까이 다가가You seeYou see, ey ey ey eyOne, two, three용기가 생겼지이미 아는 네 눈치고개를 돌려 천천히여기You see여기 보이니Looking for attention 너야겠어확실하게 나로 만들겠어Stop, eyyyDrop the questionDrop the, drop the questionWant attentionWanna want attentionYou give me butterflies you know내 맘은 온통 paradise꿈에서 깨워주지 마You got me looking for attentionYou got me looking for attention가끔은 정말헷갈리지만분명한 건Got me looking for attention널 우연히 마주친 척할래못 본 척 지나갈래You’re so fineGotta gotta get to know ya나와 나와 걸어가 줘지금 돌아서면I need ya, need ya, need yaTo look at me backHey 다 들켰었나널 보면 하트가 튀어나와난 사탕을 찾는 baby (baby)내 맘은 설레이지Eyyy, drop the questionDrop the, drop the questionWant attentionWanna want attentionYou give me butterflies you know내 맘은 온통 paradise꿈에서 깨워주지 마You got me looking for attentionYou got me looking for attention가끔은 정말헷갈리지만분명한 건Got me looking for attentionYou got me looking for attentionYou got me looking for attention가끔은 정말헷갈리지만분명한 건Got me looking for attentionA T T E N T I onAttention is what I wantA T T E N T I onAttention is what I wantA T T E N T I onAttention is what I wantA T T E N T I onYou got me looking for attention',\n",
       " '35546497': \"또 모르지 내 마음이저 날씨처럼 바뀔지날 나조차 다 알 수 없으니그게 뭐가 중요하니지금 네게 완전히푹 빠졌단 게 중요한 거지아마 꿈만 같겠지만분명 꿈이 아니야달리 설명할 수 없는이건 사랑일 거야방금 내가 말한 감정감히 의심하지 마그냥 좋다는 게 아냐What's after 'LIKE'?You and IIt's more than 'LIKE'L 다음 또 O 다음 난 yeahYou and IIt's more than 'LIKE'What's after 'LIKE'?What's after 'LIKE'?조심해 두 심장에 핀새파란 이 불꽃이저 태양보다 뜨거울 테니난 저 위로 또 아래로내 그래프는 폭이 커Yeah that's me두 번 세 번 피곤하게자꾸 질문하지 마내 장점이 뭔지 알아?바로 솔직한 거야방금 내가 말한 감정감히 의심하지 마그냥 좋다는 게 아냐What's after 'LIKE'?You and IIt's more than 'LIKE'L 다음 또 O 다음 난 yeahYou and IIt's more than 'LIKE'What's after 'LIKE'?What's after 'LIKE'?What after like 내 맘에 strike지금 느낀 짜릿함은 마치 tikeLO 다음에 I 그 다음에 VE여긴 너와 내 space아무도 막지 못해나를 보면 눈 깜빡할시간 조차도 아까울 걸드디어 만나 반가워LOVE 사이 놓일 I(What's after 'LIKE'?)You and IIt's more than 'LIKE'E 앞 또 V 앞 난 yeahYou and IIt's more than 'LIKE'What's after 'LIKE'?You and IIt's more than 'LIKE'L 다음 또 O 다음 난 yeahYou and IIt's more than 'LIKE'What's after 'LIKE'?What's after 'LIKE'?\",\n",
       " '34943312': '우리 다시 만날래예쁘게 빛나던모든 추억들이너무 그리워너의 품에 안길래이 밤이 새도록네게 말할 거야너를 좋아한다고안녕 그대야요즘 어떻게 지내가로수길 걷다가생각이 나서행복해 보이는 사람들 속에우리 둘만 없어서어색했었어늘 집에 갈 땐항상 뒤돌아보면날 보며 웃어주던네가 생각났어우리 다시 만날래예쁘게 빛나던모든 추억들이너무 그리워너의 품에 안길래이 밤이 새도록네게 말할 거야너를 좋아한다고토요일마다 가던한강공원에이어폰 하나씩나눠끼고서벚꽃엔딩같이 듣고 있으면부러울 게 없었어너만 있으면널 사랑할 때내가 너무 그리워날 보며 웃어주던네가 보고 싶어우리 다시 만날래예쁘게 빛나던모든 추억들이너무 그리워너의 품에 안길래이 밤이 새도록네게 말할 거야너를 좋아한다고같이 별 보러 갈래널 다시 만나면네 옆에 기대서잠들고 싶어너의 품에 안길래이 밤이 새도록내 곁에 있어줘내겐 너뿐이라고',\n",
       " '35383397': '잘 지냈지? 조금은 어색해 요즘 좋아 보여 인사 나누며사실 궁금한 게 너무 많았는데 반가움에 멍해졌죠 생각보다 오래 된 것 같은 우리 수다스럽던 그때가 생각나뭐가 그렇게도 할 말이 많아서 밤을 지새우곤 했죠 그리운 목소리 그리던 얼굴 참 많이도 기다렸어다시 만나자는 너의 한마디에 울컥 눈물이 나결국 너였단 걸 알아기다림의 끝은 기적이 되고 기적 같은 우린 운명처럼 서로를 알아보고 그렇게 눈앞에 서있죠 우리 사랑했던 우리 다시 만나 그때 그 순간 그대로사랑했고 사랑할 거니까 같이 듣던 노래 그때 그 거리를 이제 혼자 아닌 너와 둘이 걸어다시 오른쪽에 나란히 발맞춰 같은 노래를 부르죠 그리운 만남을 그리던 날들 참 많이도 기다렸어다시 너를 만나 더욱 더 소중해 같은 마음이란 걸알아 기다림의 끝은 기적이 되고 기적 같은 우린 운명처럼 서로를 알아보고 그렇게 눈앞에 서있죠우리 사랑했던 우리 다시 만나 그때 그 순간 그대로사랑했고 사랑할 거니까처음 느낌 그대로 설렘이 가득한 날고마워 다시 돌아와줘서그때 그 순간처럼 날안아줘결국 기다림의 끝은 기적이 되고 기적 같은 우린 운명처럼 서로를 알아보고 그렇게 눈앞에 서있죠 우리 사랑했던 우리 다시 만나 그때 그 순간 그대로사랑했고 사랑할 거니까',\n",
       " '34875621': \"Hey girl, Where you at? (Where you at?)대체 어디서 뭐 하는지 궁금해기분이 너무 Bad Bad (So bad)침대가 허전해 잠이 안 오잖아 재미도 없어 TV show너 데리고 놀던 Pretty boy그 고민을 내게 털어놓던너의 표정이 아직 선명해 소파에 벤 니 향기가 비릿해내 몸이 자꾸 빠져 깊이 Yeah미리 알아도 난 이리멍청하게 행동을 해버린다니까Oh pleaseLove me love me love meI know, I'm stupid 어쩔 수 없어 널 보고 싶은걸 Oh pleaseLove me love me love meI know, I'm stupid 어쩔 수 없어 널 보고 싶은걸 Now I say I love youSo I love youNow I say I love you나 아프더라도 몰라Now I say I love youSo I love youNow I say I love you나 아프더라도 몰라Oh pleaseLove me love me love meI know, I'm stupid 어쩔 수 없어 널 보고 싶은걸 Oh pleaseLove me love me love meI know, I'm stupid 어쩔 수 없어 널 보고 싶은걸Now I say I love youTry Try말할까 내 불안에 불안을끊겼다는 Wi-Fi이젠 안 믿어 Lie Lie 매일 빠져있던 너의 반지같이허전함 사이사이그 자리의 기회를 아무에게나 주고 또 Bye Bye너는 넘 빨리 들렀다 가기 땜에나는 타이밍 안 맞아 매일 바삐화를 내야 할지 아니면 그냥 아기처럼울어버리고서 떼를 써야 할지 I don't know 아예 모르겠어이러니 내가 노력해도시간이 없으니 어쩌겠어할 말이 하나밖에 더 있겠어Oh pleaseLove me love me love meI know, I'm stupid 어쩔 수 없어 널 보고 싶은걸 Oh pleaseLove me love me love meI know, I'm stupid 어쩔 수 없어 널 보고 싶은걸 Now I say I love youSo I love youNow I say I love you나 아프더라도 몰라Now I say I love youSo I love youNow I say I love you나 아프더라도 몰라Oh pleaseLove me love me love meI know, I'm stupid 어쩔 수 없어 널 보고 싶은걸Oh pleaseLove me love me love meI know, I'm stupid 어쩔 수 없어 널 보고 싶은걸Now I say I love youOh pleaseLove me love me love meOh pleaseLove me love me love meOh pleaseLove me love me love meI know, I'm stupid 어쩔 수 없어 널 보고 싶은걸Now I say I love you\",\n",
       " '33487342': 'I’m on the Next Level Yeah절대적 룰을 지켜내 손을 놓지 말아결속은 나의 무기광야로 걸어가알아 네 Home ground위협에 맞서서제껴라 제껴라 제껴라상상도 못한 Black out유혹은 깊고 진해(Too hot too hot)맞잡은 손을 놓쳐난 절대 포기 못해I’m on the Next Level저 너머의 문을 열어Next Level널 결국엔 내가 부셔Next LevelKOSMO에 닿을 때까지Next Level제껴라 제껴라 제껴라La la la la la laLa la la la la laLa la la la la laLa la la la laI see the NU EVO.적대적인 고난과 슬픔은널 더 Popping 진화시켜That’s my naevis It’s my naevisYou lead, we follow감정들을 배운 다음Watch me while I make it outWatch me while I work it outWatch me while I make it outWatch me while I work it outWork it work it work it out감당할 수 없는 절망도내 믿음을 깨지 못해더 아픈 시련을 맞아도난 잡은 손을 놓지 않을게 Oh절대로 뒤를 돌아보지 말아광야의 것 탐내지 말아약속이 깨지면모두 걷잡을 수 없게 돼 언제부턴가 불안해져 가는 신호널 파괴하고 말 거야(We want it)Come on!Show me the way to KOSMO Yeah Black Mamba가 만들어낸 환각 퀘스트aespa, ae를 분리시켜놓길 원해 그래중심을 잃고 목소리도 잃고 비난받고사람들과 멀어지는 착각 속에naevis 우리 ae, ae들을 불러봐aespa의 Next Level “P.O.S”를 열어봐이건 REAL WORLD 깨어났어We against the villainWhat’s the name?Black Mamba결국 난 문을 열어그 빛은 네겐 Fire(Too hot too hot)난 궁금해 미치겠어이다음에 펼칠 StoryHuh!I’m on the Next Level저 너머의 문을 열어Next Level널 결국엔 내가 부셔Next LevelKOSMO에 닿을 때까지Next Level제껴라 제껴라 제껴라I’m on the Next Level더 강해져 자유롭게Next Level난 광야의 내가 아냐Next Level야수 같은 나를 느껴Next Level제껴라 제껴라 제껴라Huh!',\n",
       " '34298499': \"까만 리무진 보며꿈을 키웠지언젠가는 나도 저걸 갖게 될 거야커다란 리무진에서 내가 내리지변한 것은 내가 아닌 삶의 무게 they don't know I say hi내게 안 된다는 사람들 오랜만이야나를 봐너에게 인사를 건네는 여유쯤이야왜 병을 줬어 내게덕분에 젖었어 베개는그래서 I said 'you ready?'이 노랜 널 위한 곡이니까 들어줘됐어 이제 와 건네는 응원은 개뻥날 떠난 그녀도 전화해 취해서회사 매니저가 음악을 채점했던그때도 버텼어 매번거짓말 하지 마 원래 잘 될 줄 알았다네 비오가멀었어 이게 내 신호탄새벽에 전화는 하지 마 Always hide freakin' inside그땐 갉아 먹던 자존감이 식사Reset 그때 나의 실패를바란 사람들아Never change though I'm in a limousine 까만 리무진 보며꿈을 키웠지언젠가는 나도 저걸 갖게 될 거야커다란 리무진에서 내가 내리지변한 것은 내가 아닌 삶의 무게 they don't know No no no oh oh oh oh I don't change my mind if I'm in a limousine Oh no no 기억도 안 나고 안 할 거열두 평 to 120평울 엄마 식당 말고 골프 쳐Back in a day yeah편이 오늘의 적이네 yeah그걸 깨달았을 때엔서랍 안에 총을 넣어뒀네 리무진처럼 길고 길었지지옥 같던 연습실청춘을 갈아 넣어 뿌린내 그릇의 가니쉬좋은 상품이랍시고많이들 포장도 하지만아이돌 다 리스펙하지I hate your laziness Always hide freakin' inside그땐 갉아먹던 자존감이 식사Reset 그때 나의 실패를바란 사람들아Never change though I'm in a limousine 까만 리무진 보며꿈을 키웠지언젠가는 나도 저걸 갖게 될 거야커다란 리무진에서 내가 내리지변한 것은 내가 아닌 삶의 무게 they don't know떠나도 보내고가난은 forever너 때문에 난희망을 버렸어 그래도 일어서다시 걸었어괜찮아이건 다 리허설 빌빌댔었던 올해작년과 2년 전 나의방의 쌓였던 약에양의 비례한 곡들과 입속의 단내돌고 돌고 돌아 breathing 이제 쉬어지네 호흡이몰래몰래 했던 나의 젊은 날에한숨 가득 찬 레코딩 네 잎을 바라던 손이저절로 떼버린 하나의 꽃잎I didn't want luck. I wanted 까만 리무진 보며꿈을 키웠지언젠가는 나도 저걸 갖게 될 거야커다란 리무진에서 내가 내리지변한 것은 내가 아닌 삶의 무게 they don't know No no no oh oh oh ohI don't change my mind if I'm in a limousine\",\n",
       " '34481680': '나도 한때는 그이의 손을 잡고내가 온 세상 주인공이 된 듯꽃송이의 꽃잎 하나하나까지모두 날 위해 피어났지올림픽대로 뚝섬 유원지서촌 골목골목 예쁜 식당나를 휘청거리게 만든주옥같은 대사들다시 누군가 사랑할 수 있을까예쁘다는 말 들을 수 있을까하루 단 하루만 기회가 온다면죽을힘을 다해 빛나리언제부턴가 급격하게단조로 바뀌던 배경음악조명이 꺼진 세트장에혼자 남겨진 나는단역을 맡은 그냥 평범한 여자꽃도 하늘도 한강도 거짓말나의 드라마는 또 이렇게 끝나나왔는지조차 모르게끝났는지조차 모르게',\n",
       " '34101563': '달이 익어가니 서둘러 젊은 피야민들레 한 송이 들고사랑이 어지러이 떠다니는 밤이야날아가 사뿐히 이루렴팽팽한 어둠 사이로떠오르는 기분이 거대한 무중력에 혹 휘청해도두렵진 않을 거야푸르른 우리 위로커다란 strawberry moon 한 스쿱나에게 너를 맡겨볼래 eh-oh바람을 세로질러날아오르는 기분 so cool삶이 어떻게 더 완벽해 ooh다시 마주하기 어려운 행운이야온몸에 심장이 뛰어Oh 오히려 기꺼이 헤매고픈 밤이야너와 길 잃을 수 있다면맞잡은 서로의 손으로출입구를 허문이 무한함의 끝과 끝 또 위아래로비행을 떠날 거야 푸르른 우리 위로 커다란 strawberry moon 한 스쿱나에게 너를 맡겨볼래 eh-oh바람을 세로질러날아오르는 기분 so cool삶이 어떻게 더 완벽해 ooh놀라워 이보다꿈같은 순간이 또 있을까 (더 있을까)아마도 우리가 처음 발견한오늘 이 밤의 모든 것, 그 위로 날아푸르른 우리 위로커다란 strawberry moon 한 스쿱세상을 가져보니 어때 eh-oh바람을 세로질러날아오르는 기분 so cool삶이 어떻게 더 완벽해 ooh',\n",
       " '4446485': '이윽고 내가 한눈에너를 알아봤을 때모든 건 분명 달라지고 있었어내 세상은 널 알기 전과 후로 나뉘어니가 숨 쉬면 따스한 바람이 불어와니가 웃으면 눈부신 햇살이 비춰거기 있어줘서 그게 너라서가끔 내 어깨에 가만히 기대주어서나는 있잖아 정말 빈틈없이 행복해너를 따라서 시간은 흐르고 멈춰물끄러미 너를 들여다 보곤 해그것 말고는 아무것도 할 수 없어서너의 모든 순간 그게나였으면 좋겠다생각만 해도 가슴이 차올라나는 온통 너로보고 있으면 왠지 꿈처럼 아득한 것몇 광년 동안 날 향해 날아온 별빛 또 지금의 너거기 있어줘서 그게 너라서가끔 나에게 조용하게 안겨주어서나는 있잖아 정말 남김없이 고마워너를 따라서 시간은 흐르고 멈춰물끄러미 너를 들여다보곤 해너를 보는 게 나에게는 사랑이니까너의 모든 순간 그게나였으면 좋겠다생각만 해도 가슴이 차올라나는 온통 너로니 모든 순간 나였으면',\n",
       " '34787226': '사랑이었다 별거 없던 내 하루에빛이 돼준 단한 사람나보다 나를 더 아껴 주던 너를그땐 왜 몰랐을까행복이었다 다시는 없을 것 같던잠시나마 행복했었다다른 사람 곁에 있는 널생각해 본 적 없지만이젠 너를 보내줘야 할 것 같아내가 아니라도눈부시게 사랑받았을 너라서그 소중한 시간을 나와 함께해 줘서고마웠어예쁘고 아름다웠던 너의 그날에함께했던 그 모든 순간이 행복했어내 전부였다 무엇도 바꿀 수 없던우리라서 행복했었다다른 누구라도나보다 더 좋은 사람 만나서이젠 나를 잊고 행복하게 살아내가 아니라도눈부시게 사랑받았을 너라서그 소중한 시간을 나와 함께해 줘서고마웠어예쁘고 아름다웠던 너의 그날에함께했던 그 모든 순간이 행복했어어두웠던 내 하루에빛이 되어주던 그날들을어떻게 잊고 살아과분했던 너라는 사람을 만나누구보다 사랑했었다내가 아니었다면눈부시게 사랑받았을 너란 걸이 세상에 누구보다 더 잘 알아서미안했어 너와 함께한 날들이더 말할 게 있을까행복한 기억만 가져갈게',\n",
       " '34701627': '우리 함께 듣던 그 노랠 듣고 싶을까듣고 나서 잠시 날 생각은 할까아주 혹시라도 넌 내가 보고 싶을까난 왜 니 목소리가 듣고 싶을까뻔하디 뻔한 노랫말 여서 미안해미안해도 부디 넌 꼭 들어줬음 해후회도 미련도 없는 척 떠났지만이게 내 진심인 걸 꼭 알아줬음 해우리 함께 듣던 그 노랠 듣고 싶을까듣고 나서 잠시 날 생각은 할까아주 혹시라도 넌 내가 보고 싶을까못난 내 목소리가 듣고 싶을까말없이 다 전해지는 건 없지 난 말해 지금몇 년째 나의 favorite oneYou the only one yeahYes I know 무엇도 달라질 건 없지만이게 내 진심인 걸 꼭 알아줬음 해우리 함께 듣던 그 노랠 듣고 싶을까듣고 나서 잠시 날 생각은 할까아주 혹시라도 넌 내가 보고 싶을까난 왜 니 목소리가 듣고 싶을까Are you okay not today천천히 대답해도 돼 i just stay넌 내 목소리가 듣고 싶을까누굴 만나 봐도 다시는 못할 것 같아그립고 또 그립다 우리 그 사랑WooI’m missing UNever forget UNever forget UOh no baby',\n",
       " '33978183': '너를 들려주고 싶었어이 노랠 만들 때아마 니가 정말 많이 좋아할꺼야이젠 내겐 니가 없어서나 혼자 불러도혹시 듣게 되면 그게 니 얘기라고난 노랠 만들 땐늘 너를 생각해어딘가 혼자 진지한 표정고개를 끄덕거리고 나선항상 흥얼거리며 따라 불렀어나를 보며 신나있던 너에게불러주고 싶던 노래를왜 이제야 겨우 완성했을까이 노랜 널 사랑한다는 내 얘기가잔뜩 들어갔어야 하는 노랜데너를 들려주고 싶었어이 노랠 만들 때아마 니가 정말 많이 좋아할꺼야이젠 내겐 니가 없어서나 혼자 불러도혹시 듣게 되면 그게 니 얘기라고니가 자주 가곤했던 카페에이 노래가 나올 때까지니 친구가 따라 부를 때까지이 노랠 유명해지게 계속 불러서나는 너에게로 꼭 닿고 말거야너를 들려주고 싶었어이 노랠 만들때아마 니가 정말 많이 좋아할꺼야이젠 내겐 니가 없어서나 혼자 불러도혹시 듣게 되면 그게 니 얘기라고너를 사랑할땐 몰랐던바보라 미안해아마 이걸 듣고 너는 원망하겠지이젠 내가 많이 잘할게너 혼자 울지마혹시 듣게 되면 아직 너뿐이라고',\n",
       " '32872978': \"Cos ah ahI’m in the stars tonightSo watch me bring the fireand set the night alightShoes on get up in the mornCup of milk let’s rock and rollKing Kong kick the drumrolling on like a rolling stoneSing song when I’m walking homeJump up to the top LeBronDing dong call me on my phoneIce tea and a game of ping pongThis is getting heavyCan you hear the bass boomI’m readyLife is sweet as honeyYeah this beat cha chinglike moneyDisco overload I’m intothat I’m good to goI'm diamond you know I glow upHey so let’s goCos ah ahI’m in the stars tonightSo watch me bring the fireand set the night alightShining through the citywith a little funk and soulSo I’mma light it uplike dynamite woahBring a friend join the crowdWhoever wanna come alongWord up talk the talkjust move like we off the wallDay or night the sky’s alightSo we dance to the break of dawnLadies and gentlemenI got the medicineso you should keep yaeyes on the ball huhThis is getting heavyCan you hear the bass boomI’m readyLife is sweet as honeyYeah this beat cha chinglike moneyDisco overloadI’m into that I’m good to goI'm diamond you know I glow upLet’s goCos ah ahI’m in the stars tonightSo watch me bring the fireand set the night alightShining through the citywith a little funk and soulSo I’mma light it uplike dynamite woahDynnnnnanana life is dynamiteDynnnnnanana life is dynamiteShining through the citywith a little funk and soulSo I’mma light it uplike dynamite woahDynnnnnanana ehDynnnnnanana ehDynnnnnanana ehLight it up like dynamiteDynnnnnanana ehDynnnnnanana ehDynnnnnanana ehLight it up like dynamiteCos ah ahI’m in the stars tonightSo watch me bring the fireand set the night alightShining through the citywith a little funk and soulSo I’mma light it uplike dynamiteCos ah ahI’m in the stars tonightSo watch me bring the fireand set the night alightShining through the citywith a little funk and soulSo I’mma light it uplike dynamite woahDynnnnnanana life is dynamiteDynnnnnanana life is dynamiteShining through the citywith a little funk and soulSo I’mma light it uplike dynamite woah\",\n",
       " '35383398': '너를 정말 사랑했나 봐 아직도 널 못 잊었나 봐 자꾸만 생각나시간은 왜 자꾸 나에게 아픈 기억은 다 지우고 좋은 추억만 남아우 함께 울고 웃던 계절에 다시 만난다면보고싶었어 사랑했던 그때의 너와니 곁에 그리고 나 널 바라만 봐도 눈물 나게마냥 좋았어 너에게 못다 한 그 말조금은 늦었겠지만 아직 널 사랑한다고 말야라라라 라라라라랄랄라 라라라라랄랄라보고싶었어라라라 라라라라랄랄라 라라라라랄랄라너도 내 맘 같기를그땐 정말 어렸었나봐 사랑을 잘 몰랐었나 봐그게 마음이 아파우 오늘처럼 눈부신 날에 다시 만난다면보고싶었어 사랑했던 그때의 너와니 곁에 그리고 나 널 바라만 봐도 눈물 나게마냥 좋았어 너에게 못다 한 그 말조금은 늦었겠지만 (늦었겠지만) 아직 널 사랑한다고꽃 피는 봄이 온 것처럼당연한 듯 내곁에 머물 줄만 알았어 (항상)주는 게 사랑이란 걸 그때야 난 깨달았어니가 떠난 후에야나 너에게 참 고마웠다고 벅차 행복했다고사랑을 가르쳐 준 니가 참보고싶었어 (보고싶었어) 너에게 듣고 싶은 말아직 늦지 않았다고 (늦지 않았다고) 너도 날 기다렸다고 말야라라라 라라라라랄랄라 라라라라랄랄라보고싶었어 (Baby can you call me now)라라라 라라라라랄랄라 라라라라랄랄라너도 내 맘 같기를',\n",
       " '34538515': '울지 마 울지 마어린아이같이웃는 게 웃는 게이기는 거라고 You are so cuteYou are so dumb네가 하는 말이오늘따라 듣기 싫어하늘을 한 번 쳐다보고내가 꾹 참고맘을 다 잡고네게 밝게 웃어줄게And I say Hey I’m gonna make itSmile Smile Smile away 예쁘게 웃고 넘겨버릴래Just Smile awayJust Smile away 아픔 슬픔 외로움 잊게I say heyI never wanna Cry Cry Cry all day 갑자기 눈물이 차오를 땐Just Smile away Just Smile away 안녕이라 말할래With my Smiley face 비웃을 때 빼고내 입꼬리는 Chillin’나빠야지 살아남지 넌 뭐해귀엽고 예쁘면 장땡이냐 근데널 보고 있으니까 기분이가 좋네삐뚤어진 성격 모두 나를 겁내아주 그냥 확 너는 왜 계속 웃어당황하는 틈을 타 날 무장해제친구가 될 수 있을까 우리 둘이내가 꾹 참고맘을 다잡고네게 밝게 웃어줄게And I say Hey I’m gonna make itSmile Smile Smile away 예쁘게 웃고 넘겨버릴래Just Smile awayJust smile away아픔 슬픔 외로움 잊게I say heyI never wanna Cry Cry Cry all day 갑자기 눈물이 차오를 땐Just Smile away Just Smile away 안녕이라 말할래With my Smiley face 사실 나의 맘속은 그게 아닌데웃어넘기기에 난 너무 행복해세상 환히 웃고 있는 내게미친 세상은 날 미쳤다 하겠지I don’t careI don’t careWhat you saying한 번 사는 내 삶 I Smile it Even it’s lonely & darkYeah IAnd I say Hey I’m gonna make itSmile Smile Smile away 예쁘게 웃고 넘겨버릴래Just Smile awayJust Smile away 아픔 슬픔 외로움 잊게I say heyI never wanna Cry Cry Cry all day 갑자기 눈물이 차오를 땐Just Smile away Just Smile away 안녕이라 말할래With my Smiley face',\n",
       " '33655994': '가장 가까운 바다혼자만의 영화관그냥 이끌리는 대로 해도 괜찮으니까Every morning 울린Beep beep beep beep 소리귀에 윙윙윙 맴도는나를 재촉하던 모닝콜 없이 일어나Cheese cake 한 입유리컵 한가득내린 커피 한 잔아이스로 할래 아주 여유롭게문득 시곌 보니벌써 시간은 열두시그래도 아주 느긋해그리곤 하품 한 번한껏 기지개도 켜고생각해 오늘 뭐 할까창문 너머 계절에 시선이 닿은 그 순간쏟아지는 햇살 내 맘을 두드려내게 손짓하는 싱그러운 바람 타고서떠나볼래 When the weekend comesI can do whatever I want바람 따라 흩어진 cloud더 자유롭게 we can go가장 가까운 바다혼자만의 영화관그냥 이끌리는 대로 해도 괜찮으니까훌쩍 떠나보는 drive뚜벅 걸어도 좋아뭐든 발길 닿는 대로 지금 떠나보려 해 oh하루쯤 세상의 얘길 무시한 채내가 나의 하루를 조립해 보려 해더는 no no stress 고민 안 할래Move it right left right 내 맘대로가본 적도 없는 길 뭐가 있든지I don’t need a mapwhen I roll the streets이어 가보는 이윤 for a little fun계속 up up up 좀 더 올라가한쪽 길모퉁이 따라 맘대로 자라난조그만 이름 모를 꽃한참을 바라보다 뜨거운 햇살을 피해벤치에 잠깐 앉아 봐느려지는 걸음 그림자의 속도를 따라함께 걷는 태양과 발을 맞추고뒤이을 달빛을 따라 돌아오고 싶은 걸떠나볼래 When the weekend comesI can do whatever I want바람 따라 흩어진 cloud더 자유롭게 we can go아무 계획이 없어서 완벽한 plan우연히 찾아낸 secret place그곳에 두고 와 나만의 작은 짐골목길 끝을 돌아 만나게 될기분 좋은 surprise 또 설렘두근두근 온종일고소한 향기의 coffee shop눈에 들어오는 예쁜 옷Do it for the weekenddo it for the weekend맘에 들어오는 걸 더는 망설이긴 싫은 걸그래도 돼 When the weekend comesI can do whatever I want바람 따라 흩어진 cloud더 자유롭게 we can go가장 가까운 바다혼자만의 영화관그냥 이끌리는 대로 해도 괜찮으니까훌쩍 떠나보는 drive뚜벅 걸어도 좋아뭐든 발길 닿는 대로 지금 떠나보려 해 oh',\n",
       " '35009233': \"Bam ba ba ba ba bam ba ba ba ba bamBa ba ba ba bamBam ba ba ba ba bam ba ba ba ba bamBa ba ba ba bam제일 높은 곳에 난 닿길 원해 느꼈어 내 answer내 혈관 속에 날뛰는 new wave 내 거대한 passion관심 없어 과거에 모두가 알고 있는 그 트러블에 huhI'm fearless a new b**ch new crazy 올라가 next one밟아줘 highway highway멋진 결말에 닿게내 흉짐도 나의 일부라면겁이 난 없지 없지What you lookin’ atWhat you what you lookin’ atWhat you lookin’ atWhat you what you lookin’ atWhat you lookin’ atWhat you what you lookin’ atMmmm I’m fearless huhYou should get awayGet a get a get away다치지 않게 다치 다치지 않게You should get awayGet a get a get awayMmmm I’m fearless huhBam ba ba ba ba bam ba ba ba ba bamBa ba ba ba bamBam ba ba ba ba bam ba ba ba ba bamBa ba ba ba bam욕심을 숨기라는 네 말들은 이상해겸손한 연기 같은 건 더 이상 안 해가져와 forever win 내게 ay가슴팍에 숫자 1 내게 ay내 밑으로 조아린 세계 ayTake the world break it down break you down down밟아줘 highway highway멋진 결말에 닿게내 흉짐도 나의 일부라면겁이 난 없지 없지What you lookin’ atWhat you what you lookin’ atWhat you lookin’ atWhat you what you lookin’ atWhat you lookin’ atWhat you what you lookin’ atMmmm I’m fearless huhYou should get awayGet a get a get away다치지 않게 다치 다치지 않게You should get awayGet a get a get awayMmmm I’m fearless huhBam ba ba ba ba bam ba ba ba ba bamBa ba ba ba bamBam ba ba ba ba bam ba ba ba baMmmm I’m fearless huh더는 없어 패배준비된 내 paybackBring it 당장 내게Mmmm I’m fearless huhWhat you lookin’ atWhat you what you lookin’ atWhat you lookin’ atWhat you what you lookin’ atWhat you lookin’ atWhat you what you lookin’ atMmmm I’m fearless huhYou should get awayGet a get a get away다치지 않게 다치 다치지 않게You should get awayGet a get a get awayMmmm I’m fearless huh\",\n",
       " '33507137': \"Smooth like butterLike a criminal undercoverGon’ pop like troubleBreakin’ into your heart like thatCool shade stunnerYeah I owe it all to my motherHot like summerYeah I’m makin’ you sweat like thatBreak it downOh when I look in the mirrorI’ll melt your heart into 2I got that superstar glow so Do the boogie likeSide step right left to my beat (heartbeat)High like the moon rock with me babyKnow that I got that heatLet me show you ‘cause talk is cheapSide step right left to my beat (heartbeat)Get it, let it rollSmooth like butterPull you in like no otherDon’t need no UsherTo remind me you got it badAin’t no otherThat can sweep you up like a robberStraight up, I got yaMakin’ you fall like thatBreak it downOh when I look in the mirrorI’ll melt your heart into 2I got that superstar glow so Do the boogie likeSide step right left to my beat (heartbeat)High like the moon rock with me babyKnow that I got that heatLet me show you ‘cause talk is cheapSide step right left to my beat (heartbeat)Get it, let it rollGet it, let it rollGet it, let it rollNo ice on my wristI'm that n-ice guyGot that right body and that right mindRollin' up to party got the right vibeSmooth like butterHate us love usFresh boy pull up and we lay lowAll the playas get movin’ when the bass lowGot ARMY right behind us when we say soLet's goSide step right left to my beat (heartbeat)High like the moon rock with me babyKnow that I got that heatLet me show you ‘cause talk is cheapSide step right left to my beat (heartbeat)Get it, let it rollSmooth like (butter)Cool shade (stunner)And you know we don't stopHot like (summer)Ain’t no (bummer)You be like oh my godWe gon’ make you rock and you say (yeah)We gon’ make you bounce and you say (yeah)Hotter?Sweeter!  Cooler?Butter!Get it, let it roll\",\n",
       " '35542908': 'Kick in the door Waving the coco 팝콘이나 챙겨 껴들 생각 말고I talk that talk Runways I walk walk 눈 감고 pop pop 안 봐도 척 One by one then Two by two내 손끝 툭 하나에 다 무너지는 중가짜 쇼 치곤 화려했지Makes no sense You couldn’t get a dollar outta me자 오늘 밤이야 난 독을 품은 꽃네 혼을 빼앗은 다음 Look what you made us do 천천히 널 잠재울 FIRE 잔인할 만큼 아름다워 I bring the pain like This that pink venomThis that pink venomThis that pink venomGet ‘em, get ‘em, get ‘emStraight to ya dome like whoa whoa whoa Straight to ya dome like ah ah ah Taste that pink venomTaste that pink venomTaste that pink venomGet ‘em, get ‘em, get ‘emStraight to ya dome like whoa whoa whoa Straight to ya dome like ah ah ah Black paint and ammo, got bodies like RamboRest in peace, please light up a candleThis da life of a vandal, masked up and I’m still in CelineDesigner crimes or it wouldn’t be meDiamonds shinin’ drive in silence I don’t mind it I’m ridin’ Flyin’ private side by side with da pilot Up in the sky And I’m wildin’, stylin’ on them and there’s no chanceCuz we got bodies on bodies like this a slow dance 자 오늘 밤이야 난 독을 품은 꽃네 혼을 빼앗은 다음 Look what you made us do 천천히 널 잠재울 FIRE 잔인할 만큼 아름다워 I bring the pain likeThis that pink venomThis that pink venomThis that pink venomGet ‘em, get ‘em, get ‘emStraight to ya dome like whoa whoa whoa Straight to ya dome like ah ah ah Taste that pink venomTaste that pink venomTaste that pink venomGet ‘em, get ‘em, get ‘emStraight to ya dome like whoa whoa whoa Straight to ya dome like ah ah ah 원한다면 provoke us감당 못해 and you know this이미 퍼져버린 shot that potion 네 눈앞은 핑크빛 oceanCome and give me all the smoke 도 아니면 모 like I’m so rock and roll Come and give me all the smoke 다 줄 세워 봐 자 STOP DROPI bring the pain likeLa tatata La tatata La tatata La tatata La tatata La tatata Straight to yaStraight to yaStraight to ya dome likeLa tatata La tatata La tatata La tatataLa tatata La tatataI bring the pain like',\n",
       " '34599917': '둘이 손잡고 걸을 때마주 보며 또 웃을 때사랑한다 말하지 않아도 알아널 만나러 가는 길에내 입가에 늘 환한 미소만이흐르고 있어사랑해 너를 사랑해눈물 나도록 사랑해저기 밤하늘의 별보다보석보다 네가 더 소중해얼마나 내가 얼마나 너를 사랑하는지내 모든 걸 너에게 줄게속상하고 힘이 들 때열이 나고 아파할 때옆에서 늘 힘이 돼준 사람 너야집에 돌아오는 길에내 귓가엔 늘 너의 음성만이흐르고 있어사랑해 너를 사랑해눈물 나도록 사랑해저기 밤하늘의 별보다보석보다 네가 더 소중해얼마나 내가 얼마나 너를 사랑하는지내 모든 걸 너에게 줄게세월 지나 많이 변했을 때미운 나의 손을 잡아줄 사람먼 훗날 아주 먼 훗날우리 눈 감는 그날에나를 사랑해 준 너에게 고맙다고후회는 없다고사랑해 나만의 사랑다시 태어난대도내 사랑은 너 하나뿐야영원히 너를 사랑해',\n",
       " '33061995': '밤하늘의 별을 따서 너에게 줄래 너는 내가 사랑하니까 더 소중하니까 오직 너 아니면 안 된다고 외치고 싶어 그저 내 곁에만 있어줘 떠나지 말아줘 참 많이 어색했었죠 널 처음 만난 날 멀리서 좋아하다가 들킨 사람처럼 숨이 가득 차올라서 아무 말 하지 못했는데 너는 말 없이 웃으며 내 손 잡아줬죠 밤하늘의 별을 따서 너에게 줄래 너는 내가 사랑하니까 더 소중하니까 오직 너 아니면 안 된다고 외치고 싶어 그저 내 곁에만 있어줘 떠나지 말아줘 널 좋아하는 내 마음이 표현이 안 돼 꿈이 아니면 좋겠어 자꾸 웃음 나와 내 모든 걸 다 준대도 너에겐 아깝질 않아 이 순간이 영원하길 난 정말 행복해 밤하늘의 별을 따서 너에게 줄래 너는 내가 사랑하니까 더 소중하니까 오직 너 아니면 안 된다고 외치고 싶어 그저 내 곁에만 있어줘 떠나지 말아줘 그저 내 곁에만 있어줘 떠나지 말아줘 많고 많은 사람 중에 너를 만나서 행복하고 싶어 두 번 다시 울지 않을래 오직 내 눈에는 너만 보여 나를 아껴줘 이제부터 혼자가 아니야 우린 함께니까 나나나 난난 난난나 나나나 난난 난난나 나 나나나 난난 난난나 나나난나 나나나 난난 난난나나나나 난난 난난나나 나나나 난난 난난나 나나난나',\n",
       " '35595136': \"기분이 째져Ayy who's the best dresser반경 100m 누가 젤 튀어잘 되면 셀럽못 되면 평생 리셀러내 개성은 시대를 안 타 huh안 타 cause나는 새삥모든 게 다 새삥보세 옷을 걸쳐도브랜드 묻는 DM이 와I’m too sexy헌 집 주고 새집프리미엄이 붙어두 배, 세 배, 네 배 yeah나는 새삥11년째 freshman유명세를 걷어현찰 대신 스펙을 stackin’Ooh! You’re not savage남의 멋만 쌔비지난 취향을 감춰 그래내 세컨 카는 수수께끼Show and prove의 심볼넘볼 수 없는 임금The king is back 뽷!다시 ’코’시국암만 영끌해도 근본은 절대 못 사눈팅으로 배운 너의 street fashion뚜까 패고파기분이 째져Ayy who's the best dresser반경 100m 누가 젤 튀어잘 되면 셀럽못 되면 평생 리셀러내 개성은 시대를 안 타 huh안 타 cause나는 새삥모든 게 다 새삥보세 옷을 걸쳐도브랜드 묻는 DM이 와I’m too sexy헌 집 주고 새집프리미엄이 붙어두 배, 세 배, 네 배 yeah아마 나는 오늘도미치게 하겠지 workin’이유는 뻔하지 새로운 옷이알어 니 위치는 겉만 하지 마건방 빌린 게 티 나서 bro이제 여름이 오니까 준비해내 목에다 채워질 아이스체인1234 옷을 세는 것도 지겨워 manNew thangI love my hates원해 new chain우리 엄만 생일마다새 가방이 생기지신기록 갱신우린 없어 배신나는 매일 새신Yessir I really came from zero그래서 2배로 work책임을 가진 삶은 생각보다 괴로워언제나 let's go hard내 옷은 새로워난 운전할 때마다 맨 앞이라 외로워안 무셔 drip check내 옷들은 늘 새삥아무도 못 말려 나란 바닥노무 쉐낀멈출 수 없어 난 쌓아야 해 stack안전모를 썼던나는 절대 못해 cap기분이 째져Ayy who's the best dresser반경 100m 누가 젤 튀어잘 되면 셀럽못 되면 평생 리셀러내 개성은 시대를 안 타 huh안 타 cause나는 새삥모든 게 다 새삥보세 옷을 걸쳐도브랜드 묻는 DM이 와I’m too sexy헌 집 주고 새집프리미엄이 붙어두 배, 세 배, 네 배 yeah나는 새삥 모든 게 다 새삥\",\n",
       " '34398735': \"Counting stars밤하늘에 펄Better than your LVYour LVCounting stars stars밤하늘에 펄Better than your LVYour LVYeah Salvador Dali and I'm Picasso별들은 내 작품을 전시 밀라노에Not 일방통행 나 피만 토했던시절을 생각하면 눈물이 핑 도네My grandfather요양병원 가시던 날이야대성통곡하며 인사코로나 바이러스 면회 못 간대fxck covid이제 할아버지 몸값 비싸좋은 약 좋은 날 좋은 삶좋은 것만 다 한데 모아해드려야 하지 그의 손잔서울대는 아니어도 곧잘 살아이 새파란 놈은 걱정 마이제 당신의 자식까지 사장 만들어이게 나의 각오 yeahCounting stars밤하늘에 펄Better than your LVYour LVCounting stars stars밤하늘에 펄Better than your LVYour LVA Letter to my step father기억나나요 내가 대학 갔을 때축하한다며 주신 백만원으로난 시작 했어요 내 세상을낙원상가 가서 야마하 스피커랑14만원 짜리 마이크 사고그때 우리 가족 잠실 살던 때그때만 해도 내가 아저씨라고아빠를 불렀던 때But you’re realer thanmy real father now지금 눈물 참느라 비음 됐어 난얼마 전 친구 아버지 사진 앞에서그 상실감을 조금 체험했어 난오늘 내 별이 몇 개 떴는진모르지만 one thing that I know아버지의 편지가 더 많았지강원도의 별들보다도I’m counting stars밤하늘에 펄Better than your LVYour LVI’m counting stars stars밤하늘에 펄Better than your LVYour LV\",\n",
       " '30962526': '네가 없이 웃을 수 있을까생각만 해도 눈물이나힘든 시간 날 지켜준 사람이제는 내가 그댈 지킬 테니너의 품은 항상 따뜻했어고단했던 나의 하루에유일한 휴식처나는 너 하나로 충분해긴 말 안 해도 눈빛으로 다 아니깐한 송이의 꽃이 피고 지는모든 날 모든 순간 함께해햇살처럼 빛나고 있었지나를 보는 네 눈빛은꿈이라고 해도 좋을 만큼그 모든 순간은 눈부셨다불안했던 나의 고된 삶에한줄기 빛처럼 다가와날 웃게 해준 너나는 너 하나로 충분해긴 말 안 해도 눈빛으로 다 아니깐한 송이의 꽃이 피고 지는모든 날 모든 순간 함께해알 수 없는 미래지만네 품속에 있는 지금 순간 순간이영원 했으면 해갈게 바람이 좋은 날에햇살 눈부신 어떤 날에 너에게로처음 내게 왔던 그날처럼모든 날 모든 순간 함께해',\n",
       " '34360855': '한 달 좀 덜 된 기억들주머니에 넣은 채걷고 있어 몇 시간을혹시 몰라 네가 좋아했던코트를 입은 채나온 번화가 그때 마침찬바람 막아줄네가 이젠 없으니까추울 때 따스히안아줄 이가 없으니까친구들이 불러도나갈 수 없어 난창문 너머그저 바라봐 그때 마침눈이 오잖아우리 처음 만난 그 밤에도한참 동안 눈이 왔잖아지금 내가 생각나지않을 리가 없잖아눈이 오잖아그때 내가 밤하늘 내린하얀 눈 예쁘다 했잖아그랬잖아지금 눈이 오잖아Uh 눈이 오잖아이 말 핑계인 걸 알지만생각에 잠기곤 해거릴 거니는 내곁에 아무도 없을 때더 크게 들리네Oh 눈 내리는 소리이제 인정하자수많은 끝도 끝났어찬란한 그때의우린 이젠 없으니까돌아온 계절남아있는 건 없으니까추억을 지우는 게내 이별의 숙제창문 너머그저 바라봐 그때 마침눈이 오잖아우리 처음 만난 그 밤에도한참 동안 눈이 왔잖아지금 내가 생각나지않을 리가 없잖아눈이 오잖아그때 내가 밤하늘 내린하얀 눈 예쁘다 했잖아그랬잖아지금 눈이 오잖아마지막 안녕이 남은 거리에서 혼자너와의 약속들을 되뇌었어함께여야 할 너 없는 이 겨울의첫눈이 오잖아눈이 오지만우리 처음 만난 그 밤에도내렸던 그 눈이 오지만주머니 속 챙겨 나온 기억버려야만 해눈이 오지만우린 이대로의 모습으로남아있는 게 맞지만그래도지금그 눈이 오잖아',\n",
       " '32508053': '무얼 믿은 걸까 부족했던 내게서나조차 못 믿던 내게 여태 머문 사람무얼 봤던 걸까 가진 것도 없던 내게무작정 내 손을 잡아 날 이끈 사람최고였어그대 눈 속에 비친 내 모습이제는 내게서 그댈 비춰줄게궂은 비가 오면세상 가장 큰 그대 우산이 될게그댄 편히 걸어가요걷다가 지치면내가 그대를 안고 어디든 갈게이제 나만 믿어요나만 두고 가던 나만 스쳐 간 행운이 모여그대가 되어서 내게 와준 거야궂은 비가 오면세상 가장 큰 그대 우산이 될게그댄 편히 걸어가요걷다가 지치면내가 그대를 안고 어디든 갈게이제 나만 믿어요나의 마지막 주인공이 되어다신 누구 앞에서도 그대는 고개 숙이지 마요내가 보지 못했던 홀로 고단했던 시간고맙고 미안해요 사랑해요이 세상은우리를 두고 오랜 장난을 했고우린 속지 않은 거야이제 울지 마요좋을 땐 밤새도록 맘껏 웃어요전부 그대 꺼니까그대는 걱정 말아요이제 나만 믿어요',\n",
       " '32698101': '너를 사랑하고 있어너를 사랑하고 있어자기야 날 사랑해주면 안 될까말처럼 쉽지는 않은 걸 알지만세게 날 안아주면 안 될까오늘따라 세상이 무섭단 말이야잠깐 인공호흡을 해주라왠지 숨이 잘 안 쉬어져서 난날 놓을 거면 과거에 놔주라네가 있는 시간에서 죽어갈 거야우리 그냥 결혼하면 안 될까돈은 내가 열심히 벌 테니까이 세상과 내가 눈감는 날까지만 날 사랑한다 말해주라내가 너를 사랑해도네가 날 안 사랑해도우린 나름대로 행복할 거야내 방 천장에 그려 본내 우주에게 물어본말은 나를 사랑하면 안 될까오사카나 오키나와의 바다내 뮤비들을 찍었던 곳 말이야같이 가자 약속했었잖아그 약속이 깨질까 봐 겁이 나WHUTUF이 결혼한다 하던 날진짜 처음으로 걔가 부럽더라하얀 웨딩드레스를 입은 아름다운너와 영원을 말할 수 있을까가족이 되어주라내 집이 되어주라나도 날 줄 테니 너도 널 주라평생의 연인이야네 말대로 말이야그래 별과 우주잖아날 사랑하지 않는다면나의 사랑 반을 받아남은 사랑의 반도내가 채워줄 거야 꼭내가 너를 사랑해도네가 날 안 사랑해도우린 나름대로 행복할 거야내 방 천장에 그려 본내 우주에게 물어본말은 나를 사랑하면 안 될까내가 너를 사랑해도네가 날 안 사랑해도우린 나름대로 행복할 거야내 방 천장에 그려 본내 우주에게 물어본말은 나를 사랑하면 안 될까',\n",
       " '3414749': '느낌이 오잖아 \\r떨리고 있잖아\\r언제까지 눈치만 볼 거니\\r네 맘을 말해봐 \\r딴청 피우지 말란 말이야\\r네 맘 가는 그대로 \\r지금 내 손을 잡아\\r어서 내 손을 잡아\\r우연히 고개를 돌릴 때 마다\\r눈이 마주치는 건\\r며칠 밤 내내 꿈속에 나타나\\r밤새 나를 괴롭히는 건\\r그 많은 빈자리 중에서 하필\\r내 옆자릴 고르는 건\\r나도 모르게 어느새 실없는 웃음\\r흘리고 있다는 건\\r그럼 말 다했지 뭐\\r우리 얘기 좀 할까\\r느낌이 오잖아 떨리고 있잖아\\r언제까지 눈치만 볼 거니\\r네 맘을 말해봐 \\r딴청 피우지 말란 말이야\\r네 맘 가는 그대로 \\r지금 내 손을 잡아\\r핸드폰 진동에 \\r심장이 덜컥내려 앉는다는 건\\r오 나도 모르게 \\r어느새 짓궂은 네 말투\\r자꾸 듣고 싶은걸\\r어떡해\\r저기 멀리 걸어온다\\r눈이 마주친다\\r언제까지 넌 모른척 할거니\\r사랑이 온거야 너와 나 말이야\\r네가 좋아 정말 못 견딜 만큼\\r그거면 된거야 \\r더는 생각하지 말란 말이야\\r네 맘 가는 그대로\\r느낌이 오잖아 떨리고 있잖아\\r언제까지 눈치만 볼 거니\\r네 맘을 말해봐 \\r딴청 피우지 말란 말이야\\r네 맘 가는 그대로 \\r지금 내 손을 잡아\\r그냥 내 손을 잡아\\r지금 내 손을 잡아',\n",
       " '33666269': 'It’s the thought of being youngWhen your heart’s just like a drumBeating louder with no way to guard itWhen it all seems like it’s wrongJust sing along to Elton JohnAnd to that feeling, we’re just getting startedWhen the nights get colderAnd the rhythms got you falling behindJust dream about that momentWhen you look yourself right in the eye, eye, eyeThen you sayI wanna danceThe music’s got me goingAin’t nothing that can stop how we move yeahLet’s break our plans And live just like we’re goldenAnd roll in like we’re dancing fools We don’t need to worry ‘Cause when we fall we know how to land Don’t need to talk the talk, just walk the walk tonight ‘Cause we don’t need permission to dance There’s always something that’s standing in the wayBut if you don’t let it faze yaYou’ll know just how to breakJust keep the right vibe yeah‘Cause there’s no looking backThere ain’t no one to proveWe don’t got this on lock yeahThe wait is overThe time is now so let’s do it right Yeah we’ll keep goingAnd stay up until we see the sunriseAnd we’ll sayI wanna danceThe music’s got me goingAin’t nothing that can stop how we move yeahLet’s break our plansAnd live just like we’re goldenAnd roll in like we’re dancing foolsWe don’t need to worry‘Cause when we fall we know how to landDon’t need to talk the talk, just walk the walk tonight‘Cause we don’t need permission to danceDa na na na na na naDa na na na na na naDa na na na na na naNo, we don’t need permission to dance Da na na na na na naDa na na na na na naDa na na na na na naWell let me show yaThat we can keep the fire alive‘Cause it’s not overTill it’s over say it one more timeSayI wanna danceThe music’s got me goingAin’t nothing that can stop how we move yeahLet’s break our plansAnd live just like we’re goldenAnd roll in like we’re dancing foolsWe don’t need to worry‘Cause when we fall we know how to landDon’t need to talk the talk, just walk the walk tonight‘Cause we don’t need permission to dance',\n",
       " '34908740': '잊지는 말아요 함께 했던 날들눈물이 날 때면그대 뒤를 돌아보면 돼요아프지 말아요 쓸쓸한 마음에힘든 일이 참 많았죠 그대에겐내가 곁에 있을게요그댈 위해 노래할게요잊지 말아요그댈 위해 약속할게요언젠가 우리 시간 지나면알게 되겠죠그땐 웃을 수 있죠 나 약속할게요그땐 미소 짓겠죠작은 행복까지 모두외롭고 지칠 때 손잡아 줄게요슬픔이 짙어질 때면 위로해 줄그 한 사람이 될게요그대 부디 울지 말아요슬퍼 말아요그대에게 빛이 될게요언젠가 우리 시간 지나면알게 되겠죠그땐 웃을 수 있죠 나 약속할게요폭풍 속에 혼자 남아 헤매도 오길이 되어 지킬게요 그대그댈 위해 노래할게요잊지 말아요그댈 위해 약속할게요어두운 길을 밝게 비추는그대의 빛이 될게요',\n",
       " '33625988': '내가 너라면 다 알아볼 텐데널 위할 사람 찾아낼 텐데지난 오랜 시간 너의 그 곁을지켜온 나라는 걸내가 너였다면 참 행복할 텐데한 사람을 다 가졌으니까둔한 바보도 눈치챌 그 사랑을너만 왜 모르니너를 바라만 바라만 본다외쳐 네 이름만 부른다보고 싶은 맘에 너를 향한 그 발걸음네 곁을 맴도는데오늘도 그리고 그리워하다애써 참았던 눈물이 흘러그저 멀리서만 바라보다또 소리쳐 네가 보고 싶다네가 나라면 더 참 아팠을 텐데슬픈 역할은 내가 맡을게웃는 모습만 보이며 살아가 줘내가 볼 수 있게너를 바라만 바라만 본다외쳐 네 이름만 부른다보고 싶은 맘에 너를 향한 그 발걸음네 곁을 맴도는데오늘도 그리고 그리워하다애써 참았던 눈물이 흘러그저 멀리서만 바라보다 또 소리쳐네가 보고 싶다한 걸음 더 다가갈까더 가까이 네게 갈까 OH어제보다 더 내일 더 널 사랑해I’ll make you love me someday혼자 바라고 바라만 보다울컥 그리움이 솟는다바보 같은 맘에 하지 못한 그 한마디널 사랑한다는 말얼마나 그리고 그리워해야내 맘 너의 곁에 닿게 될까매일 하루 종일 너의 생각에 사무쳐너무 보고 싶다',\n",
       " '34819473': '생각이 많은 건 말이야당연히 해야 할 일이야나에겐 우리가 지금 1순위야안전한 유리병을 핑계로바람을 가둬 둔 것 같지만기억나? 그날의 우리가잡았던 그 손엔 말이야설레임보다 커다란 믿음이 담겨서난 함박웃음을 지었지만울음이 날 것도 같았어소중한 건 언제나 두려움이니까문을 열면 들리던 목소리너로 인해 변해있던 따뜻한 공기여전히 자신 없지만 안녕히저기, 사라진 별의 자리아스라이 하얀 빛한동안은 꺼내 볼 수 있을 거야아낌없이 반짝인 시간은조금씩 옅어져 가더라도너와 내 맘에 살아 숨 쉴 테니여긴, 서로의 끝이 아닌새로운 길 모퉁이익숙함에 진심을 속이지 말자하나 둘 추억이 떠오르면많이 많이 그리워할 거야고마웠어요 그래도 이제는사건의 지평선 너머로솔직히 두렵기도 하지만노력은 우리에게 정답이 아니라서마지막 선물은 산뜻한 안녕저기, 사라진 별의 자리아스라이 하얀 빛한동안은 꺼내 볼 수 있을 거야아낌없이 반짝인 시간은조금씩 옅어져 가더라도너와 내 맘에 살아 숨 쉴 테니여긴, 서로의 끝이 아닌새로운 길 모퉁이익숙함에 진심을 속이지 말자 하나 둘 추억이 떠오르면많이 많이 그리워할 거야고마웠어요 그래도 이제는사건의 지평선 너머로저기, 사라진 별의 자리아스라이 하얀 빛한동안은 꺼내 볼 수 있을 거야아낌없이 반짝인 시간은조금씩 옅어져 가더라도너와 내 맘에 살아 숨 쉴 테니여긴, 서로의 끝이 아닌새로운 길 모퉁이익숙함에 진심을 속이지 말자 하나 둘 추억이 떠오르면많이 많이 그리워할 거야고마웠어요 그래도 이제는사건의 지평선 너머로사건의 지평선 너머로',\n",
       " '34494149': 'You must step back어델 어델 봐너 감히 누구라고 날 제껴이쯤에서 물러나고입 닫는게 좋을걸아님 어디 한번기어 올라와 보던가널 짝사랑을 했었니소꿉장난처럼 어릴 때엔간히 끼를 좀 끼를 좀 끼를 좀네가 부렸겠니소싯적 추억 팔이그리 재밌니내 남잔 지금 Another level너 따윈 꿈도 못 꿀 Level날 가진 그런 Next level보다시피 Another levelDon’t bring it to me 꺼져줘내 거에서 손 떼 너Step back Step back다시 태어나도 안될걸Step back Step back착한 남자들에게너는 독배 같은 것마실수록 외로워He’s sick and tired everyday넘지 말아 Border lineStep back Step back네가 비빌 곳이 아니야Step back Step back저울질로 가린 건참지 못할 가벼운네 마음일걸He’s sick and tired everyday그런다고 네게 되나 들어봐상상보다 너 같은 애들이 많긴 많아그러거나 말거나세상은 너를 빼고 돌아가 돌아가You gotta get a good mindAre you looking for fun재미를 또 찾니호의로 다가와이미 계산 끝나공해상의 보물선을 보기라도 한 듯막 들이대시작해 Transaction넌 좀 감당 못할 Level세계가 무대인 Our Level내 곁에서야 가능 Level보다시피 Another levelDon’t bring it to me 꺼져줘내 거에서 손 떼 너Step back Step back다시 태어나도 안될걸Step back Step back착한 남자들에게너는 독배 같은 것마실수록 외로워He’s sick and tired everyday넘지 말아 Border lineStep back Step back네가 비빌 곳이 아니야Step back Step back저울질로 가린 건참지 못할 가벼운네 마음일걸He’s sick and tired everyday그와 함께했던 수많은 날들네 장난 같은 유혹에흔들리지 않아사랑이란 감정을거래하는 건 Too much이제 그만 꺼져돌아가 네 세계다시는 착각은 말고남자들 다 똑같아내가 뜨면 시선집중여기저기 Flash 터져찍어라 찍어라 찍어라상상은 너의 Freedom가지가지 하기 전에속부터 Build up더 나가면 넌 좀 다쳐Girls Bring it onStep back Step back Step backSilly girlThe only girl who live in a dreamStep back Step back Step backSilly girl내 앞에서 좀 비켜줘 YeahDon’t bring it to me 꺼져줘내 거에서 손 떼 너Step back Step back다시 태어나도 안될걸Step back Step back착한 남자들에게너는 독배 같은 것마실수록 외로워He’s sick and tired everyday넘지 말아 Border lineStep back Step back네가 비빌 곳이 아니야Step back Step back저울질로 가린 건참지 못할 가벼운네 마음일걸He’s sick and tired everyday',\n",
       " '33239419': '세상의 모서리구부정하게 커버린골칫거리 outsider걸음걸이, 옷차림, 이어폰 너머 play list음악까지 다 minor넌 모르지떨군 고개 위환한 빛 조명이어딜 비추는지느려도 좋으니결국 알게 되길The one and only You are my celebrity잊지마 넌 흐린 어둠 사이왼손으로 그린 별 하나보이니 그 유일함이 얼마나아름다운지 말야You are my celebritycelebrityYou are my celebrity지쳐버린 표정 마치전원을 꺼놓은 듯이심장소린 too quiet네가 가진 반짝거림,상상력, identity까지 모조리 diet넌 모르지아직 못다 핀널 위해 쓰여진오래된 사랑시헤매도 좋으니웃음 짓게 되길The one and onlyYou are my celebrity잊지마 넌 흐린 어둠 사이왼손으로 그린 별 하나보이니 그 유일함이 얼마나아름다운지 말야You are my celebrity 발자국마다 이어진 별자리그 서투른 걸음이 새겨놓은 밑그림오롯이 너를 만나러 가는 길그리로 가면 돼 점선을 따라잊지마 이 오랜 겨울 사이언 틈으로 피울 꽃 하나보이니 하루 뒤 봄이 얼마나아름다울지 말야You are my celebritycelebrityYou are my celebrity',\n",
       " '34754299': 'Red five diamonds in my bagIf you wanna see it, dance to a beat like thatMy mama saw it and ‘Oh my god dang’Ok I’ll show you what’s in my bagRed five diamonds in my bagIf you wanna see it, dance to a beat like thatMy mama saw it and ‘Oh my god dang’Ok I’ll show you what’s in my bagUh oh I know you like itMy voice는 말해 뭐 해 God dangUh oh I just like it태생부터 많은 Money 관심 없지싸가지 없는 무대의 못된 범인의 눈빛Fantasy란 말은 나를 빼고 다 금지글러 먹은 너의 감 모두 나를 위한 밥독한 Vibe sugar high 맛 좀 봐라 모두 DieRum-rum-rum Rumble 다 Crumble이 Voice는 Drum에도 No loseNo no no lovely I’m Bumblebee그냥 훅 들어갈 뿐 안 해 One, twoI never had 겁 a.k.a “Giant dog”아차 하고 쓰다듬은 다쳐 이건 어쩜 범I value my love 그만 두들겨 너머리 빈 멍청이들과는 노는 물이 전혀 달라 Ye you knowRed five diamonds in my bagIf you wanna see it, dance to a beat like thatMy mama saw it and ‘Oh my god dang’Ok I’ll show you what’s in my bagRed five diamonds in my bagIf you wanna see it, dance to a beat like thatMy mama saw it and ‘Oh my god dang’Ok I’ll show you what’s in my bag가벼운 건 No no공포에는 덤덤나쁜 놈에겐 월월덤벼봐라 Come comeI’m a cool lady 유일무이 캐릭네가 벌벌 떠는 언니들 사이 Boss baby넘치는 JealousyBut that’s too early내 피부부터 Young한 것은 언급하기도 귀찮네존재가 Princess 어쩌면 범죄넘치는 Bullet 맘을 관통해향기는 Like rose and beautiful red화가 난 가시의 그대 Blood ye아직 읽지 않은 연락들은 앞으로도 읽지 않을 거니헛된 희망들은 저기 버려두길You know say noRed five diamonds in my bagIf you wanna see it, dance to a beat like thatMy mama saw it and ‘Oh my god dang’Ok I’ll show you what’s in my bagRed five diamonds in my bagIf you wanna see it, dance to a beat like thatMy mama saw it and ‘Oh my god dang’Ok I’ll show you what’s in my bag',\n",
       " '34041584': \"Oh my gosh!Don't you know I’m a Savage?I’m a Killa 너를 깰 ae아직도 가리고 환각을 펼친 너팰라 We Holler두렵지 않아 너 너 Hit you harder날 밀어 넣어 Deep fake on me준비가 안된 무대로몰아넣어 Fake on meGot everybody mock up to me수치를 느끼게 멘탈을 흔들어놔싸늘한 관중 무너져 ae더는 널 못 참아 Say No!두고 봐 난 좀 Savage너의 Dirty 한 Play더는 두고 볼 수 없어나를 무너뜨리고 싶은네 환각들이 점점너를 구축할 이유가 돼I’m a Savage널 부셔 깨 줄게 OhI’m a Savage널 짓밟아 줄게 OhGet me get me nowGet me get me now(Zu Zu Zu Zu)지금 나를 잡아아님 난 더 Savage(Zu Zu Zu Zu)Get me get me nowGet me get me now(Zu Zu Zu Zu)이젠 내가 너를 잡아Now I'm a SavageGimme gimme nowGimme gimme now(Zu Zu Zu Zu)너의 말이 보여네 약점 Algorithm(Zu Zu Zu Zu)김이 김이 나김이 김이 나(Zu Zu Zu Zu)MA ae SYNK 방해 말고꺼져 Savage(Zu Zu Zu Zu)Mmmh Everybody looks at me익숙하잖니양보해 참아야만 돼어른스럽게I'm locked up in the glass난 놀고 싶은데너무 끔찍한 기대그런 환각 틀에 나를 가둬 놔I'm going 광야로 Game in물리쳐 교묘한 이간질And my ae로부터멀어지게 만들회심찬 네 TrickWe gone 광야로 Game in베어버려 내 빛의 검데미지를 입은 네게인정사정 볼 것 없는 펀치그것 봐 난 좀 Savage너의 재생력을 막아흐트러놔 빼놔잊지 말아 여긴 바로 광야너의 시공간은 내 뜻대로Make It break itI’m a Savage널 부셔 깨 줄게 OhI’m a Savage널 짓밟아 줄게 OhGet me get me nowGet me get me now(Zu Zu Zu Zu)지금 나를 잡아아님 난 더 Savage(Zu Zu Zu Zu)Get me get me nowGet me get me now(Zu Zu Zu Zu)이젠 내가 너를 잡아Now I'm a SavageGimme gimme nowGimme gimme now(Zu Zu Zu Zu)너의 말이 보여네 약점 Algorithm(Zu Zu Zu Zu)김이 김이 나김이 김이 나(Zu Zu Zu Zu)MA ae SYNK 방해 말고꺼져 Savage(Zu Zu Zu Zu)위기에 빠진 날 지켜준 건 너였어My naevis we love UMy victory 하나의 SYNK DIVE모두 네가 만들어준 기회란 거I know your sacrifices OhMy naevis we love U알아 우린 반드시네 기억들을 찾아줄게우린 만나 꼭 부활 그다음SavageSavageYeah~Get me get me nowGet me get me now(Zu Zu Zu Zu)지금 나를 잡아아님 난 더 Savage(Zu Zu Zu Zu)Get me get me nowGet me get me now(Zu Zu Zu Zu)이젠 내가 너를 잡아Now I'm a SavageGimme gimme nowGimme gimme now(Zu Zu Zu Zu)너의 말이 보여네 약점 Algorithm(Zu Zu Zu Zu)김이 김이 나김이 김이 나(Zu Zu Zu Zu)MA ae SYNK 방해 말고꺼져 Savage(Zu Zu Zu Zu)Ha ha, What?\",\n",
       " '35333345': \"What's wrong?홀릴 듯이 난 너를 자극해 (Pop pop pop) Watch out! 설렌 듯이 네 부푼 맘이 터질 듯해 (Pop pop pop) (Let’s start) 내 맘대로 Play it(Won’t stop) 거침없이 Shake it You know? 넌 내게 달려있단 것만 알아둬 이미 넌 나를 벗어날 수가 없어 떨린 그 눈빛, 티 나는 몸짓 Baby 터뜨리고 싶은 너 설렘이 멎기 전에 I wanna make it Pop pop pop, you want it Pop pop pop 터지길 원해 가슴이 뛰는 이 느낌I wanna make it Pop pop pop, you want it Pop pop pop 널 갖길 원해 Pop pop pop (Uh uh) (You want it)Pop pop pop (Uh uh)  (I got it) Pop pop pop (Uh uh) Pop pop pop 너무 잘 보여 아무리 숨겨도 이미 들킨 걸 자꾸 둥둥 떠다니잖아 여유롭게 Check it 보란 듯이 Take it (Baby) Baby you’re out of control So you’re under my control 설렘이 멎기 전에 I wanna make it Pop pop pop, you want it Pop pop pop 터지길 원해 가슴이 뛰는 이 느낌I wanna make it Pop pop pop, you want it Pop pop pop 널 갖길 원해 Pop pop pop (Uh uh) (You want it)Pop pop pop (Uh uh)  (I got it) Pop pop pop (Uh uh) Pop pop pop Pop pop 버블같이 터져 버릴지 몰라 끝도 없이 점점 부풀어 가 내게 푹 빠진 너를 애써 참진 마 Bae bae eyes on me now 내가 터뜨려 줄 테니 Five! 자, 때가 됐어 Four! 딱 숨을 멈춰 Three! 난 너를 겨눠 Two! One! Here we go!설렘이 멎기 전에 I wanna make it Pop pop pop, you want it Pop pop pop 터지길 원해 가슴이 뛰는 이 느낌I wanna make it Pop pop pop, you want it Pop pop pop 널 갖길 원해 Pop pop pop (Uh uh) Pop pop pop (You gotta pop it) Pop pop pop (I can’t stop it)Pop pop pop\",\n",
       " '35361345': '밤은 다시 길고 깊어졌네나는 점점 너로 잠 못 들게 돼글로 적어내긴 어려운 이 기분을너도 느꼈으면 좋겠는데너는 아무 생각 없이 몇 번나를 지나가며 웃은 거라지만나의 하얀 옷에 너의 잉크가 묻어닦아낼 수 없을 만큼 번졌네달콤한 색감이 물들어 조금씩정신을 차렸을 땐 알아볼 수도 없지가득 찬 마음이 여물다 못해터지고 있어내일은 말을 걸어봐야지요즘 노랜 뭔가 맘에 안 들어네게 불러 주기엔 좀 어려워서나름 며칠 밤을 새워 연습했지만네게 들려주기엔 무리인 것 같아너는 번질수록 진해져 가고나의 밤은 좀 더 길고 외롭지만하루종일 떠오르는 너의 얼굴은방을 가득 채워 무지개같이달콤한 색감이 물들어 조금씩정신을 차렸을 땐 알아볼 수도 없지가득 찬 마음이 여물다 못해터지고 있어내일은 말을 걸어봐야지바람을 맞고 빗물에 젖어나의 색감도 흐려지겠지만너는 항상 빛에 반짝일 테니까멋진 말들을 전하지 못하고아무도 관심 없는 그림이 되겠지만달콤한 색감은 감추지 못해터지고 있어내일은 말을 걸어봐야지그냥 이 노래가 어떨까 싶어',\n",
       " '34535898': '흐르는 저 하늘을 물어 채는 범처럼태산에 날아들어 숨어드는 새처럼동산을 뛰고 뛰어가는 강아지처럼온 산에 풍물 막을 내리네바람은 지친 끝에 밤에 몸을 뉘이네별빛은 아뜩하니 은하수를 내리네차가운 밤하늘에 세상이 젖어 가네그리워 홀로 타령을 하자흘러가라 사랑사랑아덧없이 피고 떨어지는 꽃송아애닯구나 가락가락아눈물에 떨어진 별을 헤네푸른 달아 오랜 고운 내 달아비친 내 손에 내려다오은색 소매 내 곁에 두른 채로한 번만 타는 입을 축여다오푸른 달아 다시 없을 내 달아뻗은 손끝에 닿아다오달빛만이 흘러 바다가 되고지쳐 전하지 못하는 수월가고요한 바다 위로 내 노래가 떠 간다소리도 부끄러워 숨죽이고 떠 간다달빛에 젖은 몸을 내놓고서 떠 간다한낮이 비쳐 오를 때까지달아 달아 애달픈 달아피었다 이내 숨어 버릴 허상아시리구나 세월세월아나날을 헤면서 현을 뜯네푸른 달아 오랜 고운 내 달아비친 내 손에 내려다오은색 소매 내 곁에 두른 채로한 번만 타는 입을 축여다오푸른 달아 다시 없을 내 달아뻗은 손끝에 닿아다오달빛만이 흘러 바다가 되고지쳐 전하지 못하는 수월가서로 가자 굽이굽이 쳐 가자하늘에 닿을 너머까지밤아 가라 훠이훠이 가거라산 위에 걸린 저 달은 태평가서로 가자 굽이굽이 쳐 가자새벽에 닿을 너머까지달빛만이 흘러 바다가 되고지쳐 전하지 못하는 수월가하늘을 보며 그리는 풍류가손으로 잡을 수 없는 수월가',\n",
       " '33372781': '나리는 꽃가루에 눈이 따끔해 (아야)눈물이 고여도 꾹 참을래내 마음 한켠 비밀스런 오르골에 넣어두고서영원히 되감을 순간이니까 우리 둘의 마지막 페이지를 잘 부탁해어느 작별이 이보다 완벽할까Love me only till this spring오 라일락 꽃이 지는 날 good bye이런 결말이 어울려 안녕 꽃잎 같은 안녕하이얀 우리 봄날의 climax아 얼마나 기쁜 일이야Ooh ooh Love me only till this spring봄바람처럼Ooh ooh Love me only till this spring봄바람처럼기분이 달아 콧노래 부르네 (랄라)입꼬리는 살짝 올린 채어쩜 이렇게 하늘은 더 바람은 또 완벽한 건지오늘따라 내 모습 맘에 들어처음 만난 그날처럼 예쁘다고 말해줄래어느 이별이 이토록 달콤할까Love resembles misty dream오 라일락 꽃이 지는 날 good bye이런 결말이 어울려안녕 꽃잎 같은 안녕하이얀 우리 봄날의 climax아 얼마나 기쁜 일이야Ooh ooh Love resembles misty dream뜬구름처럼Ooh ooh Love resembles misty dream뜬구름처럼너도 언젠가 날 잊게 될까지금 표정과 오늘의 향기도단잠 사이에 스쳐간봄날의 꿈처럼오 라일락 꽃이 지는 날 good bye너의 대답이 날 울려안녕 약속 같은 안녕하이얀 우리 봄날에 climax아 얼마나 기쁜 일이야Ooh ooh Love me only untill this spring봄바람처럼Ooh ooh Love me only untill this spring봄바람처럼Ooh ooh Love resembles misty dream뜬구름처럼Ooh ooh Love resembles misty dream뜬구름처럼',\n",
       " '30244931': \"보고 싶다이렇게 말하니까 더 보고 싶다너희 사진을 보고 있어도보고 싶다너무 야속한 시간나는 우리가 밉다이젠 얼굴 한번 보는 것 조차힘들어진 우리가여긴 온통 겨울 뿐이야8월에도 겨울이 와마음은 시간을 달려가네홀로 남은 설국열차니 손 잡고 지구 반대편까지 가겨울을 끝내고파그리움들이 얼마나눈처럼 내려야 그 봄날이 올까Friend허공을 떠도는작은 먼지처럼 작은 먼지처럼날리는 눈이 나라면조금 더 빨리네게 닿을 수 있을 텐데눈꽃이 떨어져요또 조금씩 멀어져요보고 싶다 보고 싶다보고 싶다 보고 싶다얼마나 기다려야또 몇 밤을 더 새워야널 보게 될까 널 보게 될까만나게 될까 만나게 될까추운 겨울 끝을 지나다시 봄날이 올 때까지꽃 피울 때까지그곳에 좀 더 머물러줘 머물러줘니가 변한 건지니가 변한 건지아니면 내가 변한 건지내가 변한 건지이 순간 흐르는 시간조차 미워우리가 변한 거지 뭐모두가 그런 거지 뭐그래 밉다 니가 넌 떠났지만단 하루도 너를잊은 적이 없었지 난솔직히 보고 싶은데이만 너를 지울게그게 널 원망하기보단덜 아프니까시린 널 불어내 본다연기처럼 하얀 연기처럼말로는 지운다 해도사실 난 아직 널 보내지 못하는데눈꽃이 떨어져요또 조금씩 멀어져요보고 싶다 보고 싶다보고 싶다 보고 싶다얼마나 기다려야또 몇 밤을 더 새워야널 보게 될까 널 보게 될까만나게 될까 만나게 될까You know it allYou're my best friend아침은 다시 올 거야어떤 어둠도 어떤 계절도영원할 순 없으니까벚꽃이 피나봐요이 겨울도 끝이 나요보고 싶다 보고 싶다 보고 싶다 보고 싶다조금만 기다리면며칠 밤만 더 새우면만나러 갈게 만나러 갈게데리러 갈게 데리러 갈게추운 겨울 끝을 지나다시 봄날이 올 때까지꽃 피울 때까지그곳에 좀 더 머물러줘 머물러줘\",\n",
       " '33448767': '배가 고파서밥을 차렸는데문득 네가 앉아서내 앞에서 웃어서멍을 때리다가정신 차렸는데문득 바보 같아서식은 밥이 남아서배고파나의 밤이 바뀐 건살이 많이 빠진 건네가 문득 와서잖아I want you to stop coming욕도 했지 나쁜X근데 네가 다칠까다시 문득 멈추잖아밖에 나가서주문을 했는데문득 네가 앉아서네 음식을 골라서멍을 때리다가전부 시켰는데문득 바보 같아서너무 많이 남아서배고파나의 밤이 바뀐 건살이 많이 빠진 건네가 문득 와서잖아I want you to stop coming욕도 했지 나쁜X근데 네가 다칠까다시 문득 멈추잖아문득문득문득문득네가 생각나네가 떠올라문득문득문득문득네가 생각나네가 떠올라Bad girl지금 쓰는 어린 이 곡이최선이란 말로는 변명이 안 되니까취해서라고 믿고 다음 곡 넘겨줄래대뜸 매번 나타나지 마어쨌든나는 진심이긴 했나 봐곡은 잘 나왔는데 너 생각나니까짜증 나게 기분이 또 오르내리락네 향기들 좀 데려가1년째 계속 나니까네가 고파서너를 찾았는데문득 네가 없어서모든 게 다 무서워서방 안에 숨었다가잊었나 했는데문득 많이 맡아 본네 향기가 또 나서잊고파나의 밤이 바뀐 건살이 많이 빠진 건네가 문득 와서잖아I want you to stop coming욕도 했지 나쁜X근데 네가 다칠까다시 문득 멈추잖아',\n",
       " '34436674': \"Uh, You wanna feel the vibeThat I’m feeling and loving it and imagining저기 멀리 Looks like tiny we call it's destiny지금부터 하나 둘 셋 하면 모여보자그래 Come overYeah, Get it on nah Get in on nahLet’s bring back to 90’s내가 원하는 대로자신 있는 모습 그대로이제껏 숨겨 왔던 비밀을네게 모두 말하고 싶어 BabyFunny how all dreams come true(My dreams come true)나를 지켜줄 거야아껴왔던 작은 사랑도(You make me feel so good)Funny how I feel for you너의 곁에 그려질꿈결같은 나의 미래도(You gotta be mine 지금도 미래도)You make it feel me good Do you wanna upside downYou make it feel me goodDon’t you wanna up and downI’m in Twilight Zone처음 느낌인 것처럼짜릿했던 순간 그대로야 지금 난마치 약속했던 것 같아같은 곳 바라볼 때그때 말하고 싶어So I’m loving you more than last foreverHey, Yeah~Funny how all dreams come true(My dreams come true)나를 지켜줄 거야아껴왔던 작은 사랑도(You make it feel so good)Funny how I feel for you너의 곁에 그려질꿈결같은 나의 미래도(You gotta be mine 지금도 미래도)(지금도 미래도)You make it feel me good Do you wanna upside downYou make it feel me goodDon’t you wanna up and downCome on over언제나 둘이 함께네가 있는 나 행복할 거예요더는 슬픈 노래 듣지 않을 거예요내 맘을 알겠죠 Woo WooNaw ae love epp few love mee wern ae taki wakka mekezon Nart weeny beeney weeny beeney ganer gan Pam murr wassur doo wee gecha love mee wassur doo yee thang dui giree wesso wella gella doo wee gellaFunny how all dreams come true(My dreams come true)나를 지켜줄 거야아껴왔던 작은 사랑도(You make it feel so good)Funny how I feel for you너의 곁에 그려질꿈결같은 나의 미래도(You gotta be mine 지금도 미래도)Dreams come true\",\n",
       " '32061975': '일부러 몇 발자국 물러나내가 없이 혼자 걷는 널 바라본다옆자리 허전한 너의 풍경흑백 거리 가운데 넌 뒤돌아본다그때 알게 되었어난 널 떠날 수 없단 걸우리 사이에 그 어떤 힘든 일도이별보단 버틸 수 있는 것들이었죠어떻게 이별까지 사랑하겠어널 사랑하는 거지사랑이라는 이유로서로를 포기하고찢어질 것같이 아파할 수 없어 난두세 번 더 길을 돌아갈까적막 짙은 도로 위에 걸음을 포갠다아무 말 없는 대화 나누며주마등이 길을 비춘 먼 곳을 본다그때 알게 되었어난 더 갈 수 없단 걸한 발 한 발 이별에 가까워질수록너와 맞잡은 손이 사라지는 것 같죠어떻게 이별까지 사랑하겠어널 사랑하는 거지사랑이라는 이유로서로를 포기하고찢어질 것같이 아파할 수 없어 난어떻게 내가 어떻게 너를이후에 우리 바다처럼 깊은 사랑이다 마를 때까지기다리는 게 이별일 텐데어떻게 내가 어떻게 너를이후에 우리 바다처럼 깊은 사랑이다 마를 때까지기다리는 게 이별일 텐데',\n",
       " '34930368': 'Thought that I was princess날 좋아하던 그때수줍게 꽃을 건네던 너에게웃으며 손을 내밀었지시간 지나 my birthday우린 몰래 run away온통 둘뿐인 밤거릴 걷다가너와 눈이 마주친 그날Oh babe 너의 눈동자에 cheers달빛에 비춰진 우리의 흩어진 잔상너의 이야기에 취해밤하늘의 별이 쏟아질 것만 같은 기분Oh god please this is not a dreamThought that it was romance날 바래다준 그때수줍게 인사를 건네던 너에게살며시 입을 맞추었지시간 지나 go on trip한 손엔 진한 커피우리가 새긴 별자릴 찾다가너와 눈이 마주친 그날Oh babe 너의 눈동자에 cheers달빛에 비춰진 우리의 흩어진 잔상너의 이야기에 취해밤하늘의 별이 쏟아질 것만 같은 기분Oh oh oh 꿈인가 봐그래 니가 내 옆에 있는 꿈Oh oh no아니잖아 이건 yeahI got you boyOh babe 너의 눈동자에 cheers붉게 물들어진 우리의 오래된 잔상너의 이야기에 취해온 세상의 별이 쏟아질 것만 같은 기분Oh god please this is not a dream',\n",
       " '34298496': \"만남은 쉽고 이별은 어려워눈빛에 베일 듯 우린 날카로워마침표를 찍고 난 조금 더 멀리 가려 해만남은 쉽고 이별은 참 어려워 아직도 기억나 차 안의 공기가처음 들었을 때 마음이 짜릿했던 뭔가가6살이었지만 알았었지 뭔가 다르단 건 그렇게 쉽게 만나게 되는 거야 꿈이란 건 시간이 흘러서 이제 음악은 내 놀이가 됐고듣고 따라만 부르기엔 내게는 뭔가 부족했어그래서 실행에 옮겼지 방에서 혼자 꿈만 꾸던 모습가사를 쓰고 부를 때 사실 내가 생각했던 건 돌아가야 할까 나아가야 할까환호와 박수 소리를 들을 때 떠나야 할 것 같지 왜지금 떠나서 아름다운 기억으로만 간직해다들 꿈이란 건 이루지 못한 채 꾸고만 사는데 It's Ok 괜찮아 난 맛이라도 봤잖아다시 현실로 돌아가 그래 취직하고 잘 살아잘 잊혀지고 있잖아그런데 자꾸 왜 난 또 가사를 끄적이는 걸까 만남은 쉽고 이별은 어려워눈빛에 베일 듯 우린 날카로워마침표를 찍고 난 조금 더 멀리 가려 해만남은 쉽고 이별은 참 어려워 어렵게 시간이 지나고 다시금 만난 그 꿈은 꽤 반짝였지이제는 영원할 것만 같았던 그 시간은 잠깐이었지그렇게 어렵게 놓아줬었는데 쉽게 다시 왔다 멀어지는 건내 의지완 달라 멀어지는 걸 인정하기는 죽기보다 싫어섭섭할 뿐이지 모자란 내 자신한테거짓말했었던 날들이 반복돼 사실 알고 있던 것들인데도 난 모른 척 문제가 없는 척 언제나 척뿐이었지잘 돼가는 거 하나도 없는데 내 자존심 챙기는 것뿐이었지 어쩌면 알고 있었지 모든 걸 아니 알고 있었어 전부터 왜 모르겠어 I ain't dumb 이별은 어렵지만 피할 수 없는 거 같아 준비는 예전부터 했는지도 몰라이제는 생긴 거 같아 마침표를 찍을 용기가 끝나도 괜찮아 정말 할 수 있는 건 다 해봤어다음 페이지에 끝나도 좋아 그러나 거기에 너가 있다면 이 얘기의 끝을 미룰 거야 그게 내가 원하던 결말아직도 어려워 이미 해봤던 이별이라도만남은 쉽고 이별은 어려워눈빛에 베일 듯 우린 날카로워마침표를 찍고 난 조금 더 멀리 가려 해만남은 쉽고 이별은 참 어려워 그대가 날 떠나간단 말만 하지 않는다면 이 자리에 서 있을게요그대가 날 떠나간단 말만 하지 않는다면이 자리에만남은 쉽고 이별은 어려워눈빛에 베일 듯 우린 날카로워마침표를 찍고 난 조금 더 멀리 가려 해만남은 쉽고 이별은 참 어려워\",\n",
       " '33359725': '울려댔어 사이렌텅 빈 길거리엔도망치다 흘린 칼자루와 피가 흥건해우리 그때 어릴땐뭘 몰랐었지 man그냥 힘쎈 형이 제일로 멋졌었지 그땐그래 우린 살아나왔어 지옥이제 어딜가든 다 비옥수도 없이 맛본 치욕어릴때부터 입에 붙은 쌍욕절대 할 수 없었지 신고할 수 있는게 오직 기도어떻게 느끼겠어 피곤붉게 물들지 않을려 내 흰옷침대가 없어서 엄마랑 잤어매일 밤마다 우는 소리가 들려난 대체 뭘 해야 되는지 몰라서 그냥 계속했어 자는 척떨면서 BBQ 치킨을 시켰어엄마는 우리를 속였어고작 15000원 때문에엄마 내가 돈 어떻게든 벌어올게이제 남몰래 눈물 흘리지 않아도 돼내 몸 하나 불살라서라도 꺼내줄게난 그 모습 다시 실눈 뜨고 볼 순 없기에울려댔어 사이렌텅 빈 길거리엔도망치다 흘린 칼자루와 피가 흥건해우리 그때 어릴땐뭘 몰랐었지 man그냥 힘쎈 형이 제일로 멋졌었지 그땐그래 우린 살아나왔어 지옥이제 어딜가든 다 비옥수도 없이 맛본 치욕어릴때부터 입에 붙은 쌍욕절대 할 수 없었지 신고할 수 있는게 오직 기도어떻게 느끼겠어 피곤붉게 물들지 않을려 내 흰옷여기서 더 있다간 감방이 내 방종신형이 친구 책가방 안에어린 내가 짝사랑하던 그 여잔이 block에서 지금 몸 팔아새꺄 this real life김치 냄새 땜에 놀려대길래도시락통을 닫아That’s real life그런 날 보고 지 점심을 나눠준꼬마가 있었어That’s real life어느 날 관 속에그 친구의 얼굴을 만지게 됐어That’s울려댔어 사이렌텅 빈 길거리엔도망치다 흘린 칼자루와 피가 흥건해우리 그때 어릴땐뭘 몰랐었지 man그냥 힘쎈 형이 제일로 멋졌었지 그땐그래 우린 살아나왔어 지옥이제 어딜가든 다 비옥수도 없이 맛본 치욕어릴때부터 입에 붙은 쌍욕절대 할 수 없었지 신고할 수 있는게 오직 기도어떻게 느끼겠어 피곤붉게 물들지 않을려 내 흰옷',\n",
       " '34817660': '아무렇지 않게 내 하루가 또지나갈 쯤에 문득네가 없다는 게 익숙해진 내가낯설어지곤 해 yeah이제와 너 없는 난 의미 없다고되돌릴 수 없는 우리겠지만네가 좋아했던 그 노랠 우연히듣게 됐어 아무래도 난Baby I Need You좀 늦었겠지만다시 하고 싶어여전히 I Need youNeed You좀 어렵겠지만너 없인 안돼 난너도 알잖아Baby I need you nowBaby I need you nowBaby I need you now몇 곡의 노래로 너를 불렀을까너도 들었겠지만아직도 궁금해내가 없이 보낸너의 지금은 어때이제와 너 없는 난 의미 없다고되돌릴 수 없는 우리겠지만네가 좋아했던 그 노랠 우연히불러 봤어 아무래도 난Baby I Need You좀 늦었겠지만다시 하고 싶어여전히 I Need youNeed You좀 어렵겠지만너 없인 안돼 난너도 알잖아Baby I need you nowBaby I need you nowBaby I need you now그때 네가 울던 한강 공원에서네 눈물을 보고 닦아 주질 못했어이런 게 떠올라 후회된 장면만웃는게 예뻤던 너를Baby I Need You여전히 사랑해내가 잘못했어돌아와 I Need youNeed You너도 그랬다고나없이 안돼 넌너도 알잖아Baby I need you nowBaby I need you nowBaby I need you now',\n",
       " '35252996': '그녀와 나는요 그땐 참 어렸어요많이 사랑했고 때론 많이 다퉜었죠지금 생각하면 모두 내 잘못이죠마지막 그날도 그녀는 울었어나는 그녈 잡지 못했죠지금까지도 너무 후회가 돼요그 후로 누굴 사랑한 적 없어 아직은그녀와 나는요언젠가 만날 거죠변해버린 모습 변해버린 시간 속에하지만 괜찮아 내 눈엔 아름답던예전 모습 그대로 일 거예요그녀도 날 못 잊을 거야 나는 믿어요그만큼 사랑했죠그래서 우린 한 번은 만나야만 해요그녀의 친구라도 이 노랠 듣는다면그녀에게 전해줘요내가 아직 사랑한다고우리가 처음 만난 그 시간 그 자리에내가 매일 기다린다고언제라도그녀도 날 못 잊을 거야 나는 믿어요그만큼 사랑했죠그래서 우린 한 번은 만나야만 해요그녀의 친구라도 이 노랠 듣는다면그녀에게 전해줘요내가 아직 사랑한다고우리가 처음 만난 그 시간 그 자리에내가 매일 기다린다고그녀의 친구라도 이 노랠 듣는다면그녀에게 전해줘요내가 아직 사랑한다고우리가 처음 만난 그 시간 그 자리에내가 매일 기다린다고내가 매일 기다린다고',\n",
       " '32183386': '‘뭐해?‘라는 두 글자에‘네가 보고 싶어’ 나의 속마음을 담아 우이모티콘 하나하나 속에달라지는 내 미묘한 심리를 알까 우아니 바쁘지 않아 nothing no no 잠들어 있지 않아 insomnia nia nia지금 다른 사람과 함께이지 않아응, 나도 너를 생각 중우리의 네모 칸은 bloom엄지손가락으로 장미꽃을 피워 향기에 취할 것 같아 우오직 둘만의 비밀의 정원I feel bloom I feel bloom I feel bloom너에게 한 송이를 더 보내밤샘 작업으로 업데이트흥미로운 이 작품의 지은이 that’s me 우어쩜 이 관계의 클라이맥스2막으로 넘어가기엔 지금이 good timing 우같은 맘인 걸 알아 realize la lize말을 고르지 말아 just reply la la ly조금 장난스러운 나의 은유에네 해석이 궁금해 우리의 색은 gray and blue 엄지손가락으로 말풍선을 띄워금세 터질 것 같아 우호흡이 가빠져 어지러워I feel blue. I feel blue. I feel blue.너에게 가득히 채워 띄어쓰기없이보낼게사랑인것같애백만송이장미꽃을, 나랑피워볼래?꽃잎의 색은 우리 마음 가는 대로 칠해시들 때도 예쁘게우리의 네모 칸은 bloom엄지손가락으로 장미꽃을 피워 향기에 취할 것 같아 우오직 둘만의 비밀의 정원I feel bloom I feel bloom I feel bloom너에게 한 송이를 더 보내',\n",
       " '33976677': '서로를 향한 마음이우주의 작은 뭉쳐짐이라면이 아름다운 기억이 흩어져도사라지진 않을 거야잠들지 못한 바람은고요히 빛나는 너의 바다로그 안에 잠겨죽어도 좋으니 나네 품에 안겨너의 이름이 긴 밤을 지나찰나가 영원이 될 때얼마나 내가 널 좋아하면달에 네 목소리가 보여오색 빛 하늘 별 숲 사이로너라는 꽃이 피어나그 세상의 반을 가진다 해도그저 네 앞에선꽃에 머물고픈한 남자일 뿐오롯이 나를 비춰요어둠이 드리워도 눈이 부시게눈물조차반짝이는 밤의 기적을 노래하네너의 이름이 긴 밤을 지나찰나가 영원이 될 때얼마나 내가 널 좋아하면달에 네 목소리가 보여오색 빛 하늘 별 숲 사이로너라는 꽃이 피어나그 세상의 반을 가진다 해도그저 네 앞에선꽃에 머물고픈 남자일 뿐밤 하늘 수놓인 모든 것들이운명 위로 내리는 걸내 꿈에 안긴 널한 번 더 가득히 안아시간을 넘어빛이 닿는 세계의 바깥까지 함께너의 깊은 미소의황홀 속 일렁임은영원과 이어질 거야얼마나 내가 널 원하는지눈을 감아도 너와 마주쳐쏟아지는 달빛의 선율을 따라자유의 날개로 향하는 봄날엔너의 유일한 숨결이 분다',\n",
       " '34668619': 'RUNTold you not 또 괜한 기대겉으론 걱정해 난 안 바뀌네또 가끔 말을 막 해 너무 딱해헛소리들 나는 안 들리네 no oh yeahTold you 난 so always b day겉으론 내 편인데 못해 이해그 참견들은 가짜 나는 바빠어떻게 해도 나는 안 들리네no no oh타 버리고 파너의 사랑은 so sunny yeah사라져도 사라져도다 버리고 파 너만 있다면no worry yeah알잖아 It should be youSo I’LL RUN TO YOUSo I’LL RUN TO YOU선을 넘는 거래도 over and over다쳐도 괜찮아 I’LL RUN TO YOUSo I’LL RUN TO YOUA little bit little bit YoungA little bit little bit YoungA little bit little bit알지 나의 Style네가 어떤 너래도 over and over다쳐도 괜찮아 I’LL RUN TO YOUJJ물불 안 가리는 typeI never 절대로 도도망가질 수 없는 사이알잖아 I’m not a poser혹시라도 잘못돼도절대 너를 탓하지 않아그게 어디라도 wanna be there타 버리고 파너의 사랑은 so sunny yeah사라져도 사라져도다 버리고 파 너만 있다면no worry yeah알잖아 It should be youSo I’LL RUN TO YOUSo I’LL RUN TO YOU선을 넘는 거래도 over and over다쳐도 괜찮아 I’LL RUN TO YOUSo I’LL RUN TO YOUA little bit little bit YoungA little bit little bit YoungA little bit little bit알지 나의 Style네가 어떤 너래도 over and over다쳐도 괜찮아 I’LL RUN TO YOUNo no that’s ok that’s ok누가 뭐래도No 괜찮아 아플 거래도상관없어 멋대로 생각해도 돼막지 못해 널 사랑하기 때문에So I’LL RUN TO YOUSo I’LL RUN TO YOU선을 넘는 거래도 over and over다쳐도 괜찮아 I’LL RUN TO YOUSo I’LL RUN TO YOUA little bit little bit YoungA little bit little bit YoungA little bit little bit알지 나의 Style네가 어떤 너래도 over and over다쳐도 괜찮아 I’LL RUN TO YOU',\n",
       " '33868791': '달이 차고 내 마음도 차고이대로 담아 두기엔너무 안타까워너를 향해 가는데달은 내게 오라 손짓하고귓속에 얘길 하네지금 이 순간이바로 그 순간이야제일 마음에 드는 옷을 입고노란 꽃 한 송이를 손에 들고널 바라 보다 그만나도 모르게 웃어버렸네이게 아닌데내 마음은 이게 아닌데널 위해 준비한 오백 가지멋진 말이 남았는데사랑한다는그 흔한 말이 아니야그 보단 더욱더 로맨틱하고달콤한 말을 준비했단 말야숨이 차고 밤 공기도 차고두 눈을 감아야만네 모습이 보여걸을 수가 없는데구름 위를 걷는다는 말이과장이 아니란 걸 알게 됐어널 알게 된 후부터 나의 모든 건다 달라졌어이게 아닌데내 마음은 이게 아닌데널 위해 준비한 오백 가지멋진 말이 남았는데사랑한다는 그 흔한 말이 아니야그 보단 더욱더 로맨틱하고달콤한 말을 준비했단 말야나를 봐줘요 내 말을 들어봐 줘요아무리 생각을 하고 또 해도믿어지지 않을 만큼 사랑해',\n",
       " '35413033': \"Yeah yeahLet’s goLike what?자유로운 기분 I like that고민 따윈 already done, done색안경 끼고 보는 게 죄지That's not my fault woahTold ya I don't care at all내 멋대로 갈 거야필요 없어 orderDon't need no guidanceI'm makin' my wayI'm on my way upRun to the top난 언제든 straight up원래 두려운 게 없어 난상관없어 call me troubleor you can call me weirdo나로 살고 싶어턱 끝을 치켜올린 채로다 가질 듯한 attitude 그거면 돼Put my sneakers on하나 둘 ready, get set, goPut my sneakers onPut 'em up, put 'em upPut my sneakers on하나 둘 ready, get set, go멀리 가보자고 ya yaPut 'em up, put 'em up기다리던 순간 stand up, stand up빨리 뛰는 심장 don't stop, don't stopGet loose 불태워 지금 my youthThe party ain't started시작도 안 했어 난요즘 꽂힌 말이 하나 있지My best is yet to come상관없어 call me troubleor you can call me weirdo나로 살고 싶어턱 끝을 치켜올린 채로다 가질 듯한 attitude 그거면 돼Put my sneakers on하나 둘 ready, get set, goPut my sneakers onPut 'em up, put 'em upPut my sneakers on하나 둘 ready, get set, go멀리 가보자고 ya yaPut 'em up, put 'em up자유롭게 뛰고 싶어 다른 사람시선들 don't care now어디까지 가게 될지 모르지만일단은 start right nowYeah alright멈추지 마 to the topDon’t worry about it cuz you know IPut my sneakers on상관없어 call me troubleor you can call me weirdo나로 살고 싶어턱 끝을 치켜 올린 채로다 가질 듯한 attitude 그거면 돼You better put your sneakers onPut my sneakers on하나 둘 ready, get set, goPut my sneakers onPut 'em up, put 'em upPut my sneakers on하나 둘 ready, get set, go멀리 가보자고 ya yaPut 'em up, put 'em up자유롭게 뛰고 싶어 다른 사람시선들 don't care now어디까지 가게 될지 모르지만일단은 start right nowYeah alright멈추지 마 to the top같이 걸어 가보자고Put 'em up, put 'em up\",\n",
       " '30287019': \"그 날을 잊지 못해 babe날 보며 환히 웃던 너의 미소에홀린 듯 I'm fall in loveBut 너무 쪽팔림에 난 그저한마디 말도 못해 babe I wanna you 너의 눈빛은 날 자꾸 네 곁을 맴돌게 해Just only you 굳게 닫힌 내 맘이 어느새 무너져버려 Because of you온통 너의 생각뿐이야 나도 미치겠어너무 보고 싶어 매일 매일 매일자꾸 초라해지잖아 내 모습이그대여 내게 말해줘 사랑한다고Rollin' Rollin' Rollin' Rollin' Rollin' Rollin' Rollin' Rollin' Rollin' Rollin' Rollin' Rollin' 하루가 멀다 하고 Rolling in the deep Rollin' Rollin' Rollin' Rollin' Rollin' Rollin' Rollin' Rollin' 기다리고 있잖아 Babe Just only you기다리고 있잖아 Babe Just only youHey I just wanna be with you오늘 밤이 가기 전에I can't feel you 조금 더 다가와 줘 Tonight I'm ready for youYou wanna touch me I know대체 뭘 고민해 빨리 안아아닌 척 모르는 척 하다가늦게 놓치고 후회 말아I wanna you 너의 눈빛은 날 자꾸 네 곁을 맴돌게 해Just only you 굳게 닫힌 내 맘이 어느새 무너져버려 Because of you온통 너의 생각뿐이야 나도 미치겠어너무 보고 싶어 매일 매일 매일자꾸 초라해지잖아 내 모습이그대여 내게 말해줘 사랑한다고Rollin' Rollin' Rollin' Rollin' Rollin' Rollin' Rollin' Rollin' Rollin' Rollin' Rollin' Rollin' 하루가 멀다 하고 Rolling in the deep Rollin' Rollin' Rollin' Rollin' Rollin' Rollin' Rollin' Rollin' 기다리고 있잖아 Babe Just only you이제 와 숨기려 하지 마요그대여 아닌 척하지 마요온종일 난 그대 생각에 잠긴 채로난 이대로 기다리고 있어요Rollin' Rollin' Rollin' Rollin' Rollin' Rollin' Rollin' Rollin' Rollin' Rollin' Rollin' Rollin' 하루가 멀다 하고 Rolling in the deep Rollin' Rollin' Rollin' Rollin' Rollin' Rollin' Rollin' Rollin' 기다리고 있잖아 Babe Just only you기다리고 있잖아 Babe Just only you\",\n",
       " '33503722': '처음이라기엔 너무길을 이미 다 아는 듯이우연히라기엔 모두다 정해진 듯이우연히 눈을 떠 보니이 세상에 태어나 있었고하필 네가 있는 곳이었다서서히 몸에 배어버린사소한 습관들이네게로 가는 길을 내게 알려줘처음이라기엔 너무길을 이미 다 아는 듯이우연히라기엔 모두다 정해진 듯이고통의 사랑도보통의 이별도You can make it happen You can make it heaven 우연히라기엔 모두다 정해진 듯이만약 내가 그때 그곳을헤매지 않았더라면 그날 네가 마음 아픈 이별을 안 했었더라면 네 뒤를 따라 걷던 곳네가 떨어트렸던 꽃 위태롭던 시간 속서로를 기다려왔어운명이라고 하기엔이를 수 있다 생각해우연히라고 하기엔설명이 필요한 것 같아어쩌면 또 스칠 수 있을지 몰라도지금이 아니면 안 될 것 같던 그 때로처음이라기엔 너무길을 이미 다 아는 듯이우연히라기엔 모두다 정해진 듯이고통의 사랑도보통의 이별도You can make it happen You can make it heaven 우연히라기엔 모두다 정해진 듯이어쩌면 기억을 지운 채로하나였던 우린 둘이 되고 운명이란 작은 점 안에서 서로를 찾으며 살았는지도고통의 사랑도보통의 이별도You can make it happen You can make it heaven 우연히라기엔 모두다 정해진 듯이우연히서서히점점 더 멀어져가 우연히천천히처음그곳으로 가',\n",
       " '35485544': \"내가 만든 쿠키너를 위해 구웠지 But you know that it ain’t for free, yeah 내가 만든 쿠키 너무 부드러우니 자꾸만 떠오르니 널 choco-chip으로 Sprinkle로입맛 버리게 만들고 싶어숨기고 있지만 널 더 보고 싶어 If you want it You can get itIf you want it 네 목소리를 또 들려줘 boy 식사는 없어 배고파도 음료는 없어 목말라도 달콤한 맛만 디저트만 만 원하게 될 거 알잖아 식사는 없어 배고파도 음료는 없어 목말라도 달콤한 맛만 디저트만 만 원하게 될 거 알잖아 내가 만든 쿠키너에게는 독이지네 마음속을 녹이지 So good, yeah Looking at my cookie 역시 향기부터 다르니 (Taste it)한입은 모자라니널 choco-chip으로 Sprinkle로정신 못 차리게 만들고 싶어숨기고 있지만 널 더 보고 싶어 If you want it You can get itIf you want it 네 목소리를 또 들려줘 boy식사는 없어 배고파도 음료는 없어 목말라도 달콤한 맛만 디저트만 만 원하게 될 거 알잖아 식사는 없어 배고파도 음료는 없어 목말라도 달콤한 맛만 디저트만 만 원하게 될 거 알잖아 Bet you knowBet you know Bet you know I레시핀 없어 딴 데서는 못 찾아 Take it Don't break it I wanna see you taste it Sugar, got sugar 난 재료 안 아끼지 Bet you know Bet you know Bet you know I네 다이어트를 망치고 싶어 나 Take it Don’t break it I wanna see you taste it Sugar, got sugar Bet you want some 식사는 없어 배고파도 음료는 없어 목말라도 달콤한 맛만 디저트만 만 원하게 될 거 알잖아 식사는 없어 배고파도 음료는 없어 목말라도 달콤한 맛만 디저트만 만 원하게 될 거 알잖아 Yeah yoYeah yoMm mm Yeah yoYeah yoMm mm 내가 만든 쿠키 Come and take a lookie 우리 집에만 있지 놀러 와 얼마든지 굽지 그런데 너 충치 생겨도 난 몰라 내가 만든 쿠키 Come and take a lookie 우리 집에만 있지 놀러 와얼마든지 굽지 그런데 너 충치 생겨도 난 몰라\",\n",
       " '35008524': '너를 위해 해 줄 것이 하나 없어서보낼 수밖에 없었고네가 없이 사는 법을 알지 못해서순간순간을 울었다후회로 가득한 한숨 자락이시린 바람처럼가슴 치는 날 그 언젠가우리 만날 수 있을까다시 만날 수 있을까그리 좋던 예전처럼 그때처럼되돌아갈 수 있을까다시 우리가 만나면무엇을 해야만 할까서로를 품에 안고서하염없이 눈물만 흘려볼까붙잡을 마음이야 없었겠냐마는그때 난 부끄러웠다떳떳하게 일어나 널 다시 찾아갈뜨거운 꿈만 꾸었다둘이 함께 했던 순간순간이시린 폭포처럼쏟아지는 날 그 언젠가우리 만날 수 있을까다시 만날 수 있을까그리 좋던 예전처럼 그때처럼되돌아갈 수 있을까다시 우리가 만나면무엇을 해야만 할까서로를 품에 안고서하염없이 눈물만 흘려볼까그리운 마음이 서럽게 흘러넘쳐너에게 닿을 때우리 만날 수 있을까다시 만날 수 있을까그리 좋던 예전처럼 그때처럼되돌아갈 수 있을까다시 우리가 만나면무엇을 해야만 할까서로를 품에 안고서하염없이 눈물만 흘려볼까',\n",
       " '35504734': \"FOREVER 1It’s love It’s loveWe’re not stopping네가 머문 이 세상이 더아름다운 건겁 없이 외치던 말 '사랑해 너를'영원하기에You and I터지는 눈물이말하잖아난 그냥 전부 던진 거야아무런 망설임 따위도멋대로 끌렸던 그대로Oh my baby 달려가 안을게I love 너의 모든 것, 내 전부인 너우리는 영원We are one전율 속에 뜨거운 그 맘을 던져Just like a love bombWe are oneGirls, We are forever(Yeah we are, We’re still FOREVER 1)It’s now or never(We keep on, We’re still FOREVER 1)Yeah we’re forever(Yeah we are, We’re still FOREVER 1)날 꼭 안아 절대 놓치지 마가슴이 뛰잖아다시는 아파하지 마너의 마음을우린 다 알아다 알아내 곁에 있어 줘이 순간도 마지막처럼You know your love is crazy 항상 그랬지Oh my baby 사랑해 기억해I love 너의 모든 것, 내 전부인 너우리는 영원We are one전율 속에 뜨거운 그 맘을 던져Just like a love bombWe are oneGirls, We are forever(Yeah we are, We’re still FOREVER 1)It’s now or never(We keep on, We’re still FOREVER 1)Yeah we’re forever(Yeah we are, We’re still FOREVER 1)언제나 너의 곁에 있고 싶은데널 생각하면 강해져There’s no one like you, no one like you우리 꼭 영원하자우리 머문 이 세상에서네게 말했어다시 태어나도 널 사랑할게Cause we are the oneI love 너의 (Ooh I Love 나의)모든 것 내 전부인 너 (전부인 너)우리는 영원 (Ooh)We are one전율 속에 (그 전율 속에)뜨거운 그 맘을 던져Just like a love bomb (Just like a love bomb)We are oneGirls, We are forever(Yeah we are, We’re still FOREVER 1)It’s now or never(We keep on, We’re still FOREVER 1)Yeah we’re forever(Yeah we are, We’re still FOREVER 1)\",\n",
       " '34481682': '때 이른 봄 몇 송이 꺾어다너의 방 문 앞에 두었어긴 잠 실컷 자고 나오면그때쯤엔 예쁘게 피어 있겠다별 띄운 여름 한 컵 따라다너의 머리맡에 두었어금세 다 녹아버릴 텐데너는 아직 혼자 쉬고 싶은가 봐너 없이 보는 첫 봄이 여름이괜히 왜 이렇게 예쁘니다 가기 전에 널 보여줘야 하는데음 꼭 봐야 하는데내게 기대어 조각잠을 자던그 모습 그대로 잠들었구나무슨 꿈을 꾸니깨어나면 이야기해 줄 거지언제나의 아침처럼 음빼곡한 가을 한 장 접어다너의 우체통에 넣었어가장 좋았던 문장 아래 밑줄 그어나 만나면 읽어줄래새하얀 겨울 한 숨 속에다나의 혼잣말을 담았어줄곧 잘 참아내다가도가끔은 철없이 보고 싶어새삼 차가운 연말의 공기가뼈 틈 사이사이 시려와움츠려 있을 너의 그 마른 어깨를 꼭 안아줘야 하는데내게 기대어 조각잠을 자던그 모습 그대로 잠들었구나무슨 꿈을 꾸니깨어나면 이야기해 줄 거지언제나의 아침처럼 음',\n",
       " '35640077': \"Blackpink in your areaBlackpink in your area컴백이 아냐 떠난 적 없으니까고개들이 돌아 진정해 목 꺾일라분홍빛의 얼음 drip drip dripfreeze ‘em on sightShut it down what what what what게임이 아냐 진 적이 없으니까짖어봐 네 목에 목줄은 내 거니까땅바닥에 닿은 pedal we go two zero five Shut it down uh uh uh uh초록 비를 내려 머리 위로 Don’t trip, baby겸손하게 그냥 앉아있어 Just sit, babyPraying for my downfall,many have tried, babyCatch me when you hear my Lamborghini go vroom, vroom, vroom,vroomWhen we pull up you knowit’s a shutdown간판 내리고 문 잠가 shut downWhip it whip it whip it whip itWhip it whip it whip it whip itIt’s black and it’s pink once the sundownWhen we pull up you knowit’s a shutdown간판 내리고 문 잠가 shut downWhip it whip it whip it whip it Whip it whip it whip it whip it Keep watching me shut it down NahYou don’t wanna be on my bad sidethat’s right I’m slidin’ throughBunch of wannabes that wanna be me,me three if I was youBeen around the world, pearls on yagirl, VVS's we invested uhNeed a lesson see the necklace,see these dresses We don’t buy it we request it uhA rockstar, a popstar but rowdierSay bye to the paparazzi, get mygood side, I'll smile for yaKnow it ain’t fair to ya, it’s scarin’ yalike what nowBlackpink in your area, the area beenshut down. It’s a shutdown네 다음 답안지야 똑바로 봐don’t sleep baby뒤집어봐 이건 가격표야 ain’t cheap babyStay in your own lane ‘causeI’m ‘bout to swerveCatch me when you hear my Lamborghini go vroom, vroom, vroom,vroomWhen we pull up you knowit’s a shutdown간판 내리고 문 잠가 shut downWhip it whip it whip it whip itWhip it whip it whip it whip itIt’s black and it’s pink once the sundownWhen we pull up you knowit’s a shutdown간판 내리고 문 잠가 shut downWhip it whip it whip it whip it Whip it whip it whip it whip it Keep watching me shut it downShut it down Blackpink in your areaShut it down woah woah woah woahShut it down Blackpink in your areaKeep talking we shut you down\",\n",
       " '35730562': \"Why you think that ’bout nude’Cause your view’s so rudeThink outside the boxThen you’ll like itHello my name is 예삐 예삐요말투는 멍청한 듯 몸매는 섹시 섹시요그럼 다이아 박힌 티아라 하나에내가 퍽이나 웃게 퍽이나 웃게뒤틀려버린 로렐라이Don’t need no man철학에 미친 독서광Self-made woman싸가지없는이 Story에 무지 황당한야유하는 관객들You tricked me you’re a liar아 발가벗겨져 버린 Movie star아 별빛이 깨져버린 밤꼴이 볼품없대도 망가진다 해도다신 사랑받지 못한대도Yes I’m a nudeNude 따따랏따라Yes I’m a nudeNude I don’t give a loveBaby how do I look, how do I look아리따운 날 입고 따따랏따라Baby how do I look, how do I look아리따운 날 입고 따따랏따라(Ouch!)실례합니다 여기 계신 모두야한 작품을 기대하셨다면Oh I’m sorry 그딴 건 없어요환불은 저쪽 대중은 흥미 없는 정보그 팝콘을 던져도 덤덤행복과 반비례 평점But my 정점 멋대로 낸편견은 토할 거 같지아 발가벗겨져 버린 Movie star아 더 부끄러울 게 없는 밤꼴이 볼품없대도 어쩌면 네게도다신 사랑받지 못한대도Yes I’m a nudeNude 따따랏따라Yes I’m a nudeNude I don’t give a loveBaby how do I look, how do I look아리따운 날 입고 따따랏따라Baby how do I look, how do I look아리따운 날 입고 따따랏따라Um ha um ha um ha umYes I'm a nudeYes I'm a nudeNow I draw a luxury nudeWhy you think that ’bout nude’Cause your view’s so rudeThink outside the box까고 말해아리따운 나의 누드아름다운 나의 누드I’m born nude변태는 너야RudeNude\",\n",
       " '33464805': 'Dun Dun Dance Dun Dun DanceDun Dun DanceJust dance Just danceDun Dun Dance Dun Dun DanceDun Dun DanceJust dance Just dance유성이 비처럼 쏟아지는 하늘그 아래 너와 함께 춤추고 싶어색색의 옷들과 예쁜 액세서리oh baby흐르는 저 음악이내 맘을 설레게 하지I feel the disco rhythm in my body다른 아무것도 생각하진 마yeah 발자국으로 가득한무대 위에 올라자유로운 몸짓 그 사랑스런 느낌저 따분했던 하루와일상에서 벗어나 oh tonightJust you and I지구를 등지고 떠올라맘껏 crazy crazy crazy 긴 춤을 춰말리지 마 지금 내 기분은feel so high멀리 멀리 멀리 다 눈부셔I just wanna Dun Dun DanceDun Dun Dance Dun Dun DanceOh baby give me babygive me baby give me more날 멈추지 마 love this songJust wanna Dun Dun DanceDun Dun Dance Dun Dun DanceJust dance Just danceShining like a disco ball빨간 high heels on the roadGot my eyes on youand you got yours저 태양이 다시 눈뜰 때까지넌 평범한데 뭔가 달라왠지 묘한 구석이 있네난 가려져 있는 게 보여우린 모두 이상해 조금씩은 yeah사람을 가장한 낯선 존재들처럼oh babyyeah 놀라지 않아괜찮아 좀 더 가까이 와다른 시선 따위 다 잊어버려 우리늘 복잡한 저세상과기대에서 벗어나 oh tonightJust you and I지구를 등지고 떠올라맘껏 crazy crazy crazy 긴 춤을 춰말리지 마 지금 내 기분은feel so high멀리 멀리 멀리 다 눈부셔I just wanna Dun Dun DanceDun Dun Dance Dun Dun DanceOh baby give me babygive me baby give me more날 멈추지 마 love this songJust wanna Dun Dun DanceDun Dun Dance Dun Dun DanceJust dance Just dance어차피 작은 점일 뿐야보석 같은 아이야몇 발짝 멀리 떨어져서 바라보면 돼우린 dancing on fireJust you and I지구를 등지고 떠올라맘껏 crazy crazy crazy 긴 춤을 춰말리지 마 지금 내 기분은feel so high멀리 멀리 멀리 다 눈부셔I just wanna Dun Dun DanceDun Dun Dance Dun Dun DanceOh baby give me babygive me baby give me more날 멈추지 마 love this songJust wanna Dun Dun DanceDun Dun Dance Dun Dun DanceJust dance Just dance',\n",
       " '34373632': '어린 햇살 아래서뛰어놀곤 했었던가쁜 숨결굽이진 골목 지나길을 따라가보면같은 기억어른이란 시간은아직 어색하게도나를 채워많은 게 변했다 해여긴 그대로인걸You’ll feel the same땀에 젖어 놀았던우리는 너와 난 이젠돌아갈 순 없지만낡아진 서랍 속에서작았던 서롤 기억해When I’m far from homeAlways 떠올라 난 아직도반짝이던 네 두 눈마주 보던 그림자마주 보던 우리는여기 still same시간은 언제나 날울리는 존재지만놓질 못해많은 게 더 지날 땐여긴 또 하나의Our home그땐 우린 어딜까낡아진 서랍 속에서작았던 서롤 기억해When I’m far from homeAlways 떠올라 난 아직도반짝이던 네 두 눈혼자서 숨겼던널 향한 마음은알게 하진 않을 거야널 볼 수 있다면 그걸로 충분해담을게 두 눈에 언제든 항상낡아진 서랍 속에서작았던 서롤 기억해When I’m far from homeAlways 떠올라 난 아직도반짝이던 네 두 눈',\n",
       " '35238221': \"You’re so yummy yummy yummyIn my tummy tummy tummyLook at you 빨라지는 걸음걸이Look at me 호기심을 자극하지Look at them 알아챌 수 없는 거리Baby don’t panic 한밤의 Party차올라 달이 딱 좋은 Timing이건 비밀이야 쉿 우리만의한밤의 Party 널 끌어당김어쩌니 내게 뺏겨버린 환심몽롱한 기분이 좋은 Tonight색다른 세계로 이끄는 LightFollow me, Come and get illusion한입에 삼켜 널 Delicious아찔한 미끼로 Hook up관심을 먹고 Growing upFollow me, Come and get illusion몸집을 불려가 Delicious점점 더 커지는 Fire관심을 먹고 Growing up(Will o' the wisp)겁내지 말고 이리 온(Will o' the wisp)겁내지 말고 이리 온Easy peasy 너도 알다시피When you dizzy 내겐 그저 Dish도깨비불 너를 놀려 Boo예상 못 한 순간 등장하지 불쑥첨 보는 Style 멋모를 Timing너의 약점에다 Hit! It’s so funny한밤의 Party 널 끌어당김알아도 막을 수 없는 반칙낯선 이 기분이 묘한 Tonight감춰둔 본능을 이끄는 LightFollow me, Come and get illusion한입에 삼켜 널 Delicious아찔한 미끼로 Hook up관심을 먹고 Growing upFollow me, Come and get illusion몸집을 불려가 Delicious점점 더 커지는 Fire관심을 먹고 Growing up(Will o' the wisp)겁내지 말고 이리 온(Will o' the wisp)겁내지 말고 이리 온Yummy yummy yummyIn your tummy tummy tummy놀란 너의 Face 나를 저격하는 Taste멀리멀리 달아나도 소용없어 이미Come get illusionSo foolFollow me, Come and get illusion유일한 목격자 You’re the one방심한 틈을 타 Swallow환상을 먹고 Growing upFollow me, Come and get illusion순진한 먹잇감 Delicious단번에 노리는 Hunter네 맘을 뺏어 Growing up(Will o' the wisp)겁내지 말고 이리 온(Will o' the wisp)겁내지 말고 이리 온\",\n",
       " '4276080': '바람에 날려 꽃이 지는 계절엔아직도 너의 손을 잡은 듯 그런 듯 해그때는 아직 꽃이 아름다운 걸지금처럼 사무치게 알지 못했어우 너의 향기가 바람에 실려 오네우 영원할 줄 알았던 스물다섯 스물하나그 날의 바다는 퍽 다정했었지아직도 나의 손에 잡힐 듯 그런 듯 해부서지는 햇살 속에 너와 내가 있어가슴 시리도록 행복한 꿈을 꾸었지우 그날의 노래가 바람에 실려 오네우 영원할 줄 알았던 지난날의 너와 나너의 목소리도 너의 눈동자도애틋하던 너의 체온마저도기억해내면 할수록 멀어져 가는데흩어지는 널 붙잡을 수 없어바람에 날려 꽃이 지는 계절엔아직도 너의 손을 잡은 듯 그런 듯 해그때는 아직 네가 아름다운 걸지금처럼 사무치게 알지 못했어우 너의 향기가 바람에 실려 오네우 영원할 줄 알았던 스물다섯 스물하나우 그날의 노래가 바람에 실려 오네우 영원할 줄 알았던 지난날의 너와 나우 우 우 영원할 줄 알았던 스물다섯 스물하나스물다섯 스물하나',\n",
       " '35729104': \"Anti ti ti ti fragile fragileAnti ti ti ti fragileAnti ti ti ti fragile fragileAntifragile antifragile가시밭길 위로 ridingyou made me boost up거짓으로 가득 찬 party가렵지도 않아내 뒤에 말들이 많아나도 첨 듣는 내 rival모두 기도해 내 falling그 손 위로 I’mma jump inYes gimme that걸어봐 위엄 like a lion눈빛엔 거대한 desire더 부어 gasoline on fire불길 속에 다시 날아 rising잊지 마 내가 두고 온 toe shoes무슨 말이 더 필요해무시 마 내가 걸어온 커리어I go to ride till I die die더 높이 가줄게내가 바랐던 세계 젤 위에떨어져도 돼I’m antifragile antifragile난 지금 on my way 갖다버려 줘너의 fairy taleNow you know my nameI’m antifragile antifragileAnti ti ti ti fragile fragileAnti ti ti ti fragileAnti ti ti ti fragile fragileAntifragile antifragile“Lovey lovey loveydovey dovey dovey”멋대로 정하네 나란 애에 대해I don't know what to sayI can't feel it뜨거운 관심은 환영귀여운 질투는 go ahead줄 달린 인형은 no thanks내 미랠 쓸 나의 노래Yes gimme that걸어봐 위엄 like a lion눈빛엔 거대한 desire더 부어 gasoline on fire불길 속에 다시 날아 rising잊지 마 내가 두고 온 toe shoes무슨 말이 더 필요해무시 마 내가 걸어온 커리어I go to ride till I die die더 높이 가줄게내가 바랐던 세계 젤 위에떨어져도 돼I’m antifragile antifragile난 지금 on my way 갖다버려 줘너의 fairy taleNow you know my nameI’m antifragile antifragileAnti ti ti ti fragile fragileAnti ti ti ti fragileAnti ti ti ti fragile fragileAntifragile antifragileWe can break it babyRock it twist it lock it babyAll I know is you can’t chain me‘Cause I’m gonna break outgonna gonna break out outWe can break it babyRock it twist it lock it babyAll I know is you can’t chain me'Cause I’m gonna break outgonna gonna break out out더 높이 가줄게내가 바랐던 세계 젤 위에떨어져도 돼I’m antifragile antifragile난 지금 on my way 갖다버려 줘너의 fairy taleNow you know my nameI’m antifragile antifragileAnti ti ti ti fragile fragileAnti ti ti ti fragileAnti ti ti ti fragile fragileAntifragile antifragile\",\n",
       " '35177030': '어쩌면 너도 나와 같은 꿈 꿀까매일 마주 보며 눈뜨는 하루늦은 밤 헤어지긴 너무 아쉬워널 많이 사랑하나 봐유난히 날씨가 좋은 날넌 나를 설레이게 해영화 속에서만 보던 일들이요즘 내 일상인 듯해어쩌면 너도 나와 같은 꿈 꿀까매일 마주 보며 눈뜨는 하루늦은 밤 헤어지긴 너무 아쉬워널 많이 사랑하나 봐오늘 너에게 고백하겠어취해서 하는 말이 아냐참아온 진심인 거야하루 종일 아무것도 안 해도너랑 있는 게 젤 좋아달빛도 하늘 아래 우리를 비추고온 세상이 모두 잠든 것 같아늦은 밤 헤어지긴 너무 아쉬워널 많이 사랑하나 봐네가 살아가는 순간에그 모든 순간에 내가 있음 해고마워 내 인생에 나타나줘서이렇게 날 안아줘서오늘 너에게 고백하겠어',\n",
       " '33725775': '말했잖아 언젠가이런 날이 온다면난 널 혼자 내버려두지 않을 거라고 죄다 낭떠러지야, 봐예상했던 것보다더 아플지도 모르지만 내 손을 잡으면하늘을 나는 정도 그 이상도 느낄 수 있을 거야 눈 딱 감고 낙하- 하-믿어 날 눈 딱 감고 낙하 눈 딱 감고 낙하- 하-믿어 날 눈 딱 감고 낙하  초토화된 곳이든뜨거운 불구덩이든말했잖아 언젠가 그런 날에나는 널 떠나지 않겠다고 죄다 낭떠러지야, 봐예상했던 것보다더 아플지도 모르지만 내 눈을 본다면밤하늘의 별이 되는 기분을 느낄 수 있을 거야 셋 하면 뛰어 낙하- 하-핫 둘 셋 숨 딱 참고 낙하셋 하면 뛰어 낙하- 하-핫 둘 셋 숨 딱 참고 낙하Ooh show how we love보여주자 웃을 준비를 끝낸 그들에게아무것도 우리를 망가뜨리지 못해눈 딱 감고 낙하- 하-믿어 날 눈 딱 감고 낙하셋 하면 뛰어 낙하- 하-핫 둘 셋 숨 딱 참고 낙하',\n",
       " '34883833': 'Lights Camera ActionI see you lookin at my P I C (I know) 크게 땡겨 땡겨 좀 더 땡겨봐 봐 기똥차지Zoom In, Zoom Out (OK)Zoom In, Zoom Out (OK)Zoom In, Zoom Out (OK)Baby 확 가게 확대 확실하게 Oww~I’m feelin like a million bucks yeahMust be the million bucks yeah오늘따라 빛이나Selfie 찰칵하면 빛이나Always talkin 쉿 know you like that 쫄지마 앙 물지는 않을게 Yea it’s like that, hey hey pretty lil thangDo ya thang, I’ll be right back (Woo) 우린 모두 사진 찍기 위해 살아 나도 그래 네 맘 알아 Aight(Woo) 우린 모두 관심받기 위해 살아 나도 그래 네 맘 알아 Aight!Lights Camera Action Baby I see you lookin at my P I C (I know) 크게 땡겨 땡겨 좀 더 땡겨봐 봐 기똥차지Zoom In, Zoom Out (OK)Zoom In, Zoom Out (OK)Zoom In, Zoom Out (OK)Baby 확 가게 확대 확실하게 Oww~Do you like all my clothes and my bags?옷을 입고 가방 멨을 뿐인데?Why you like it when I’m sad or I’m mad?I don’t give uh, cuz I’ma bad빛이 빛이 나는 Wishlist 항상 일 Pick  물어보지 좀 마 언니 뭐야 립스틱? It’s funny how you always talking money But always playin a dummy Yous a bummy beggin yo mummy for moneyOh He looks good in that louis louisOh She a cutie with a booty bootyScreenshot 저장해 놔둘래? Goddamn 실화냐? 허리둘레? 됐어 다음 다음 난 무덤덤 Eat it up 먹방Watch you chow down 셋, 둘, 하나 CheeseTake a couple pics and a couple of flicks (Woo) 우린 모두 사진 찍기 위해 살아 나도 그래 네 맘 알아 Aight(Woo) 우린 모두 관심받기 위해 살아 나도 그래 네 맘 알아 Aight!Lights Camera Action BabyI see you lookin at my P I C (I know) 크게 땡겨 땡겨 좀 더 땡겨봐 봐 기똥차지Zoom In, Zoom Out (OK)Zoom In, Zoom Out (OK)Zoom In, Zoom Out (OK)Baby 확 가게 확대 확실하게 Oww~Wait... OMG I’m such a catfish',\n",
       " '35238220': '일어나라 그대여더 치명적인 전쟁 속에두발로 버텨 적의 Hook!Black Mamba두렵지 않아 네가 Hoot!부셔줄게달라졌어 우리가광야를 넘어 돌아올 때일그러져 버렸던 æ더 나답게마치 하나처럼 보일미친 존재감의 현신다시 남겨진 불씨가거대한 악으로 자라나서무기력하게 널 고립시켜 둘 때Reunite 우린 다시 함께Whoo Whoo덮쳐 Beat it Yah넌 혼자가 아니야빛났던 Sacrifice기억 찾았다면보여줄래? 나타나줄래?지금 여기따라와 (Bow down)지켜봐 (My skill)놀랄걸 (Say wow)We coming소리쳐 (Get loud)들어봐 (My sound)불러봐 (Upgrade)We coming혼돈 속에서 피어나(We Them Girls)두려움에 맞설 그런 용기(Ah Yeah)언제라도 우린 TogetherWe Them GirlsWe Them GirlsWe Them GirlsMeta Universe 공존해지금 Parallel World모든 존재가 의미를 가져Part of my heart우린 공감의 언어를 써체온을 나눠 줘결국 선한 의지만의가치를 추구해 강해졌어 드디어 난휘둘리거나 당하지 않아왜곡이 돼버려 또 다시작됐어 편을 갈라너와 날 고립시켜 앞 못 보게못된 욕망에 일그러져 버리던 Algorithm들이존재를 무기로 파괴로집어삼켜 Ah그 순간 악은 시작됐어Whoo Whoo비켜 Flip Yah난 혼자가 아니야지켜주고 싶어처음 만난 네 REKALL안아줄게 느낄 수 있게Without SYNK DIVE따라와 (Bow down)지켜봐 (My skill)놀랄걸 (Say wow)We coming소리쳐 (Get loud)들어봐 (My sound)불러봐 (Upgrade)We coming혼돈 속에서 피어나(We Them Girls)두려움에 맞설 그런 용기(Ah Yeah)언제라도 우린 TogetherWe Them GirlsWe Them Girls평화로운 날을 맞이해우린 FLAT 그 안에서함께 웃고 사랑해With my friends이제 더 nævis와 함께열어 갈 미래가 궁금해결국 만나게 될 걸nævis on the REAL MY WORLDHold up!REAL MY WORLD넌 거울에 비친 나그보다 빛날 존재말해 줄래?언제까지나 함께란 걸따라와 (Bow down)지켜봐 (My skill)놀랄걸 (Say wow)We coming소리쳐 (Get loud)들어봐 (My sound)불러봐 (Upgrade)We coming혼돈 속에서 피어나(We Them Girls)두려움에 맞설 그런 용기(Ah Yeah)언제라도 우린 TogetherWe Them GirlsWe Them GirlsWe Them GirlsGirls!',\n",
       " '35665282': 'Yo I’ve been walking on the street yo 유엔빌리지에서 한강진역 이태원을 지나왔어 언덕길로클랙슨은 목이 쉬어 퇴근길마다 삐걱삐걱 그게 자그마치 2년 입에 단내가 나 미칠 지경 작업실로 당당하게 내비 찍어 This is Crush hour 비켜라 비켜 We gotta celebrate 넌 즐기기만 해 누가 뭐래도 Baby Hey ladies and gentlemen,do what you wanna do baby 그러니까 너넨 히비히비합 질러 빽빽다시 Clap clap clap and then hit that   하나둘 모여 마치 Traffic jam Get up get up 그러니까 너넨 히비히비합 질러 땍땍따라 해 어때 생각보다 쉽지 모두 모여 마치 Traffic jam Get up (get up) get on up Yo I’ve been walking on the street yo서울숲에서부터 근방 직경 But 어딜 가든 이젠 레드카펫 Feel yo 사진 소리 찰칵찰칵 가는 길마다 찍어 찍어 붐비는 People, 마치 Traffic 기분 보험마저 없는 내 미래 비전 Y’all trippin’, whole lotta freaks And now, Crush hour 난 그냥 형 따라 직진 We gotta celebrate 넌 즐기기만 해누가 뭐래도 Baby Hey ladies and gentlemen, do what you wanna do baby그러니까 너넨 히비히비합 질러 빽빽 (빽빽)다시 Clap clap clap and then hit that (hit that)하나둘 모여 마치 Traffic jam Get up get up 그러니까 너넨 히비히비합 질러 땍땍 (땍땍)따라 해 어때 생각보다 쉽지 모두 모여 마치 Traffic jam Get up (get up, rush hour) Take’em to the bridge La la la la la la la la La la la la la la la La la la la la la la la La la la la la la la This is Crush hour, Crush hour, Crush hour This is Crush hour, Crush hour, Crush hourWatch Out (Watch Out)Watch Out (Watch Out)This is Crush hour, Crush hour, Crush hour',\n",
       " '34100776': 'baby get the message life is hard to maintain your life is like a tape 가끔은 쉽게 발을 빼 분명 네 꿈 짓밟기 위해 신발을 사는 사람 있을 테니 취소가 불가능해 많은 사람들한테 네 말은 세상 비슷한 걸 테니까 참아야 해 아무 답이 없대 남겨지긴 싫고 떠나는 것도 두려워 사람은 잘만 왔다가 떠나는데 선택지가 있는데 안 좋은 결정했대 난 돈은 그럴 때 쓰려고 버는 건데 난 지켜야만 하는 게 너의 자존심인데 다 지키면서 살 수만은 없기에 답이 없네 아무 답이 없네 집에 오는 bus에서 아이처럼 밖을 쳐다보았겠지만 살짝 독해지는 걸 느껴 어른처럼 짐을 싸고 떠날 거야 even if I lose it all Nike를 신고 멀어지는 거지 같은 거리에서 벌어지는 많은 일 괜찮냐 물었어 넌 oh 넌 아이처럼 maybe or not maybe or not 혼자 다 참아야만 했나 봐 멀어지는 거지 같은 거리에서 벌어지는 많은 일 괜찮냐 물었어 넌 oh 넌 아이처럼 maybe or not maybe or not 혼자 다 삼켜야만 했나 봐 넌 늘 아파하고 난 늘 도와주려고만 하지 구해달라 한적 한번 없이 혼자 붕대를 감지 난 네 등 뒤에 있어 또 등은 손 안 닿고 혼자 낑낑대는 너를 보면 장전된 총 얼굴에 대고 살아가는 것만 같아 넌 나무 위에 올라간 새끼 고양이 같은 거 아니라고 혼자 그냥 두라고 슬퍼하게 두라고 혼자 슬퍼해서 좋을 건 또 뭔데 monday to sunday one day to 평생 너가 white frappe나 마시며 수다나 떨길 바래 세월 가면 잊혀질 점수 따위에 연연하지 말고 너의 dice 낮게 나오면 나에게 말해 너의 하루가 매일 행복 일순 없겠지만 내 역할은 그 사실을 부정하는 것 널 다치게 한 하루를 용서하지도 말 것 물밀려 오듯 올 거야 위험은 pied piper 그 위험은 다 나의 것 넌 알아둬야 해 이걸 언젠간 나 역시도 무너져 버리고 말 거야 이 거지 같은 세상에서 혼자는 불가능하겠지만 그때 가선 너의 가족을 꾸리게 될 거야 너무 좋은 거래엔 항상 거짓이 섞여 있어 사람을 곁에 두되 너무 믿지 말 것 내가 너한테 그랬었던 것처럼 무조건 너의 아이들을 절대적으로 지킬 것',\n",
       " '34632789': '하루 종일 집에 누워서전화기만 보고 있잖아내 머릿속은네 생각들로만 짜여져 있어날 찾지 않아도좋아하지 않아도이제는 느낄 수 있어바라보지 않아도다른 사람에게 마음을 줘도이제는 견딜 수 있어어두운 방 안에서혼자 있는 나 그리고 하네가 불러주지 않아도난 괜찮아 난 괜찮아날 찾지 않아도좋아하지 않아도이제는 느낄 수 있어바라보지 않아도다른 사람에게 마음을 줘도이제는 견딜 수 있어어두운 방 안에서혼자 있는 나 그리고 하네가 불러주지 않아도난 괜찮아 난 괜찮아언젠가는 다시돌아와 주길 와 주길언젠가는 꼭 다시 볼 수 있기를볼 수 있기를어두운 방 안에서혼자 있는 나 그리고 하네가 불러주지 않아도난 괜찮아 난 괜찮아어두운 방 안에서혼자 있는 나 그리고 하네가 불러주지 않아도난 괜찮아 난 괜찮아',\n",
       " '35272060': \"Was it honestly the best?Cause I just wanna see the next부지런히 지나온어제들 속에참 아름답게Yeah the past was honestly the bestBut my best is what comes nextI’m not playin’, nah for sure그날을 향해숨이 벅차게You and Ibest moment is yet to comeMoment is yet to come, yeah다들 언제부턴가말하네 우릴 최고라고온통 알 수 없는 names이젠 무겁기만 해노래가 좋았다고그저 달릴 뿐이라고Promise that we’ll keep on coming back for more너의 마음속 깊은 어딘가여전한 소년이 있어My moment is yet to comeYet to come(당신은 꿈꾸는가, 그 길의 끝은 무엇일까)Moment is yet to come, yeah(모두가 숨죽인 밤, 우린 발을 멈추지 않아)Yet to come(We gonna touch the sky, ‘fore the day we die)Moment is yet to come, yeah(자 이제 시작이야, the best yet to come)언젠가부터 붙은 불편한 수식어최고란 말은 아직까지 낯간지러워난 난 말야 걍 음악이 좋은 걸여전히 그때와 다른 게 별로 없는걸아마 다른 게 별로 없다면You’ll say it’s all a lie, yeah난 변화는 많았지만변함은 없었다 해A new chapter매 순간이 새로운 최선지금 난 마치 열세 살그때의 나처럼 뱉어Huh아직도 배울 게 많고 나의 인생 채울 게 많아그 이유를 물어본다면내 심장이 말하잖아 We ain’t about it 이 세상의 기대 We ain’t about it 최고란 기준의 step(We ain’t about it)왕관과 꽃, 수많은 트로피(We ain’t about it)Dream & hope & goin’ forward(We so about it)긴긴 원을 돌아 결국 또 제자리Back to one너의 마음속 깊은 어딘가여전한 소년이 있어My moment is yet to comeYet to come(당신은 꿈꾸는가, 그 길의 끝은 무엇일까)Moment is yet to come, yeah(모두가 숨죽인 밤, 우린 발을 멈추지 않아)Yet to come(We gonna touch the sky, ‘fore the day we die)Moment is yet to come, yeah(자 이제 시작이야, the best yet to come)So was it honestly the best?Cause I just wanna see the next눈부시게 지나온기억들 속에참 아름답게Yeah the past was honestly the bestBut my best is what comes nextWe'll be singin' till the morn그날을 향해더 우리답게You and Ibest moment is yet to come\",\n",
       " '34461065': 'In this momentI see youIt always comes aroundAs I believedWhen the rain stopsYou shine on meYour light’s the only thingthat keeps the cold outMoon in the summer nightWhispering of the starsThey’re singing likeChristmas trees for usSo I’ll tell youA Million tiny things thatYou have never knownIt all gets tangled up insideAnd I’ll tell youA Million little reasonsI’m falling for your eyesI just want to be where you areIt’s such a strange thing to doSometimes I don’t understand youBut It always brings me backTo where you are혹시 아니너에겐 나만 아는 모습이 있어한여름밤 오는 첫눈같이믿기지 않는 기적 같은 놀라운 순간 넌언젠가 또불어온 바람에마음이 날아다녀도기다릴게So I’ll tell youA Million tiny things thatYou have never knownIt all gets tangled up insideAnd I’ll tell youA Million little reasonsI’m falling for your eyesI just want to be where you areTell youA Million tiny things thatYou have never knownIt all gets tangled up insideTell youA Million little reasonsI’m falling for your eyesI just want to be where you are',\n",
       " '35008525': '오늘 하루 어땠었나요많이 힘들었나요쉬지 않고 달려왔던 길에서나와 함께 쉬어가요그냥 아무런 준비도 없이떠나볼까요평범해도 좋으니까우리 함께 가요Du Du Du Du Du행복 가득 담은 배낭 하나 메고서답답했던 일상과 도심을 벗어나Du Du Du DuDu Du Du Du떠나볼래요힘껏 살다 보니 무뎌져헝클어진 머리도괜찮다며 그댈 안아줄 사람바로 그대 곁에 있죠까만 선글라스 하나 챙겨서떠나볼까요평범해도 좋으니까우리 함께 가요Du Du Du Du Du행복 가득 담은 배낭 하나 메고서답답했던 일상과 도심을 벗어나Du Du Du DuDu Du Du Du떠나볼래요우리 함께 가요Du Du Du Du Du행복 가득 담은 배낭 하나 메고서답답했던 일상과 도심을 벗어나Du Du Du DuDu Du Du Du떠나볼래요우리 함께 가요Du Du Du Du DuDu Du Du DuDu Du Du Du떠나볼래요Du Du Du DuDu Du Du Du떠나볼래요Du Du Du DuDu Du Du Du지금 떠나요',\n",
       " '35643794': '다 잊었다는 거짓말또 해 버렸죠내 마음에 그대란 사람없다고 했죠너무나 쉽게 잊혀졌다고이젠 남이라고서툰 내 사랑에 지쳐 떠난 그대너무 많이 울려서잡을 용기조차 낼 수 없었죠미안해요 내 사랑아다신 나 같은 사람 만나지 마요혹시 찾아가도 두 번 다시나를 허락해 주지 마요그댄 여리고 너무 착해서싫단 말도 잘 못하는데많이 부족한 나를 사랑한 그대이거면 됐어요 더 이상은그대 불행하지 않도록나 이쯤에서 없어지는 게그댈 위한 나의 사랑인 걸요너무 투명해서 때론 불안했죠제멋대로 살아온 나를감당할 수 없을 것 같죠미안해요 내 사랑아다신 나 같은 사람 만나지 마요혹시 찾아가도 두 번 다시나를 허락해 주지 마요그댄 여리고 너무 착해서싫단 말도 잘 못하는데고마웠어요 나를 사랑해 줘서나 같은 사람이 두 번 다시감히 받을 수 없는 사랑그대 때문에 행복했어요울지 마요 그대잘 생각해 봐요나쁜 일들만 가득했던 우리다 잊어야 해요다신 나 같은 사람 만나지 마요혹시 찾아가도 두 번 다시나를 허락해 주지 마요그댄 여리고 너무 착해서싫단 말도 잘 못하는데많이 부족한 나를 사랑한 그대이거면 됐어요더 이상은 그대 불행하지 않도록나 이쯤에서 없어지는 게그댈 위한 나의 사랑인 걸요',\n",
       " '31853557': '별빛이 내린 밤그 풍경 속 너와 나날 새롭게 하는따뜻하게 만드는니 눈빛 니 미소영원히 담아둘게너로 가득한 맘널 닮아가는 나날 위한 선물꿈보다 더 아름다운서로의 품에서끝 없는 밤을 걷자나의 모든 날들을 다 주고싶어내 이 맘을 모두 전하고 싶어잠들지 못한푸른 바람들이렇게 밝게 이 밤을 비춰너와 작은 일상을 함께 하는게내 가장 큰 기쁨인걸 넌 알까내 세상 속에넌 빛이 되어지금 모습 그대로 내 곁에만행복이 짙은 날어둠이 없는 밤같은 맘 속에같은 꿈이 피어난 건우리의 정해진운명이 맞닿은거야나의 모든 날들을 다 주고싶어내 이 맘을 모두 전하고 싶어잠들지 못한푸른 바람들이렇게 밝게 이 밤을 비춰너와 작은 일상을 함께 하는게내 가장 큰 기쁨인걸 넌 알까내 세상 속에넌 빛이 되어지금 모습 그대로 내 곁에만내게 온 너란 빛이 눈 부셔도네 앞에서 한 순간도 눈 감지 않아다가올 시간도계절의 바람도널 데려가지 못하게내가 더 좋은 사람이 되고 싶어더 아름답게 널 안을 수 있게잠들지 못한잠들 수 없는바람들이 널 부르고 있어언제까지나 너와 함께 할거야내 마지막 숨결도 너일거야내 세상 속에넌 빛이 되어지금 모습 그대로 내 곁에만이렇게 밝게 이 밤을 비춰',\n",
       " '34701816': 'Miss you한동안 난 멍하니 지내시간은 바쁜 듯이 흘러바람이 매몰차게 스쳐 가네But I네 생각으로 힘이 나네방금 전에 널 본 것처럼유난히 널 닮은 별 아래세상이 환하게 보여넌 나를 빛나게 해존재만으로Bless you너 없이 빈 하루가 가네듬성하게 빈 공간 속에는채워지네 너만의 모습으로But I네 생각으로 힘이 나네방금 전에 널 본 것처럼하늘의 별이 반짝이네내 마음 아는 것처럼넌 나를 빛나게 해존재만으로다시 혼자인걸 알고 나면마치 기다리고 있던 덫처럼 problemsI know I know짐을 덜고 싶지 않은 당신그럼 난 말을 줄이며하고 싶은 얘기를 뒤로 미루고어느새인가 관심이 없어 보이며그냥 지나가는 행인1 행인2 행인3침대위로 누워버려 난뭘 하고 있을까 넌 알고 있을까변했어 나의 밤 새벽 2:45전엔 지옥 같더니 이젠 설레는 마음그 길로 뛰어나간 난우리동네에서 제일 좋은 전망그 밑을 내려다보며저기 어딘가에 있겠지 하며이 밤 처음으로 웃었지환한 네 미소처럼넌 나를 빛나게 해존재만으로',\n",
       " '32794652': '언제부턴가 불쑥내 습관이 돼버린 너혹시나 이런 맘이어쩌면 부담일까널 주저했어언제부턴가 점점내 하루에 스며든 너아침을 깨우는 네 생각에어느샌가 거리엔어둠이 젖어 들고취기를 빌려오늘 너에게 고백할 거야하루하루 네가 좋다고괜히 어색할까혼자 애만 태우다끝끝내 망설여왔던 순간알잖아 나 무뚝뚝하고말도 없는 걸서툰 표현이 쑥스러워서 괜히쓰다 지울 문자만 바라보다멋쩍은 쓴웃음만언제부턴가 가끔너와 마주칠 때마다한참을 머뭇거린어설픈 손 인사만오늘 밤도 후회로 잦아들고취기를 빌려오늘 너에게 고백할 거야하루하루 보고 싶다고괜히 어색할까 혼자 애만 태우다수없이 연습해왔던 그 말알잖아 나 무뚝뚝하고말도 없는 걸서툰 표현이 쑥스러워서 괜히쓰다 지울 문자만 바라보다멋쩍은 쓴웃음만첫눈을 빌려오늘은 꼭 고백할 거야작은 너를 품에 안고서눈을 마주하고너무 사랑한다고함께 하고 싶다고',\n",
       " '34399272': 'Maybe If IWoke up in the morningHearing your voiceMaybe If I was with you어쩌면 우리 어려웠던 날들함께 보냈었다면혹시 우린 어땠을까The distance between you and meIt never seems to disappear얼어붙은 나의 말들과 너만약에 우리 우연히다시 또 만난다면만약에 내가 널 위해조금 달라진다면우리가 헤어져야만 했던 이유도I would try try try안아줄 수 있을까조금은 다른기억의 조각들하지만 꼭 닮은그리움의 마음들은Only if youIf you comeThe distance between you and meIt never seems to disappear멈춰버린 우리 추억과 너만약에 우리 우연히다시 또 만난다면만약에 내가 널 위해조금 달라진다면우리가 헤어져야만 했던 이유도I would try try try안아줄 수 있을까눈을 뜨면 혹시 니가 서 있을까어느 날 상상도 했어한 번도 내게 해주지 않았던 말그저 너니까 좋은 거라고 ohTell me wheneverI’ll be wherever you areOnly if you come',\n",
       " '33248758': '아득한 시간 속에 아직우리 사랑이 남아있을까멀어지던 그날의 너를 따라 걸어도텅 빈 거리엔 미움만너의 흔적을 마주칠 때마다익숙함 속에 떠나보내던소중했던 모든 날들은후회로 남아이렇게 또 내게 다가오나 봐멍하니 혼자 남아나도 모르게 널 그리워하다떠오르는 네 생각에 하루를 살아선명했던 우리의추억은 만남보다 이별에 남아여전히 너를 사랑하게 하나 봐그날처럼저녁 빛에 밤이 물들면길게 늘어진 그림자처럼흩어질 듯 더 커져가는 너의 모습은아직도 내 안에 가득한가 봐멍하니 혼자 남아나도 모르게 널 그리워하다떠오르는 네 생각에 하루를 살아선명했던 우리의추억은 만남보다 이별에 남아여전히 너를사랑하고 있나 봐 바보처럼흩날리는 기억의 모든 순간마다 너를매일 이렇게 불러본다꼭 한 번쯤 너에게 해주고 싶었던 말너무 사랑했다고다시는 너를 떠나지 않겠다고여전히 너를 사랑하고 있다고그날 보다'}"
      ]
     },
     "execution_count": 23,
     "metadata": {},
     "output_type": "execute_result"
    }
   ],
   "source": [
    "lyrics_dict"
   ]
  },
  {
   "cell_type": "code",
   "execution_count": 28,
   "id": "058e659a-5b6e-4e96-9dde-2c211162fdf3",
   "metadata": {},
   "outputs": [],
   "source": [
    "# CSV 파일 경로\n",
    "csv_filename = \"lyrics_data.csv\"\n",
    "\n",
    "# CSV 파일로 데이터 저장\n",
    "with open(csv_filename, mode='w', newline='', encoding='utf-8') as csv_file:\n",
    "    fieldnames = ['Song_ID', 'Lyrics']\n",
    "    writer = csv.DictWriter(csv_file, fieldnames=fieldnames)\n",
    "\n",
    "    # CSV 파일의 헤더 작성\n",
    "    writer.writeheader()\n",
    "\n",
    "    # 딕셔너리 데이터를 CSV 파일에 작성\n",
    "    for song_id, lyrics in lyrics_dict.items():\n",
    "        writer.writerow({'Song_ID': song_id, 'Lyrics': lyrics})\n"
   ]
  },
  {
   "cell_type": "markdown",
   "id": "27be9cc5-675d-4373-811e-f49e1ad6f901",
   "metadata": {},
   "source": [
    "### 앨범 정보에서 장르, 발매사, 기획사, 발매일 가져오기"
   ]
  },
  {
   "cell_type": "code",
   "execution_count": 8,
   "id": "9e0db36d-86b1-4d0e-afb1-0a2cb6d2a5c2",
   "metadata": {},
   "outputs": [],
   "source": [
    "# 장르: genre\n",
    "# 발매일: release_date\n",
    "# 발매사: publisher\n",
    "# 기획사: agency\n",
    "\n",
    "def make_album_info_dict(albumIdList):\n",
    "    all_dict = {}\n",
    "    headers ={'User-Agent' : 'Mozilla/5.0 (Windows NT 10.0; Win64; x64) AppleWebKit/537.36 (KHTML, like Gecko) Chrome/117.0.0.0 Safari/537.36'}\n",
    "    \n",
    "    for albumId in albumIdList:\n",
    "        url = f\"https://www.melon.com/album/detail.htm?albumId={albumId}\"\n",
    "        res = requests.get(url, headers = headers)\n",
    "        \n",
    "        # 성공일 경우\n",
    "        if res.status_code == 200:\n",
    "            one_dict = {} \n",
    "            \n",
    "            text = res.text\n",
    "        \n",
    "            bs = BeautifulSoup(res.text, 'html.parser')\n",
    "            # lyrics 가사\n",
    "            # song_name 가수명\n",
    "            # artist 아티스트명\n",
    "            geted_lst = bs.select_one(\".list\").text\n",
    "            geted_lst= geted_lst.split()\n",
    "        \n",
    "            release_date = geted_lst[1]\n",
    "            genre = geted_lst[3]\n",
    "            publisher = geted_lst[5]\n",
    "            agency = geted_lst[7]\n",
    "        \n",
    "            one_dict['release_date'] = release_date\n",
    "            one_dict['genre'] = genre\n",
    "            one_dict['publisher'] = publisher\n",
    "            one_dict['agency'] = agency\n",
    "            all_dict[albumId] = one_dict\n",
    "        \n",
    "        time.sleep(0.3)\n",
    "    \n",
    "    return all_dict"
   ]
  },
  {
   "cell_type": "code",
   "execution_count": 9,
   "id": "ebd0f00e-ee4d-4eda-b17d-4547ff184741",
   "metadata": {},
   "outputs": [],
   "source": [
    "albumIdList = ['10909179', '10890384']\n",
    "albumId = '10909179'"
   ]
  },
  {
   "cell_type": "code",
   "execution_count": 10,
   "id": "adec2e61-28e4-4b83-839d-2423b92f7ab7",
   "metadata": {},
   "outputs": [],
   "source": [
    "album_info_dict = make_album_info_dict(albumIdList)"
   ]
  },
  {
   "cell_type": "code",
   "execution_count": 11,
   "id": "58a03ab6-05a3-449d-9b4d-6224d9c34221",
   "metadata": {},
   "outputs": [
    {
     "data": {
      "text/plain": [
       "{'10909179': {'release_date': '2022.04.05',\n",
       "  'genre': '댄스',\n",
       "  'publisher': '카카오엔터테인먼트',\n",
       "  'agency': '스타쉽엔터테인먼트'},\n",
       " '10890384': {'release_date': '2022.03.14',\n",
       "  'genre': '록/메탈,',\n",
       "  'publisher': '댄스,',\n",
       "  'agency': '발매사'}}"
      ]
     },
     "execution_count": 11,
     "metadata": {},
     "output_type": "execute_result"
    }
   ],
   "source": [
    "album_info_dict"
   ]
  },
  {
   "cell_type": "code",
   "execution_count": 12,
   "id": "6f611c0e-62a4-42e4-a3ce-774a7e691f36",
   "metadata": {},
   "outputs": [
    {
     "data": {
      "text/plain": [
       "{'release_date': '2022.04.05',\n",
       " 'genre': '댄스',\n",
       " 'publisher': '카카오엔터테인먼트',\n",
       " 'agency': '스타쉽엔터테인먼트'}"
      ]
     },
     "execution_count": 12,
     "metadata": {},
     "output_type": "execute_result"
    }
   ],
   "source": [
    "album_info_dict['10909179']"
   ]
  },
  {
   "cell_type": "code",
   "execution_count": 13,
   "id": "c3afb3ab-cddf-49d6-8e2a-ed694ea4c671",
   "metadata": {},
   "outputs": [
    {
     "data": {
      "text/plain": [
       "{'release_date': '2022.03.14',\n",
       " 'genre': '록/메탈,',\n",
       " 'publisher': '댄스,',\n",
       " 'agency': '발매사'}"
      ]
     },
     "execution_count": 13,
     "metadata": {},
     "output_type": "execute_result"
    }
   ],
   "source": [
    "album_info_dict['10890384']"
   ]
  },
  {
   "cell_type": "code",
   "execution_count": null,
   "id": "e8ec7aff-72c4-4a2c-b840-d3a908e99093",
   "metadata": {},
   "outputs": [],
   "source": []
  }
 ],
 "metadata": {
  "kernelspec": {
   "display_name": "Python 3 (ipykernel)",
   "language": "python",
   "name": "python3"
  },
  "language_info": {
   "codemirror_mode": {
    "name": "ipython",
    "version": 3
   },
   "file_extension": ".py",
   "mimetype": "text/x-python",
   "name": "python",
   "nbconvert_exporter": "python",
   "pygments_lexer": "ipython3",
   "version": "3.11.4"
  }
 },
 "nbformat": 4,
 "nbformat_minor": 5
}
