{
  "nbformat": 4,
  "nbformat_minor": 0,
  "metadata": {
    "colab": {
      "provenance": []
    },
    "kernelspec": {
      "name": "python3",
      "display_name": "Python 3"
    },
    "language_info": {
      "name": "python"
    }
  },
  "cells": [
    {
      "cell_type": "markdown",
      "source": [
        "*   실행환경: 구글 코랩\n",
        "*   작성일: 230929\n",
        "*   작성자: 이혜원\n",
        "\n"
      ],
      "metadata": {
        "id": "Ix4kIzaTS_zD"
      }
    },
    {
      "cell_type": "markdown",
      "source": [
        "### 라이브러리 설치, 불러오기"
      ],
      "metadata": {
        "id": "W5MmuQTbWA0C"
      }
    },
    {
      "cell_type": "code",
      "source": [
        "!pip install konlpy\n",
        "!pip install mecab-python\n",
        "!bash <(curl -s https://raw.githubusercontent.com/konlpy/konlpy/master/scripts/mecab.sh)"
      ],
      "metadata": {
        "id": "020FgIW6OmRc"
      },
      "execution_count": null,
      "outputs": []
    },
    {
      "cell_type": "code",
      "execution_count": 20,
      "metadata": {
        "id": "UZ9kbvzfGA0p"
      },
      "outputs": [],
      "source": [
        "#라이브러리 불러오기\n",
        "import pandas as pd\n",
        "import re\n",
        "from konlpy.tag import Mecab"
      ]
    },
    {
      "cell_type": "markdown",
      "source": [
        "### 데이터 불러오기"
      ],
      "metadata": {
        "id": "0cxtt5rWWDGh"
      }
    },
    {
      "cell_type": "code",
      "source": [
        "song_df = pd.read_csv('가사.csv')\n",
        "rank_df = pd.read_csv('순위.csv')\n",
        "info_df = pd.read_csv('앨범정보.csv')"
      ],
      "metadata": {
        "id": "FDPglOa7GIuN"
      },
      "execution_count": 2,
      "outputs": []
    },
    {
      "cell_type": "markdown",
      "source": [
        "### 사용자 함수 정의하기"
      ],
      "metadata": {
        "id": "FrK0MIG8WHG-"
      }
    },
    {
      "cell_type": "code",
      "source": [
        "# 가사 전처리\n",
        "def preprocess(sentences):\n",
        "    lst = []\n",
        "    for sentence in sentences:\n",
        "        # 한국어, 공백 빼고 제거하기'\n",
        "        sentence = re.sub('[^ㄱ-ㅎ가-힣\\s]+', '', sentence)\n",
        "\n",
        "        lst.append(sentence)\n",
        "    return lst"
      ],
      "metadata": {
        "id": "3tzHPSoJMCOr"
      },
      "execution_count": 37,
      "outputs": []
    },
    {
      "cell_type": "code",
      "source": [
        "# 형태소 분석기 mecab을 사용한 토큰화 작업 (다소 시간 소요)\n",
        "def tokenize(sentences):\n",
        "    mecab = Mecab()\n",
        "    tokenized_data = []\n",
        "    for sentence in sentences:\n",
        "        temp_X = mecab.morphs(sentence)\n",
        "        temp_X = [word for word in temp_X]\n",
        "        tokenized_data.append(temp_X)\n",
        "    return tokenized_data"
      ],
      "metadata": {
        "id": "pqCsfTWHRDh-"
      },
      "execution_count": 45,
      "outputs": []
    },
    {
      "cell_type": "markdown",
      "source": [
        "### 전처리"
      ],
      "metadata": {
        "id": "9gmkOBWQWKEl"
      }
    },
    {
      "cell_type": "code",
      "source": [
        "lyrics_lst = song_df['Lyrics']"
      ],
      "metadata": {
        "id": "9h2X4-08HhKZ"
      },
      "execution_count": 12,
      "outputs": []
    },
    {
      "cell_type": "code",
      "source": [
        "tmp = lyrics_lst[:2]\n",
        "tmp"
      ],
      "metadata": {
        "colab": {
          "base_uri": "https://localhost:8080/"
        },
        "id": "GeKJrBw-RoBx",
        "outputId": "fcf67114-8e70-432f-cb5c-6d6eed3df5b0"
      },
      "execution_count": 97,
      "outputs": [
        {
          "output_type": "execute_result",
          "data": {
            "text/plain": [
              "0    어린 햇살 아래서뛰어놀곤 했었던가쁜 숨결굽이진 골목 지나길을 따라가보면같은 기억어른...\n",
              "1    꽃이 언제 피는지 그딴 게 뭐가 중요한데날씨가 언제 풀리는지 그딴 거 알면 뭐 할 ...\n",
              "Name: Lyrics, dtype: object"
            ]
          },
          "metadata": {},
          "execution_count": 97
        }
      ]
    },
    {
      "cell_type": "code",
      "source": [
        "sentences = preprocess(tmp)\n",
        "tokenize(sentences)"
      ],
      "metadata": {
        "id": "PxsktOD4Py5p"
      },
      "execution_count": null,
      "outputs": []
    },
    {
      "cell_type": "code",
      "source": [
        "# song_id로 rank_df 행 찾기\n",
        "def find_rank_song(song_id):\n",
        "    return rank_df[rank_df['song_id'] ==  song_id]\n",
        "\n",
        "# album_id로 rank_df 행 찾기\n",
        "def find_rank_album(album_id):\n",
        "    return rank_df[rank_df['album_id'] ==  album_id]\n",
        "\n",
        "# album_id로 info_df 행 찾기\n",
        "def find_info_id(album_id):\n",
        "    return info_df[info_df['AlbumID'] == album_id]"
      ],
      "metadata": {
        "id": "QZ2SYRB8SLzs"
      },
      "execution_count": 67,
      "outputs": []
    },
    {
      "cell_type": "code",
      "source": [
        "album_id = find_rank_song(8124417)['album_id'].values[0]\n",
        "#album_id\n",
        "find_info_id(album_id)"
      ],
      "metadata": {
        "colab": {
          "base_uri": "https://localhost:8080/",
          "height": 81
        },
        "id": "IEVa54mvSiwV",
        "outputId": "dd11c5d6-b184-4845-b413-e3db690bb1aa"
      },
      "execution_count": 73,
      "outputs": [
        {
          "output_type": "execute_result",
          "data": {
            "text/plain": [
              "     Unnamed: 0  AlbumID Release_date         Genre Publisher      Agency\n",
              "576          66  2676884   2016.04.01  인디음악, 포크/블루스     포크라노스  매직스트로베리사운드"
            ],
            "text/html": [
              "\n",
              "  <div id=\"df-48853e8d-dd7c-4439-a8bd-45d666ed093f\" class=\"colab-df-container\">\n",
              "    <div>\n",
              "<style scoped>\n",
              "    .dataframe tbody tr th:only-of-type {\n",
              "        vertical-align: middle;\n",
              "    }\n",
              "\n",
              "    .dataframe tbody tr th {\n",
              "        vertical-align: top;\n",
              "    }\n",
              "\n",
              "    .dataframe thead th {\n",
              "        text-align: right;\n",
              "    }\n",
              "</style>\n",
              "<table border=\"1\" class=\"dataframe\">\n",
              "  <thead>\n",
              "    <tr style=\"text-align: right;\">\n",
              "      <th></th>\n",
              "      <th>Unnamed: 0</th>\n",
              "      <th>AlbumID</th>\n",
              "      <th>Release_date</th>\n",
              "      <th>Genre</th>\n",
              "      <th>Publisher</th>\n",
              "      <th>Agency</th>\n",
              "    </tr>\n",
              "  </thead>\n",
              "  <tbody>\n",
              "    <tr>\n",
              "      <th>576</th>\n",
              "      <td>66</td>\n",
              "      <td>2676884</td>\n",
              "      <td>2016.04.01</td>\n",
              "      <td>인디음악, 포크/블루스</td>\n",
              "      <td>포크라노스</td>\n",
              "      <td>매직스트로베리사운드</td>\n",
              "    </tr>\n",
              "  </tbody>\n",
              "</table>\n",
              "</div>\n",
              "    <div class=\"colab-df-buttons\">\n",
              "\n",
              "  <div class=\"colab-df-container\">\n",
              "    <button class=\"colab-df-convert\" onclick=\"convertToInteractive('df-48853e8d-dd7c-4439-a8bd-45d666ed093f')\"\n",
              "            title=\"Convert this dataframe to an interactive table.\"\n",
              "            style=\"display:none;\">\n",
              "\n",
              "  <svg xmlns=\"http://www.w3.org/2000/svg\" height=\"24px\" viewBox=\"0 -960 960 960\">\n",
              "    <path d=\"M120-120v-720h720v720H120Zm60-500h600v-160H180v160Zm220 220h160v-160H400v160Zm0 220h160v-160H400v160ZM180-400h160v-160H180v160Zm440 0h160v-160H620v160ZM180-180h160v-160H180v160Zm440 0h160v-160H620v160Z\"/>\n",
              "  </svg>\n",
              "    </button>\n",
              "\n",
              "  <style>\n",
              "    .colab-df-container {\n",
              "      display:flex;\n",
              "      gap: 12px;\n",
              "    }\n",
              "\n",
              "    .colab-df-convert {\n",
              "      background-color: #E8F0FE;\n",
              "      border: none;\n",
              "      border-radius: 50%;\n",
              "      cursor: pointer;\n",
              "      display: none;\n",
              "      fill: #1967D2;\n",
              "      height: 32px;\n",
              "      padding: 0 0 0 0;\n",
              "      width: 32px;\n",
              "    }\n",
              "\n",
              "    .colab-df-convert:hover {\n",
              "      background-color: #E2EBFA;\n",
              "      box-shadow: 0px 1px 2px rgba(60, 64, 67, 0.3), 0px 1px 3px 1px rgba(60, 64, 67, 0.15);\n",
              "      fill: #174EA6;\n",
              "    }\n",
              "\n",
              "    .colab-df-buttons div {\n",
              "      margin-bottom: 4px;\n",
              "    }\n",
              "\n",
              "    [theme=dark] .colab-df-convert {\n",
              "      background-color: #3B4455;\n",
              "      fill: #D2E3FC;\n",
              "    }\n",
              "\n",
              "    [theme=dark] .colab-df-convert:hover {\n",
              "      background-color: #434B5C;\n",
              "      box-shadow: 0px 1px 3px 1px rgba(0, 0, 0, 0.15);\n",
              "      filter: drop-shadow(0px 1px 2px rgba(0, 0, 0, 0.3));\n",
              "      fill: #FFFFFF;\n",
              "    }\n",
              "  </style>\n",
              "\n",
              "    <script>\n",
              "      const buttonEl =\n",
              "        document.querySelector('#df-48853e8d-dd7c-4439-a8bd-45d666ed093f button.colab-df-convert');\n",
              "      buttonEl.style.display =\n",
              "        google.colab.kernel.accessAllowed ? 'block' : 'none';\n",
              "\n",
              "      async function convertToInteractive(key) {\n",
              "        const element = document.querySelector('#df-48853e8d-dd7c-4439-a8bd-45d666ed093f');\n",
              "        const dataTable =\n",
              "          await google.colab.kernel.invokeFunction('convertToInteractive',\n",
              "                                                    [key], {});\n",
              "        if (!dataTable) return;\n",
              "\n",
              "        const docLinkHtml = 'Like what you see? Visit the ' +\n",
              "          '<a target=\"_blank\" href=https://colab.research.google.com/notebooks/data_table.ipynb>data table notebook</a>'\n",
              "          + ' to learn more about interactive tables.';\n",
              "        element.innerHTML = '';\n",
              "        dataTable['output_type'] = 'display_data';\n",
              "        await google.colab.output.renderOutput(dataTable, element);\n",
              "        const docLink = document.createElement('div');\n",
              "        docLink.innerHTML = docLinkHtml;\n",
              "        element.appendChild(docLink);\n",
              "      }\n",
              "    </script>\n",
              "  </div>\n",
              "\n",
              "    </div>\n",
              "  </div>\n"
            ]
          },
          "metadata": {},
          "execution_count": 73
        }
      ]
    },
    {
      "cell_type": "markdown",
      "source": [
        "### 장르 unique 개수 구하기"
      ],
      "metadata": {
        "id": "AYvsIRlyVEkO"
      }
    },
    {
      "cell_type": "code",
      "source": [
        "unique_lst = info_df['Genre'].unique()\n",
        "print(len(unique_lst))\n",
        "unique_lst[:10]"
      ],
      "metadata": {
        "colab": {
          "base_uri": "https://localhost:8080/"
        },
        "id": "Fk0YcxRlTPMl",
        "outputId": "7f568f39-57e8-4003-ef31-8b11c9cd1e25"
      },
      "execution_count": 94,
      "outputs": [
        {
          "output_type": "stream",
          "name": "stdout",
          "text": [
            "89\n"
          ]
        },
        {
          "output_type": "execute_result",
          "data": {
            "text/plain": [
              "array(['발라드', '록/메탈', '랩/힙합', '댄스, 발라드', 'R&B/Soul', '발라드, 댄스', '댄스',\n",
              "       '댄스, 랩/힙합, 록/메탈', '발라드, 록/메탈, 포크/블루스', '인디음악, 포크/블루스'],\n",
              "      dtype=object)"
            ]
          },
          "metadata": {},
          "execution_count": 94
        }
      ]
    },
    {
      "cell_type": "code",
      "source": [
        "# 한 행의 장르가 '댄스, 랩/힙합, 록/메탈' 로 콤마로 여러개가 표시되어 있는 경우가 있음\n",
        "split_lst = [val.split(', ') for val in unique_lst]"
      ],
      "metadata": {
        "id": "x10UbgGsT7yH"
      },
      "execution_count": 84,
      "outputs": []
    },
    {
      "cell_type": "code",
      "source": [
        "sum_lst = sum(split_lst, [])  # 리스트 내 리스트 합치기\n",
        "genre_lst = list(set(sum_lst))  # 중복 제거\n",
        "print(len(genre_lst))\n",
        "genre_lst"
      ],
      "metadata": {
        "colab": {
          "base_uri": "https://localhost:8080/"
        },
        "id": "PFS1v7AAT_XE",
        "outputId": "d67d86c3-8404-43bd-bebc-658538592311"
      },
      "execution_count": 101,
      "outputs": [
        {
          "output_type": "stream",
          "name": "stdout",
          "text": [
            "14\n"
          ]
        },
        {
          "output_type": "execute_result",
          "data": {
            "text/plain": [
              "['국내드라마',\n",
              " '크로스오버',\n",
              " '재즈',\n",
              " '포크/블루스',\n",
              " '랩/힙합',\n",
              " '애시드/퓨전/팝',\n",
              " '일렉트로니카',\n",
              " '록/메탈',\n",
              " 'R&B/Soul',\n",
              " '인디음악',\n",
              " '성인가요/트로트',\n",
              " '클래식',\n",
              " '댄스',\n",
              " '발라드']"
            ]
          },
          "metadata": {},
          "execution_count": 101
        }
      ]
    },
    {
      "cell_type": "code",
      "source": [
        "# 한 노래의 장르가 여러개일 경우 어떻게 처리하지?\n",
        "# 예측할 때 하나라도 맞추면 맞았다고 해야하는지?\n",
        "# 다중 레이블 분류 찾아보기"
      ],
      "metadata": {
        "id": "p9TwJtRKU9QA"
      },
      "execution_count": null,
      "outputs": []
    }
  ]
}