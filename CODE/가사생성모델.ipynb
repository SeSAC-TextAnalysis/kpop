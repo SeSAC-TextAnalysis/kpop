{
  "nbformat": 4,
  "nbformat_minor": 0,
  "metadata": {
    "colab": {
      "provenance": [],
      "collapsed_sections": [
        "2qxHZoXqnAFo",
        "8nrxO5MkWiPZ",
        "KwdOP4CbWkXo",
        "JM-u4vsQWu3p",
        "84KQfGyJWcvZ",
        "5UXzKbZFVieO",
        "0k3kby7qfO7K"
      ],
      "gpuType": "T4"
    },
    "kernelspec": {
      "name": "python3",
      "display_name": "Python 3"
    },
    "language_info": {
      "name": "python"
    },
    "widgets": {
      "application/vnd.jupyter.widget-state+json": {
        "2483ab0ed34446f38d99113d86277b60": {
          "model_module": "@jupyter-widgets/controls",
          "model_name": "HBoxModel",
          "model_module_version": "1.5.0",
          "state": {
            "_dom_classes": [],
            "_model_module": "@jupyter-widgets/controls",
            "_model_module_version": "1.5.0",
            "_model_name": "HBoxModel",
            "_view_count": null,
            "_view_module": "@jupyter-widgets/controls",
            "_view_module_version": "1.5.0",
            "_view_name": "HBoxView",
            "box_style": "",
            "children": [
              "IPY_MODEL_f7e43b92c5d042229417a833596b1fc1",
              "IPY_MODEL_0d692a64448245aabc00297eadc6c7c9",
              "IPY_MODEL_ee94037e6e1c44a3a853fc4417c233cb"
            ],
            "layout": "IPY_MODEL_ac2db7c497454860bcc3bd777fbfe0c5"
          }
        },
        "f7e43b92c5d042229417a833596b1fc1": {
          "model_module": "@jupyter-widgets/controls",
          "model_name": "HTMLModel",
          "model_module_version": "1.5.0",
          "state": {
            "_dom_classes": [],
            "_model_module": "@jupyter-widgets/controls",
            "_model_module_version": "1.5.0",
            "_model_name": "HTMLModel",
            "_view_count": null,
            "_view_module": "@jupyter-widgets/controls",
            "_view_module_version": "1.5.0",
            "_view_name": "HTMLView",
            "description": "",
            "description_tooltip": null,
            "layout": "IPY_MODEL_176f71aecc074682bd01c383886048df",
            "placeholder": "​",
            "style": "IPY_MODEL_c4a258f9527d4882bc5b02b4dc8a30a4",
            "value": "Downloading (…)/main/tokenizer.json: 100%"
          }
        },
        "0d692a64448245aabc00297eadc6c7c9": {
          "model_module": "@jupyter-widgets/controls",
          "model_name": "FloatProgressModel",
          "model_module_version": "1.5.0",
          "state": {
            "_dom_classes": [],
            "_model_module": "@jupyter-widgets/controls",
            "_model_module_version": "1.5.0",
            "_model_name": "FloatProgressModel",
            "_view_count": null,
            "_view_module": "@jupyter-widgets/controls",
            "_view_module_version": "1.5.0",
            "_view_name": "ProgressView",
            "bar_style": "success",
            "description": "",
            "description_tooltip": null,
            "layout": "IPY_MODEL_5e735c1b15eb4e8aa111d67157e01a2a",
            "max": 2825034,
            "min": 0,
            "orientation": "horizontal",
            "style": "IPY_MODEL_aeda9c9edae8412bb7ef65fa927dd516",
            "value": 2825034
          }
        },
        "ee94037e6e1c44a3a853fc4417c233cb": {
          "model_module": "@jupyter-widgets/controls",
          "model_name": "HTMLModel",
          "model_module_version": "1.5.0",
          "state": {
            "_dom_classes": [],
            "_model_module": "@jupyter-widgets/controls",
            "_model_module_version": "1.5.0",
            "_model_name": "HTMLModel",
            "_view_count": null,
            "_view_module": "@jupyter-widgets/controls",
            "_view_module_version": "1.5.0",
            "_view_name": "HTMLView",
            "description": "",
            "description_tooltip": null,
            "layout": "IPY_MODEL_7dbcc8856ee842d8ad877b697df18fa1",
            "placeholder": "​",
            "style": "IPY_MODEL_4f211cdbfc194750b74a9698455b2a9a",
            "value": " 2.83M/2.83M [00:00&lt;00:00, 11.7MB/s]"
          }
        },
        "ac2db7c497454860bcc3bd777fbfe0c5": {
          "model_module": "@jupyter-widgets/base",
          "model_name": "LayoutModel",
          "model_module_version": "1.2.0",
          "state": {
            "_model_module": "@jupyter-widgets/base",
            "_model_module_version": "1.2.0",
            "_model_name": "LayoutModel",
            "_view_count": null,
            "_view_module": "@jupyter-widgets/base",
            "_view_module_version": "1.2.0",
            "_view_name": "LayoutView",
            "align_content": null,
            "align_items": null,
            "align_self": null,
            "border": null,
            "bottom": null,
            "display": null,
            "flex": null,
            "flex_flow": null,
            "grid_area": null,
            "grid_auto_columns": null,
            "grid_auto_flow": null,
            "grid_auto_rows": null,
            "grid_column": null,
            "grid_gap": null,
            "grid_row": null,
            "grid_template_areas": null,
            "grid_template_columns": null,
            "grid_template_rows": null,
            "height": null,
            "justify_content": null,
            "justify_items": null,
            "left": null,
            "margin": null,
            "max_height": null,
            "max_width": null,
            "min_height": null,
            "min_width": null,
            "object_fit": null,
            "object_position": null,
            "order": null,
            "overflow": null,
            "overflow_x": null,
            "overflow_y": null,
            "padding": null,
            "right": null,
            "top": null,
            "visibility": null,
            "width": null
          }
        },
        "176f71aecc074682bd01c383886048df": {
          "model_module": "@jupyter-widgets/base",
          "model_name": "LayoutModel",
          "model_module_version": "1.2.0",
          "state": {
            "_model_module": "@jupyter-widgets/base",
            "_model_module_version": "1.2.0",
            "_model_name": "LayoutModel",
            "_view_count": null,
            "_view_module": "@jupyter-widgets/base",
            "_view_module_version": "1.2.0",
            "_view_name": "LayoutView",
            "align_content": null,
            "align_items": null,
            "align_self": null,
            "border": null,
            "bottom": null,
            "display": null,
            "flex": null,
            "flex_flow": null,
            "grid_area": null,
            "grid_auto_columns": null,
            "grid_auto_flow": null,
            "grid_auto_rows": null,
            "grid_column": null,
            "grid_gap": null,
            "grid_row": null,
            "grid_template_areas": null,
            "grid_template_columns": null,
            "grid_template_rows": null,
            "height": null,
            "justify_content": null,
            "justify_items": null,
            "left": null,
            "margin": null,
            "max_height": null,
            "max_width": null,
            "min_height": null,
            "min_width": null,
            "object_fit": null,
            "object_position": null,
            "order": null,
            "overflow": null,
            "overflow_x": null,
            "overflow_y": null,
            "padding": null,
            "right": null,
            "top": null,
            "visibility": null,
            "width": null
          }
        },
        "c4a258f9527d4882bc5b02b4dc8a30a4": {
          "model_module": "@jupyter-widgets/controls",
          "model_name": "DescriptionStyleModel",
          "model_module_version": "1.5.0",
          "state": {
            "_model_module": "@jupyter-widgets/controls",
            "_model_module_version": "1.5.0",
            "_model_name": "DescriptionStyleModel",
            "_view_count": null,
            "_view_module": "@jupyter-widgets/base",
            "_view_module_version": "1.2.0",
            "_view_name": "StyleView",
            "description_width": ""
          }
        },
        "5e735c1b15eb4e8aa111d67157e01a2a": {
          "model_module": "@jupyter-widgets/base",
          "model_name": "LayoutModel",
          "model_module_version": "1.2.0",
          "state": {
            "_model_module": "@jupyter-widgets/base",
            "_model_module_version": "1.2.0",
            "_model_name": "LayoutModel",
            "_view_count": null,
            "_view_module": "@jupyter-widgets/base",
            "_view_module_version": "1.2.0",
            "_view_name": "LayoutView",
            "align_content": null,
            "align_items": null,
            "align_self": null,
            "border": null,
            "bottom": null,
            "display": null,
            "flex": null,
            "flex_flow": null,
            "grid_area": null,
            "grid_auto_columns": null,
            "grid_auto_flow": null,
            "grid_auto_rows": null,
            "grid_column": null,
            "grid_gap": null,
            "grid_row": null,
            "grid_template_areas": null,
            "grid_template_columns": null,
            "grid_template_rows": null,
            "height": null,
            "justify_content": null,
            "justify_items": null,
            "left": null,
            "margin": null,
            "max_height": null,
            "max_width": null,
            "min_height": null,
            "min_width": null,
            "object_fit": null,
            "object_position": null,
            "order": null,
            "overflow": null,
            "overflow_x": null,
            "overflow_y": null,
            "padding": null,
            "right": null,
            "top": null,
            "visibility": null,
            "width": null
          }
        },
        "aeda9c9edae8412bb7ef65fa927dd516": {
          "model_module": "@jupyter-widgets/controls",
          "model_name": "ProgressStyleModel",
          "model_module_version": "1.5.0",
          "state": {
            "_model_module": "@jupyter-widgets/controls",
            "_model_module_version": "1.5.0",
            "_model_name": "ProgressStyleModel",
            "_view_count": null,
            "_view_module": "@jupyter-widgets/base",
            "_view_module_version": "1.2.0",
            "_view_name": "StyleView",
            "bar_color": null,
            "description_width": ""
          }
        },
        "7dbcc8856ee842d8ad877b697df18fa1": {
          "model_module": "@jupyter-widgets/base",
          "model_name": "LayoutModel",
          "model_module_version": "1.2.0",
          "state": {
            "_model_module": "@jupyter-widgets/base",
            "_model_module_version": "1.2.0",
            "_model_name": "LayoutModel",
            "_view_count": null,
            "_view_module": "@jupyter-widgets/base",
            "_view_module_version": "1.2.0",
            "_view_name": "LayoutView",
            "align_content": null,
            "align_items": null,
            "align_self": null,
            "border": null,
            "bottom": null,
            "display": null,
            "flex": null,
            "flex_flow": null,
            "grid_area": null,
            "grid_auto_columns": null,
            "grid_auto_flow": null,
            "grid_auto_rows": null,
            "grid_column": null,
            "grid_gap": null,
            "grid_row": null,
            "grid_template_areas": null,
            "grid_template_columns": null,
            "grid_template_rows": null,
            "height": null,
            "justify_content": null,
            "justify_items": null,
            "left": null,
            "margin": null,
            "max_height": null,
            "max_width": null,
            "min_height": null,
            "min_width": null,
            "object_fit": null,
            "object_position": null,
            "order": null,
            "overflow": null,
            "overflow_x": null,
            "overflow_y": null,
            "padding": null,
            "right": null,
            "top": null,
            "visibility": null,
            "width": null
          }
        },
        "4f211cdbfc194750b74a9698455b2a9a": {
          "model_module": "@jupyter-widgets/controls",
          "model_name": "DescriptionStyleModel",
          "model_module_version": "1.5.0",
          "state": {
            "_model_module": "@jupyter-widgets/controls",
            "_model_module_version": "1.5.0",
            "_model_name": "DescriptionStyleModel",
            "_view_count": null,
            "_view_module": "@jupyter-widgets/base",
            "_view_module_version": "1.2.0",
            "_view_name": "StyleView",
            "description_width": ""
          }
        },
        "e93f3fb06a414ca1a91c9b6d2e3f8d9e": {
          "model_module": "@jupyter-widgets/controls",
          "model_name": "HBoxModel",
          "model_module_version": "1.5.0",
          "state": {
            "_dom_classes": [],
            "_model_module": "@jupyter-widgets/controls",
            "_model_module_version": "1.5.0",
            "_model_name": "HBoxModel",
            "_view_count": null,
            "_view_module": "@jupyter-widgets/controls",
            "_view_module_version": "1.5.0",
            "_view_name": "HBoxView",
            "box_style": "",
            "children": [
              "IPY_MODEL_0599075812a042a7b8058c3587824b3b",
              "IPY_MODEL_1353434e8c0242a6ae44850860471ea8",
              "IPY_MODEL_defeaf9fbebf49458b74c07b71eeb069"
            ],
            "layout": "IPY_MODEL_30922d45a28444e7bbe9314d93923cd6"
          }
        },
        "0599075812a042a7b8058c3587824b3b": {
          "model_module": "@jupyter-widgets/controls",
          "model_name": "HTMLModel",
          "model_module_version": "1.5.0",
          "state": {
            "_dom_classes": [],
            "_model_module": "@jupyter-widgets/controls",
            "_model_module_version": "1.5.0",
            "_model_name": "HTMLModel",
            "_view_count": null,
            "_view_module": "@jupyter-widgets/controls",
            "_view_module_version": "1.5.0",
            "_view_name": "HTMLView",
            "description": "",
            "description_tooltip": null,
            "layout": "IPY_MODEL_ea6c2a94af2342039bbb21e38de9a360",
            "placeholder": "​",
            "style": "IPY_MODEL_c0e422b840624784be07f6c6e9b99a19",
            "value": "Downloading (…)lve/main/config.json: 100%"
          }
        },
        "1353434e8c0242a6ae44850860471ea8": {
          "model_module": "@jupyter-widgets/controls",
          "model_name": "FloatProgressModel",
          "model_module_version": "1.5.0",
          "state": {
            "_dom_classes": [],
            "_model_module": "@jupyter-widgets/controls",
            "_model_module_version": "1.5.0",
            "_model_name": "FloatProgressModel",
            "_view_count": null,
            "_view_module": "@jupyter-widgets/controls",
            "_view_module_version": "1.5.0",
            "_view_name": "ProgressView",
            "bar_style": "success",
            "description": "",
            "description_tooltip": null,
            "layout": "IPY_MODEL_355ab8e72a54460d928a3c71caae1359",
            "max": 1000,
            "min": 0,
            "orientation": "horizontal",
            "style": "IPY_MODEL_f21a729d9fa444bf84ca3869d447b77b",
            "value": 1000
          }
        },
        "defeaf9fbebf49458b74c07b71eeb069": {
          "model_module": "@jupyter-widgets/controls",
          "model_name": "HTMLModel",
          "model_module_version": "1.5.0",
          "state": {
            "_dom_classes": [],
            "_model_module": "@jupyter-widgets/controls",
            "_model_module_version": "1.5.0",
            "_model_name": "HTMLModel",
            "_view_count": null,
            "_view_module": "@jupyter-widgets/controls",
            "_view_module_version": "1.5.0",
            "_view_name": "HTMLView",
            "description": "",
            "description_tooltip": null,
            "layout": "IPY_MODEL_824faea2c283477589a8675b288d70d5",
            "placeholder": "​",
            "style": "IPY_MODEL_2083dbb41d9045188dc78e931015995e",
            "value": " 1.00k/1.00k [00:00&lt;00:00, 66.6kB/s]"
          }
        },
        "30922d45a28444e7bbe9314d93923cd6": {
          "model_module": "@jupyter-widgets/base",
          "model_name": "LayoutModel",
          "model_module_version": "1.2.0",
          "state": {
            "_model_module": "@jupyter-widgets/base",
            "_model_module_version": "1.2.0",
            "_model_name": "LayoutModel",
            "_view_count": null,
            "_view_module": "@jupyter-widgets/base",
            "_view_module_version": "1.2.0",
            "_view_name": "LayoutView",
            "align_content": null,
            "align_items": null,
            "align_self": null,
            "border": null,
            "bottom": null,
            "display": null,
            "flex": null,
            "flex_flow": null,
            "grid_area": null,
            "grid_auto_columns": null,
            "grid_auto_flow": null,
            "grid_auto_rows": null,
            "grid_column": null,
            "grid_gap": null,
            "grid_row": null,
            "grid_template_areas": null,
            "grid_template_columns": null,
            "grid_template_rows": null,
            "height": null,
            "justify_content": null,
            "justify_items": null,
            "left": null,
            "margin": null,
            "max_height": null,
            "max_width": null,
            "min_height": null,
            "min_width": null,
            "object_fit": null,
            "object_position": null,
            "order": null,
            "overflow": null,
            "overflow_x": null,
            "overflow_y": null,
            "padding": null,
            "right": null,
            "top": null,
            "visibility": null,
            "width": null
          }
        },
        "ea6c2a94af2342039bbb21e38de9a360": {
          "model_module": "@jupyter-widgets/base",
          "model_name": "LayoutModel",
          "model_module_version": "1.2.0",
          "state": {
            "_model_module": "@jupyter-widgets/base",
            "_model_module_version": "1.2.0",
            "_model_name": "LayoutModel",
            "_view_count": null,
            "_view_module": "@jupyter-widgets/base",
            "_view_module_version": "1.2.0",
            "_view_name": "LayoutView",
            "align_content": null,
            "align_items": null,
            "align_self": null,
            "border": null,
            "bottom": null,
            "display": null,
            "flex": null,
            "flex_flow": null,
            "grid_area": null,
            "grid_auto_columns": null,
            "grid_auto_flow": null,
            "grid_auto_rows": null,
            "grid_column": null,
            "grid_gap": null,
            "grid_row": null,
            "grid_template_areas": null,
            "grid_template_columns": null,
            "grid_template_rows": null,
            "height": null,
            "justify_content": null,
            "justify_items": null,
            "left": null,
            "margin": null,
            "max_height": null,
            "max_width": null,
            "min_height": null,
            "min_width": null,
            "object_fit": null,
            "object_position": null,
            "order": null,
            "overflow": null,
            "overflow_x": null,
            "overflow_y": null,
            "padding": null,
            "right": null,
            "top": null,
            "visibility": null,
            "width": null
          }
        },
        "c0e422b840624784be07f6c6e9b99a19": {
          "model_module": "@jupyter-widgets/controls",
          "model_name": "DescriptionStyleModel",
          "model_module_version": "1.5.0",
          "state": {
            "_model_module": "@jupyter-widgets/controls",
            "_model_module_version": "1.5.0",
            "_model_name": "DescriptionStyleModel",
            "_view_count": null,
            "_view_module": "@jupyter-widgets/base",
            "_view_module_version": "1.2.0",
            "_view_name": "StyleView",
            "description_width": ""
          }
        },
        "355ab8e72a54460d928a3c71caae1359": {
          "model_module": "@jupyter-widgets/base",
          "model_name": "LayoutModel",
          "model_module_version": "1.2.0",
          "state": {
            "_model_module": "@jupyter-widgets/base",
            "_model_module_version": "1.2.0",
            "_model_name": "LayoutModel",
            "_view_count": null,
            "_view_module": "@jupyter-widgets/base",
            "_view_module_version": "1.2.0",
            "_view_name": "LayoutView",
            "align_content": null,
            "align_items": null,
            "align_self": null,
            "border": null,
            "bottom": null,
            "display": null,
            "flex": null,
            "flex_flow": null,
            "grid_area": null,
            "grid_auto_columns": null,
            "grid_auto_flow": null,
            "grid_auto_rows": null,
            "grid_column": null,
            "grid_gap": null,
            "grid_row": null,
            "grid_template_areas": null,
            "grid_template_columns": null,
            "grid_template_rows": null,
            "height": null,
            "justify_content": null,
            "justify_items": null,
            "left": null,
            "margin": null,
            "max_height": null,
            "max_width": null,
            "min_height": null,
            "min_width": null,
            "object_fit": null,
            "object_position": null,
            "order": null,
            "overflow": null,
            "overflow_x": null,
            "overflow_y": null,
            "padding": null,
            "right": null,
            "top": null,
            "visibility": null,
            "width": null
          }
        },
        "f21a729d9fa444bf84ca3869d447b77b": {
          "model_module": "@jupyter-widgets/controls",
          "model_name": "ProgressStyleModel",
          "model_module_version": "1.5.0",
          "state": {
            "_model_module": "@jupyter-widgets/controls",
            "_model_module_version": "1.5.0",
            "_model_name": "ProgressStyleModel",
            "_view_count": null,
            "_view_module": "@jupyter-widgets/base",
            "_view_module_version": "1.2.0",
            "_view_name": "StyleView",
            "bar_color": null,
            "description_width": ""
          }
        },
        "824faea2c283477589a8675b288d70d5": {
          "model_module": "@jupyter-widgets/base",
          "model_name": "LayoutModel",
          "model_module_version": "1.2.0",
          "state": {
            "_model_module": "@jupyter-widgets/base",
            "_model_module_version": "1.2.0",
            "_model_name": "LayoutModel",
            "_view_count": null,
            "_view_module": "@jupyter-widgets/base",
            "_view_module_version": "1.2.0",
            "_view_name": "LayoutView",
            "align_content": null,
            "align_items": null,
            "align_self": null,
            "border": null,
            "bottom": null,
            "display": null,
            "flex": null,
            "flex_flow": null,
            "grid_area": null,
            "grid_auto_columns": null,
            "grid_auto_flow": null,
            "grid_auto_rows": null,
            "grid_column": null,
            "grid_gap": null,
            "grid_row": null,
            "grid_template_areas": null,
            "grid_template_columns": null,
            "grid_template_rows": null,
            "height": null,
            "justify_content": null,
            "justify_items": null,
            "left": null,
            "margin": null,
            "max_height": null,
            "max_width": null,
            "min_height": null,
            "min_width": null,
            "object_fit": null,
            "object_position": null,
            "order": null,
            "overflow": null,
            "overflow_x": null,
            "overflow_y": null,
            "padding": null,
            "right": null,
            "top": null,
            "visibility": null,
            "width": null
          }
        },
        "2083dbb41d9045188dc78e931015995e": {
          "model_module": "@jupyter-widgets/controls",
          "model_name": "DescriptionStyleModel",
          "model_module_version": "1.5.0",
          "state": {
            "_model_module": "@jupyter-widgets/controls",
            "_model_module_version": "1.5.0",
            "_model_name": "DescriptionStyleModel",
            "_view_count": null,
            "_view_module": "@jupyter-widgets/base",
            "_view_module_version": "1.2.0",
            "_view_name": "StyleView",
            "description_width": ""
          }
        },
        "249017fc9c8d4ba9b740cfd50f068750": {
          "model_module": "@jupyter-widgets/controls",
          "model_name": "HBoxModel",
          "model_module_version": "1.5.0",
          "state": {
            "_dom_classes": [],
            "_model_module": "@jupyter-widgets/controls",
            "_model_module_version": "1.5.0",
            "_model_name": "HBoxModel",
            "_view_count": null,
            "_view_module": "@jupyter-widgets/controls",
            "_view_module_version": "1.5.0",
            "_view_name": "HBoxView",
            "box_style": "",
            "children": [
              "IPY_MODEL_90a7b823b8e245fd933556eb86ab29f1",
              "IPY_MODEL_14998f1a8e6f477985405f03e1150605",
              "IPY_MODEL_a64b468950ac4b29820af2d9d9534561"
            ],
            "layout": "IPY_MODEL_d21d1b8190a2414786055a3a2bb5282b"
          }
        },
        "90a7b823b8e245fd933556eb86ab29f1": {
          "model_module": "@jupyter-widgets/controls",
          "model_name": "HTMLModel",
          "model_module_version": "1.5.0",
          "state": {
            "_dom_classes": [],
            "_model_module": "@jupyter-widgets/controls",
            "_model_module_version": "1.5.0",
            "_model_name": "HTMLModel",
            "_view_count": null,
            "_view_module": "@jupyter-widgets/controls",
            "_view_module_version": "1.5.0",
            "_view_name": "HTMLView",
            "description": "",
            "description_tooltip": null,
            "layout": "IPY_MODEL_19ab24b121e94889987fa263388e8be5",
            "placeholder": "​",
            "style": "IPY_MODEL_c786abd571684f54ae4f911af467b4c0",
            "value": "Downloading pytorch_model.bin: 100%"
          }
        },
        "14998f1a8e6f477985405f03e1150605": {
          "model_module": "@jupyter-widgets/controls",
          "model_name": "FloatProgressModel",
          "model_module_version": "1.5.0",
          "state": {
            "_dom_classes": [],
            "_model_module": "@jupyter-widgets/controls",
            "_model_module_version": "1.5.0",
            "_model_name": "FloatProgressModel",
            "_view_count": null,
            "_view_module": "@jupyter-widgets/controls",
            "_view_module_version": "1.5.0",
            "_view_name": "ProgressView",
            "bar_style": "success",
            "description": "",
            "description_tooltip": null,
            "layout": "IPY_MODEL_ef464ca69a704f8894541c77681f91fb",
            "max": 513302779,
            "min": 0,
            "orientation": "horizontal",
            "style": "IPY_MODEL_95a29dbc6a674beb9cd72b3b6f363b0d",
            "value": 513302779
          }
        },
        "a64b468950ac4b29820af2d9d9534561": {
          "model_module": "@jupyter-widgets/controls",
          "model_name": "HTMLModel",
          "model_module_version": "1.5.0",
          "state": {
            "_dom_classes": [],
            "_model_module": "@jupyter-widgets/controls",
            "_model_module_version": "1.5.0",
            "_model_name": "HTMLModel",
            "_view_count": null,
            "_view_module": "@jupyter-widgets/controls",
            "_view_module_version": "1.5.0",
            "_view_name": "HTMLView",
            "description": "",
            "description_tooltip": null,
            "layout": "IPY_MODEL_360b05b69ef045bca1d6e8925441a3cf",
            "placeholder": "​",
            "style": "IPY_MODEL_d0b7b0db9b824de3a1170b470536ebcb",
            "value": " 513M/513M [00:02&lt;00:00, 178MB/s]"
          }
        },
        "d21d1b8190a2414786055a3a2bb5282b": {
          "model_module": "@jupyter-widgets/base",
          "model_name": "LayoutModel",
          "model_module_version": "1.2.0",
          "state": {
            "_model_module": "@jupyter-widgets/base",
            "_model_module_version": "1.2.0",
            "_model_name": "LayoutModel",
            "_view_count": null,
            "_view_module": "@jupyter-widgets/base",
            "_view_module_version": "1.2.0",
            "_view_name": "LayoutView",
            "align_content": null,
            "align_items": null,
            "align_self": null,
            "border": null,
            "bottom": null,
            "display": null,
            "flex": null,
            "flex_flow": null,
            "grid_area": null,
            "grid_auto_columns": null,
            "grid_auto_flow": null,
            "grid_auto_rows": null,
            "grid_column": null,
            "grid_gap": null,
            "grid_row": null,
            "grid_template_areas": null,
            "grid_template_columns": null,
            "grid_template_rows": null,
            "height": null,
            "justify_content": null,
            "justify_items": null,
            "left": null,
            "margin": null,
            "max_height": null,
            "max_width": null,
            "min_height": null,
            "min_width": null,
            "object_fit": null,
            "object_position": null,
            "order": null,
            "overflow": null,
            "overflow_x": null,
            "overflow_y": null,
            "padding": null,
            "right": null,
            "top": null,
            "visibility": null,
            "width": null
          }
        },
        "19ab24b121e94889987fa263388e8be5": {
          "model_module": "@jupyter-widgets/base",
          "model_name": "LayoutModel",
          "model_module_version": "1.2.0",
          "state": {
            "_model_module": "@jupyter-widgets/base",
            "_model_module_version": "1.2.0",
            "_model_name": "LayoutModel",
            "_view_count": null,
            "_view_module": "@jupyter-widgets/base",
            "_view_module_version": "1.2.0",
            "_view_name": "LayoutView",
            "align_content": null,
            "align_items": null,
            "align_self": null,
            "border": null,
            "bottom": null,
            "display": null,
            "flex": null,
            "flex_flow": null,
            "grid_area": null,
            "grid_auto_columns": null,
            "grid_auto_flow": null,
            "grid_auto_rows": null,
            "grid_column": null,
            "grid_gap": null,
            "grid_row": null,
            "grid_template_areas": null,
            "grid_template_columns": null,
            "grid_template_rows": null,
            "height": null,
            "justify_content": null,
            "justify_items": null,
            "left": null,
            "margin": null,
            "max_height": null,
            "max_width": null,
            "min_height": null,
            "min_width": null,
            "object_fit": null,
            "object_position": null,
            "order": null,
            "overflow": null,
            "overflow_x": null,
            "overflow_y": null,
            "padding": null,
            "right": null,
            "top": null,
            "visibility": null,
            "width": null
          }
        },
        "c786abd571684f54ae4f911af467b4c0": {
          "model_module": "@jupyter-widgets/controls",
          "model_name": "DescriptionStyleModel",
          "model_module_version": "1.5.0",
          "state": {
            "_model_module": "@jupyter-widgets/controls",
            "_model_module_version": "1.5.0",
            "_model_name": "DescriptionStyleModel",
            "_view_count": null,
            "_view_module": "@jupyter-widgets/base",
            "_view_module_version": "1.2.0",
            "_view_name": "StyleView",
            "description_width": ""
          }
        },
        "ef464ca69a704f8894541c77681f91fb": {
          "model_module": "@jupyter-widgets/base",
          "model_name": "LayoutModel",
          "model_module_version": "1.2.0",
          "state": {
            "_model_module": "@jupyter-widgets/base",
            "_model_module_version": "1.2.0",
            "_model_name": "LayoutModel",
            "_view_count": null,
            "_view_module": "@jupyter-widgets/base",
            "_view_module_version": "1.2.0",
            "_view_name": "LayoutView",
            "align_content": null,
            "align_items": null,
            "align_self": null,
            "border": null,
            "bottom": null,
            "display": null,
            "flex": null,
            "flex_flow": null,
            "grid_area": null,
            "grid_auto_columns": null,
            "grid_auto_flow": null,
            "grid_auto_rows": null,
            "grid_column": null,
            "grid_gap": null,
            "grid_row": null,
            "grid_template_areas": null,
            "grid_template_columns": null,
            "grid_template_rows": null,
            "height": null,
            "justify_content": null,
            "justify_items": null,
            "left": null,
            "margin": null,
            "max_height": null,
            "max_width": null,
            "min_height": null,
            "min_width": null,
            "object_fit": null,
            "object_position": null,
            "order": null,
            "overflow": null,
            "overflow_x": null,
            "overflow_y": null,
            "padding": null,
            "right": null,
            "top": null,
            "visibility": null,
            "width": null
          }
        },
        "95a29dbc6a674beb9cd72b3b6f363b0d": {
          "model_module": "@jupyter-widgets/controls",
          "model_name": "ProgressStyleModel",
          "model_module_version": "1.5.0",
          "state": {
            "_model_module": "@jupyter-widgets/controls",
            "_model_module_version": "1.5.0",
            "_model_name": "ProgressStyleModel",
            "_view_count": null,
            "_view_module": "@jupyter-widgets/base",
            "_view_module_version": "1.2.0",
            "_view_name": "StyleView",
            "bar_color": null,
            "description_width": ""
          }
        },
        "360b05b69ef045bca1d6e8925441a3cf": {
          "model_module": "@jupyter-widgets/base",
          "model_name": "LayoutModel",
          "model_module_version": "1.2.0",
          "state": {
            "_model_module": "@jupyter-widgets/base",
            "_model_module_version": "1.2.0",
            "_model_name": "LayoutModel",
            "_view_count": null,
            "_view_module": "@jupyter-widgets/base",
            "_view_module_version": "1.2.0",
            "_view_name": "LayoutView",
            "align_content": null,
            "align_items": null,
            "align_self": null,
            "border": null,
            "bottom": null,
            "display": null,
            "flex": null,
            "flex_flow": null,
            "grid_area": null,
            "grid_auto_columns": null,
            "grid_auto_flow": null,
            "grid_auto_rows": null,
            "grid_column": null,
            "grid_gap": null,
            "grid_row": null,
            "grid_template_areas": null,
            "grid_template_columns": null,
            "grid_template_rows": null,
            "height": null,
            "justify_content": null,
            "justify_items": null,
            "left": null,
            "margin": null,
            "max_height": null,
            "max_width": null,
            "min_height": null,
            "min_width": null,
            "object_fit": null,
            "object_position": null,
            "order": null,
            "overflow": null,
            "overflow_x": null,
            "overflow_y": null,
            "padding": null,
            "right": null,
            "top": null,
            "visibility": null,
            "width": null
          }
        },
        "d0b7b0db9b824de3a1170b470536ebcb": {
          "model_module": "@jupyter-widgets/controls",
          "model_name": "DescriptionStyleModel",
          "model_module_version": "1.5.0",
          "state": {
            "_model_module": "@jupyter-widgets/controls",
            "_model_module_version": "1.5.0",
            "_model_name": "DescriptionStyleModel",
            "_view_count": null,
            "_view_module": "@jupyter-widgets/base",
            "_view_module_version": "1.2.0",
            "_view_name": "StyleView",
            "description_width": ""
          }
        },
        "10346f2eecce40b2bfb373bb4bf669f4": {
          "model_module": "@jupyter-widgets/controls",
          "model_name": "HBoxModel",
          "model_module_version": "1.5.0",
          "state": {
            "_dom_classes": [],
            "_model_module": "@jupyter-widgets/controls",
            "_model_module_version": "1.5.0",
            "_model_name": "HBoxModel",
            "_view_count": null,
            "_view_module": "@jupyter-widgets/controls",
            "_view_module_version": "1.5.0",
            "_view_name": "HBoxView",
            "box_style": "",
            "children": [
              "IPY_MODEL_5c28da2481be4bdb9de8c553e7e75785",
              "IPY_MODEL_289c1fbfe2134b1f8f1748babba1780a",
              "IPY_MODEL_69de4bcbc7f146c4977b75fcb3d0218f"
            ],
            "layout": "IPY_MODEL_1ef72b5c86f84e89babdf06c4fb02389"
          }
        },
        "5c28da2481be4bdb9de8c553e7e75785": {
          "model_module": "@jupyter-widgets/controls",
          "model_name": "HTMLModel",
          "model_module_version": "1.5.0",
          "state": {
            "_dom_classes": [],
            "_model_module": "@jupyter-widgets/controls",
            "_model_module_version": "1.5.0",
            "_model_name": "HTMLModel",
            "_view_count": null,
            "_view_module": "@jupyter-widgets/controls",
            "_view_module_version": "1.5.0",
            "_view_name": "HTMLView",
            "description": "",
            "description_tooltip": null,
            "layout": "IPY_MODEL_a8ef51ac852c4f6eb439b3ae365eadbb",
            "placeholder": "​",
            "style": "IPY_MODEL_be9aceb8eeb84bb1ba2c31d2efbb2008",
            "value": "Downloading (…)/main/tokenizer.json: 100%"
          }
        },
        "289c1fbfe2134b1f8f1748babba1780a": {
          "model_module": "@jupyter-widgets/controls",
          "model_name": "FloatProgressModel",
          "model_module_version": "1.5.0",
          "state": {
            "_dom_classes": [],
            "_model_module": "@jupyter-widgets/controls",
            "_model_module_version": "1.5.0",
            "_model_name": "FloatProgressModel",
            "_view_count": null,
            "_view_module": "@jupyter-widgets/controls",
            "_view_module_version": "1.5.0",
            "_view_name": "ProgressView",
            "bar_style": "success",
            "description": "",
            "description_tooltip": null,
            "layout": "IPY_MODEL_6f9e2b052d454efaa1aedb1f32a6c5bf",
            "max": 2825034,
            "min": 0,
            "orientation": "horizontal",
            "style": "IPY_MODEL_b30021d5b309434f98d12318f9e8b557",
            "value": 2825034
          }
        },
        "69de4bcbc7f146c4977b75fcb3d0218f": {
          "model_module": "@jupyter-widgets/controls",
          "model_name": "HTMLModel",
          "model_module_version": "1.5.0",
          "state": {
            "_dom_classes": [],
            "_model_module": "@jupyter-widgets/controls",
            "_model_module_version": "1.5.0",
            "_model_name": "HTMLModel",
            "_view_count": null,
            "_view_module": "@jupyter-widgets/controls",
            "_view_module_version": "1.5.0",
            "_view_name": "HTMLView",
            "description": "",
            "description_tooltip": null,
            "layout": "IPY_MODEL_70d27ae1ce5d4d8a9a65eb56f4b6ac37",
            "placeholder": "​",
            "style": "IPY_MODEL_927a9516abb44d4f9c1058ebc9d9949b",
            "value": " 2.83M/2.83M [00:00&lt;00:00, 8.84MB/s]"
          }
        },
        "1ef72b5c86f84e89babdf06c4fb02389": {
          "model_module": "@jupyter-widgets/base",
          "model_name": "LayoutModel",
          "model_module_version": "1.2.0",
          "state": {
            "_model_module": "@jupyter-widgets/base",
            "_model_module_version": "1.2.0",
            "_model_name": "LayoutModel",
            "_view_count": null,
            "_view_module": "@jupyter-widgets/base",
            "_view_module_version": "1.2.0",
            "_view_name": "LayoutView",
            "align_content": null,
            "align_items": null,
            "align_self": null,
            "border": null,
            "bottom": null,
            "display": null,
            "flex": null,
            "flex_flow": null,
            "grid_area": null,
            "grid_auto_columns": null,
            "grid_auto_flow": null,
            "grid_auto_rows": null,
            "grid_column": null,
            "grid_gap": null,
            "grid_row": null,
            "grid_template_areas": null,
            "grid_template_columns": null,
            "grid_template_rows": null,
            "height": null,
            "justify_content": null,
            "justify_items": null,
            "left": null,
            "margin": null,
            "max_height": null,
            "max_width": null,
            "min_height": null,
            "min_width": null,
            "object_fit": null,
            "object_position": null,
            "order": null,
            "overflow": null,
            "overflow_x": null,
            "overflow_y": null,
            "padding": null,
            "right": null,
            "top": null,
            "visibility": null,
            "width": null
          }
        },
        "a8ef51ac852c4f6eb439b3ae365eadbb": {
          "model_module": "@jupyter-widgets/base",
          "model_name": "LayoutModel",
          "model_module_version": "1.2.0",
          "state": {
            "_model_module": "@jupyter-widgets/base",
            "_model_module_version": "1.2.0",
            "_model_name": "LayoutModel",
            "_view_count": null,
            "_view_module": "@jupyter-widgets/base",
            "_view_module_version": "1.2.0",
            "_view_name": "LayoutView",
            "align_content": null,
            "align_items": null,
            "align_self": null,
            "border": null,
            "bottom": null,
            "display": null,
            "flex": null,
            "flex_flow": null,
            "grid_area": null,
            "grid_auto_columns": null,
            "grid_auto_flow": null,
            "grid_auto_rows": null,
            "grid_column": null,
            "grid_gap": null,
            "grid_row": null,
            "grid_template_areas": null,
            "grid_template_columns": null,
            "grid_template_rows": null,
            "height": null,
            "justify_content": null,
            "justify_items": null,
            "left": null,
            "margin": null,
            "max_height": null,
            "max_width": null,
            "min_height": null,
            "min_width": null,
            "object_fit": null,
            "object_position": null,
            "order": null,
            "overflow": null,
            "overflow_x": null,
            "overflow_y": null,
            "padding": null,
            "right": null,
            "top": null,
            "visibility": null,
            "width": null
          }
        },
        "be9aceb8eeb84bb1ba2c31d2efbb2008": {
          "model_module": "@jupyter-widgets/controls",
          "model_name": "DescriptionStyleModel",
          "model_module_version": "1.5.0",
          "state": {
            "_model_module": "@jupyter-widgets/controls",
            "_model_module_version": "1.5.0",
            "_model_name": "DescriptionStyleModel",
            "_view_count": null,
            "_view_module": "@jupyter-widgets/base",
            "_view_module_version": "1.2.0",
            "_view_name": "StyleView",
            "description_width": ""
          }
        },
        "6f9e2b052d454efaa1aedb1f32a6c5bf": {
          "model_module": "@jupyter-widgets/base",
          "model_name": "LayoutModel",
          "model_module_version": "1.2.0",
          "state": {
            "_model_module": "@jupyter-widgets/base",
            "_model_module_version": "1.2.0",
            "_model_name": "LayoutModel",
            "_view_count": null,
            "_view_module": "@jupyter-widgets/base",
            "_view_module_version": "1.2.0",
            "_view_name": "LayoutView",
            "align_content": null,
            "align_items": null,
            "align_self": null,
            "border": null,
            "bottom": null,
            "display": null,
            "flex": null,
            "flex_flow": null,
            "grid_area": null,
            "grid_auto_columns": null,
            "grid_auto_flow": null,
            "grid_auto_rows": null,
            "grid_column": null,
            "grid_gap": null,
            "grid_row": null,
            "grid_template_areas": null,
            "grid_template_columns": null,
            "grid_template_rows": null,
            "height": null,
            "justify_content": null,
            "justify_items": null,
            "left": null,
            "margin": null,
            "max_height": null,
            "max_width": null,
            "min_height": null,
            "min_width": null,
            "object_fit": null,
            "object_position": null,
            "order": null,
            "overflow": null,
            "overflow_x": null,
            "overflow_y": null,
            "padding": null,
            "right": null,
            "top": null,
            "visibility": null,
            "width": null
          }
        },
        "b30021d5b309434f98d12318f9e8b557": {
          "model_module": "@jupyter-widgets/controls",
          "model_name": "ProgressStyleModel",
          "model_module_version": "1.5.0",
          "state": {
            "_model_module": "@jupyter-widgets/controls",
            "_model_module_version": "1.5.0",
            "_model_name": "ProgressStyleModel",
            "_view_count": null,
            "_view_module": "@jupyter-widgets/base",
            "_view_module_version": "1.2.0",
            "_view_name": "StyleView",
            "bar_color": null,
            "description_width": ""
          }
        },
        "70d27ae1ce5d4d8a9a65eb56f4b6ac37": {
          "model_module": "@jupyter-widgets/base",
          "model_name": "LayoutModel",
          "model_module_version": "1.2.0",
          "state": {
            "_model_module": "@jupyter-widgets/base",
            "_model_module_version": "1.2.0",
            "_model_name": "LayoutModel",
            "_view_count": null,
            "_view_module": "@jupyter-widgets/base",
            "_view_module_version": "1.2.0",
            "_view_name": "LayoutView",
            "align_content": null,
            "align_items": null,
            "align_self": null,
            "border": null,
            "bottom": null,
            "display": null,
            "flex": null,
            "flex_flow": null,
            "grid_area": null,
            "grid_auto_columns": null,
            "grid_auto_flow": null,
            "grid_auto_rows": null,
            "grid_column": null,
            "grid_gap": null,
            "grid_row": null,
            "grid_template_areas": null,
            "grid_template_columns": null,
            "grid_template_rows": null,
            "height": null,
            "justify_content": null,
            "justify_items": null,
            "left": null,
            "margin": null,
            "max_height": null,
            "max_width": null,
            "min_height": null,
            "min_width": null,
            "object_fit": null,
            "object_position": null,
            "order": null,
            "overflow": null,
            "overflow_x": null,
            "overflow_y": null,
            "padding": null,
            "right": null,
            "top": null,
            "visibility": null,
            "width": null
          }
        },
        "927a9516abb44d4f9c1058ebc9d9949b": {
          "model_module": "@jupyter-widgets/controls",
          "model_name": "DescriptionStyleModel",
          "model_module_version": "1.5.0",
          "state": {
            "_model_module": "@jupyter-widgets/controls",
            "_model_module_version": "1.5.0",
            "_model_name": "DescriptionStyleModel",
            "_view_count": null,
            "_view_module": "@jupyter-widgets/base",
            "_view_module_version": "1.2.0",
            "_view_name": "StyleView",
            "description_width": ""
          }
        },
        "9f54ee6309bf4dd387fa6b82e2a6389a": {
          "model_module": "@jupyter-widgets/controls",
          "model_name": "HBoxModel",
          "model_module_version": "1.5.0",
          "state": {
            "_dom_classes": [],
            "_model_module": "@jupyter-widgets/controls",
            "_model_module_version": "1.5.0",
            "_model_name": "HBoxModel",
            "_view_count": null,
            "_view_module": "@jupyter-widgets/controls",
            "_view_module_version": "1.5.0",
            "_view_name": "HBoxView",
            "box_style": "",
            "children": [
              "IPY_MODEL_b35a68df04bb4e0fb76261d190acbf6d",
              "IPY_MODEL_09d8a2032040435ea3789a001eb11036",
              "IPY_MODEL_8cbba9939ba74ff59274c9dddd6dad9d"
            ],
            "layout": "IPY_MODEL_864fade63a8241c2abb63b3fffb0b9f2"
          }
        },
        "b35a68df04bb4e0fb76261d190acbf6d": {
          "model_module": "@jupyter-widgets/controls",
          "model_name": "HTMLModel",
          "model_module_version": "1.5.0",
          "state": {
            "_dom_classes": [],
            "_model_module": "@jupyter-widgets/controls",
            "_model_module_version": "1.5.0",
            "_model_name": "HTMLModel",
            "_view_count": null,
            "_view_module": "@jupyter-widgets/controls",
            "_view_module_version": "1.5.0",
            "_view_name": "HTMLView",
            "description": "",
            "description_tooltip": null,
            "layout": "IPY_MODEL_5caafcc94abc4b87b3290a46769b4cf8",
            "placeholder": "​",
            "style": "IPY_MODEL_fd58903073cd4388a9931259adc8c501",
            "value": "Downloading (…)lve/main/config.json: 100%"
          }
        },
        "09d8a2032040435ea3789a001eb11036": {
          "model_module": "@jupyter-widgets/controls",
          "model_name": "FloatProgressModel",
          "model_module_version": "1.5.0",
          "state": {
            "_dom_classes": [],
            "_model_module": "@jupyter-widgets/controls",
            "_model_module_version": "1.5.0",
            "_model_name": "FloatProgressModel",
            "_view_count": null,
            "_view_module": "@jupyter-widgets/controls",
            "_view_module_version": "1.5.0",
            "_view_name": "ProgressView",
            "bar_style": "success",
            "description": "",
            "description_tooltip": null,
            "layout": "IPY_MODEL_29e51775d8344caf8b4ed42796e1ca6b",
            "max": 1000,
            "min": 0,
            "orientation": "horizontal",
            "style": "IPY_MODEL_38c2aba2a65f4b2fbcd8b666a1de3a5e",
            "value": 1000
          }
        },
        "8cbba9939ba74ff59274c9dddd6dad9d": {
          "model_module": "@jupyter-widgets/controls",
          "model_name": "HTMLModel",
          "model_module_version": "1.5.0",
          "state": {
            "_dom_classes": [],
            "_model_module": "@jupyter-widgets/controls",
            "_model_module_version": "1.5.0",
            "_model_name": "HTMLModel",
            "_view_count": null,
            "_view_module": "@jupyter-widgets/controls",
            "_view_module_version": "1.5.0",
            "_view_name": "HTMLView",
            "description": "",
            "description_tooltip": null,
            "layout": "IPY_MODEL_7884e6ab80b443e2a949af3a4363bf12",
            "placeholder": "​",
            "style": "IPY_MODEL_4f628a473b4441f5a1257d76e9138512",
            "value": " 1.00k/1.00k [00:00&lt;00:00, 30.1kB/s]"
          }
        },
        "864fade63a8241c2abb63b3fffb0b9f2": {
          "model_module": "@jupyter-widgets/base",
          "model_name": "LayoutModel",
          "model_module_version": "1.2.0",
          "state": {
            "_model_module": "@jupyter-widgets/base",
            "_model_module_version": "1.2.0",
            "_model_name": "LayoutModel",
            "_view_count": null,
            "_view_module": "@jupyter-widgets/base",
            "_view_module_version": "1.2.0",
            "_view_name": "LayoutView",
            "align_content": null,
            "align_items": null,
            "align_self": null,
            "border": null,
            "bottom": null,
            "display": null,
            "flex": null,
            "flex_flow": null,
            "grid_area": null,
            "grid_auto_columns": null,
            "grid_auto_flow": null,
            "grid_auto_rows": null,
            "grid_column": null,
            "grid_gap": null,
            "grid_row": null,
            "grid_template_areas": null,
            "grid_template_columns": null,
            "grid_template_rows": null,
            "height": null,
            "justify_content": null,
            "justify_items": null,
            "left": null,
            "margin": null,
            "max_height": null,
            "max_width": null,
            "min_height": null,
            "min_width": null,
            "object_fit": null,
            "object_position": null,
            "order": null,
            "overflow": null,
            "overflow_x": null,
            "overflow_y": null,
            "padding": null,
            "right": null,
            "top": null,
            "visibility": null,
            "width": null
          }
        },
        "5caafcc94abc4b87b3290a46769b4cf8": {
          "model_module": "@jupyter-widgets/base",
          "model_name": "LayoutModel",
          "model_module_version": "1.2.0",
          "state": {
            "_model_module": "@jupyter-widgets/base",
            "_model_module_version": "1.2.0",
            "_model_name": "LayoutModel",
            "_view_count": null,
            "_view_module": "@jupyter-widgets/base",
            "_view_module_version": "1.2.0",
            "_view_name": "LayoutView",
            "align_content": null,
            "align_items": null,
            "align_self": null,
            "border": null,
            "bottom": null,
            "display": null,
            "flex": null,
            "flex_flow": null,
            "grid_area": null,
            "grid_auto_columns": null,
            "grid_auto_flow": null,
            "grid_auto_rows": null,
            "grid_column": null,
            "grid_gap": null,
            "grid_row": null,
            "grid_template_areas": null,
            "grid_template_columns": null,
            "grid_template_rows": null,
            "height": null,
            "justify_content": null,
            "justify_items": null,
            "left": null,
            "margin": null,
            "max_height": null,
            "max_width": null,
            "min_height": null,
            "min_width": null,
            "object_fit": null,
            "object_position": null,
            "order": null,
            "overflow": null,
            "overflow_x": null,
            "overflow_y": null,
            "padding": null,
            "right": null,
            "top": null,
            "visibility": null,
            "width": null
          }
        },
        "fd58903073cd4388a9931259adc8c501": {
          "model_module": "@jupyter-widgets/controls",
          "model_name": "DescriptionStyleModel",
          "model_module_version": "1.5.0",
          "state": {
            "_model_module": "@jupyter-widgets/controls",
            "_model_module_version": "1.5.0",
            "_model_name": "DescriptionStyleModel",
            "_view_count": null,
            "_view_module": "@jupyter-widgets/base",
            "_view_module_version": "1.2.0",
            "_view_name": "StyleView",
            "description_width": ""
          }
        },
        "29e51775d8344caf8b4ed42796e1ca6b": {
          "model_module": "@jupyter-widgets/base",
          "model_name": "LayoutModel",
          "model_module_version": "1.2.0",
          "state": {
            "_model_module": "@jupyter-widgets/base",
            "_model_module_version": "1.2.0",
            "_model_name": "LayoutModel",
            "_view_count": null,
            "_view_module": "@jupyter-widgets/base",
            "_view_module_version": "1.2.0",
            "_view_name": "LayoutView",
            "align_content": null,
            "align_items": null,
            "align_self": null,
            "border": null,
            "bottom": null,
            "display": null,
            "flex": null,
            "flex_flow": null,
            "grid_area": null,
            "grid_auto_columns": null,
            "grid_auto_flow": null,
            "grid_auto_rows": null,
            "grid_column": null,
            "grid_gap": null,
            "grid_row": null,
            "grid_template_areas": null,
            "grid_template_columns": null,
            "grid_template_rows": null,
            "height": null,
            "justify_content": null,
            "justify_items": null,
            "left": null,
            "margin": null,
            "max_height": null,
            "max_width": null,
            "min_height": null,
            "min_width": null,
            "object_fit": null,
            "object_position": null,
            "order": null,
            "overflow": null,
            "overflow_x": null,
            "overflow_y": null,
            "padding": null,
            "right": null,
            "top": null,
            "visibility": null,
            "width": null
          }
        },
        "38c2aba2a65f4b2fbcd8b666a1de3a5e": {
          "model_module": "@jupyter-widgets/controls",
          "model_name": "ProgressStyleModel",
          "model_module_version": "1.5.0",
          "state": {
            "_model_module": "@jupyter-widgets/controls",
            "_model_module_version": "1.5.0",
            "_model_name": "ProgressStyleModel",
            "_view_count": null,
            "_view_module": "@jupyter-widgets/base",
            "_view_module_version": "1.2.0",
            "_view_name": "StyleView",
            "bar_color": null,
            "description_width": ""
          }
        },
        "7884e6ab80b443e2a949af3a4363bf12": {
          "model_module": "@jupyter-widgets/base",
          "model_name": "LayoutModel",
          "model_module_version": "1.2.0",
          "state": {
            "_model_module": "@jupyter-widgets/base",
            "_model_module_version": "1.2.0",
            "_model_name": "LayoutModel",
            "_view_count": null,
            "_view_module": "@jupyter-widgets/base",
            "_view_module_version": "1.2.0",
            "_view_name": "LayoutView",
            "align_content": null,
            "align_items": null,
            "align_self": null,
            "border": null,
            "bottom": null,
            "display": null,
            "flex": null,
            "flex_flow": null,
            "grid_area": null,
            "grid_auto_columns": null,
            "grid_auto_flow": null,
            "grid_auto_rows": null,
            "grid_column": null,
            "grid_gap": null,
            "grid_row": null,
            "grid_template_areas": null,
            "grid_template_columns": null,
            "grid_template_rows": null,
            "height": null,
            "justify_content": null,
            "justify_items": null,
            "left": null,
            "margin": null,
            "max_height": null,
            "max_width": null,
            "min_height": null,
            "min_width": null,
            "object_fit": null,
            "object_position": null,
            "order": null,
            "overflow": null,
            "overflow_x": null,
            "overflow_y": null,
            "padding": null,
            "right": null,
            "top": null,
            "visibility": null,
            "width": null
          }
        },
        "4f628a473b4441f5a1257d76e9138512": {
          "model_module": "@jupyter-widgets/controls",
          "model_name": "DescriptionStyleModel",
          "model_module_version": "1.5.0",
          "state": {
            "_model_module": "@jupyter-widgets/controls",
            "_model_module_version": "1.5.0",
            "_model_name": "DescriptionStyleModel",
            "_view_count": null,
            "_view_module": "@jupyter-widgets/base",
            "_view_module_version": "1.2.0",
            "_view_name": "StyleView",
            "description_width": ""
          }
        },
        "dabe8ab50d4b4adba6461ee937d5c892": {
          "model_module": "@jupyter-widgets/controls",
          "model_name": "HBoxModel",
          "model_module_version": "1.5.0",
          "state": {
            "_dom_classes": [],
            "_model_module": "@jupyter-widgets/controls",
            "_model_module_version": "1.5.0",
            "_model_name": "HBoxModel",
            "_view_count": null,
            "_view_module": "@jupyter-widgets/controls",
            "_view_module_version": "1.5.0",
            "_view_name": "HBoxView",
            "box_style": "",
            "children": [
              "IPY_MODEL_dea13ab5aeee47048e28fbaf57ecb610",
              "IPY_MODEL_819faf26da82442cbb13f0119b2cc28c",
              "IPY_MODEL_a618f4ba2829487281176a44a9b718a6"
            ],
            "layout": "IPY_MODEL_f3c7a9619a374c919f7c88a8caa29c13"
          }
        },
        "dea13ab5aeee47048e28fbaf57ecb610": {
          "model_module": "@jupyter-widgets/controls",
          "model_name": "HTMLModel",
          "model_module_version": "1.5.0",
          "state": {
            "_dom_classes": [],
            "_model_module": "@jupyter-widgets/controls",
            "_model_module_version": "1.5.0",
            "_model_name": "HTMLModel",
            "_view_count": null,
            "_view_module": "@jupyter-widgets/controls",
            "_view_module_version": "1.5.0",
            "_view_name": "HTMLView",
            "description": "",
            "description_tooltip": null,
            "layout": "IPY_MODEL_50b01c310bbd466088db084384f05d8c",
            "placeholder": "​",
            "style": "IPY_MODEL_7aa79059aa474ba3bcead60fdd3f38dc",
            "value": "Downloading pytorch_model.bin: 100%"
          }
        },
        "819faf26da82442cbb13f0119b2cc28c": {
          "model_module": "@jupyter-widgets/controls",
          "model_name": "FloatProgressModel",
          "model_module_version": "1.5.0",
          "state": {
            "_dom_classes": [],
            "_model_module": "@jupyter-widgets/controls",
            "_model_module_version": "1.5.0",
            "_model_name": "FloatProgressModel",
            "_view_count": null,
            "_view_module": "@jupyter-widgets/controls",
            "_view_module_version": "1.5.0",
            "_view_name": "ProgressView",
            "bar_style": "success",
            "description": "",
            "description_tooltip": null,
            "layout": "IPY_MODEL_829aba20b39f4df38ade9fea174fc32b",
            "max": 513302779,
            "min": 0,
            "orientation": "horizontal",
            "style": "IPY_MODEL_9eecc080a90740a4836c901056e9bcc9",
            "value": 513302779
          }
        },
        "a618f4ba2829487281176a44a9b718a6": {
          "model_module": "@jupyter-widgets/controls",
          "model_name": "HTMLModel",
          "model_module_version": "1.5.0",
          "state": {
            "_dom_classes": [],
            "_model_module": "@jupyter-widgets/controls",
            "_model_module_version": "1.5.0",
            "_model_name": "HTMLModel",
            "_view_count": null,
            "_view_module": "@jupyter-widgets/controls",
            "_view_module_version": "1.5.0",
            "_view_name": "HTMLView",
            "description": "",
            "description_tooltip": null,
            "layout": "IPY_MODEL_59ce471998d54ef1b7b0d202a4173492",
            "placeholder": "​",
            "style": "IPY_MODEL_434caf33bab946d1ba8a014c20920b5b",
            "value": " 513M/513M [00:19&lt;00:00, 29.9MB/s]"
          }
        },
        "f3c7a9619a374c919f7c88a8caa29c13": {
          "model_module": "@jupyter-widgets/base",
          "model_name": "LayoutModel",
          "model_module_version": "1.2.0",
          "state": {
            "_model_module": "@jupyter-widgets/base",
            "_model_module_version": "1.2.0",
            "_model_name": "LayoutModel",
            "_view_count": null,
            "_view_module": "@jupyter-widgets/base",
            "_view_module_version": "1.2.0",
            "_view_name": "LayoutView",
            "align_content": null,
            "align_items": null,
            "align_self": null,
            "border": null,
            "bottom": null,
            "display": null,
            "flex": null,
            "flex_flow": null,
            "grid_area": null,
            "grid_auto_columns": null,
            "grid_auto_flow": null,
            "grid_auto_rows": null,
            "grid_column": null,
            "grid_gap": null,
            "grid_row": null,
            "grid_template_areas": null,
            "grid_template_columns": null,
            "grid_template_rows": null,
            "height": null,
            "justify_content": null,
            "justify_items": null,
            "left": null,
            "margin": null,
            "max_height": null,
            "max_width": null,
            "min_height": null,
            "min_width": null,
            "object_fit": null,
            "object_position": null,
            "order": null,
            "overflow": null,
            "overflow_x": null,
            "overflow_y": null,
            "padding": null,
            "right": null,
            "top": null,
            "visibility": null,
            "width": null
          }
        },
        "50b01c310bbd466088db084384f05d8c": {
          "model_module": "@jupyter-widgets/base",
          "model_name": "LayoutModel",
          "model_module_version": "1.2.0",
          "state": {
            "_model_module": "@jupyter-widgets/base",
            "_model_module_version": "1.2.0",
            "_model_name": "LayoutModel",
            "_view_count": null,
            "_view_module": "@jupyter-widgets/base",
            "_view_module_version": "1.2.0",
            "_view_name": "LayoutView",
            "align_content": null,
            "align_items": null,
            "align_self": null,
            "border": null,
            "bottom": null,
            "display": null,
            "flex": null,
            "flex_flow": null,
            "grid_area": null,
            "grid_auto_columns": null,
            "grid_auto_flow": null,
            "grid_auto_rows": null,
            "grid_column": null,
            "grid_gap": null,
            "grid_row": null,
            "grid_template_areas": null,
            "grid_template_columns": null,
            "grid_template_rows": null,
            "height": null,
            "justify_content": null,
            "justify_items": null,
            "left": null,
            "margin": null,
            "max_height": null,
            "max_width": null,
            "min_height": null,
            "min_width": null,
            "object_fit": null,
            "object_position": null,
            "order": null,
            "overflow": null,
            "overflow_x": null,
            "overflow_y": null,
            "padding": null,
            "right": null,
            "top": null,
            "visibility": null,
            "width": null
          }
        },
        "7aa79059aa474ba3bcead60fdd3f38dc": {
          "model_module": "@jupyter-widgets/controls",
          "model_name": "DescriptionStyleModel",
          "model_module_version": "1.5.0",
          "state": {
            "_model_module": "@jupyter-widgets/controls",
            "_model_module_version": "1.5.0",
            "_model_name": "DescriptionStyleModel",
            "_view_count": null,
            "_view_module": "@jupyter-widgets/base",
            "_view_module_version": "1.2.0",
            "_view_name": "StyleView",
            "description_width": ""
          }
        },
        "829aba20b39f4df38ade9fea174fc32b": {
          "model_module": "@jupyter-widgets/base",
          "model_name": "LayoutModel",
          "model_module_version": "1.2.0",
          "state": {
            "_model_module": "@jupyter-widgets/base",
            "_model_module_version": "1.2.0",
            "_model_name": "LayoutModel",
            "_view_count": null,
            "_view_module": "@jupyter-widgets/base",
            "_view_module_version": "1.2.0",
            "_view_name": "LayoutView",
            "align_content": null,
            "align_items": null,
            "align_self": null,
            "border": null,
            "bottom": null,
            "display": null,
            "flex": null,
            "flex_flow": null,
            "grid_area": null,
            "grid_auto_columns": null,
            "grid_auto_flow": null,
            "grid_auto_rows": null,
            "grid_column": null,
            "grid_gap": null,
            "grid_row": null,
            "grid_template_areas": null,
            "grid_template_columns": null,
            "grid_template_rows": null,
            "height": null,
            "justify_content": null,
            "justify_items": null,
            "left": null,
            "margin": null,
            "max_height": null,
            "max_width": null,
            "min_height": null,
            "min_width": null,
            "object_fit": null,
            "object_position": null,
            "order": null,
            "overflow": null,
            "overflow_x": null,
            "overflow_y": null,
            "padding": null,
            "right": null,
            "top": null,
            "visibility": null,
            "width": null
          }
        },
        "9eecc080a90740a4836c901056e9bcc9": {
          "model_module": "@jupyter-widgets/controls",
          "model_name": "ProgressStyleModel",
          "model_module_version": "1.5.0",
          "state": {
            "_model_module": "@jupyter-widgets/controls",
            "_model_module_version": "1.5.0",
            "_model_name": "ProgressStyleModel",
            "_view_count": null,
            "_view_module": "@jupyter-widgets/base",
            "_view_module_version": "1.2.0",
            "_view_name": "StyleView",
            "bar_color": null,
            "description_width": ""
          }
        },
        "59ce471998d54ef1b7b0d202a4173492": {
          "model_module": "@jupyter-widgets/base",
          "model_name": "LayoutModel",
          "model_module_version": "1.2.0",
          "state": {
            "_model_module": "@jupyter-widgets/base",
            "_model_module_version": "1.2.0",
            "_model_name": "LayoutModel",
            "_view_count": null,
            "_view_module": "@jupyter-widgets/base",
            "_view_module_version": "1.2.0",
            "_view_name": "LayoutView",
            "align_content": null,
            "align_items": null,
            "align_self": null,
            "border": null,
            "bottom": null,
            "display": null,
            "flex": null,
            "flex_flow": null,
            "grid_area": null,
            "grid_auto_columns": null,
            "grid_auto_flow": null,
            "grid_auto_rows": null,
            "grid_column": null,
            "grid_gap": null,
            "grid_row": null,
            "grid_template_areas": null,
            "grid_template_columns": null,
            "grid_template_rows": null,
            "height": null,
            "justify_content": null,
            "justify_items": null,
            "left": null,
            "margin": null,
            "max_height": null,
            "max_width": null,
            "min_height": null,
            "min_width": null,
            "object_fit": null,
            "object_position": null,
            "order": null,
            "overflow": null,
            "overflow_x": null,
            "overflow_y": null,
            "padding": null,
            "right": null,
            "top": null,
            "visibility": null,
            "width": null
          }
        },
        "434caf33bab946d1ba8a014c20920b5b": {
          "model_module": "@jupyter-widgets/controls",
          "model_name": "DescriptionStyleModel",
          "model_module_version": "1.5.0",
          "state": {
            "_model_module": "@jupyter-widgets/controls",
            "_model_module_version": "1.5.0",
            "_model_name": "DescriptionStyleModel",
            "_view_count": null,
            "_view_module": "@jupyter-widgets/base",
            "_view_module_version": "1.2.0",
            "_view_name": "StyleView",
            "description_width": ""
          }
        }
      }
    },
    "accelerator": "GPU"
  },
  "cells": [
    {
      "cell_type": "markdown",
      "source": [
        "KoGPT2 파인튜닝 https://github.com/SKT-AI/KoGPT2"
      ],
      "metadata": {
        "id": "kGDbcaXWnLye"
      }
    },
    {
      "cell_type": "markdown",
      "source": [
        "### 라이브러리 설치"
      ],
      "metadata": {
        "id": "2qxHZoXqnAFo"
      }
    },
    {
      "cell_type": "code",
      "source": [
        "!pip install transformers"
      ],
      "metadata": {
        "colab": {
          "base_uri": "https://localhost:8080/"
        },
        "id": "t2tF8pmjm3r_",
        "outputId": "a0546515-7d0c-4cc4-b37d-b105b1cd2e03"
      },
      "execution_count": 1,
      "outputs": [
        {
          "output_type": "stream",
          "name": "stdout",
          "text": [
            "Collecting transformers\n",
            "  Downloading transformers-4.34.0-py3-none-any.whl (7.7 MB)\n",
            "\u001b[2K     \u001b[90m━━━━━━━━━━━━━━━━━━━━━━━━━━━━━━━━━━━━━━━━\u001b[0m \u001b[32m7.7/7.7 MB\u001b[0m \u001b[31m20.6 MB/s\u001b[0m eta \u001b[36m0:00:00\u001b[0m\n",
            "\u001b[?25hRequirement already satisfied: filelock in /usr/local/lib/python3.10/dist-packages (from transformers) (3.12.4)\n",
            "Collecting huggingface-hub<1.0,>=0.16.4 (from transformers)\n",
            "  Downloading huggingface_hub-0.17.3-py3-none-any.whl (295 kB)\n",
            "\u001b[2K     \u001b[90m━━━━━━━━━━━━━━━━━━━━━━━━━━━━━━━━━━━━━━\u001b[0m \u001b[32m295.0/295.0 kB\u001b[0m \u001b[31m23.2 MB/s\u001b[0m eta \u001b[36m0:00:00\u001b[0m\n",
            "\u001b[?25hRequirement already satisfied: numpy>=1.17 in /usr/local/lib/python3.10/dist-packages (from transformers) (1.23.5)\n",
            "Requirement already satisfied: packaging>=20.0 in /usr/local/lib/python3.10/dist-packages (from transformers) (23.1)\n",
            "Requirement already satisfied: pyyaml>=5.1 in /usr/local/lib/python3.10/dist-packages (from transformers) (6.0.1)\n",
            "Requirement already satisfied: regex!=2019.12.17 in /usr/local/lib/python3.10/dist-packages (from transformers) (2023.6.3)\n",
            "Requirement already satisfied: requests in /usr/local/lib/python3.10/dist-packages (from transformers) (2.31.0)\n",
            "Collecting tokenizers<0.15,>=0.14 (from transformers)\n",
            "  Downloading tokenizers-0.14.0-cp310-cp310-manylinux_2_17_x86_64.manylinux2014_x86_64.whl (3.8 MB)\n",
            "\u001b[2K     \u001b[90m━━━━━━━━━━━━━━━━━━━━━━━━━━━━━━━━━━━━━━━━\u001b[0m \u001b[32m3.8/3.8 MB\u001b[0m \u001b[31m45.5 MB/s\u001b[0m eta \u001b[36m0:00:00\u001b[0m\n",
            "\u001b[?25hCollecting safetensors>=0.3.1 (from transformers)\n",
            "  Downloading safetensors-0.3.3-cp310-cp310-manylinux_2_17_x86_64.manylinux2014_x86_64.whl (1.3 MB)\n",
            "\u001b[2K     \u001b[90m━━━━━━━━━━━━━━━━━━━━━━━━━━━━━━━━━━━━━━━━\u001b[0m \u001b[32m1.3/1.3 MB\u001b[0m \u001b[31m43.9 MB/s\u001b[0m eta \u001b[36m0:00:00\u001b[0m\n",
            "\u001b[?25hRequirement already satisfied: tqdm>=4.27 in /usr/local/lib/python3.10/dist-packages (from transformers) (4.66.1)\n",
            "Requirement already satisfied: fsspec in /usr/local/lib/python3.10/dist-packages (from huggingface-hub<1.0,>=0.16.4->transformers) (2023.6.0)\n",
            "Requirement already satisfied: typing-extensions>=3.7.4.3 in /usr/local/lib/python3.10/dist-packages (from huggingface-hub<1.0,>=0.16.4->transformers) (4.5.0)\n",
            "Collecting huggingface-hub<1.0,>=0.16.4 (from transformers)\n",
            "  Downloading huggingface_hub-0.16.4-py3-none-any.whl (268 kB)\n",
            "\u001b[2K     \u001b[90m━━━━━━━━━━━━━━━━━━━━━━━━━━━━━━━━━━━━━━\u001b[0m \u001b[32m268.8/268.8 kB\u001b[0m \u001b[31m13.7 MB/s\u001b[0m eta \u001b[36m0:00:00\u001b[0m\n",
            "\u001b[?25hRequirement already satisfied: charset-normalizer<4,>=2 in /usr/local/lib/python3.10/dist-packages (from requests->transformers) (3.2.0)\n",
            "Requirement already satisfied: idna<4,>=2.5 in /usr/local/lib/python3.10/dist-packages (from requests->transformers) (3.4)\n",
            "Requirement already satisfied: urllib3<3,>=1.21.1 in /usr/local/lib/python3.10/dist-packages (from requests->transformers) (2.0.5)\n",
            "Requirement already satisfied: certifi>=2017.4.17 in /usr/local/lib/python3.10/dist-packages (from requests->transformers) (2023.7.22)\n",
            "Installing collected packages: safetensors, huggingface-hub, tokenizers, transformers\n",
            "Successfully installed huggingface-hub-0.16.4 safetensors-0.3.3 tokenizers-0.14.0 transformers-4.34.0\n"
          ]
        }
      ]
    },
    {
      "cell_type": "markdown",
      "source": [
        "### 라이브러리 불러오기"
      ],
      "metadata": {
        "id": "8nrxO5MkWiPZ"
      }
    },
    {
      "cell_type": "code",
      "source": [
        "import pandas as pd\n",
        "# for padding\n",
        "# from tensorflow.keras.preprocessing.sequence import pad_sequences\n",
        "\n",
        "import torch\n",
        "from torch.utils.data import Dataset, DataLoader\n",
        "from transformers import AdamW\n",
        "from tqdm import tqdm\n",
        "\n",
        "import time\n",
        "import datetime"
      ],
      "metadata": {
        "id": "WCHZprdqWkFw"
      },
      "execution_count": 2,
      "outputs": []
    },
    {
      "cell_type": "markdown",
      "source": [
        "### 모델 테스트\n"
      ],
      "metadata": {
        "id": "KwdOP4CbWkXo"
      }
    },
    {
      "cell_type": "code",
      "source": [
        "from transformers import PreTrainedTokenizerFast\n",
        "tokenizer = PreTrainedTokenizerFast.from_pretrained(\"skt/kogpt2-base-v2\",\n",
        "bos_token='</s>', eos_token='</s>', unk_token='<unk>',\n",
        "pad_token='<pad>', mask_token='<mask>')"
      ],
      "metadata": {
        "colab": {
          "base_uri": "https://localhost:8080/",
          "height": 0,
          "referenced_widgets": [
            "2483ab0ed34446f38d99113d86277b60",
            "f7e43b92c5d042229417a833596b1fc1",
            "0d692a64448245aabc00297eadc6c7c9",
            "ee94037e6e1c44a3a853fc4417c233cb",
            "ac2db7c497454860bcc3bd777fbfe0c5",
            "176f71aecc074682bd01c383886048df",
            "c4a258f9527d4882bc5b02b4dc8a30a4",
            "5e735c1b15eb4e8aa111d67157e01a2a",
            "aeda9c9edae8412bb7ef65fa927dd516",
            "7dbcc8856ee842d8ad877b697df18fa1",
            "4f211cdbfc194750b74a9698455b2a9a",
            "e93f3fb06a414ca1a91c9b6d2e3f8d9e",
            "0599075812a042a7b8058c3587824b3b",
            "1353434e8c0242a6ae44850860471ea8",
            "defeaf9fbebf49458b74c07b71eeb069",
            "30922d45a28444e7bbe9314d93923cd6",
            "ea6c2a94af2342039bbb21e38de9a360",
            "c0e422b840624784be07f6c6e9b99a19",
            "355ab8e72a54460d928a3c71caae1359",
            "f21a729d9fa444bf84ca3869d447b77b",
            "824faea2c283477589a8675b288d70d5",
            "2083dbb41d9045188dc78e931015995e"
          ]
        },
        "id": "ymacBQ8Imw5Y",
        "outputId": "7c1fa3a3-7cec-45a2-a9ac-200df367fca4"
      },
      "execution_count": 3,
      "outputs": [
        {
          "output_type": "display_data",
          "data": {
            "text/plain": [
              "Downloading (…)/main/tokenizer.json:   0%|          | 0.00/2.83M [00:00<?, ?B/s]"
            ],
            "application/vnd.jupyter.widget-view+json": {
              "version_major": 2,
              "version_minor": 0,
              "model_id": "2483ab0ed34446f38d99113d86277b60"
            }
          },
          "metadata": {}
        },
        {
          "output_type": "display_data",
          "data": {
            "text/plain": [
              "Downloading (…)lve/main/config.json:   0%|          | 0.00/1.00k [00:00<?, ?B/s]"
            ],
            "application/vnd.jupyter.widget-view+json": {
              "version_major": 2,
              "version_minor": 0,
              "model_id": "e93f3fb06a414ca1a91c9b6d2e3f8d9e"
            }
          },
          "metadata": {}
        },
        {
          "output_type": "stream",
          "name": "stderr",
          "text": [
            "The tokenizer class you load from this checkpoint is not the same type as the class this function is called from. It may result in unexpected tokenization. \n",
            "The tokenizer class you load from this checkpoint is 'GPT2Tokenizer'. \n",
            "The class this function is called from is 'PreTrainedTokenizerFast'.\n"
          ]
        }
      ]
    },
    {
      "cell_type": "code",
      "source": [
        "tokenizer.tokenize(\"안녕하세요. 한국어 GPT-2 입니다.😤:)l^o\")"
      ],
      "metadata": {
        "colab": {
          "base_uri": "https://localhost:8080/"
        },
        "id": "Yuv4Gp1fnGQH",
        "outputId": "ef3e763b-9fd8-4914-b73b-06f3f372b498"
      },
      "execution_count": 4,
      "outputs": [
        {
          "output_type": "execute_result",
          "data": {
            "text/plain": [
              "['▁안녕',\n",
              " '하',\n",
              " '세',\n",
              " '요.',\n",
              " '▁한국어',\n",
              " '▁G',\n",
              " 'P',\n",
              " 'T',\n",
              " '-2',\n",
              " '▁입',\n",
              " '니다.',\n",
              " '😤',\n",
              " ':)',\n",
              " 'l^o']"
            ]
          },
          "metadata": {},
          "execution_count": 4
        }
      ]
    },
    {
      "cell_type": "code",
      "execution_count": 5,
      "metadata": {
        "colab": {
          "base_uri": "https://localhost:8080/",
          "height": 0,
          "referenced_widgets": [
            "249017fc9c8d4ba9b740cfd50f068750",
            "90a7b823b8e245fd933556eb86ab29f1",
            "14998f1a8e6f477985405f03e1150605",
            "a64b468950ac4b29820af2d9d9534561",
            "d21d1b8190a2414786055a3a2bb5282b",
            "19ab24b121e94889987fa263388e8be5",
            "c786abd571684f54ae4f911af467b4c0",
            "ef464ca69a704f8894541c77681f91fb",
            "95a29dbc6a674beb9cd72b3b6f363b0d",
            "360b05b69ef045bca1d6e8925441a3cf",
            "d0b7b0db9b824de3a1170b470536ebcb"
          ]
        },
        "id": "qKTCNYcjgTaM",
        "outputId": "bf5f1448-8c8e-40db-fc44-44acf911ac14"
      },
      "outputs": [
        {
          "output_type": "display_data",
          "data": {
            "text/plain": [
              "Downloading pytorch_model.bin:   0%|          | 0.00/513M [00:00<?, ?B/s]"
            ],
            "application/vnd.jupyter.widget-view+json": {
              "version_major": 2,
              "version_minor": 0,
              "model_id": "249017fc9c8d4ba9b740cfd50f068750"
            }
          },
          "metadata": {}
        }
      ],
      "source": [
        "import torch\n",
        "from transformers import GPT2LMHeadModel\n",
        "\n",
        "model = GPT2LMHeadModel.from_pretrained('skt/kogpt2-base-v2')"
      ]
    },
    {
      "cell_type": "code",
      "source": [
        "text = '근육이 커지기 위해서는'\n",
        "input_ids = tokenizer.encode(text, return_tensors='pt')\n",
        "gen_ids = model.generate(input_ids,\n",
        "                        max_length=128,\n",
        "                        repetition_penalty=2.0,\n",
        "                        pad_token_id=tokenizer.pad_token_id,\n",
        "                        eos_token_id=tokenizer.eos_token_id,\n",
        "                        bos_token_id=tokenizer.bos_token_id,\n",
        "                        use_cache=True)\n",
        "generated = tokenizer.decode(gen_ids[0])\n",
        "print(generated)"
      ],
      "metadata": {
        "colab": {
          "base_uri": "https://localhost:8080/"
        },
        "id": "DdbRo2pdnTx1",
        "outputId": "90004031-2a45-4ace-94f3-a5d93e7d2a1f"
      },
      "execution_count": 6,
      "outputs": [
        {
          "output_type": "stream",
          "name": "stdout",
          "text": [
            "근육이 커지기 위해서는 무엇보다 규칙적인 생활습관이 중요하다.\n",
            "특히, 아침식사는 단백질과 비타민이 풍부한 과일과 채소를 많이 섭취하는 것이 좋다.\n",
            "또한 하루 30분 이상 충분한 수면을 취하는 것도 도움이 된다.\n",
            "아침 식사를 거르지 않고 규칙적으로 운동을 하면 혈액순환에 도움을 줄 뿐만 아니라 신진대사를 촉진해 체내 노폐물을 배출하고 혈압을 낮춰준다.\n",
            "운동은 하루에 10분 정도만 하는 게 좋으며 운동 후에는 반드시 스트레칭을 통해 근육량을 늘리고 유연성을 높여야 한다.\n",
            "운동 후 바로 잠자리에 드는 것은 피해야 하며 특히 아침에 일어나면 몸이 피곤해지기 때문에 무리하게 움직이면 오히려 역효과가 날 수도 있다.\n",
            "운동을\n"
          ]
        }
      ]
    },
    {
      "cell_type": "markdown",
      "source": [
        "### 사용자 정의 함수"
      ],
      "metadata": {
        "id": "JM-u4vsQWu3p"
      }
    },
    {
      "cell_type": "code",
      "source": [
        "\n",
        "import re\n",
        "\n",
        "# 가사 전처리\n",
        "def preprocess(sentences):\n",
        "    lst = []\n",
        "    for sentence in sentences:\n",
        "        # \\n과 \\t를 제거한다\n",
        "        sentence = re.sub('\\t', '', sentence)\n",
        "        sentence = re.sub('\\n', '', sentence)\n",
        "        # 한국어, 공백 빼고 제거하기\n",
        "        # sentence = re.sub('[^ㄱ-ㅎ가-힣\\s]+', '', sentence)\n",
        "        # 문장 양옆의 띄어쓰기를 지운다\n",
        "        sentence = sentence.strip()\n",
        "\n",
        "        lst.append(sentence)\n",
        "    return lst"
      ],
      "metadata": {
        "id": "YvZp8u8HWwAZ"
      },
      "execution_count": 3,
      "outputs": []
    },
    {
      "cell_type": "markdown",
      "source": [
        "### 데이터 불러오기"
      ],
      "metadata": {
        "id": "84KQfGyJWcvZ"
      }
    },
    {
      "cell_type": "code",
      "source": [
        "song_df = pd.read_csv('가사_스테디셀러.csv')\n",
        "song_df['Lyrics'] = preprocess(song_df['Lyrics'])"
      ],
      "metadata": {
        "id": "pu3ctGzrWcM5"
      },
      "execution_count": 4,
      "outputs": []
    },
    {
      "cell_type": "code",
      "source": [
        "song_df['Lyrics']"
      ],
      "metadata": {
        "colab": {
          "base_uri": "https://localhost:8080/"
        },
        "id": "5lOR0QtnW44C",
        "outputId": "9702158c-dbfa-4997-ed74-c0c6946c0eb6"
      },
      "execution_count": 5,
      "outputs": [
        {
          "output_type": "execute_result",
          "data": {
            "text/plain": [
              "0       보내야 할 때 보낼 수 있을까쉽게 받아들일 수 있니나는 그게 잘 안돼이별이 그렇게 ...\n",
              "1       다시 널 사랑할 수 없다면내 모든 아픔까지 가져가네게 익숙해져 버린 나였기에너를 사...\n",
              "2       해질무렵 날 끌고간 발걸음눈떠보니 잊은줄 알았던 곳에아직도 너의 대한 미움이 남아 ...\n",
              "3       한참동안 그래 울기만 하잖아오늘도 그리워 하잖아그동안 힘들었지날보며 위로하는 그말 ...\n",
              "4       늦은밤 들어와 힘에 겨워 지쳐도 보고싶다 달려와 안겨준 사람아파도 내가 걱정돼 한숨...\n",
              "                              ...                        \n",
              "2628    잠에서 막 일어난 얼굴도 귀여워잠겨버린 목소리 그것도 귀여워너는 아마 그것까진 모를...\n",
              "2629    아무말도 없이 날 바라보는게뭔가 이상해서 두귀를 막았어내 눈에 보이는 너의 입모양이...\n",
              "2630    This is the tihs that y'all ain't ready for Th...\n",
              "2631    하루 종일 비가 와서니 얼굴이 또 생각 나 눈물이 났어한 걸음 더 걸어가면 잊혀질까...\n",
              "2632    관둬 가차없이 너랑 끝낼래너같은 남잔 필요없어대체 그럴꺼면 왜 나를 만나니딴 여자랑...\n",
              "Name: Lyrics, Length: 2633, dtype: object"
            ]
          },
          "metadata": {},
          "execution_count": 5
        }
      ]
    },
    {
      "cell_type": "markdown",
      "source": [
        "### DataLoader"
      ],
      "metadata": {
        "id": "5UXzKbZFVieO"
      }
    },
    {
      "cell_type": "code",
      "source": [
        "lst = ['사랑은 눈에 보이지가 않아어디에 있는지 몰라더듬거리다 찾아다니다이제야 손 끝에 닿았나 봐그때 그대 뒤를 돌아서내게 짓는 웃음에 난 눈을 떠 바람에 흩날리는 그대 향기가낮게 들려오는 그대 목소리가겨울처럼 차가운 내 맘그 안에 스며 들어 와사랑이 눈꽃으로 피어 나그렁 그렁 눈물이 고여이 사랑이 언젠가 시들까 봐바람에 흩날리는 그대 향기가낮게 들려오는 그대 목소리가겨울처럼 차가운 내 맘그 안에 스며 들어 와사랑으로 피어 나하루 이틀 사흘 나흘내 시간을 다 쓸 만큼그대 하나로 난 행복 해바람에 흩날리는 그대 향기가낮게 들려오는 그대 목소리가겨울처럼 차가운 내 맘그 안에 스며 들어 와사랑이 눈꽃으로 피어 나']"
      ],
      "metadata": {
        "id": "xVQJoIiCtNVN"
      },
      "execution_count": 6,
      "outputs": []
    },
    {
      "cell_type": "code",
      "source": [
        "len(lst[0]) # 338"
      ],
      "metadata": {
        "colab": {
          "base_uri": "https://localhost:8080/"
        },
        "id": "wmmVRn0ZtR5l",
        "outputId": "f1175ea1-8c7f-4b3e-b401-6ff71adf8db6"
      },
      "execution_count": 7,
      "outputs": [
        {
          "output_type": "execute_result",
          "data": {
            "text/plain": [
              "338"
            ]
          },
          "metadata": {},
          "execution_count": 7
        }
      ]
    },
    {
      "cell_type": "code",
      "source": [
        "song_df['Lyrics']"
      ],
      "metadata": {
        "colab": {
          "base_uri": "https://localhost:8080/"
        },
        "id": "LhNf5Tu3tb5S",
        "outputId": "d093f030-b4c7-4340-a9d4-d42288067018"
      },
      "execution_count": 8,
      "outputs": [
        {
          "output_type": "execute_result",
          "data": {
            "text/plain": [
              "0       보내야 할 때 보낼 수 있을까쉽게 받아들일 수 있니나는 그게 잘 안돼이별이 그렇게 ...\n",
              "1       다시 널 사랑할 수 없다면내 모든 아픔까지 가져가네게 익숙해져 버린 나였기에너를 사...\n",
              "2       해질무렵 날 끌고간 발걸음눈떠보니 잊은줄 알았던 곳에아직도 너의 대한 미움이 남아 ...\n",
              "3       한참동안 그래 울기만 하잖아오늘도 그리워 하잖아그동안 힘들었지날보며 위로하는 그말 ...\n",
              "4       늦은밤 들어와 힘에 겨워 지쳐도 보고싶다 달려와 안겨준 사람아파도 내가 걱정돼 한숨...\n",
              "                              ...                        \n",
              "2628    잠에서 막 일어난 얼굴도 귀여워잠겨버린 목소리 그것도 귀여워너는 아마 그것까진 모를...\n",
              "2629    아무말도 없이 날 바라보는게뭔가 이상해서 두귀를 막았어내 눈에 보이는 너의 입모양이...\n",
              "2630    This is the tihs that y'all ain't ready for Th...\n",
              "2631    하루 종일 비가 와서니 얼굴이 또 생각 나 눈물이 났어한 걸음 더 걸어가면 잊혀질까...\n",
              "2632    관둬 가차없이 너랑 끝낼래너같은 남잔 필요없어대체 그럴꺼면 왜 나를 만나니딴 여자랑...\n",
              "Name: Lyrics, Length: 2633, dtype: object"
            ]
          },
          "metadata": {},
          "execution_count": 8
        }
      ]
    },
    {
      "cell_type": "code",
      "source": [
        "class SongDataset(Dataset):\n",
        "    def __init__(self, tokenizer, data):\n",
        "        lst = [str(i) for i in data.values]\n",
        "\n",
        "        self.item = tokenizer(\n",
        "            lst,\n",
        "            return_tensors=\"pt\",\n",
        "            padding=\"max_length\",\n",
        "            truncation=True,\n",
        "            max_length=200,\n",
        "        )[\"input_ids\"]\n",
        "        self.length = len(lst)\n",
        "\n",
        "    def __len__(self):\n",
        "        return self.length\n",
        "\n",
        "    def __getitem__(self, idx):\n",
        "        return self.item[idx]"
      ],
      "metadata": {
        "id": "DTWC50NAnZYW"
      },
      "execution_count": 9,
      "outputs": []
    },
    {
      "cell_type": "code",
      "source": [
        "from transformers import PreTrainedTokenizerFast\n",
        "tokenizer = PreTrainedTokenizerFast.from_pretrained(\"skt/kogpt2-base-v2\",\n",
        "                bos_token='</s>', eos_token='</s>', unk_token='<unk>',\n",
        "                pad_token='<pad>', mask_token='<mask>')\n",
        "\n",
        "print('Lyrics의 최대 길이: ', max([len(lyrics) for lyrics in song_df['Lyrics']]))"
      ],
      "metadata": {
        "colab": {
          "base_uri": "https://localhost:8080/",
          "height": 0,
          "referenced_widgets": [
            "10346f2eecce40b2bfb373bb4bf669f4",
            "5c28da2481be4bdb9de8c553e7e75785",
            "289c1fbfe2134b1f8f1748babba1780a",
            "69de4bcbc7f146c4977b75fcb3d0218f",
            "1ef72b5c86f84e89babdf06c4fb02389",
            "a8ef51ac852c4f6eb439b3ae365eadbb",
            "be9aceb8eeb84bb1ba2c31d2efbb2008",
            "6f9e2b052d454efaa1aedb1f32a6c5bf",
            "b30021d5b309434f98d12318f9e8b557",
            "70d27ae1ce5d4d8a9a65eb56f4b6ac37",
            "927a9516abb44d4f9c1058ebc9d9949b",
            "9f54ee6309bf4dd387fa6b82e2a6389a",
            "b35a68df04bb4e0fb76261d190acbf6d",
            "09d8a2032040435ea3789a001eb11036",
            "8cbba9939ba74ff59274c9dddd6dad9d",
            "864fade63a8241c2abb63b3fffb0b9f2",
            "5caafcc94abc4b87b3290a46769b4cf8",
            "fd58903073cd4388a9931259adc8c501",
            "29e51775d8344caf8b4ed42796e1ca6b",
            "38c2aba2a65f4b2fbcd8b666a1de3a5e",
            "7884e6ab80b443e2a949af3a4363bf12",
            "4f628a473b4441f5a1257d76e9138512"
          ]
        },
        "id": "7ecANQxdc8fP",
        "outputId": "150182ab-3a24-4309-b319-c7771f243853"
      },
      "execution_count": 10,
      "outputs": [
        {
          "output_type": "display_data",
          "data": {
            "text/plain": [
              "Downloading (…)/main/tokenizer.json:   0%|          | 0.00/2.83M [00:00<?, ?B/s]"
            ],
            "application/vnd.jupyter.widget-view+json": {
              "version_major": 2,
              "version_minor": 0,
              "model_id": "10346f2eecce40b2bfb373bb4bf669f4"
            }
          },
          "metadata": {}
        },
        {
          "output_type": "display_data",
          "data": {
            "text/plain": [
              "Downloading (…)lve/main/config.json:   0%|          | 0.00/1.00k [00:00<?, ?B/s]"
            ],
            "application/vnd.jupyter.widget-view+json": {
              "version_major": 2,
              "version_minor": 0,
              "model_id": "9f54ee6309bf4dd387fa6b82e2a6389a"
            }
          },
          "metadata": {}
        },
        {
          "output_type": "stream",
          "name": "stderr",
          "text": [
            "The tokenizer class you load from this checkpoint is not the same type as the class this function is called from. It may result in unexpected tokenization. \n",
            "The tokenizer class you load from this checkpoint is 'GPT2Tokenizer'. \n",
            "The class this function is called from is 'PreTrainedTokenizerFast'.\n"
          ]
        },
        {
          "output_type": "stream",
          "name": "stdout",
          "text": [
            "Lyrics의 최대 길이:  2501\n"
          ]
        }
      ]
    },
    {
      "cell_type": "code",
      "source": [
        "tokenizer.tokenize('가나다')"
      ],
      "metadata": {
        "colab": {
          "base_uri": "https://localhost:8080/"
        },
        "id": "_5AeHU_bXyaw",
        "outputId": "aa878777-1e3e-4b0e-ee80-3d1303d75947"
      },
      "execution_count": 11,
      "outputs": [
        {
          "output_type": "execute_result",
          "data": {
            "text/plain": [
              "['▁가', '나다']"
            ]
          },
          "metadata": {},
          "execution_count": 11
        }
      ]
    },
    {
      "cell_type": "code",
      "source": [
        "batch_size=16\n",
        "\n",
        "train_data = SongDataset(tokenizer, song_df['Lyrics'])\n",
        "train_dataloader = DataLoader(train_data, batch_size=batch_size)"
      ],
      "metadata": {
        "id": "yRhqv4-Qe0Mi"
      },
      "execution_count": 12,
      "outputs": []
    },
    {
      "cell_type": "code",
      "source": [
        "# 데이터셋 잘 만들어졌는지 확인\n",
        "train_data.__getitem__(3)"
      ],
      "metadata": {
        "colab": {
          "base_uri": "https://localhost:8080/"
        },
        "id": "YBrZS72_dvyb",
        "outputId": "c1a4eaee-beac-4c15-dfd5-1f84ed4f8c79"
      },
      "execution_count": 13,
      "outputs": [
        {
          "output_type": "execute_result",
          "data": {
            "text/plain": [
              "tensor([44023, 11097, 10723, 10489, 23001,  9078,  8162,  7965, 30899,  7235,\n",
              "        27094,  9078,  8162,  7965,  6947, 11097, 20164,  8017,  8263,  7060,\n",
              "        42282, 12422,  9033,  9022,  7492,  9022,  7492,  8704,  8340, 11097,\n",
              "        10099,  8143, 31656,  8137, 10437,  7501,  7182,  7141,  8137, 10027,\n",
              "        18381, 10753, 36101,  7489,  9797,  7788,  8748,  7888, 12582,  8148,\n",
              "         6855,  8263, 15076, 10099,  8066, 14531,  7652,  7210, 33136,  7760,\n",
              "         6889, 11608,  6855, 11039,  8263,   415, 29393, 21770, 18896, 16740,\n",
              "        19490, 15949, 13008, 37090, 11849,   443, 32400,  9456,  6969,  8084,\n",
              "          426, 14308, 11849,   443, 44389, 10272, 19490, 15949, 13008, 37090,\n",
              "        11849,   443, 47317, 12964,  9144, 10846,  7335,  9117,  9329,  9117,\n",
              "         9329,  9117, 50220,  9965, 17380,  7847,  9126,  7185,  9539,  7970,\n",
              "        14166, 10099,  7470,  9108,  9117,  7652, 12790, 14981,  7055, 12751,\n",
              "         6853,  7991, 12086, 14042,  6889, 22227,  8263,  8422, 42045, 15570,\n",
              "        10489,  6889, 11608,  8263,  7089, 10056,  7898,  9217, 31894,  7623,\n",
              "        12108, 18381, 47317, 24692,  8704,  7623,  8325, 21660,  8263,   415,\n",
              "        29393, 21770, 18896, 16740, 19490, 15949, 13008, 37090, 11849,   443,\n",
              "        32400,  9456,  6969,  8084,   426, 14308, 11849,   443, 44389, 10272,\n",
              "        19490, 15949, 13008, 37090, 11849,   443, 47317, 12964,  9144, 10846,\n",
              "         7335,  9117,  9329,  9117,  9329,  9117, 50220,  9965, 17380,  7847,\n",
              "         9126,  7185,  9539,  7970, 14166, 10099,  7470,  9108,  9117,  7652])"
            ]
          },
          "metadata": {},
          "execution_count": 13
        }
      ]
    },
    {
      "cell_type": "code",
      "source": [
        "# 데이터로드 잘 만들어졌는지 확인\n",
        "dataiter = iter(train_dataloader)\n",
        "item = next(dataiter)"
      ],
      "metadata": {
        "id": "q4gJLxfneBwm"
      },
      "execution_count": 14,
      "outputs": []
    },
    {
      "cell_type": "code",
      "source": [
        "item"
      ],
      "metadata": {
        "colab": {
          "base_uri": "https://localhost:8080/"
        },
        "id": "IAJKdgZLeRpi",
        "outputId": "07ec0731-5d9c-49bc-a944-baf48b3197dd"
      },
      "execution_count": 15,
      "outputs": [
        {
          "output_type": "execute_result",
          "data": {
            "text/plain": [
              "tensor([[11219,  7991,  9337,  ...,  8191, 17748, 40140],\n",
              "        [ 9427,  9965, 10270,  ..., 34342,  7071,  9548],\n",
              "        [ 9098,  8267,  7556,  ...,  8705,  9025, 12594],\n",
              "        ...,\n",
              "        [30478, 12748, 11382,  ..., 18223,  6872,  8263],\n",
              "        [24802, 17946, 10247,  ...,  7055,  7235, 13055],\n",
              "        [10366, 23854,  9769,  ..., 27094,  8265,  9016]])"
            ]
          },
          "metadata": {},
          "execution_count": 15
        }
      ]
    },
    {
      "cell_type": "markdown",
      "source": [
        "### GPU 사용"
      ],
      "metadata": {
        "id": "0k3kby7qfO7K"
      }
    },
    {
      "cell_type": "code",
      "source": [
        "if torch.cuda.is_available():\n",
        "    device = torch.device(\"cuda\")\n",
        "    print('There are %d GPU(s) available.' % torch.cuda.device_count())\n",
        "    print('We will use the GPU:', torch.cuda.get_device_name(0))\n",
        "else:\n",
        "    device = torch.device(\"cpu\")\n",
        "    print('No GPU available, using the CPU instead.')"
      ],
      "metadata": {
        "colab": {
          "base_uri": "https://localhost:8080/"
        },
        "id": "9y--jtiYfSjy",
        "outputId": "03129667-d704-44c4-d30f-e0ea4e2ddb3a"
      },
      "execution_count": 16,
      "outputs": [
        {
          "output_type": "stream",
          "name": "stdout",
          "text": [
            "There are 1 GPU(s) available.\n",
            "We will use the GPU: Tesla T4\n"
          ]
        }
      ]
    },
    {
      "cell_type": "markdown",
      "source": [
        "### 모델 만들기"
      ],
      "metadata": {
        "id": "8ZcxrLcMfMo1"
      }
    },
    {
      "cell_type": "code",
      "source": [
        "import torch\n",
        "from transformers import GPT2LMHeadModel\n",
        "\n",
        "model = GPT2LMHeadModel.from_pretrained('skt/kogpt2-base-v2').to(device)"
      ],
      "metadata": {
        "id": "pNSP6aGRc6pR",
        "colab": {
          "base_uri": "https://localhost:8080/",
          "height": 77,
          "referenced_widgets": [
            "dabe8ab50d4b4adba6461ee937d5c892",
            "dea13ab5aeee47048e28fbaf57ecb610",
            "819faf26da82442cbb13f0119b2cc28c",
            "a618f4ba2829487281176a44a9b718a6",
            "f3c7a9619a374c919f7c88a8caa29c13",
            "50b01c310bbd466088db084384f05d8c",
            "7aa79059aa474ba3bcead60fdd3f38dc",
            "829aba20b39f4df38ade9fea174fc32b",
            "9eecc080a90740a4836c901056e9bcc9",
            "59ce471998d54ef1b7b0d202a4173492",
            "434caf33bab946d1ba8a014c20920b5b"
          ]
        },
        "outputId": "d4b863f8-7ade-4057-fe00-973376eba1b2"
      },
      "execution_count": 17,
      "outputs": [
        {
          "output_type": "display_data",
          "data": {
            "text/plain": [
              "Downloading pytorch_model.bin:   0%|          | 0.00/513M [00:00<?, ?B/s]"
            ],
            "application/vnd.jupyter.widget-view+json": {
              "version_major": 2,
              "version_minor": 0,
              "model_id": "dabe8ab50d4b4adba6461ee937d5c892"
            }
          },
          "metadata": {}
        }
      ]
    },
    {
      "cell_type": "code",
      "source": [
        "model"
      ],
      "metadata": {
        "colab": {
          "base_uri": "https://localhost:8080/"
        },
        "id": "utQJoX4Tpd8j",
        "outputId": "e0ffa7dd-da15-4b68-9a94-41ca6f9aad6c"
      },
      "execution_count": 18,
      "outputs": [
        {
          "output_type": "execute_result",
          "data": {
            "text/plain": [
              "GPT2LMHeadModel(\n",
              "  (transformer): GPT2Model(\n",
              "    (wte): Embedding(51200, 768)\n",
              "    (wpe): Embedding(1024, 768)\n",
              "    (drop): Dropout(p=0.1, inplace=False)\n",
              "    (h): ModuleList(\n",
              "      (0-11): 12 x GPT2Block(\n",
              "        (ln_1): LayerNorm((768,), eps=1e-05, elementwise_affine=True)\n",
              "        (attn): GPT2Attention(\n",
              "          (c_attn): Conv1D()\n",
              "          (c_proj): Conv1D()\n",
              "          (attn_dropout): Dropout(p=0.1, inplace=False)\n",
              "          (resid_dropout): Dropout(p=0.1, inplace=False)\n",
              "        )\n",
              "        (ln_2): LayerNorm((768,), eps=1e-05, elementwise_affine=True)\n",
              "        (mlp): GPT2MLP(\n",
              "          (c_fc): Conv1D()\n",
              "          (c_proj): Conv1D()\n",
              "          (act): NewGELUActivation()\n",
              "          (dropout): Dropout(p=0.1, inplace=False)\n",
              "        )\n",
              "      )\n",
              "    )\n",
              "    (ln_f): LayerNorm((768,), eps=1e-05, elementwise_affine=True)\n",
              "  )\n",
              "  (lm_head): Linear(in_features=768, out_features=51200, bias=False)\n",
              ")"
            ]
          },
          "metadata": {},
          "execution_count": 18
        }
      ]
    },
    {
      "cell_type": "code",
      "source": [
        "optimizer = AdamW(model.parameters(),\n",
        "                  lr = 2e-5,\n",
        "                  eps = 1e-8)"
      ],
      "metadata": {
        "colab": {
          "base_uri": "https://localhost:8080/"
        },
        "id": "CRU323yYgGiT",
        "outputId": "99f92289-5e87-4c16-9c70-31a38bef53c1"
      },
      "execution_count": 19,
      "outputs": [
        {
          "output_type": "stream",
          "name": "stderr",
          "text": [
            "/usr/local/lib/python3.10/dist-packages/transformers/optimization.py:411: FutureWarning: This implementation of AdamW is deprecated and will be removed in a future version. Use the PyTorch implementation torch.optim.AdamW instead, or set `no_deprecation_warning=True` to disable this warning\n",
            "  warnings.warn(\n"
          ]
        }
      ]
    },
    {
      "cell_type": "code",
      "source": [
        "def format_time(elapsed):\n",
        "    elapsed_rounded = int(round((elapsed)))\n",
        "    return str(datetime.timedelta(seconds=elapsed_rounded))  # hh:mm:ss"
      ],
      "metadata": {
        "id": "404AmyQPiXIL"
      },
      "execution_count": 20,
      "outputs": []
    },
    {
      "cell_type": "code",
      "source": [
        "# cuda 메모리 지우기\n",
        "import torch\n",
        "torch.cuda.empty_cache()\n",
        "\n",
        "import gc\n",
        "gc.collect()"
      ],
      "metadata": {
        "colab": {
          "base_uri": "https://localhost:8080/"
        },
        "id": "qxwueOAb2Z0O",
        "outputId": "80436519-72e3-45ba-c9da-bc3a8696b446"
      },
      "execution_count": 21,
      "outputs": [
        {
          "output_type": "execute_result",
          "data": {
            "text/plain": [
              "137"
            ]
          },
          "metadata": {},
          "execution_count": 21
        }
      ]
    },
    {
      "cell_type": "code",
      "source": [
        "def generate(keyword):\n",
        "    input_ids = tokenizer.encode(keyword, return_tensors='pt')\n",
        "    input_ids = input_ids.to(device)\n",
        "    gen_ids = model.generate(input_ids,\n",
        "                        max_length=128,\n",
        "                        repetition_penalty=2.0,\n",
        "                        pad_token_id=tokenizer.pad_token_id,\n",
        "                        eos_token_id=tokenizer.eos_token_id,\n",
        "                        bos_token_id=tokenizer.bos_token_id,\n",
        "                        use_cache=True)\n",
        "    generated = tokenizer.decode(gen_ids[0])\n",
        "    return generated"
      ],
      "metadata": {
        "id": "dX6E4uCGcK8B"
      },
      "execution_count": 33,
      "outputs": []
    },
    {
      "cell_type": "code",
      "source": [
        "# 학습 전 generate 함수 동작 테스트\n",
        "keywords = ['밥을 먹어도', '매일같이', '배고파']\n",
        "\n",
        "for keyword in keywords:\n",
        "    #keyword = keyword.to(device)\n",
        "    gen = generate(keyword)\n",
        "    gen_print = gen.split('\\n')[0:2]\n",
        "    print(f\"{keyword} : {gen_print}\")"
      ],
      "metadata": {
        "id": "F8jRs6A_mydk",
        "colab": {
          "base_uri": "https://localhost:8080/"
        },
        "outputId": "fd350005-6c5c-4731-d54b-b1bc38879143"
      },
      "execution_count": 47,
      "outputs": [
        {
          "output_type": "stream",
          "name": "stdout",
          "text": [
            "밥을 먹어도 : ['밥을 먹어도 맛있고,', '이렇게 맛있는 #치킨 을 먹고 싶을 때 꼭 먹어봐야겠어요!']\n",
            "매일같이 : ['매일같이 씩 웃으며 \"우리도 잘해줘서 고맙다\"고 말했다.', '이날 행사에는 박근혜 대통령, 김무성 새누리당 대표와 원유철 원내대표, 정병국 문화체육관광방송통신위원장, 이한구 정책위의장 등 여야 지도부와 각 당 사무총장이 참석했다.']\n",
            "배고파 : ['배고파서 #먹스타그램', '<unk>beats_diet</d> 오늘은 내일도 좋은 하루 되세요!']\n"
          ]
        }
      ]
    },
    {
      "cell_type": "code",
      "source": [
        "# 학습 모드\n",
        "model.train()\n",
        "epochs = 15\n",
        "min_loss = 1\n",
        "\n",
        "for epoch in range(epochs):\n",
        "    print('======== Epoch {:} / {:} ========'.format(epoch + 1, epochs))\n",
        "    t0 = time.time()\n",
        "    total_loss = 0\n",
        "\n",
        "    for input_text in tqdm(train_dataloader):\n",
        "        input_tensor = input_text.to(device)\n",
        "        # print(input_tensor)\n",
        "        # print(input_tensor.shape)\n",
        "\n",
        "        # input과 label이 같다.\n",
        "        outputs = model(input_tensor, labels=input_tensor)\n",
        "        # print('outputs:', outputs)\n",
        "        loss = outputs[0]\n",
        "\n",
        "        # cpu로 변경하기\n",
        "        input_tensor.cpu()\n",
        "\n",
        "        optimizer.zero_grad()\n",
        "        model.zero_grad()\n",
        "        loss.backward()\n",
        "        optimizer.step()\n",
        "\n",
        "\n",
        "    print(f\"epoch {epoch} loss {outputs[0].item():0.2f}\")\n",
        "    print(\"  Training epcoh took: {:}\".format(format_time(time.time() - t0)))\n",
        "\n",
        "\n",
        "    keywords = ['밥을 먹어도', '매일같이', '배고파']\n",
        "    for keyword in keywords:\n",
        "        gen = generate(keyword)\n",
        "        gen_print = gen.split('\\n')[0:2]\n",
        "        print(f\"{keyword} : {gen_print}\")\n"
      ],
      "metadata": {
        "id": "mo2x1T3Ec6k_",
        "colab": {
          "base_uri": "https://localhost:8080/"
        },
        "outputId": "cef63658-115e-4472-c66c-75838200e7f1"
      },
      "execution_count": 48,
      "outputs": [
        {
          "output_type": "stream",
          "name": "stdout",
          "text": [
            "======== Epoch 1 / 15 ========\n"
          ]
        },
        {
          "output_type": "stream",
          "name": "stderr",
          "text": [
            "  0%|          | 0/165 [00:00<?, ?it/s]We strongly recommend passing in an `attention_mask` since your input_ids may be padded. See https://huggingface.co/docs/transformers/troubleshooting#incorrect-output-when-padding-tokens-arent-masked.\n",
            "100%|██████████| 165/165 [02:13<00:00,  1.24it/s]\n"
          ]
        },
        {
          "output_type": "stream",
          "name": "stdout",
          "text": [
            "epoch 0 loss 3.25\n",
            "  Training epcoh took: 0:02:13\n",
            "밥을 먹어도 : ['밥을 먹어도 돼요 괜히 웃어봐도 너무 예뻐서 눈물이 날까 봐 울지 말아줘야 해요. 내 맘이 이렇게 아파 보여 사랑해 난 너를 좋아하지만 그게 싫어서 못살아 보려고 해도 안돼 니가 왜 이러니 내가 어떻게 살아야 하는 건데 이럴 수가 없어 그냥 널 보내줄래 나만 있으면 되잖니가 정말 미안해서 그래그래너무 보고 싶었나보니까 네 모습이 너무나 아름다워보여 눈이 부시네눈물까지 흘렸는데그냥 볼 수 있어내 안에 있는 모든 게 다 들어있을 거라고 생각했는데내가 얼마나']\n",
            "매일같이 : ['매일같이 웃고 있는 너의 모습그냥 보고 싶었어너무나도 사랑했던 그 사람아직까지도 내겐 너무 잘 어울리는데요이렇게 행복하게 살고 있어내게 다가와줘서 고마워하지만 난 아직 미련만 남아있어사랑해 넌 정말 좋은 사람이야난 아직도 못 잊혀져버렸지오늘은 또 다른 날 만나러 가야 돼지금부터라도 다시 시작해야돼우리 모두 함께 할 수 있게다시 한번 더 말해봐그래 그래 오늘만은 꼭꼭 돌아와주길 바래다시는 안 올 거라고생각했었는데왜 이렇게 힘들기만 해니가 없는 건']\n",
            "배고파 : ['배고파도 못 견디는다던 그 사람그런데 왜 난 너를 사랑해요사랑은 뭔지 몰라서 나는 너무 슬퍼너무 아파내 맘을 아프게 해줘이제 그만 날 떠나가세요.내가 아닌 다른 사람이 돼버렸어왜 나만 이렇게 아픈거니난 니와 같은 사랑을 원했나봐니가 없는건 아니야아픈 내 가슴엔 사랑이 없어눈물처럼 눈물이 흘러넘쳐오네널 보고 싶었다면미련 없이 널 볼 수 있다면정말 미안한 마음뿐이야우리 함께라면 행복할텐데,그래야만 내가 더 잘']\n",
            "======== Epoch 2 / 15 ========\n"
          ]
        },
        {
          "output_type": "stream",
          "name": "stderr",
          "text": [
            "100%|██████████| 165/165 [02:18<00:00,  1.19it/s]\n"
          ]
        },
        {
          "output_type": "stream",
          "name": "stdout",
          "text": [
            "epoch 1 loss 2.93\n",
            "  Training epcoh took: 0:02:19\n",
            "밥을 먹어도 : ['밥을 먹어도 괜찮아요그냥 그냥 그게 좋아요.이렇게 말해도 돼서 난 너를 사랑해줘도 될 것 같아그래야 해줄 수 있어너무나 잘해주지 못해 미안한 마음뿐이야내가 너무 보고 싶어서 그래 내가 널 원해서 그랬어니가 날 버린 건 아니니까널 위해서라도 니가 내겐 필요했잖니내 맘을 돌려주겠다네사랑한다 말해봐 봐라말하지 말아달란 말이 없어난 네 눈빛에 빠져버렸는데네가 나를 버렸다고 해도넌 내게 필요한 거 아냐고눈물만 흘리고 있죠']\n",
            "매일같이 : ['매일같이 널 보면은근히 웃음이 나와서웃는 얼굴도내겐 너무 예쁜데그냥 내 맘에 들어요이렇게 너를 사랑해줘너무 예뻐 보여줄래난 네가 좋아보여널 볼 때면눈물이 나네그래 그래 난 니만 봐봐넌 정말 잘생겼는데왜 날 이렇게 빤하게 쳐다봤어니가 먼저 고백했잖아니야 내가 잘못됐나보이지 않아내가 왜 이러는지알고 있단 말이라도 해볼까오늘따라 더 울적해져날 보고 싶어서사랑한다고 말해줬더니네가 또 나를 원해서더 많이 아파']\n",
            "배고파 : ['배고파서 울어요그대 눈물이 그댈 아프게 했죠아픈 맘에 눈물만 나네요.사랑한다 말했었나 봐도눈물보다 더 아픈 건가봐이렇게라도 사랑해줘야 할텐데왜 이렇게 못난 내맘을 몰라주던 너의 모습이 너무 그리워울지 말아줄래너를 떠나면 안돼내 곁에 있어주면 돼괜찮다고 말해줬잖니내가 널 보내준다면널 위해 기도할께니가 날 버린건 잘못인걸알면서 왜 그렇게 애써 외면하는지넌 정말 미안한 걸 알면서도 난 잘 모르겠다']\n",
            "======== Epoch 3 / 15 ========\n"
          ]
        },
        {
          "output_type": "stream",
          "name": "stderr",
          "text": [
            "100%|██████████| 165/165 [02:19<00:00,  1.18it/s]\n"
          ]
        },
        {
          "output_type": "stream",
          "name": "stdout",
          "text": [
            "epoch 2 loss 2.73\n",
            "  Training epcoh took: 0:02:20\n",
            "밥을 먹어도 : ['밥을 먹어도 괜찮아요그냥 내버려둬도 돼요. 그게 좋아. 난 행복해 보여서 그래그래 그렇게 사랑할래이별은 내가 아닌데왜 이렇게 쉽게 잊혀지죠사랑한단 말만 하면 다신 못 볼 것 같아눈물이 날 것만 같아이렇게 아픈 건 처음이야내겐 너무 소중한걸알잖어 왜 이러는 거니너무 보고싶어서 눈물은 나보다 더 많이 흘렸는데널 기다리던 너의 모습이 떠올라가슴에 멍울을 적셔주네나에게 미안하다며 눈물짓고 있는 나를 보며 웃으며 울었']\n",
            "매일같이 : ['매일같이 널 만나고 싶어너와 함께라면 괜찮아질 것 같아그냥 웃어줄래오늘은 너의 얘기들잘 들어줘요내일이면 난 니가 좋아할 거야난 그게 너무 좋아서 그래그래도 내일은 잘 될거라고생각해봐서 그렇지 않아널 위해서라도 날 사랑해줄걸내가 먼저 말할께니가 없는 나에겐 미안한 마음만 남아 있어이제 그만 해볼까말하지 말아달란 말 하지마사랑을 할 수 있는 건지날 위해 기도하는 게 아닌데왜 이렇게 슬픈건지도 몰라눈물 나는 가슴']\n",
            "배고파 : ['배고파도 웃을 수 있어요그대 눈빛에 그대 목소리 들릴때면 난 행복해 줘서 너무 고마워이제야 알았어 너의 손을 잡고 싶어너무나 사랑한거라 생각했지사랑은 사랑이 아니란걸알아내겐 너무나 소중한 사람인데널 위해 기도할게그래 잘 지내니잘 지내고 있길 바래니가 없는 날엔난 정말 행복한데왜 이렇게 많이 울었는지내가 널 잊으려 해봐도가슴속에 묻어둔 니가 보여눈물이 흘러와가슴속 깊은 곳에넌 없는데날 두고 떠나간다면언제나 내곁']\n",
            "======== Epoch 4 / 15 ========\n"
          ]
        },
        {
          "output_type": "stream",
          "name": "stderr",
          "text": [
            "100%|██████████| 165/165 [02:20<00:00,  1.18it/s]\n"
          ]
        },
        {
          "output_type": "stream",
          "name": "stdout",
          "text": [
            "epoch 3 loss 2.58\n",
            "  Training epcoh took: 0:02:20\n",
            "밥을 먹어도 : ['밥을 먹어도 괜찮아요그냥 내겐 그대가 너무 좋아이제껏 난 너를 사랑해본적 없어요. 하지만 이젠 행복하죠 그대만 생각하면 눈물이 날 것 같아눈물 흘리는 나를 보면난 정말 미련에 빠져버렸어왜 이렇게도 슬픈지 왜 그렇게 바보처럼 말 못하는건가봐내게 이런말 하지 말아줘서 고맙다고 말할 수 있어너무 보고 싶어서 못 보내는데내가 널 잊을 수가 없어서미안하다고 말하지 마세상 모든걸 다 준거라곤사랑한단 그런 말도 안돼날 버린다면나 혼자라도 살아']\n",
            "매일같이 : ['매일같이 비가 내려서잠이 오지 않는 밤하늘에 별이 빛나네요그대만 바라보다가도눈물이 나죠내 맘을 훔치고 싶어비라도 내리면 난 울어줄래비가 와 내렸는데너를 생각하면 눈물로 가득해아무것도 할 수 없어널 사랑한다고 말해도난 너의 손을 놓지 못해사랑한다는 그 말을 해도날 잊고 싶어서울기 위해서한번쯤은 널 볼까봐미련이란게 없는 걸 알지만잊혀질 순 없잖아이제 그만 날 떠나가줘언제나 네 곁에 있어주면 돼너의 모든걸 다 가져갈께']\n",
            "배고파 : ['배고파서 울었어요그대만 생각하면 가슴이 떨려오네아직도 내 가슴은 너무 아파이렇게 아픈데왜 이렇게 눈물이 나죠내게 미안해 그댈 사랑했잖아나도 잘 알겠지사랑한단 말조차 못 했나봐눈물 흘린 날들 모두 잊혀져가는데너무 보고 싶어서울다 지친 너를 달래려고오늘밤을 또 보내줘하루종일 눈물 속에 잠들어있어우리 함께 했던 시간들이모두 다 사라져버렸어나에게 남은 추억들을잊으려 애쓰다가끝내는 후회할거야가슴에 묻어']\n",
            "======== Epoch 5 / 15 ========\n"
          ]
        },
        {
          "output_type": "stream",
          "name": "stderr",
          "text": [
            "100%|██████████| 165/165 [02:19<00:00,  1.18it/s]\n"
          ]
        },
        {
          "output_type": "stream",
          "name": "stdout",
          "text": [
            "epoch 4 loss 2.43\n",
            "  Training epcoh took: 0:02:20\n",
            "밥을 먹어도 : ['밥을 먹어도 괜히 눈물이 나더라너무 보고 싶어서 못 보낸다던 그 사람그 사람이 너무 좋아보여눈물만 흘러서 널 보면 울고 웃는 너를 보며내가 미안해요 사랑했었죠사랑한단 말 한마디 못하고떠나간 내 모습잊혀져가는 날까지이렇게 가슴 아파도 난 행복할게잘 가란 말이야난 잘가라고 안아줘봐그래 그렇게 살아줄께니가 없는 사랑은못살겠어 니 맘을 몰라도널 위해 남겨진거니까내 곁에 있어주면 돼가슴아파도가슴 아프도록 아픈 사랑을왜 못해 이렇게 애']\n",
            "매일같이 : ['매일같이 난 늘 너를 기다렸어매일 아침은 너무 좋아아침엔 너무나도 괜찮았지난 잠이 안 와잠 못 들어있는 나를 깨워줘너무 보고 싶어그대에게 고백할까봐널 사랑한다고 말할게오늘 밤에도 네가 있는 날밤새도록 널 기다려왔는데날씨는 정말 좋았는데왜 자꾸만 눈물이 나요내 맘을 몰라주는 내사랑 니곁에 있어줄래니가 없는 하루하루종일 울기만 했었네눈물마저 마르기 전에넌 눈물 흘려야겠죠나보다 더 예쁜 사람다른 여자친구들처럼']\n",
            "배고파 : ['배고파도 지쳐가면그대에게 말해줘요내게 말해주세요한 번만 더 내게 말을 해봐이제야 알겠어 난 너를 사랑해사랑은 넌 모르나 봐아무것도 몰라서난 아무것도 모른채 살아가야만 하는걸너와 나라는 두사람이여기 있어주길 바래오직 그대만을 위해 기도할께우리 함께 걷던 그 길을멈춰버릴순 없어우리의 사랑이 다시 돌아올 때까지날 믿어준다면오늘밤엔 꼭꼭 걸어줄테니널 위해서라면 날 떠나가지 말아언젠간 우리함께 행복하게 해주렴니가']\n",
            "======== Epoch 6 / 15 ========\n"
          ]
        },
        {
          "output_type": "stream",
          "name": "stderr",
          "text": [
            "100%|██████████| 165/165 [02:20<00:00,  1.18it/s]\n"
          ]
        },
        {
          "output_type": "stream",
          "name": "stdout",
          "text": [
            "epoch 5 loss 2.28\n",
            "  Training epcoh took: 0:02:20\n",
            "밥을 먹어도 : ['밥을 먹어도 돼요그대만 있으면 난 행복해 줘서 고마워요. 그대도 내 맘이니까 그대가 너무 미안해서 못살아서 그런거죠내게 사랑이란걸 알기에 나 이렇게 아픈데 눈물이 날만큼은 정말 울지 말아줄래 이대로 영원히 함께 해준다면 안돼 제발 부탁이야 내가 잘할테니 걱정말아 줄수 있어제발을 좀 봐봐. 이제 그만 나를 떠나가지 마세요한번쯤이라도 내게 말해 주겠어사랑한단 말조차 못한채 눈물짓던날들 모두 잊을 수 있기를난 바랬잖아이']\n",
            "매일같이 : ['매일같이 널 볼 수 없는데이럴 땐그냥 울어줄래오늘도 난 혼자 있어줘난 너를 사랑해사랑을 할게널 위해너와 함께라면내 모든걸 줄거야날 봐주는 사람아니가 없는 날엔내가 있는 곳에행복하게 해준 사람이니까네가 없어도나는 행복하니까넌 내 곁에있어주면 돼나만 있으면돼너의 손을 잡고서눈물없이 웃고파하루처럼 하루가 다르게멀리 있어도언제나 네곁에 있을 거라생각했었는데너는 너무 보고 싶어서매일 같이 잠들 수가 없어밤새도록 눈을 떠봐도가슴']\n",
            "배고파 : ['배고파서 울었어요그대만 있으면 돼 난 너무 행복해 그댈 안고 싶어서울지 못해 미안하단 말뿐인걸 알았죠 그대 때문에 내 맘이 아파도 괜찮을까봐 나 혼자 눈물 흘리며 살아왔는데 이제야 눈물이 날 것 같아 사랑했나 봐 이젠 안돼요. 제발 나를 떠나지 말아줘 영원히 못 잊는 건가 싶어 아픈 가슴으로 널 보내주겠니 이렇게라도 다시 태어나면 되니까 내가 더 잘해줄게 꼭꼭 숨겨두세요', '내 안에 너를 위해 남겨둔 채우리의 마지막 한숨처럼 니 곁에']\n",
            "======== Epoch 7 / 15 ========\n"
          ]
        },
        {
          "output_type": "stream",
          "name": "stderr",
          "text": [
            "100%|██████████| 165/165 [02:20<00:00,  1.18it/s]\n"
          ]
        },
        {
          "output_type": "stream",
          "name": "stdout",
          "text": [
            "epoch 6 loss 2.15\n",
            "  Training epcoh took: 0:02:20\n",
            "밥을 먹어도 : ['밥을 먹어도 괜찮아요 난 너무 좋아서 못 먹는 걸 알면서도 자꾸만 눈물이 나네요. 이대로 보내줘도 돼 내 사랑 그대 행복이니까 그댄 정말 잘 지내나봐. 이렇게 아픈데 왜 이러니 눈물 감추려고 그래야 하는데 너는 대체 누구란 말인가 봐, 혹시라도 널 볼 수 있다면 내가 꼭 부탁해 줄게 지금껏 단 한번의 잘못이라도 내게 미안한 마음뿐이야 이런 날 용서할수 있니아름다웠던 나의 사랑이 이제 잊혀져 가는데 니가 다시 돌아올순 없어- -너무 보고 싶어서 미칠 것 같아 (']\n",
            "매일같이 : [\"매일같이 비가 내려도 난 너를 잊지 못해 넌 내 곁에 있어줘 baby stilla me love you wanna fall inside out with the only nightIt's gon' taken that I cry forget to doing about Your hand너와 함께라면 더 좋을 텐데난 항상 네 옆에 있잖아왜 이렇게 우산이 필요한지이런 날이면 왜 자꾸만 비에 젖어있는걸까비 내리는 시간 속에 나는 너무 아름다워내게로 와봐야겠다 말하고 싶은거 다\"]\n",
            "배고파 : ['배고파요그대만 남아서  그대 손을 잡고 걸어가고 있어이렇게 난 혼자인데사랑은 이렇게도 쉬운데왜 날 사랑하지 못해 미안해 하지마내게 말해줘난 그댈 위해 살아왔어아무런 걱정 없이 살래너와 함께 걷던 길언제나 너의 곁에 있을거야널 위해서라면 내가 할 수 있는 모든걸다 해줄께기다리는 내 맘을 다 줄 테니날 믿어주겠니그래 그렇게 널 위한다면내가 먼저 내게 말할테니까니가 없는 이 세상에혼자 있어도 행복할수 있게잊지 말아주면 돼나 없이도 잘살꺼라']\n",
            "======== Epoch 8 / 15 ========\n"
          ]
        },
        {
          "output_type": "stream",
          "name": "stderr",
          "text": [
            "100%|██████████| 165/165 [02:19<00:00,  1.18it/s]\n"
          ]
        },
        {
          "output_type": "stream",
          "name": "stdout",
          "text": [
            "epoch 7 loss 2.04\n",
            "  Training epcoh took: 0:02:20\n",
            "밥을 먹어도 : ['밥을 먹어도 난 눈물이 멈추질 않아요그대 입술이 너무 떨려와도난 눈물 없이는 못 보내요.아무런 말도 필요 없어이별 그 아픔을 알기에내겐 오직 하나뿐인 사람사랑 때문에 울고 있는 그대여날 사랑해줘서 고마워너를 위해서 기도할게널 위해 내가 할 수 없는건내가 너의 전부라는걸알면서도 이렇게 외쳐봐도가슴에 멍울만 쌓이고 있어눈물로 가득 채운 내 모습가슴 속에 남아있는 모든 사랑이 다 사라지기전에제발 날 떠나지 말아요한순간마다 널 기억해주던사람은 행복했었']\n",
            "매일같이 : ['매일같이 아름다운 날엔그대만 보여요내겐 그대뿐이죠매일 같이 행복한날에는난 그댈 위해 살고 있어사랑하는 내 맘에 안겨서행복하게 해줄게세상에 단 하나밖에 없는걸어떻해줘도 난 행복할 수 있나요한번쯤은 내게 말해봐오늘밤에도 나는 울고있어눈부신 밤하늘의 별빛처럼언제나 너를 지켜주고 싶어너무 사랑해서 미칠것 같아널 볼때면 자꾸 눈물이 나네요가까스로 나를 안아주던가네가 있는 곳에내가 있을테니한 번이라도 널 생각해보고 싶어서너의']\n",
            "배고파 : ['배고파서 울던 밤그대여 내게로 와줘요이렇게 그대에게 말하던 날난 너무 슬퍼져서눈물이 흘러도 난 그댈 사랑해사랑하는 사람아내겐 너무나 소중한 너를너무나 사랑하는 바보같은 나인데왜 이렇게 눈물로만 널 보내야만 하는지나는 왜 이토록 슬픈 맘을 못느끼는바보가 되어버린 나의 가슴은어떡해야 할지 몰라가슴에 멍울만이 가득히 차있는데언제까지라도 내곁으로 돌아와주기를다시 또 다시한번 더 바라볼수 있다면나의 모든걸 다 가져가겠죠마지막']\n",
            "======== Epoch 9 / 15 ========\n"
          ]
        },
        {
          "output_type": "stream",
          "name": "stderr",
          "text": [
            "100%|██████████| 165/165 [02:19<00:00,  1.18it/s]\n"
          ]
        },
        {
          "output_type": "stream",
          "name": "stdout",
          "text": [
            "epoch 8 loss 1.93\n",
            "  Training epcoh took: 0:02:20\n",
            "밥을 먹어도 : ['밥을 먹어도 배가 고파서 밥은 잘 안먹어요 괜히 속이 상해서 그래요. 난 그게 좋아그냥 그냥 편한데도 너무 보고 싶어서 잠 못들고 또 밤새도록 너를 기다려왔는데 오늘따라 왜 이렇게 눈이 부시죠 눈물이 나네요가끔씩 니가 생각나 울고 웃는걸 보면 아직도 널 그리워해. 이대로 영원히 사랑할께오늘 하루만 기억하세여기에도 많은 추억이 있는데 내일이면 다시 한번 전화 걸어줘수많은 사연을 안고 살아오며 날 기다렸던 시간들너무 많이 아팠던거야 아픈 상처']\n",
            "매일같이 : [\"매일같이 추워요즘같은 날엔 왠지 모를 일들이 떠올라서이런 기분일까언제나 그랬듯이그냥 이렇게 널 생각하며매일 같은 생각을 해보고 싶어I can't be my life, you will never going to say without for down너와 나만의 비밀스런 얘기들Oh open that's above I just findow only in the painYeawi huaw i am everydony, and, Yes U knockino, John\"]\n",
            "배고파 : ['배고파도 지쳤어그냥 웃기만 했지난 너를 사랑해이제야 난 널 잊을 수 있어너무나 잘 알고 있는너의 눈빛에 내 마음이 흔들려모두 잠들어버렸어나는 정말 아무것도 할 수가 없어내게로 돌아와줘요 제발 날 떠나지 말아봐날 위해 남겨둔 그댈 위한 눈물들더는 내게 기대기 싫은데왜 나를 떠나야만 하는 건가눈물만 가득히 흘리고 있잖아널 보내줄수 없는 나혼자서라도 이대로 영원히슬픈 꿈을 꾸겠지만언젠간 다시 돌아올거예요.It']\n",
            "======== Epoch 10 / 15 ========\n"
          ]
        },
        {
          "output_type": "stream",
          "name": "stderr",
          "text": [
            "100%|██████████| 165/165 [02:20<00:00,  1.18it/s]\n"
          ]
        },
        {
          "output_type": "stream",
          "name": "stdout",
          "text": [
            "epoch 9 loss 1.81\n",
            "  Training epcoh took: 0:02:20\n",
            "밥을 먹어도 : ['밥을 먹어도 난 괜찮아요그냥 그런 척을해줘서 미안하단 말뿐이죠 나 혼자 울고 있네요가까운 그대 곁에 있어줄래오직 그댈 사랑할 수 밖에 없는데사랑한 만큼 행복 할수 있는바보같은 날 그만둬야 해미치도록 너무 아파도 너를 위해 웃어주던 사람눈물 흘리며 눈물 닦아주는 사람이니까내게로 돌아와 주렴살며시 미소를 짓는 내가그래 그렇게 살아 줄께잊지말자 나를 용서 하세월가면 잊혀질텐데왜 이렇게 바보가 된거니너']\n",
            "매일같이 : ['매일같이 비가 내려도 넌 비를 피해 걷고 있네요 그대 모습만 보여서 난 너무 아쉽습니다 그대를 생각하면 눈물이 나겠죠 비 내리는 날엔 우산 없이 입고 있던 옷들 입었으니까 빗속을 걸어가며 걷는게 참 힘들었는데 이젠 편히 잠들고 싶어 이렇게라도 내 맘을 가져가줘요. 나의 사랑 너를 위해 내가 가진 모든 것 모두 다 줄 수 있어. 하지만 언젠간 다시 만날 그날이 오면 그때는 내게로 돌아와달라고 말하고 싶었지만 아직까지도 나는 널 그리워해 왔는데 이제는 나를 떠나가지 말아달라는 말을 하고 싶은데..그대에게 말할']\n",
            "배고파 : ['배고파 너를 처음 본 순간 난 멈췄어너에게 빠져버렸어나의 사랑을 알게 된 후로그때부터난 사랑에 빠졌었지사랑에 빠진것만 같아요이제껏 나 혼자 살아왔는데니가 떠난후에나 다시 사랑할 수 있을까가끔은 내가 널 잊을 것 같았어미안해 미련한 나의 사랑이널 떠나게 한거야헤어져버린 날들아직도 내 맘속엔네가 있어 행복했었던 거라네세월 지나도기억될 그 사람내겐 오직 하나뿐인사람하늘한번 울리지 말아줘날 믿어준다면다시 한번']\n",
            "======== Epoch 11 / 15 ========\n"
          ]
        },
        {
          "output_type": "stream",
          "name": "stderr",
          "text": [
            "100%|██████████| 165/165 [02:19<00:00,  1.18it/s]\n"
          ]
        },
        {
          "output_type": "stream",
          "name": "stdout",
          "text": [
            "epoch 10 loss 1.67\n",
            "  Training epcoh took: 0:02:20\n",
            "밥을 먹어도 : ['밥을 먹어도 눈물이 날까봐 괜히 울고 싶은 마음에 오늘은 너의 손을 잡고서 길을 걷다 멍하니 나를 쳐다보던 니가 생각나 내 맘을 흔드는 말투도 난 가끔 듣곤 하는 노래 그 흔한 이별에 빠진듯한 기분 좋은 미소조차 잊혀져 가는 기억일거야 하지만 이젠 널 지워야만 할테니 내가 미울 수 있는 건 네게 있어줄 수만 있다면 단 하나뿐인 걸 사랑해줘 나의 모든걸 가져간다면 다시 한번만이라도 내게 말해볼께 우린 이미 다른 사랑을 하고 있잖아 나만의 바램이 되어 줄']\n",
            "매일같이 : ['매일같이 쌀쌀한 날에는 넌 내 곁에 있어줄래 너와 함께라면 난 아마 하루도 못가 나를 찾아와 오늘따라 유난히 더 예뻐 보이는 널 보면 자꾸 눈물이 나기 시작해 너무나 사랑했었지 그게 잘못이었어 니 얼굴만 봐서 너무 똑같았잖아 우리 처음 만난 날이 바로 그날이였단걸 알아내겐 정말 큰 아픔인 거야 이젠 말할께요 내가 바보처럼 느껴질때면 네 맘을 보여줘야만 해 이렇게 말해도 돼 조금은 미안할 뿐이야 하지만 어쩔 수 없어 우린 영원히 변하지 않을꺼란 걸 알고 있지만 가끔씩']\n",
            "배고파 : ['배고파 너의 집 앞에서  그녈 처음 본 순간부터 난 멈췄어요 내 안에 있는 널 보며 나 처음으로 하는 말 이젠 그만해줘 제발 날 떠나가지 말아달라고 애원하던 그날에 네가 내게 했던 모든 말을 모두 기억하렴 그대에게 내가 할 수 있었던 건 오직 하나뿐인 눈물 뿐이다시는 이런 아픔은 없을 거야 사랑이란 그런거니까 이제 와서 나를 놓아주길 바래 지금 당장 나에게 말해봐 나의 손을 잡아제발을 부탁이야 다시 한번만 더 생각해줬음 좋았을 뿐이라고 하지만 나는 이미 끝난 얘기라고 믿고 있어그대라는 아름다운 눈물이 없이는']\n",
            "======== Epoch 12 / 15 ========\n"
          ]
        },
        {
          "output_type": "stream",
          "name": "stderr",
          "text": [
            "100%|██████████| 165/165 [02:19<00:00,  1.18it/s]\n"
          ]
        },
        {
          "output_type": "stream",
          "name": "stdout",
          "text": [
            "epoch 11 loss 1.60\n",
            "  Training epcoh took: 0:02:20\n",
            "밥을 먹어도 : ['밥을 먹어도 눈물이 나질 않어요즘은 괜시리 울먹일 때가 많아졌나봐이젠 아무렇지 않은 듯 해맑던 네가 생각날까 봐잠을 설치게 한 내 맘에 대해 난 잘 몰라서 그래 너무 궁금해혹시 내가 알고 있는 누군지도난 너를 위해서라면 뭐든 할 수 있어널 위해 모든 걸 다 줄 수는 없지만그런 마음만은 가지고 있잖아사랑한단 말조차 어색할 만큼너에게 부족한 그 한마디도내가 가진 건 아무것도 없어넌 나에게 어울리지 않아내겐 어울리는 사람이 아냐고언제나 그랬듯이돌아갈']\n",
            "매일같이 : [\"매일같이 맑은 아침이유식은 참기 힘든 날요한잔의 커피처럼 부드러워요매일 같이 똑같은 식습관이지만 난 이런 기분 처음인걸I can't be sound of my life, I find you will never forget good 넌 내 곁을 지켜줄거야 이젠 너를 위해 준비한 조각배합으로 이뤄진 나의 사랑너와 함께라면 단 하루도 지루하지 않을 거야, 언제나 이렇게 나 널 바라봐야만 하는지 그 이유를난 항상 말했었어 하지만 지금 내게 필요한 건 네가 있어언제나 내가 웃는\"]\n",
            "배고파 : [\"배고파서 너를 깨우쳐주던 그 기억에 난 취해버렸어이제 그만 내 얘길 들어봐Go good bye난 니가 없는 날들이 참 좋았어나는 바보 같은 나였잖아너와 함께 했던 많은 시간들그 모든 것들이 다 헛된 꿈이었지니가 떠난 후로 인해내 삶은 더 이상 멈출 수 없나 봐I wanna live it to you너의 곁에 내가 떠나버린데도 I'll never saybe with my everydency니 생각에 잠겨서널 그리워하며 널 지워야 했\"]\n",
            "======== Epoch 13 / 15 ========\n"
          ]
        },
        {
          "output_type": "stream",
          "name": "stderr",
          "text": [
            "100%|██████████| 165/165 [02:19<00:00,  1.18it/s]\n"
          ]
        },
        {
          "output_type": "stream",
          "name": "stdout",
          "text": [
            "epoch 12 loss 1.49\n",
            "  Training epcoh took: 0:02:20\n",
            "밥을 먹어도 : ['밥을 먹어도 배가 고파서 먹지 않는 라면 수저를 입에 물고 줬다 하면 밥은 잘 먹는지 물도 안 먹고 비만 맞춰 준다고 해서 친구는 대접해 주고 가끔씩엔 커피를 마셔주며 환하게 웃어주고 때로는 미안한 마음에도 위로가 되어 주지만 그게 행복인 거야 하지만 난 너의 행복을 위해서라면 모든 것을 버려야 해 이대로 영원히 함께 살아야 돼 서로 믿고 의지하며 살아왔던 날들이 너무 많아서 그런 만남이 아닌가 싶기도 하고 이런 날이 올 줄 알았었는데 이렇게라도 꼭 다시 만나야만 하는 이유와 또 다른 이유로 인해 어쩔 수가 없는']\n",
            "매일같이 : ['매일같이 계속 니 생각만하고 있어 넌 나를 떠나버릴것 같아 내 맘을 숨긴 채 난 너의 뒤에서 날 기다렸어 네게로 와줘 나의 곁에 머물러줄래 나 혼자만의 비밀 하나를 알려 줄 수 없어 이 비밀을 알고 싶어 이렇게 널 기다리고 있잖아 그 누구도 나에게 말하지 못할 단 하나뿐인걸 알기에 하지만 지금 내게 필요한 건 오직 그것밖에 없는데 사랑이란 그런거야 잠시라도 멈출수가 없는 거라서 조금은 망설였지만 그래도 언젠간 너도 함께 할수 있다면 이런 기분 좋은 날이 올꺼라고 믿고있어 시간이 지나면 나도 조금씩 잊혀져 갈 꺼라는']\n",
            "배고파 : ['배고파도 울지말아요그대곁에 잠들기전에내게 돌아와줘서 고마워요한번만 더 나를 봐달라고세상 모든걸 다 줄수있게너와 함께면 된다고난 말했었죠이렇게 힘든날 모두잊을수가 있을까내가 할 수 있는건줄 알았었는데왜 이렇게 힘들기만 했는지모르겠어 난 너무 슬퍼져서멀리 떠나가버린 너를그리움에 지쳐버렸네슬픔은 그대에게로온몸을 던져준것 그대가 너무나 보고싶어서혼자 남겨둔채떠나가지 말아달라는 말을끝없이 하고픈']\n",
            "======== Epoch 14 / 15 ========\n"
          ]
        },
        {
          "output_type": "stream",
          "name": "stderr",
          "text": [
            "100%|██████████| 165/165 [02:20<00:00,  1.18it/s]\n"
          ]
        },
        {
          "output_type": "stream",
          "name": "stdout",
          "text": [
            "epoch 13 loss 1.36\n",
            "  Training epcoh took: 0:02:20\n",
            "밥을 먹어도 : ['밥을 먹어도 돼요  그대가 없으면 난 정말 싫어요. 그대만 생각하면 미칠 것 같죠 내 맘을 숨기고 싶지 않아. 이대로 영원히 함께 할 수 없다면 나를 떠나 다른 사랑 찾아도 좋아, 너를 위해서라면 다 해줄게 나 아닌 사람인데 왜 내게 이러는지 모르겠어 나는 울고 있어 어떻게든 행복하게 살거야 내가 가진 모든걸 가져가 어떡하면 좋겠냐 묻자 웃으면서 얘기해 줄테니 걱정하지마 지금껏 잘 살아왔잖아 미안하단 말도 하지 말아줘 그저 편히 눈 감는 날 용서할께 널 위해 살아가도록 꼭']\n",
            "매일같이 : ['매일같이 맑은 아침에 잠 못 들고 깨고 싶은 생각만 잔뜩 떠오르면 난 거울에 비친 내 모습 그대로인 걸 왜 이리도 어색한지 너를 생각하면 할수록 자꾸 눈물이 나는걸 널 보면 하는 말이라서 이렇게 한 번 해볼래 니가 보고 싶단 말은 하지마 I wanna be your love  나 오늘밤은 너무 힘들 것 같아 미칠 것만 같애 지금 이 순간부터 네게 보여줄 수 있는 건 오직 그것뿐이야 내가 아닌 다른 사람이라도 내게 이런 말을 하면 조금 더 위로라도 될까 걱정돼 그냥 솔직히 말해봐 그런 날이면']\n",
            "배고파 : ['배고파서 술을 마셨어요즘은 술이 좀 취했나봐그냥 술 한잔 걸치고 괜히 외롭죠오늘도 그대와밤을 보내며 난 하루종일 고민만 했었지난 오늘 밤새워둔 전화에 울리는 목소리사양해 줄 수 있는 건 다 해줄께 있잖아한번쯤 너의 전화번호 다시 물어도 대답해줄게전화할 때 왜 그래왜 안돼니 맘이 급해서 그랬는데너 때문에 또 후회하고 싶어서그래 그렇게 살았었는데정말 미안하긴 하더라 나 혼자 너무 힘들었던 거야술 없이는']\n",
            "======== Epoch 15 / 15 ========\n"
          ]
        },
        {
          "output_type": "stream",
          "name": "stderr",
          "text": [
            "100%|██████████| 165/165 [02:20<00:00,  1.18it/s]\n"
          ]
        },
        {
          "output_type": "stream",
          "name": "stdout",
          "text": [
            "epoch 14 loss 1.28\n",
            "  Training epcoh took: 0:02:20\n",
            "밥을 먹어도 : ['밥을 먹어도 눈치 채지 못해요 그대만 보면 난 미칠 것 같아그대에게 잘해주지도 못할뿐이죠 그댄 날 아프게 하지 말아줘 내겐 아픈사랑을 가르쳐 준 사람입니다 hey 나를 사랑해봐도 될까 봐서 모르겠어요. 나 미워지면 안돼울고 싶으면 울면 돼 이대로 갈 수 밖에 없잖아. 제발 부탁이야 내가 아파하면 못난 애가 되주는 사람이 되어주세요가끔은 혼자라도 편히 웃자던 그런 말보다 더 듣고 싶은 말이 있어 다른 사람과 비교하지마 내게 필요한건 오직 하나야 널']\n",
            "매일같이 : ['매일같이 울기만 하는 날엔더 할 일이 없어그냥 멍하니 너의 생각만나는 그대로 있어이대로 널 보낼 수 있다면너를 다시 만날 순 없지만난 아직까진 그런게 아닌데도널 걱정하는 내 맘은늘 그래왔어 더 이상 흔들릴 것 같아하지만 넌 그럴 필요없잖아언제라도 내게 말해주겠니너의 마음까지가끔 니 생각에 잠들곤 해내가 미안해 하지마나의 마음을 알아봐알고 싶지만 너무 궁금해서말하지 않아도 돼니가 나를 좋아한다해도왜 그땐 몰랐을런 말을 해야하는지 모르겠니아님 오시면 꼭']\n",
            "배고파 : ['배고파서 밥 먹었어밥도 잘 못먹었는데술 없이는 괜시리 지겹게 생각했나봐그냥 그런거야아니면 내가 바보였는지너를 사랑하게 된 것도 아닌데왜 너만 미워하니내가 너무 미웠지이렇게 널 많이 좋아한 이유는 네가 있어서일까 나는 니 맘에 들어맞는 거라고 해말 안해도 알 수 없는 내 마음이라며 날 위로해줘요오래 전 우리처럼다시 만날 순 없지만난 아직 그걸로 할께요.참 고마워.니가 없이 난 살아있어널 위해 살수밖에 없었단']\n"
          ]
        }
      ]
    },
    {
      "cell_type": "code",
      "source": [
        "# 학습 후 generate 함수 동작 테스트\n",
        "keywords = ['밥을 먹어도', '매일같이', '배고파']\n",
        "\n",
        "for keyword in keywords:\n",
        "    #keyword = keyword.to(device)\n",
        "    gen = generate(keyword)\n",
        "    gen_print = gen.split('\\n')[0:2]\n",
        "    print(f\"{keyword} : {gen_print}\")"
      ],
      "metadata": {
        "colab": {
          "base_uri": "https://localhost:8080/"
        },
        "id": "_2yodv5-85Vm",
        "outputId": "aeaa7fe4-1888-48ae-f7e1-5762e96ef719"
      },
      "execution_count": 51,
      "outputs": [
        {
          "output_type": "stream",
          "name": "stdout",
          "text": [
            "밥을 먹어도 : ['밥을 먹어도 배가 아플 땐도시락 챙겨 먹어요저녁에 먹는 밥도둑이 잦다거나 화를 낼 때면밥만 잘먹어주면 돼아무것도 안 먹고 자다가 깨어나보면뭐가 그리 바쁜지그냥 그냥 지나쳐줘오늘은 이대로 내버려둬우리 함께 거닐던 거리엔새벽 세시 반잠을 자는 너를둔 채밤 늦게까지 잠들게 해왜냐고 왜 나를 잊으려 하지도 않잖아이쿠 오늘따라 더 신나봐잘못된 생각 때문에혼자서 집을 나서는건좀 무리한 일인걸I']\n",
            "매일같이 : ['매일같이 넌 항상 웃기만 해아무리 그댈 달래도난 듣지 않고매일 같이 울어도 난 믿지 않아이젠 말할 수 있어요그대 눈 앞에서 숨소리만 들릴 뿐이지혹시 내 맘을 아프게 할까봐잠깐이나 한 번 말해 봐서말해줄래너가 날 좋아한다고내가 널 사랑할 줄은 몰랐어하지만 너는 알고 있잖아이런 게 설레지면 안돼걱정하지마사랑해 니 옆에 있는걸널 볼 수만 있다면내 마음껏 행복하게 해주렴오늘밤 한번 더 내게 달려와줘가슴속에 숨겨둔 말들을 꺼내날 믿어준']\n",
            "배고파 : ['배고파 너를 안고서 잤다고 깨워달라고 말하지 않았잖아 잠들때까지 혼자 있었냐며 내게 말했어 내가 잘못 했니 니가 너무 보고 싶어서 한 얘기야 내일이면 다 알것 같아서 오늘도 전화 안받는데 왜 또 이러는지 정말 답답해 널 많이 좋아한다 해서 그게 행복인줄 몰랐었지 그래서 미안하단 말도 못했다 말을 해봐라 라면 그래 그렇게 쉽게 말해줘 너도 날 사랑하면 할수록 난 더 그리워져 가슴이 아파 울다가 다시 눈물이 나와 바보 같은 나 이젠 말할래 우리 이렇게 만나니까 서로 잘']\n"
          ]
        }
      ]
    },
    {
      "cell_type": "code",
      "source": [
        "keywords = ['나 혼자', '학원에서', '감정과는']\n",
        "\n",
        "for keyword in keywords:\n",
        "    #keyword = keyword.to(device)\n",
        "    gen = generate(keyword)\n",
        "    gen_print = gen.split('\\n')[0:2]\n",
        "    print(f\"{keyword} : {gen_print}\")"
      ],
      "metadata": {
        "colab": {
          "base_uri": "https://localhost:8080/"
        },
        "id": "OJPm0IZ0V45K",
        "outputId": "f8e9b255-50b2-427e-b76a-63f368cf7e2a"
      },
      "execution_count": 53,
      "outputs": [
        {
          "output_type": "stream",
          "name": "stdout",
          "text": [
            "나 혼자 : ['나 혼자 울고 있네요  그대가 너무 그리워서 하루도 못 자겠죠 내일이면 다시 볼 수 있을까봐 오늘은 말할께 잠시라도 그대에게 난 기대 잠들 수도 있게 이대로 날 사랑 할수만 있다면 그때는 말야 내가 먼저 너를 떠나간대도 니가 없는 곳 정말로 널 잊을수가 없어서 이렇게 눈물로 삼켜본다면 너무나 많이 아파해야 했나 봐 미칠것 같아서 정말 미치도록 보고 싶었었는데 왜 말하지 못했니 지금 말하는건데 아니면 내게 말해줘 꼭 한번 만나볼래 시간이 되면 차마 전하지 못할 나의 슬픈 얘기 나를 떠난다는']\n",
            "학원에서 : ['학원에서 치킨을 먹었죠 그댈 만나고 싶다고 했네요그대에게 난 정말 싫은걸까 그랬더니 어휴 바보같다 하더라구여자는 왜 안모르는 척내겐 절대이렇게 모독만 하는지어떻게 알았냐는 핀잔에웃으며 인사했었지만 왠일인지 나 혼자 왔는데왜 멀쩡한데 웃기만 하나있느냐며헤어진후에야우리 헤어지고 싶은거 맞나봐아니면 너 아니면못살것 같은데이런 만남으로 또 다시날 사랑하게 될 줄이야너무 보고싶어서 그래']\n",
            "감정과는 : ['감정과는 달랐어요 나만 사랑했었죠 그댈 놓지 못한 내 마음 때문에 난 울고 있었네요. 이대로 영원히 함께 할래면 아직은 그대 곁에 있으니까. 잠시 스쳐간 바람처럼 괜찮아 보여도 될 거라고 생각했는데 왜 이렇게 멀리서 바라볼 수 있나 봐 두렵기도 했었는데 오오 너와 내가 너무 달라서 더 잘할 수가 없는데 자꾸 눈물이 나와 그냥 하는 말이라 생각하고 있지만 언젠가 다시 보게 되겠지만 그래도 알고 있어 그렇게 쉽게 끝날 순 없어 미안해 하지마 가지 말아줘 제발 이런 슬픈 말은 안해도 돼 이별이']\n"
          ]
        }
      ]
    },
    {
      "cell_type": "code",
      "source": [
        "epoch"
      ],
      "metadata": {
        "colab": {
          "base_uri": "https://localhost:8080/"
        },
        "id": "bXyPyxX3UqWk",
        "outputId": "c920e3e3-9cf9-46a0-e6a4-33c28b1a3a13"
      },
      "execution_count": 49,
      "outputs": [
        {
          "output_type": "execute_result",
          "data": {
            "text/plain": [
              "14"
            ]
          },
          "metadata": {},
          "execution_count": 49
        }
      ]
    },
    {
      "cell_type": "code",
      "source": [
        "# 모델 저장\n",
        "torch.save(model.state_dict(), f\"kogpt2_fine-tunning_{epoch}.pt\")"
      ],
      "metadata": {
        "id": "XIoqrIpCUF0K"
      },
      "execution_count": 50,
      "outputs": []
    },
    {
      "cell_type": "code",
      "source": [
        "# 모델 로드\n",
        "# model.load_state_dict(torch.load(\"kogpt2_fine-tunning_14.pt\"))"
      ],
      "metadata": {
        "id": "vy6ME_9qVB6q"
      },
      "execution_count": null,
      "outputs": []
    }
  ]
}