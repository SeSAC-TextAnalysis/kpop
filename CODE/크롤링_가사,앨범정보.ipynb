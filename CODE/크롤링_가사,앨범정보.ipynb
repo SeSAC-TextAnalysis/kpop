{
 "cells": [
  {
   "cell_type": "code",
   "execution_count": 1,
   "id": "4bf13ba2-a829-475e-ad29-1461c71454b7",
   "metadata": {},
   "outputs": [],
   "source": [
    "import re\n",
    "import time\n",
    "import requests\n",
    "from bs4 import BeautifulSoup"
   ]
  },
  {
   "cell_type": "markdown",
   "id": "414ff3a4-216a-4cc8-ad58-4f2fe7c2c0c8",
   "metadata": {},
   "source": [
    "### 곡 정보에서 가사 가져오기"
   ]
  },
  {
   "cell_type": "code",
   "execution_count": 2,
   "id": "c0b5650c-0724-4fcb-87b7-4d475bc520ea",
   "metadata": {},
   "outputs": [],
   "source": [
    "def clean_song_name(song_name):\n",
    "    song_name = re.sub('\\\\t', '', song_name)\n",
    "    # song_name : ['곡명','TOMBOY']\n",
    "    song_name = song_name.split()[1]\n",
    "    return song_name"
   ]
  },
  {
   "cell_type": "code",
   "execution_count": 3,
   "id": "d86c44cb-00ab-457c-a882-fb8cf15686a5",
   "metadata": {},
   "outputs": [],
   "source": [
    "# 텍스트에 있는 \\n과 \\t를 제거하고 문장 양옆의 띄어쓰기를 지운다.\n",
    "def clean_text(text):\n",
    "    text = re.sub('\\\\t', '', text)\n",
    "    text = re.sub('\\\\n', '', text)\n",
    "    text = text.strip()\n",
    "    return text"
   ]
  },
  {
   "cell_type": "code",
   "execution_count": 4,
   "id": "1e362abc-1e14-401a-92a4-de686f713944",
   "metadata": {},
   "outputs": [],
   "source": [
    "# {'songId':'가사'} 형식으로 dict를 만드는 함수\n",
    "def make_lyrics_dict(songIdList):\n",
    "    result_list = {}\n",
    "    headers ={'User-Agent' : 'Mozilla/5.0 (Windows NT 10.0; Win64; x64) AppleWebKit/537.36 (KHTML, like Gecko) Chrome/117.0.0.0 Safari/537.36'}\n",
    "    \n",
    "    for songId in songIdList:\n",
    "        url = f\"https://www.melon.com/song/detail.htm?songId={songId}\"    \n",
    "        res = requests.get(url, headers = headers)\n",
    "        \n",
    "        # 성공일 경우\n",
    "        if res.status_code == 200:\n",
    "            text = res.text\n",
    "        \n",
    "            bs = BeautifulSoup(res.text, 'html.parser')\n",
    "            # lyrics 가사\n",
    "            # song_name 가수명\n",
    "            # artist 아티스트명\n",
    "            lyrics = bs.select_one(\"#d_video_summary\").text\n",
    "            lyrics = clean_text(lyrics)\n",
    "\n",
    "            '''        \n",
    "            info = bs.select(\".info\")[1]\n",
    "            song_name = info.select_one(\".song_name\").text\n",
    "            song_name = clean_song_name(song_name)\n",
    "            \n",
    "            artist = info.select_one(\".artist\").text\n",
    "            artist = clean_text(artist)\n",
    "            '''\n",
    "            result_list[songId] = lyrics\n",
    "\n",
    "        time.sleep(0.3)\n",
    "        \n",
    "    return result_list"
   ]
  },
  {
   "cell_type": "code",
   "execution_count": 5,
   "id": "045e1cd1-6e98-4aa3-8db7-5e2f56fe3167",
   "metadata": {},
   "outputs": [],
   "source": [
    "songIdList = ['34847378', '34754292']\n",
    "songId = songIdList[1]"
   ]
  },
  {
   "cell_type": "code",
   "execution_count": 6,
   "id": "f8dad146-530b-4d0e-a915-017ca491a58a",
   "metadata": {},
   "outputs": [],
   "source": [
    "lyrics_dict = make_lyrics_dict(songIdList)"
   ]
  },
  {
   "cell_type": "code",
   "execution_count": 7,
   "id": "0b924a8f-9859-43b2-ae66-2fddec36d96c",
   "metadata": {},
   "outputs": [
    {
     "data": {
      "text/plain": [
       "{'34847378': '네가 참 궁금해 그건 너도 마찬가지이거면 충분해 쫓고 쫓는 이런 놀이참을 수 없는 이끌림과 호기심 묘한 너와 나 두고 보면 알겠지Woo 눈동자 아래로Woo 감추고 있는 거Woo yeah It’s so bad It’s good 난 그 맘을 좀 봐야겠어Narcissistic, my god I love it서로를 비춘 밤아름다운 까만 눈빛 더 빠져 깊이(넌 내게로 난 네게로) 숨 참고 love diveWoo lalalalalalalaWoo 어서 와서 love diveWoo oh perfect sacrifice yeah숨 참고 love dive마음은 이렇게 알다가도 모르지사랑이라는 건 한순간에 필 테니직접 들어와 두 눈으로 확인해내 맘 가장 깊은 데로 오면 돼Woo 망설일 시간은Woo 3초면 되는 걸Woo yeah It’s so bad It’s good 원하면 감히 뛰어들어Narcissistic, my god I love it서로를 비춘 밤아름다운 까만 눈빛 더 빠져 깊이(넌 내게로 난 네게로) 숨 참고 love diveWoo lalalalalalalaWoo 어서 와서 love diveWoo oh perfect sacrifice yeah숨 참고 love dive숨 참고 love dive 숨 참고 love dive숨 참고 love dive숨 참고 love diveWoo lalalalalalalaWoo 어서 와서 love diveWoo oh perfect sacrifice yeah숨 참고 love dive',\n",
       " '34754292': 'Look at you 넌 못 감당해 날Ya took off hook기분은 Coke like brrrLook at my toe나의 Ex 이름 TattooI got to drink up now네가 싫다 해도 좋아Why are you cranky, boy?뭘 그리 찡그려 너Do you want a blond barbie doll?It’s not here, I’m not a doll미친 연이라 말해What’s the loss to me ya사정없이 까보라고You’ll lose to me ya사랑 그깟 거 따위내 몸에 상처 하나도 어림없지너의 썩은 내 나는 향수나 뿌릴 바엔Ye I’m a Tomboy (Umm ah umm)Ye I’ll be the Tomboy (Umm ah)This is my attitudeYe I’ll be the TomboyI don’t wanna play this ping pongI would rather film a Tik TokYour mom raised you as a princeBut this is queendom, right?I like dancing, I love ma friendsSometimes we swearwithout cigarettesI like to eh on drinking whiskeyI won’t change it, what the hell?미친 척이라 말해What’s the loss to me ya사정없이 씹으라고You’re lost to me ya사랑 그깟 거 따위내 눈에 눈물 한 방울 어림없지너의 하찮은 말에 미소나 지을 바엔Ye I’m a Tomboy (Umm ah umm)Ye I’ll be the Tomboy (Umm ah)This is my attitudeYe I’ll be the TomboySaid you get it?You get the song right,you’ll get what I mean “Tomboy”La la la la la la la la laLa la la la la la la la laLa la la la la la la la laLa la la la la la la la laThree, two, oneIt’s neither man nor womanMan nor womanIt’s neither man nor womanJust me I-DLEIt’s neither man nor womanMan nor womanIt’s neither man nor womanJust me loving Tomboy'}"
      ]
     },
     "execution_count": 7,
     "metadata": {},
     "output_type": "execute_result"
    }
   ],
   "source": [
    "lyrics_dict"
   ]
  },
  {
   "cell_type": "markdown",
   "id": "27be9cc5-675d-4373-811e-f49e1ad6f901",
   "metadata": {},
   "source": [
    "### 앨범 정보에서 장르, 발매사, 기획사, 발매일 가져오기"
   ]
  },
  {
   "cell_type": "code",
   "execution_count": 8,
   "id": "9e0db36d-86b1-4d0e-afb1-0a2cb6d2a5c2",
   "metadata": {},
   "outputs": [],
   "source": [
    "# 장르: genre\n",
    "# 발매일: release_date\n",
    "# 발매사: publisher\n",
    "# 기획사: agency\n",
    "\n",
    "def make_album_info_dict(albumIdList):\n",
    "    all_dict = {}\n",
    "    headers ={'User-Agent' : 'Mozilla/5.0 (Windows NT 10.0; Win64; x64) AppleWebKit/537.36 (KHTML, like Gecko) Chrome/117.0.0.0 Safari/537.36'}\n",
    "    \n",
    "    for albumId in albumIdList:\n",
    "        url = f\"https://www.melon.com/album/detail.htm?albumId={albumId}\"\n",
    "        res = requests.get(url, headers = headers)\n",
    "        \n",
    "        # 성공일 경우\n",
    "        if res.status_code == 200:\n",
    "            one_dict = {} \n",
    "            \n",
    "            text = res.text\n",
    "        \n",
    "            bs = BeautifulSoup(res.text, 'html.parser')\n",
    "            # lyrics 가사\n",
    "            # song_name 가수명\n",
    "            # artist 아티스트명\n",
    "            geted_lst = bs.select_one(\".list\").text\n",
    "            geted_lst= geted_lst.split()\n",
    "        \n",
    "            release_date = geted_lst[1]\n",
    "            genre = geted_lst[3]\n",
    "            publisher = geted_lst[5]\n",
    "            agency = geted_lst[7]\n",
    "        \n",
    "            one_dict['release_date'] = release_date\n",
    "            one_dict['genre'] = genre\n",
    "            one_dict['publisher'] = publisher\n",
    "            one_dict['agency'] = agency\n",
    "            all_dict[albumId] = one_dict\n",
    "        \n",
    "        time.sleep(0.3)\n",
    "    \n",
    "    return all_dict"
   ]
  },
  {
   "cell_type": "code",
   "execution_count": 9,
   "id": "ebd0f00e-ee4d-4eda-b17d-4547ff184741",
   "metadata": {},
   "outputs": [],
   "source": [
    "albumIdList = ['10909179', '10890384']\n",
    "albumId = '10909179'"
   ]
  },
  {
   "cell_type": "code",
   "execution_count": 10,
   "id": "adec2e61-28e4-4b83-839d-2423b92f7ab7",
   "metadata": {},
   "outputs": [],
   "source": [
    "album_info_dict = make_album_info_dict(albumIdList)"
   ]
  },
  {
   "cell_type": "code",
   "execution_count": 11,
   "id": "58a03ab6-05a3-449d-9b4d-6224d9c34221",
   "metadata": {},
   "outputs": [
    {
     "data": {
      "text/plain": [
       "{'10909179': {'release_date': '2022.04.05',\n",
       "  'genre': '댄스',\n",
       "  'publisher': '카카오엔터테인먼트',\n",
       "  'agency': '스타쉽엔터테인먼트'},\n",
       " '10890384': {'release_date': '2022.03.14',\n",
       "  'genre': '록/메탈,',\n",
       "  'publisher': '댄스,',\n",
       "  'agency': '발매사'}}"
      ]
     },
     "execution_count": 11,
     "metadata": {},
     "output_type": "execute_result"
    }
   ],
   "source": [
    "album_info_dict"
   ]
  },
  {
   "cell_type": "code",
   "execution_count": 12,
   "id": "6f611c0e-62a4-42e4-a3ce-774a7e691f36",
   "metadata": {},
   "outputs": [
    {
     "data": {
      "text/plain": [
       "{'release_date': '2022.04.05',\n",
       " 'genre': '댄스',\n",
       " 'publisher': '카카오엔터테인먼트',\n",
       " 'agency': '스타쉽엔터테인먼트'}"
      ]
     },
     "execution_count": 12,
     "metadata": {},
     "output_type": "execute_result"
    }
   ],
   "source": [
    "album_info_dict['10909179']"
   ]
  },
  {
   "cell_type": "code",
   "execution_count": 13,
   "id": "c3afb3ab-cddf-49d6-8e2a-ed694ea4c671",
   "metadata": {},
   "outputs": [
    {
     "data": {
      "text/plain": [
       "{'release_date': '2022.03.14',\n",
       " 'genre': '록/메탈,',\n",
       " 'publisher': '댄스,',\n",
       " 'agency': '발매사'}"
      ]
     },
     "execution_count": 13,
     "metadata": {},
     "output_type": "execute_result"
    }
   ],
   "source": [
    "album_info_dict['10890384']"
   ]
  },
  {
   "cell_type": "code",
   "execution_count": null,
   "id": "e8ec7aff-72c4-4a2c-b840-d3a908e99093",
   "metadata": {},
   "outputs": [],
   "source": []
  }
 ],
 "metadata": {
  "kernelspec": {
   "display_name": "Python 3 (ipykernel)",
   "language": "python",
   "name": "python3"
  },
  "language_info": {
   "codemirror_mode": {
    "name": "ipython",
    "version": 3
   },
   "file_extension": ".py",
   "mimetype": "text/x-python",
   "name": "python",
   "nbconvert_exporter": "python",
   "pygments_lexer": "ipython3",
   "version": "3.11.4"
  }
 },
 "nbformat": 4,
 "nbformat_minor": 5
}
