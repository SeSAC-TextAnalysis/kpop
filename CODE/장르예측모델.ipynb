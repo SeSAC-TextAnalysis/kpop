{
  "nbformat": 4,
  "nbformat_minor": 0,
  "metadata": {
    "colab": {
      "provenance": []
    },
    "kernelspec": {
      "name": "python3",
      "display_name": "Python 3"
    },
    "language_info": {
      "name": "python"
    }
  },
  "cells": [
    {
      "cell_type": "markdown",
      "source": [
        "*   실행환경: 구글 코랩\n",
        "*   작성일: 230930\n",
        "*   작성자: 이혜원\n",
        "\n"
      ],
      "metadata": {
        "id": "Ix4kIzaTS_zD"
      }
    },
    {
      "cell_type": "markdown",
      "source": [
        "### 라이브러리 설치, 불러오기"
      ],
      "metadata": {
        "id": "W5MmuQTbWA0C"
      }
    },
    {
      "cell_type": "code",
      "source": [
        "!pip install konlpy\n",
        "!pip install mecab-python\n",
        "!bash <(curl -s https://raw.githubusercontent.com/konlpy/konlpy/master/scripts/mecab.sh)"
      ],
      "metadata": {
        "id": "020FgIW6OmRc"
      },
      "execution_count": null,
      "outputs": []
    },
    {
      "cell_type": "code",
      "execution_count": null,
      "metadata": {
        "id": "UZ9kbvzfGA0p"
      },
      "outputs": [],
      "source": [
        "#라이브러리 불러오기\n",
        "import pandas as pd\n",
        "import re\n",
        "from konlpy.tag import Mecab"
      ]
    },
    {
      "cell_type": "markdown",
      "source": [
        "### 데이터 불러오기"
      ],
      "metadata": {
        "id": "0cxtt5rWWDGh"
      }
    },
    {
      "cell_type": "code",
      "source": [
        "song_df = pd.read_csv('가사.csv')\n",
        "rank_df = pd.read_csv('순위.csv')\n",
        "info_df = pd.read_csv('앨범정보.csv')"
      ],
      "metadata": {
        "id": "FDPglOa7GIuN"
      },
      "execution_count": null,
      "outputs": []
    },
    {
      "cell_type": "code",
      "source": [
        "print('song_df.shape:', song_df.shape)\n",
        "print('rank_df.shape:', rank_df.shape)\n",
        "print('info_df.shape:', info_df.shape)"
      ],
      "metadata": {
        "colab": {
          "base_uri": "https://localhost:8080/"
        },
        "id": "oY8zlmuW4p4G",
        "outputId": "8f77c339-8da2-4446-f8ba-d685d4e397cc"
      },
      "execution_count": null,
      "outputs": [
        {
          "output_type": "stream",
          "name": "stdout",
          "text": [
            "song_df.shape: (1107, 2)\n",
            "rank_df.shape: (1300, 8)\n",
            "info_df.shape: (1010, 6)\n"
          ]
        }
      ]
    },
    {
      "cell_type": "markdown",
      "source": [
        "### 사용자 정의 함수 만들기"
      ],
      "metadata": {
        "id": "FrK0MIG8WHG-"
      }
    },
    {
      "cell_type": "markdown",
      "source": [
        "함수\n",
        "\n",
        "\n",
        "\n",
        "\n",
        "*   preprocess(sentences) : 가사 전처리\n",
        "*   tokenize(sentences) : 형태소 분석기 mecab을 사용한 토큰화 작업 (다소 시간 소요)\n",
        "*   find_rank_song(song_id) : song_id로 rank_df 행 찾기\n",
        "*   find_rank_album(album_id) : album_id로 rank_df 행 찾기\n",
        "*   find_info_id(album_id) : album_id로 info_df 행 찾기\n",
        "*   find_genre_song(song_id) : song_id를 넣으면 genre를 반환\n",
        "*   find_genres_songs(song_id_list) : song_id_list를 넣으면 genre_list를 반환\n",
        "*   make_unique_lst(df_column) : unique한 list 구하기\n",
        "*   make_word_to_idx(unique_lst) : 리턴 -> dict {\"A\" :1, \"B\" :2, ... }  형식\n",
        "*   ⭐make_idx_list(column_lst) : 2차원 리스트의 단어를 숫자와 매핑\n"
      ],
      "metadata": {
        "id": "ZiG17GKeyfbk"
      }
    },
    {
      "cell_type": "code",
      "source": [
        "# 가사 전처리\n",
        "def preprocess(sentences):\n",
        "    lst = []\n",
        "    for sentence in sentences:\n",
        "        # \\n과 \\t를 제거한다\n",
        "        sentence = re.sub('\\\\t', '', sentence)\n",
        "        sentence = re.sub('\\\\n', '', sentence)\n",
        "        # 한국어, 공백 빼고 제거하기\n",
        "        sentence = re.sub('[^ㄱ-ㅎ가-힣\\s]+', '', sentence)\n",
        "        # 문장 양옆의 띄어쓰기를 지운다\n",
        "        sentence = sentence.strip()\n",
        "\n",
        "        lst.append(sentence)\n",
        "    return lst"
      ],
      "metadata": {
        "id": "3tzHPSoJMCOr"
      },
      "execution_count": null,
      "outputs": []
    },
    {
      "cell_type": "code",
      "source": [
        "# 형태소 분석기 mecab을 사용한 토큰화 작업 (다소 시간 소요)\n",
        "def tokenize(sentences):\n",
        "    mecab = Mecab()\n",
        "    tokenized_data = []\n",
        "    for sentence in sentences:\n",
        "        temp_X = mecab.morphs(sentence)\n",
        "        temp_X = [word for word in temp_X]\n",
        "        tokenized_data.append(temp_X)\n",
        "    return tokenized_data"
      ],
      "metadata": {
        "id": "pqCsfTWHRDh-"
      },
      "execution_count": null,
      "outputs": []
    },
    {
      "cell_type": "code",
      "source": [
        "# song_id로 rank_df 행 찾기\n",
        "def find_rank_song(song_id):\n",
        "    return rank_df[rank_df['song_id'] ==  song_id]\n",
        "\n",
        "# album_id로 rank_df 행 찾기\n",
        "def find_rank_album(album_id):\n",
        "    return rank_df[rank_df['album_id'] ==  album_id]\n",
        "\n",
        "# album_id로 info_df 행 찾기\n",
        "def find_info_id(album_id):\n",
        "    return info_df[info_df['AlbumID'] == album_id]\n",
        "\n",
        "# song_id를 넣으면 genre를 반환\n",
        "def find_genre_song(song_id):\n",
        "    album_id = find_rank_song(song_id)['album_id'].values[0]\n",
        "    genre = find_info_id(album_id)['Genre'].values[0]\n",
        "    return genre\n",
        "\n",
        "# song_id_list를 넣으면 genre_list를 반환\n",
        "def find_genres_songs(song_id_list):\n",
        "    result = []\n",
        "    for song_id in song_id_list:\n",
        "        genre = find_genre_song(song_id)\n",
        "        result.append(genre)\n",
        "    return result"
      ],
      "metadata": {
        "id": "QZ2SYRB8SLzs"
      },
      "execution_count": null,
      "outputs": []
    },
    {
      "cell_type": "code",
      "source": [
        "# unique한 장르 list 구하기\n",
        "def make_unique_lst(df_column):\n",
        "    unique_lst = df_column.unique()\n",
        "    # print(len(unique_lst)) #89\n",
        "\n",
        "    # 한 행의 장르가 '댄스, 랩/힙합, 록/메탈' 로 콤마로 여러개가 표시되어 있는 경우가 있음\n",
        "    split_lst = [val.split(', ') for val in unique_lst]\n",
        "    sum_lst = sum(split_lst, [])  # 리스트 내 리스트 합치기\n",
        "    unique_lst = list(set(sum_lst))  # 중복 제거\n",
        "    return unique_lst"
      ],
      "metadata": {
        "id": "Fk0YcxRlTPMl"
      },
      "execution_count": null,
      "outputs": []
    },
    {
      "cell_type": "code",
      "source": [
        "# 리턴 -> dict {\"A\" :1, \"B\" :2, ... }  형식\n",
        "def make_word_to_idx(unique_lst):\n",
        "    unique_lst = make_unique_lst(unique_lst)\n",
        "    word_to_idx = {val: idx for idx, val in enumerate(unique_lst)}\n",
        "    return word_to_idx"
      ],
      "metadata": {
        "id": "vIW80vIz5klT"
      },
      "execution_count": null,
      "outputs": []
    },
    {
      "cell_type": "code",
      "source": [
        "# 2차원 리스트를 넣으면 단어 각각을 숫자와 매칭시키고 숫자로 바꾼다.\n",
        "\n",
        "# input\n",
        "# 숫자로 바꾸고 싶은 데이터 프레임 열\n",
        "\n",
        "# return\n",
        "# 단어를 숫자로 매핑한 2차원 배열, word_to_idx\n",
        "\n",
        "# column_list: 데이터 프레임 열\n",
        "def make_idx_list(column_lst):\n",
        "    df_column_list = [tmp.split(\", \") for tmp in column_lst]\n",
        "    word_to_idx = make_word_to_idx(column_lst)\n",
        "\n",
        "    new_column = []\n",
        "    for column in df_column_list:\n",
        "        tmp_lst = []\n",
        "        for one_column in column:\n",
        "            tmp_lst.append(word_to_idx[one_column])\n",
        "        new_column.append(tmp_lst)\n",
        "\n",
        "    return new_column, word_to_idx\n"
      ],
      "metadata": {
        "id": "r0GAqlcxyEdr"
      },
      "execution_count": null,
      "outputs": []
    },
    {
      "cell_type": "markdown",
      "source": [
        "### 전처리"
      ],
      "metadata": {
        "id": "9gmkOBWQWKEl"
      }
    },
    {
      "cell_type": "markdown",
      "source": [
        "#### 비어있는 행 확인"
      ],
      "metadata": {
        "id": "nMFDHQGxuf-z"
      }
    },
    {
      "cell_type": "code",
      "source": [
        "info_df.isna().sum()"
      ],
      "metadata": {
        "colab": {
          "base_uri": "https://localhost:8080/"
        },
        "id": "r_Fm48MSuG17",
        "outputId": "247a113a-44c4-4d89-9423-c903e7fd149d"
      },
      "execution_count": null,
      "outputs": [
        {
          "output_type": "execute_result",
          "data": {
            "text/plain": [
              "Unnamed: 0      0\n",
              "AlbumID         0\n",
              "Release_date    0\n",
              "Genre           0\n",
              "Publisher       0\n",
              "Agency          0\n",
              "dtype: int64"
            ]
          },
          "metadata": {},
          "execution_count": 11
        }
      ]
    },
    {
      "cell_type": "code",
      "source": [
        "song_df.isna().sum()"
      ],
      "metadata": {
        "colab": {
          "base_uri": "https://localhost:8080/"
        },
        "id": "O9r8nbISuT9I",
        "outputId": "bb1126cb-34a5-456f-aae6-ce815e98ec43"
      },
      "execution_count": null,
      "outputs": [
        {
          "output_type": "execute_result",
          "data": {
            "text/plain": [
              "Song_ID    0\n",
              "Lyrics     0\n",
              "dtype: int64"
            ]
          },
          "metadata": {},
          "execution_count": 12
        }
      ]
    },
    {
      "cell_type": "code",
      "source": [
        "rank_df.isna().sum()"
      ],
      "metadata": {
        "colab": {
          "base_uri": "https://localhost:8080/"
        },
        "id": "mW92hOGtuXJG",
        "outputId": "87288f79-981f-4c17-acc9-c9f2b655510b"
      },
      "execution_count": null,
      "outputs": [
        {
          "output_type": "execute_result",
          "data": {
            "text/plain": [
              "Unnamed: 0    0\n",
              "year          0\n",
              "rank          0\n",
              "song_name     0\n",
              "artist        0\n",
              "likes         0\n",
              "album_id      0\n",
              "song_id       0\n",
              "dtype: int64"
            ]
          },
          "metadata": {},
          "execution_count": 13
        }
      ]
    },
    {
      "cell_type": "markdown",
      "source": [
        "#### song_df에 숫자로 매칭된 genre 열 생성"
      ],
      "metadata": {
        "id": "by-kOEvPuuTd"
      }
    },
    {
      "cell_type": "code",
      "source": [
        "song_df['genre'] = find_genres_songs(song_df['Song_ID'])"
      ],
      "metadata": {
        "id": "oVMED3Zg3SrL"
      },
      "execution_count": null,
      "outputs": []
    },
    {
      "cell_type": "code",
      "source": [
        "song_df"
      ],
      "metadata": {
        "colab": {
          "base_uri": "https://localhost:8080/",
          "height": 423
        },
        "id": "0eD1W6do6xzW",
        "outputId": "54ae1714-c6bd-47b7-a428-475dd197cbad"
      },
      "execution_count": null,
      "outputs": [
        {
          "output_type": "execute_result",
          "data": {
            "text/plain": [
              "       Song_ID                                             Lyrics  \\\n",
              "0     34373632  어린 햇살 아래서뛰어놀곤 했었던가쁜 숨결굽이진 골목 지나길을 따라가보면같은 기억어른...   \n",
              "1      8124417  꽃이 언제 피는지 그딴 게 뭐가 중요한데날씨가 언제 풀리는지 그딴 거 알면 뭐 할 ...   \n",
              "2      2705410  늦게 다니지좀 마술은 멀리좀 해봐열살짜리 애처럼 말을 안듣니정말 웃음만 나와누가 누...   \n",
              "3     30205955  난 또 행복한 척 더 더 행복한 척난 또 행복한 척 더 더 행복한 척아무에게도 말하...   \n",
              "4      3590149  밥을 먹어도 혼자야구를 봐도 혼자거리를 걸어도 나 혼자혼자이기 싫은데또 방에 누워도...   \n",
              "...        ...                                                ...   \n",
              "1102   3713013  닫힌 내 가슴은 누구도  사랑할 수가 없다 그렇게 믿었는데  어느새 내 가슴이 열리...   \n",
              "1103   4020215  네가 떠나고 늘 슬프다 아무리 슬퍼해도 슬픔이 모자라 맘 놓고 아파할 곳을 찾아 숨...   \n",
              "1104   2797558  오 내 맘이야 맘이야 맘이 맘이야 오 내 맘이야 맘이야 맘이 맘이야 Ma Ma Ma...   \n",
              "1105  31873020  그대와 자주 가던 그 술집에혼자 널 생각하며 소주 한잔해그대가 좋아하던 김치찌개를가...   \n",
              "1106   2705407  Push Push Baby Oh Push BabyPush Push baby Just...   \n",
              "\n",
              "             genre  \n",
              "0       국내드라마, 발라드  \n",
              "1     인디음악, 포크/블루스  \n",
              "2              발라드  \n",
              "3         R&B/Soul  \n",
              "4              발라드  \n",
              "...            ...  \n",
              "1102            댄스  \n",
              "1103          랩/힙합  \n",
              "1104       댄스, 발라드  \n",
              "1105           발라드  \n",
              "1106       댄스, 발라드  \n",
              "\n",
              "[1107 rows x 3 columns]"
            ],
            "text/html": [
              "\n",
              "  <div id=\"df-06b3e9e2-2012-4869-9413-daf32021d784\" class=\"colab-df-container\">\n",
              "    <div>\n",
              "<style scoped>\n",
              "    .dataframe tbody tr th:only-of-type {\n",
              "        vertical-align: middle;\n",
              "    }\n",
              "\n",
              "    .dataframe tbody tr th {\n",
              "        vertical-align: top;\n",
              "    }\n",
              "\n",
              "    .dataframe thead th {\n",
              "        text-align: right;\n",
              "    }\n",
              "</style>\n",
              "<table border=\"1\" class=\"dataframe\">\n",
              "  <thead>\n",
              "    <tr style=\"text-align: right;\">\n",
              "      <th></th>\n",
              "      <th>Song_ID</th>\n",
              "      <th>Lyrics</th>\n",
              "      <th>genre</th>\n",
              "    </tr>\n",
              "  </thead>\n",
              "  <tbody>\n",
              "    <tr>\n",
              "      <th>0</th>\n",
              "      <td>34373632</td>\n",
              "      <td>어린 햇살 아래서뛰어놀곤 했었던가쁜 숨결굽이진 골목 지나길을 따라가보면같은 기억어른...</td>\n",
              "      <td>국내드라마, 발라드</td>\n",
              "    </tr>\n",
              "    <tr>\n",
              "      <th>1</th>\n",
              "      <td>8124417</td>\n",
              "      <td>꽃이 언제 피는지 그딴 게 뭐가 중요한데날씨가 언제 풀리는지 그딴 거 알면 뭐 할 ...</td>\n",
              "      <td>인디음악, 포크/블루스</td>\n",
              "    </tr>\n",
              "    <tr>\n",
              "      <th>2</th>\n",
              "      <td>2705410</td>\n",
              "      <td>늦게 다니지좀 마술은 멀리좀 해봐열살짜리 애처럼 말을 안듣니정말 웃음만 나와누가 누...</td>\n",
              "      <td>발라드</td>\n",
              "    </tr>\n",
              "    <tr>\n",
              "      <th>3</th>\n",
              "      <td>30205955</td>\n",
              "      <td>난 또 행복한 척 더 더 행복한 척난 또 행복한 척 더 더 행복한 척아무에게도 말하...</td>\n",
              "      <td>R&amp;B/Soul</td>\n",
              "    </tr>\n",
              "    <tr>\n",
              "      <th>4</th>\n",
              "      <td>3590149</td>\n",
              "      <td>밥을 먹어도 혼자야구를 봐도 혼자거리를 걸어도 나 혼자혼자이기 싫은데또 방에 누워도...</td>\n",
              "      <td>발라드</td>\n",
              "    </tr>\n",
              "    <tr>\n",
              "      <th>...</th>\n",
              "      <td>...</td>\n",
              "      <td>...</td>\n",
              "      <td>...</td>\n",
              "    </tr>\n",
              "    <tr>\n",
              "      <th>1102</th>\n",
              "      <td>3713013</td>\n",
              "      <td>닫힌 내 가슴은 누구도  사랑할 수가 없다 그렇게 믿었는데  어느새 내 가슴이 열리...</td>\n",
              "      <td>댄스</td>\n",
              "    </tr>\n",
              "    <tr>\n",
              "      <th>1103</th>\n",
              "      <td>4020215</td>\n",
              "      <td>네가 떠나고 늘 슬프다 아무리 슬퍼해도 슬픔이 모자라 맘 놓고 아파할 곳을 찾아 숨...</td>\n",
              "      <td>랩/힙합</td>\n",
              "    </tr>\n",
              "    <tr>\n",
              "      <th>1104</th>\n",
              "      <td>2797558</td>\n",
              "      <td>오 내 맘이야 맘이야 맘이 맘이야 오 내 맘이야 맘이야 맘이 맘이야 Ma Ma Ma...</td>\n",
              "      <td>댄스, 발라드</td>\n",
              "    </tr>\n",
              "    <tr>\n",
              "      <th>1105</th>\n",
              "      <td>31873020</td>\n",
              "      <td>그대와 자주 가던 그 술집에혼자 널 생각하며 소주 한잔해그대가 좋아하던 김치찌개를가...</td>\n",
              "      <td>발라드</td>\n",
              "    </tr>\n",
              "    <tr>\n",
              "      <th>1106</th>\n",
              "      <td>2705407</td>\n",
              "      <td>Push Push Baby Oh Push BabyPush Push baby Just...</td>\n",
              "      <td>댄스, 발라드</td>\n",
              "    </tr>\n",
              "  </tbody>\n",
              "</table>\n",
              "<p>1107 rows × 3 columns</p>\n",
              "</div>\n",
              "    <div class=\"colab-df-buttons\">\n",
              "\n",
              "  <div class=\"colab-df-container\">\n",
              "    <button class=\"colab-df-convert\" onclick=\"convertToInteractive('df-06b3e9e2-2012-4869-9413-daf32021d784')\"\n",
              "            title=\"Convert this dataframe to an interactive table.\"\n",
              "            style=\"display:none;\">\n",
              "\n",
              "  <svg xmlns=\"http://www.w3.org/2000/svg\" height=\"24px\" viewBox=\"0 -960 960 960\">\n",
              "    <path d=\"M120-120v-720h720v720H120Zm60-500h600v-160H180v160Zm220 220h160v-160H400v160Zm0 220h160v-160H400v160ZM180-400h160v-160H180v160Zm440 0h160v-160H620v160ZM180-180h160v-160H180v160Zm440 0h160v-160H620v160Z\"/>\n",
              "  </svg>\n",
              "    </button>\n",
              "\n",
              "  <style>\n",
              "    .colab-df-container {\n",
              "      display:flex;\n",
              "      gap: 12px;\n",
              "    }\n",
              "\n",
              "    .colab-df-convert {\n",
              "      background-color: #E8F0FE;\n",
              "      border: none;\n",
              "      border-radius: 50%;\n",
              "      cursor: pointer;\n",
              "      display: none;\n",
              "      fill: #1967D2;\n",
              "      height: 32px;\n",
              "      padding: 0 0 0 0;\n",
              "      width: 32px;\n",
              "    }\n",
              "\n",
              "    .colab-df-convert:hover {\n",
              "      background-color: #E2EBFA;\n",
              "      box-shadow: 0px 1px 2px rgba(60, 64, 67, 0.3), 0px 1px 3px 1px rgba(60, 64, 67, 0.15);\n",
              "      fill: #174EA6;\n",
              "    }\n",
              "\n",
              "    .colab-df-buttons div {\n",
              "      margin-bottom: 4px;\n",
              "    }\n",
              "\n",
              "    [theme=dark] .colab-df-convert {\n",
              "      background-color: #3B4455;\n",
              "      fill: #D2E3FC;\n",
              "    }\n",
              "\n",
              "    [theme=dark] .colab-df-convert:hover {\n",
              "      background-color: #434B5C;\n",
              "      box-shadow: 0px 1px 3px 1px rgba(0, 0, 0, 0.15);\n",
              "      filter: drop-shadow(0px 1px 2px rgba(0, 0, 0, 0.3));\n",
              "      fill: #FFFFFF;\n",
              "    }\n",
              "  </style>\n",
              "\n",
              "    <script>\n",
              "      const buttonEl =\n",
              "        document.querySelector('#df-06b3e9e2-2012-4869-9413-daf32021d784 button.colab-df-convert');\n",
              "      buttonEl.style.display =\n",
              "        google.colab.kernel.accessAllowed ? 'block' : 'none';\n",
              "\n",
              "      async function convertToInteractive(key) {\n",
              "        const element = document.querySelector('#df-06b3e9e2-2012-4869-9413-daf32021d784');\n",
              "        const dataTable =\n",
              "          await google.colab.kernel.invokeFunction('convertToInteractive',\n",
              "                                                    [key], {});\n",
              "        if (!dataTable) return;\n",
              "\n",
              "        const docLinkHtml = 'Like what you see? Visit the ' +\n",
              "          '<a target=\"_blank\" href=https://colab.research.google.com/notebooks/data_table.ipynb>data table notebook</a>'\n",
              "          + ' to learn more about interactive tables.';\n",
              "        element.innerHTML = '';\n",
              "        dataTable['output_type'] = 'display_data';\n",
              "        await google.colab.output.renderOutput(dataTable, element);\n",
              "        const docLink = document.createElement('div');\n",
              "        docLink.innerHTML = docLinkHtml;\n",
              "        element.appendChild(docLink);\n",
              "      }\n",
              "    </script>\n",
              "  </div>\n",
              "\n",
              "\n",
              "<div id=\"df-fd24c606-c263-4eb0-83ce-fc43943ccd91\">\n",
              "  <button class=\"colab-df-quickchart\" onclick=\"quickchart('df-fd24c606-c263-4eb0-83ce-fc43943ccd91')\"\n",
              "            title=\"Suggest charts.\"\n",
              "            style=\"display:none;\">\n",
              "\n",
              "<svg xmlns=\"http://www.w3.org/2000/svg\" height=\"24px\"viewBox=\"0 0 24 24\"\n",
              "     width=\"24px\">\n",
              "    <g>\n",
              "        <path d=\"M19 3H5c-1.1 0-2 .9-2 2v14c0 1.1.9 2 2 2h14c1.1 0 2-.9 2-2V5c0-1.1-.9-2-2-2zM9 17H7v-7h2v7zm4 0h-2V7h2v10zm4 0h-2v-4h2v4z\"/>\n",
              "    </g>\n",
              "</svg>\n",
              "  </button>\n",
              "\n",
              "<style>\n",
              "  .colab-df-quickchart {\n",
              "      --bg-color: #E8F0FE;\n",
              "      --fill-color: #1967D2;\n",
              "      --hover-bg-color: #E2EBFA;\n",
              "      --hover-fill-color: #174EA6;\n",
              "      --disabled-fill-color: #AAA;\n",
              "      --disabled-bg-color: #DDD;\n",
              "  }\n",
              "\n",
              "  [theme=dark] .colab-df-quickchart {\n",
              "      --bg-color: #3B4455;\n",
              "      --fill-color: #D2E3FC;\n",
              "      --hover-bg-color: #434B5C;\n",
              "      --hover-fill-color: #FFFFFF;\n",
              "      --disabled-bg-color: #3B4455;\n",
              "      --disabled-fill-color: #666;\n",
              "  }\n",
              "\n",
              "  .colab-df-quickchart {\n",
              "    background-color: var(--bg-color);\n",
              "    border: none;\n",
              "    border-radius: 50%;\n",
              "    cursor: pointer;\n",
              "    display: none;\n",
              "    fill: var(--fill-color);\n",
              "    height: 32px;\n",
              "    padding: 0;\n",
              "    width: 32px;\n",
              "  }\n",
              "\n",
              "  .colab-df-quickchart:hover {\n",
              "    background-color: var(--hover-bg-color);\n",
              "    box-shadow: 0 1px 2px rgba(60, 64, 67, 0.3), 0 1px 3px 1px rgba(60, 64, 67, 0.15);\n",
              "    fill: var(--button-hover-fill-color);\n",
              "  }\n",
              "\n",
              "  .colab-df-quickchart-complete:disabled,\n",
              "  .colab-df-quickchart-complete:disabled:hover {\n",
              "    background-color: var(--disabled-bg-color);\n",
              "    fill: var(--disabled-fill-color);\n",
              "    box-shadow: none;\n",
              "  }\n",
              "\n",
              "  .colab-df-spinner {\n",
              "    border: 2px solid var(--fill-color);\n",
              "    border-color: transparent;\n",
              "    border-bottom-color: var(--fill-color);\n",
              "    animation:\n",
              "      spin 1s steps(1) infinite;\n",
              "  }\n",
              "\n",
              "  @keyframes spin {\n",
              "    0% {\n",
              "      border-color: transparent;\n",
              "      border-bottom-color: var(--fill-color);\n",
              "      border-left-color: var(--fill-color);\n",
              "    }\n",
              "    20% {\n",
              "      border-color: transparent;\n",
              "      border-left-color: var(--fill-color);\n",
              "      border-top-color: var(--fill-color);\n",
              "    }\n",
              "    30% {\n",
              "      border-color: transparent;\n",
              "      border-left-color: var(--fill-color);\n",
              "      border-top-color: var(--fill-color);\n",
              "      border-right-color: var(--fill-color);\n",
              "    }\n",
              "    40% {\n",
              "      border-color: transparent;\n",
              "      border-right-color: var(--fill-color);\n",
              "      border-top-color: var(--fill-color);\n",
              "    }\n",
              "    60% {\n",
              "      border-color: transparent;\n",
              "      border-right-color: var(--fill-color);\n",
              "    }\n",
              "    80% {\n",
              "      border-color: transparent;\n",
              "      border-right-color: var(--fill-color);\n",
              "      border-bottom-color: var(--fill-color);\n",
              "    }\n",
              "    90% {\n",
              "      border-color: transparent;\n",
              "      border-bottom-color: var(--fill-color);\n",
              "    }\n",
              "  }\n",
              "</style>\n",
              "\n",
              "  <script>\n",
              "    async function quickchart(key) {\n",
              "      const quickchartButtonEl =\n",
              "        document.querySelector('#' + key + ' button');\n",
              "      quickchartButtonEl.disabled = true;  // To prevent multiple clicks.\n",
              "      quickchartButtonEl.classList.add('colab-df-spinner');\n",
              "      try {\n",
              "        const charts = await google.colab.kernel.invokeFunction(\n",
              "            'suggestCharts', [key], {});\n",
              "      } catch (error) {\n",
              "        console.error('Error during call to suggestCharts:', error);\n",
              "      }\n",
              "      quickchartButtonEl.classList.remove('colab-df-spinner');\n",
              "      quickchartButtonEl.classList.add('colab-df-quickchart-complete');\n",
              "    }\n",
              "    (() => {\n",
              "      let quickchartButtonEl =\n",
              "        document.querySelector('#df-fd24c606-c263-4eb0-83ce-fc43943ccd91 button');\n",
              "      quickchartButtonEl.style.display =\n",
              "        google.colab.kernel.accessAllowed ? 'block' : 'none';\n",
              "    })();\n",
              "  </script>\n",
              "</div>\n",
              "    </div>\n",
              "  </div>\n"
            ]
          },
          "metadata": {},
          "execution_count": 15
        }
      ]
    },
    {
      "cell_type": "code",
      "source": [
        "song_df['genre'], genre_to_idx = make_idx_list(song_df['genre'])"
      ],
      "metadata": {
        "id": "2erD4tJ29NLA"
      },
      "execution_count": null,
      "outputs": []
    },
    {
      "cell_type": "code",
      "source": [
        "genre_to_idx"
      ],
      "metadata": {
        "colab": {
          "base_uri": "https://localhost:8080/"
        },
        "id": "SG2cLxzt9NJA",
        "outputId": "f6d2535b-8e29-4463-f2e2-fc4271695251"
      },
      "execution_count": null,
      "outputs": [
        {
          "output_type": "execute_result",
          "data": {
            "text/plain": [
              "{'댄스': 0,\n",
              " '발라드': 1,\n",
              " 'R&B/Soul': 2,\n",
              " '랩/힙합': 3,\n",
              " '성인가요/트로트': 4,\n",
              " '록/메탈': 5,\n",
              " '국내드라마': 6,\n",
              " '일렉트로니카': 7,\n",
              " '포크/블루스': 8,\n",
              " '크로스오버': 9,\n",
              " '애시드/퓨전/팝': 10,\n",
              " '클래식': 11,\n",
              " '재즈': 12,\n",
              " '인디음악': 13}"
            ]
          },
          "metadata": {},
          "execution_count": 17
        }
      ]
    },
    {
      "cell_type": "code",
      "source": [
        "song_df.tail(3)"
      ],
      "metadata": {
        "colab": {
          "base_uri": "https://localhost:8080/",
          "height": 143
        },
        "id": "1A8Lv-T_9NGr",
        "outputId": "88c61d05-0942-4f97-c0da-158de20936a8"
      },
      "execution_count": null,
      "outputs": [
        {
          "output_type": "execute_result",
          "data": {
            "text/plain": [
              "       Song_ID                                             Lyrics   genre\n",
              "1104   2797558  오 내 맘이야 맘이야 맘이 맘이야 오 내 맘이야 맘이야 맘이 맘이야 Ma Ma Ma...  [0, 1]\n",
              "1105  31873020  그대와 자주 가던 그 술집에혼자 널 생각하며 소주 한잔해그대가 좋아하던 김치찌개를가...     [1]\n",
              "1106   2705407  Push Push Baby Oh Push BabyPush Push baby Just...  [0, 1]"
            ],
            "text/html": [
              "\n",
              "  <div id=\"df-70ec0390-38df-4af7-b16a-155c9ed16a0c\" class=\"colab-df-container\">\n",
              "    <div>\n",
              "<style scoped>\n",
              "    .dataframe tbody tr th:only-of-type {\n",
              "        vertical-align: middle;\n",
              "    }\n",
              "\n",
              "    .dataframe tbody tr th {\n",
              "        vertical-align: top;\n",
              "    }\n",
              "\n",
              "    .dataframe thead th {\n",
              "        text-align: right;\n",
              "    }\n",
              "</style>\n",
              "<table border=\"1\" class=\"dataframe\">\n",
              "  <thead>\n",
              "    <tr style=\"text-align: right;\">\n",
              "      <th></th>\n",
              "      <th>Song_ID</th>\n",
              "      <th>Lyrics</th>\n",
              "      <th>genre</th>\n",
              "    </tr>\n",
              "  </thead>\n",
              "  <tbody>\n",
              "    <tr>\n",
              "      <th>1104</th>\n",
              "      <td>2797558</td>\n",
              "      <td>오 내 맘이야 맘이야 맘이 맘이야 오 내 맘이야 맘이야 맘이 맘이야 Ma Ma Ma...</td>\n",
              "      <td>[0, 1]</td>\n",
              "    </tr>\n",
              "    <tr>\n",
              "      <th>1105</th>\n",
              "      <td>31873020</td>\n",
              "      <td>그대와 자주 가던 그 술집에혼자 널 생각하며 소주 한잔해그대가 좋아하던 김치찌개를가...</td>\n",
              "      <td>[1]</td>\n",
              "    </tr>\n",
              "    <tr>\n",
              "      <th>1106</th>\n",
              "      <td>2705407</td>\n",
              "      <td>Push Push Baby Oh Push BabyPush Push baby Just...</td>\n",
              "      <td>[0, 1]</td>\n",
              "    </tr>\n",
              "  </tbody>\n",
              "</table>\n",
              "</div>\n",
              "    <div class=\"colab-df-buttons\">\n",
              "\n",
              "  <div class=\"colab-df-container\">\n",
              "    <button class=\"colab-df-convert\" onclick=\"convertToInteractive('df-70ec0390-38df-4af7-b16a-155c9ed16a0c')\"\n",
              "            title=\"Convert this dataframe to an interactive table.\"\n",
              "            style=\"display:none;\">\n",
              "\n",
              "  <svg xmlns=\"http://www.w3.org/2000/svg\" height=\"24px\" viewBox=\"0 -960 960 960\">\n",
              "    <path d=\"M120-120v-720h720v720H120Zm60-500h600v-160H180v160Zm220 220h160v-160H400v160Zm0 220h160v-160H400v160ZM180-400h160v-160H180v160Zm440 0h160v-160H620v160ZM180-180h160v-160H180v160Zm440 0h160v-160H620v160Z\"/>\n",
              "  </svg>\n",
              "    </button>\n",
              "\n",
              "  <style>\n",
              "    .colab-df-container {\n",
              "      display:flex;\n",
              "      gap: 12px;\n",
              "    }\n",
              "\n",
              "    .colab-df-convert {\n",
              "      background-color: #E8F0FE;\n",
              "      border: none;\n",
              "      border-radius: 50%;\n",
              "      cursor: pointer;\n",
              "      display: none;\n",
              "      fill: #1967D2;\n",
              "      height: 32px;\n",
              "      padding: 0 0 0 0;\n",
              "      width: 32px;\n",
              "    }\n",
              "\n",
              "    .colab-df-convert:hover {\n",
              "      background-color: #E2EBFA;\n",
              "      box-shadow: 0px 1px 2px rgba(60, 64, 67, 0.3), 0px 1px 3px 1px rgba(60, 64, 67, 0.15);\n",
              "      fill: #174EA6;\n",
              "    }\n",
              "\n",
              "    .colab-df-buttons div {\n",
              "      margin-bottom: 4px;\n",
              "    }\n",
              "\n",
              "    [theme=dark] .colab-df-convert {\n",
              "      background-color: #3B4455;\n",
              "      fill: #D2E3FC;\n",
              "    }\n",
              "\n",
              "    [theme=dark] .colab-df-convert:hover {\n",
              "      background-color: #434B5C;\n",
              "      box-shadow: 0px 1px 3px 1px rgba(0, 0, 0, 0.15);\n",
              "      filter: drop-shadow(0px 1px 2px rgba(0, 0, 0, 0.3));\n",
              "      fill: #FFFFFF;\n",
              "    }\n",
              "  </style>\n",
              "\n",
              "    <script>\n",
              "      const buttonEl =\n",
              "        document.querySelector('#df-70ec0390-38df-4af7-b16a-155c9ed16a0c button.colab-df-convert');\n",
              "      buttonEl.style.display =\n",
              "        google.colab.kernel.accessAllowed ? 'block' : 'none';\n",
              "\n",
              "      async function convertToInteractive(key) {\n",
              "        const element = document.querySelector('#df-70ec0390-38df-4af7-b16a-155c9ed16a0c');\n",
              "        const dataTable =\n",
              "          await google.colab.kernel.invokeFunction('convertToInteractive',\n",
              "                                                    [key], {});\n",
              "        if (!dataTable) return;\n",
              "\n",
              "        const docLinkHtml = 'Like what you see? Visit the ' +\n",
              "          '<a target=\"_blank\" href=https://colab.research.google.com/notebooks/data_table.ipynb>data table notebook</a>'\n",
              "          + ' to learn more about interactive tables.';\n",
              "        element.innerHTML = '';\n",
              "        dataTable['output_type'] = 'display_data';\n",
              "        await google.colab.output.renderOutput(dataTable, element);\n",
              "        const docLink = document.createElement('div');\n",
              "        docLink.innerHTML = docLinkHtml;\n",
              "        element.appendChild(docLink);\n",
              "      }\n",
              "    </script>\n",
              "  </div>\n",
              "\n",
              "\n",
              "<div id=\"df-ca505f47-7b89-4dd4-a0f9-3d8db659b19f\">\n",
              "  <button class=\"colab-df-quickchart\" onclick=\"quickchart('df-ca505f47-7b89-4dd4-a0f9-3d8db659b19f')\"\n",
              "            title=\"Suggest charts.\"\n",
              "            style=\"display:none;\">\n",
              "\n",
              "<svg xmlns=\"http://www.w3.org/2000/svg\" height=\"24px\"viewBox=\"0 0 24 24\"\n",
              "     width=\"24px\">\n",
              "    <g>\n",
              "        <path d=\"M19 3H5c-1.1 0-2 .9-2 2v14c0 1.1.9 2 2 2h14c1.1 0 2-.9 2-2V5c0-1.1-.9-2-2-2zM9 17H7v-7h2v7zm4 0h-2V7h2v10zm4 0h-2v-4h2v4z\"/>\n",
              "    </g>\n",
              "</svg>\n",
              "  </button>\n",
              "\n",
              "<style>\n",
              "  .colab-df-quickchart {\n",
              "      --bg-color: #E8F0FE;\n",
              "      --fill-color: #1967D2;\n",
              "      --hover-bg-color: #E2EBFA;\n",
              "      --hover-fill-color: #174EA6;\n",
              "      --disabled-fill-color: #AAA;\n",
              "      --disabled-bg-color: #DDD;\n",
              "  }\n",
              "\n",
              "  [theme=dark] .colab-df-quickchart {\n",
              "      --bg-color: #3B4455;\n",
              "      --fill-color: #D2E3FC;\n",
              "      --hover-bg-color: #434B5C;\n",
              "      --hover-fill-color: #FFFFFF;\n",
              "      --disabled-bg-color: #3B4455;\n",
              "      --disabled-fill-color: #666;\n",
              "  }\n",
              "\n",
              "  .colab-df-quickchart {\n",
              "    background-color: var(--bg-color);\n",
              "    border: none;\n",
              "    border-radius: 50%;\n",
              "    cursor: pointer;\n",
              "    display: none;\n",
              "    fill: var(--fill-color);\n",
              "    height: 32px;\n",
              "    padding: 0;\n",
              "    width: 32px;\n",
              "  }\n",
              "\n",
              "  .colab-df-quickchart:hover {\n",
              "    background-color: var(--hover-bg-color);\n",
              "    box-shadow: 0 1px 2px rgba(60, 64, 67, 0.3), 0 1px 3px 1px rgba(60, 64, 67, 0.15);\n",
              "    fill: var(--button-hover-fill-color);\n",
              "  }\n",
              "\n",
              "  .colab-df-quickchart-complete:disabled,\n",
              "  .colab-df-quickchart-complete:disabled:hover {\n",
              "    background-color: var(--disabled-bg-color);\n",
              "    fill: var(--disabled-fill-color);\n",
              "    box-shadow: none;\n",
              "  }\n",
              "\n",
              "  .colab-df-spinner {\n",
              "    border: 2px solid var(--fill-color);\n",
              "    border-color: transparent;\n",
              "    border-bottom-color: var(--fill-color);\n",
              "    animation:\n",
              "      spin 1s steps(1) infinite;\n",
              "  }\n",
              "\n",
              "  @keyframes spin {\n",
              "    0% {\n",
              "      border-color: transparent;\n",
              "      border-bottom-color: var(--fill-color);\n",
              "      border-left-color: var(--fill-color);\n",
              "    }\n",
              "    20% {\n",
              "      border-color: transparent;\n",
              "      border-left-color: var(--fill-color);\n",
              "      border-top-color: var(--fill-color);\n",
              "    }\n",
              "    30% {\n",
              "      border-color: transparent;\n",
              "      border-left-color: var(--fill-color);\n",
              "      border-top-color: var(--fill-color);\n",
              "      border-right-color: var(--fill-color);\n",
              "    }\n",
              "    40% {\n",
              "      border-color: transparent;\n",
              "      border-right-color: var(--fill-color);\n",
              "      border-top-color: var(--fill-color);\n",
              "    }\n",
              "    60% {\n",
              "      border-color: transparent;\n",
              "      border-right-color: var(--fill-color);\n",
              "    }\n",
              "    80% {\n",
              "      border-color: transparent;\n",
              "      border-right-color: var(--fill-color);\n",
              "      border-bottom-color: var(--fill-color);\n",
              "    }\n",
              "    90% {\n",
              "      border-color: transparent;\n",
              "      border-bottom-color: var(--fill-color);\n",
              "    }\n",
              "  }\n",
              "</style>\n",
              "\n",
              "  <script>\n",
              "    async function quickchart(key) {\n",
              "      const quickchartButtonEl =\n",
              "        document.querySelector('#' + key + ' button');\n",
              "      quickchartButtonEl.disabled = true;  // To prevent multiple clicks.\n",
              "      quickchartButtonEl.classList.add('colab-df-spinner');\n",
              "      try {\n",
              "        const charts = await google.colab.kernel.invokeFunction(\n",
              "            'suggestCharts', [key], {});\n",
              "      } catch (error) {\n",
              "        console.error('Error during call to suggestCharts:', error);\n",
              "      }\n",
              "      quickchartButtonEl.classList.remove('colab-df-spinner');\n",
              "      quickchartButtonEl.classList.add('colab-df-quickchart-complete');\n",
              "    }\n",
              "    (() => {\n",
              "      let quickchartButtonEl =\n",
              "        document.querySelector('#df-ca505f47-7b89-4dd4-a0f9-3d8db659b19f button');\n",
              "      quickchartButtonEl.style.display =\n",
              "        google.colab.kernel.accessAllowed ? 'block' : 'none';\n",
              "    })();\n",
              "  </script>\n",
              "</div>\n",
              "    </div>\n",
              "  </div>\n"
            ]
          },
          "metadata": {},
          "execution_count": 18
        }
      ]
    },
    {
      "cell_type": "markdown",
      "source": [
        "#### song_df에 가사(Lyrics) 전처리"
      ],
      "metadata": {
        "id": "Ug7nRjAb9y2l"
      }
    },
    {
      "cell_type": "code",
      "source": [
        "song_df['Lyrics'] = preprocess(song_df['Lyrics'])"
      ],
      "metadata": {
        "id": "zgxBcWgT9ysE"
      },
      "execution_count": null,
      "outputs": []
    },
    {
      "cell_type": "code",
      "source": [
        "song_df.tail(3)"
      ],
      "metadata": {
        "colab": {
          "base_uri": "https://localhost:8080/"
        },
        "id": "vLpaACba9NEZ",
        "outputId": "9d6f0fcb-e30f-4ac0-e7f1-f08d30625bea"
      },
      "execution_count": null,
      "outputs": [
        {
          "output_type": "execute_result",
          "data": {
            "text/plain": [
              "       Song_ID                                             Lyrics   genre\n",
              "1104   2797558  오 내 맘이야 맘이야 맘이 맘이야 오 내 맘이야 맘이야 맘이 맘이야         ...  [0, 1]\n",
              "1105  31873020  그대와 자주 가던 그 술집에혼자 널 생각하며 소주 한잔해그대가 좋아하던 김치찌개를가...     [1]\n",
              "1106   2705407                          맘을 받아줘      달콤한 말로    ...  [0, 1]"
            ],
            "text/html": [
              "\n",
              "  <div id=\"df-9ca4f843-9a29-4d2c-9033-7f14dc0cd6a2\" class=\"colab-df-container\">\n",
              "    <div>\n",
              "<style scoped>\n",
              "    .dataframe tbody tr th:only-of-type {\n",
              "        vertical-align: middle;\n",
              "    }\n",
              "\n",
              "    .dataframe tbody tr th {\n",
              "        vertical-align: top;\n",
              "    }\n",
              "\n",
              "    .dataframe thead th {\n",
              "        text-align: right;\n",
              "    }\n",
              "</style>\n",
              "<table border=\"1\" class=\"dataframe\">\n",
              "  <thead>\n",
              "    <tr style=\"text-align: right;\">\n",
              "      <th></th>\n",
              "      <th>Song_ID</th>\n",
              "      <th>Lyrics</th>\n",
              "      <th>genre</th>\n",
              "    </tr>\n",
              "  </thead>\n",
              "  <tbody>\n",
              "    <tr>\n",
              "      <th>1104</th>\n",
              "      <td>2797558</td>\n",
              "      <td>오 내 맘이야 맘이야 맘이 맘이야 오 내 맘이야 맘이야 맘이 맘이야         ...</td>\n",
              "      <td>[0, 1]</td>\n",
              "    </tr>\n",
              "    <tr>\n",
              "      <th>1105</th>\n",
              "      <td>31873020</td>\n",
              "      <td>그대와 자주 가던 그 술집에혼자 널 생각하며 소주 한잔해그대가 좋아하던 김치찌개를가...</td>\n",
              "      <td>[1]</td>\n",
              "    </tr>\n",
              "    <tr>\n",
              "      <th>1106</th>\n",
              "      <td>2705407</td>\n",
              "      <td>맘을 받아줘      달콤한 말로    ...</td>\n",
              "      <td>[0, 1]</td>\n",
              "    </tr>\n",
              "  </tbody>\n",
              "</table>\n",
              "</div>\n",
              "    <div class=\"colab-df-buttons\">\n",
              "\n",
              "  <div class=\"colab-df-container\">\n",
              "    <button class=\"colab-df-convert\" onclick=\"convertToInteractive('df-9ca4f843-9a29-4d2c-9033-7f14dc0cd6a2')\"\n",
              "            title=\"Convert this dataframe to an interactive table.\"\n",
              "            style=\"display:none;\">\n",
              "\n",
              "  <svg xmlns=\"http://www.w3.org/2000/svg\" height=\"24px\" viewBox=\"0 -960 960 960\">\n",
              "    <path d=\"M120-120v-720h720v720H120Zm60-500h600v-160H180v160Zm220 220h160v-160H400v160Zm0 220h160v-160H400v160ZM180-400h160v-160H180v160Zm440 0h160v-160H620v160ZM180-180h160v-160H180v160Zm440 0h160v-160H620v160Z\"/>\n",
              "  </svg>\n",
              "    </button>\n",
              "\n",
              "  <style>\n",
              "    .colab-df-container {\n",
              "      display:flex;\n",
              "      gap: 12px;\n",
              "    }\n",
              "\n",
              "    .colab-df-convert {\n",
              "      background-color: #E8F0FE;\n",
              "      border: none;\n",
              "      border-radius: 50%;\n",
              "      cursor: pointer;\n",
              "      display: none;\n",
              "      fill: #1967D2;\n",
              "      height: 32px;\n",
              "      padding: 0 0 0 0;\n",
              "      width: 32px;\n",
              "    }\n",
              "\n",
              "    .colab-df-convert:hover {\n",
              "      background-color: #E2EBFA;\n",
              "      box-shadow: 0px 1px 2px rgba(60, 64, 67, 0.3), 0px 1px 3px 1px rgba(60, 64, 67, 0.15);\n",
              "      fill: #174EA6;\n",
              "    }\n",
              "\n",
              "    .colab-df-buttons div {\n",
              "      margin-bottom: 4px;\n",
              "    }\n",
              "\n",
              "    [theme=dark] .colab-df-convert {\n",
              "      background-color: #3B4455;\n",
              "      fill: #D2E3FC;\n",
              "    }\n",
              "\n",
              "    [theme=dark] .colab-df-convert:hover {\n",
              "      background-color: #434B5C;\n",
              "      box-shadow: 0px 1px 3px 1px rgba(0, 0, 0, 0.15);\n",
              "      filter: drop-shadow(0px 1px 2px rgba(0, 0, 0, 0.3));\n",
              "      fill: #FFFFFF;\n",
              "    }\n",
              "  </style>\n",
              "\n",
              "    <script>\n",
              "      const buttonEl =\n",
              "        document.querySelector('#df-9ca4f843-9a29-4d2c-9033-7f14dc0cd6a2 button.colab-df-convert');\n",
              "      buttonEl.style.display =\n",
              "        google.colab.kernel.accessAllowed ? 'block' : 'none';\n",
              "\n",
              "      async function convertToInteractive(key) {\n",
              "        const element = document.querySelector('#df-9ca4f843-9a29-4d2c-9033-7f14dc0cd6a2');\n",
              "        const dataTable =\n",
              "          await google.colab.kernel.invokeFunction('convertToInteractive',\n",
              "                                                    [key], {});\n",
              "        if (!dataTable) return;\n",
              "\n",
              "        const docLinkHtml = 'Like what you see? Visit the ' +\n",
              "          '<a target=\"_blank\" href=https://colab.research.google.com/notebooks/data_table.ipynb>data table notebook</a>'\n",
              "          + ' to learn more about interactive tables.';\n",
              "        element.innerHTML = '';\n",
              "        dataTable['output_type'] = 'display_data';\n",
              "        await google.colab.output.renderOutput(dataTable, element);\n",
              "        const docLink = document.createElement('div');\n",
              "        docLink.innerHTML = docLinkHtml;\n",
              "        element.appendChild(docLink);\n",
              "      }\n",
              "    </script>\n",
              "  </div>\n",
              "\n",
              "\n",
              "<div id=\"df-ea13df98-26a2-47e2-9d7a-6bc88768393c\">\n",
              "  <button class=\"colab-df-quickchart\" onclick=\"quickchart('df-ea13df98-26a2-47e2-9d7a-6bc88768393c')\"\n",
              "            title=\"Suggest charts.\"\n",
              "            style=\"display:none;\">\n",
              "\n",
              "<svg xmlns=\"http://www.w3.org/2000/svg\" height=\"24px\"viewBox=\"0 0 24 24\"\n",
              "     width=\"24px\">\n",
              "    <g>\n",
              "        <path d=\"M19 3H5c-1.1 0-2 .9-2 2v14c0 1.1.9 2 2 2h14c1.1 0 2-.9 2-2V5c0-1.1-.9-2-2-2zM9 17H7v-7h2v7zm4 0h-2V7h2v10zm4 0h-2v-4h2v4z\"/>\n",
              "    </g>\n",
              "</svg>\n",
              "  </button>\n",
              "\n",
              "<style>\n",
              "  .colab-df-quickchart {\n",
              "      --bg-color: #E8F0FE;\n",
              "      --fill-color: #1967D2;\n",
              "      --hover-bg-color: #E2EBFA;\n",
              "      --hover-fill-color: #174EA6;\n",
              "      --disabled-fill-color: #AAA;\n",
              "      --disabled-bg-color: #DDD;\n",
              "  }\n",
              "\n",
              "  [theme=dark] .colab-df-quickchart {\n",
              "      --bg-color: #3B4455;\n",
              "      --fill-color: #D2E3FC;\n",
              "      --hover-bg-color: #434B5C;\n",
              "      --hover-fill-color: #FFFFFF;\n",
              "      --disabled-bg-color: #3B4455;\n",
              "      --disabled-fill-color: #666;\n",
              "  }\n",
              "\n",
              "  .colab-df-quickchart {\n",
              "    background-color: var(--bg-color);\n",
              "    border: none;\n",
              "    border-radius: 50%;\n",
              "    cursor: pointer;\n",
              "    display: none;\n",
              "    fill: var(--fill-color);\n",
              "    height: 32px;\n",
              "    padding: 0;\n",
              "    width: 32px;\n",
              "  }\n",
              "\n",
              "  .colab-df-quickchart:hover {\n",
              "    background-color: var(--hover-bg-color);\n",
              "    box-shadow: 0 1px 2px rgba(60, 64, 67, 0.3), 0 1px 3px 1px rgba(60, 64, 67, 0.15);\n",
              "    fill: var(--button-hover-fill-color);\n",
              "  }\n",
              "\n",
              "  .colab-df-quickchart-complete:disabled,\n",
              "  .colab-df-quickchart-complete:disabled:hover {\n",
              "    background-color: var(--disabled-bg-color);\n",
              "    fill: var(--disabled-fill-color);\n",
              "    box-shadow: none;\n",
              "  }\n",
              "\n",
              "  .colab-df-spinner {\n",
              "    border: 2px solid var(--fill-color);\n",
              "    border-color: transparent;\n",
              "    border-bottom-color: var(--fill-color);\n",
              "    animation:\n",
              "      spin 1s steps(1) infinite;\n",
              "  }\n",
              "\n",
              "  @keyframes spin {\n",
              "    0% {\n",
              "      border-color: transparent;\n",
              "      border-bottom-color: var(--fill-color);\n",
              "      border-left-color: var(--fill-color);\n",
              "    }\n",
              "    20% {\n",
              "      border-color: transparent;\n",
              "      border-left-color: var(--fill-color);\n",
              "      border-top-color: var(--fill-color);\n",
              "    }\n",
              "    30% {\n",
              "      border-color: transparent;\n",
              "      border-left-color: var(--fill-color);\n",
              "      border-top-color: var(--fill-color);\n",
              "      border-right-color: var(--fill-color);\n",
              "    }\n",
              "    40% {\n",
              "      border-color: transparent;\n",
              "      border-right-color: var(--fill-color);\n",
              "      border-top-color: var(--fill-color);\n",
              "    }\n",
              "    60% {\n",
              "      border-color: transparent;\n",
              "      border-right-color: var(--fill-color);\n",
              "    }\n",
              "    80% {\n",
              "      border-color: transparent;\n",
              "      border-right-color: var(--fill-color);\n",
              "      border-bottom-color: var(--fill-color);\n",
              "    }\n",
              "    90% {\n",
              "      border-color: transparent;\n",
              "      border-bottom-color: var(--fill-color);\n",
              "    }\n",
              "  }\n",
              "</style>\n",
              "\n",
              "  <script>\n",
              "    async function quickchart(key) {\n",
              "      const quickchartButtonEl =\n",
              "        document.querySelector('#' + key + ' button');\n",
              "      quickchartButtonEl.disabled = true;  // To prevent multiple clicks.\n",
              "      quickchartButtonEl.classList.add('colab-df-spinner');\n",
              "      try {\n",
              "        const charts = await google.colab.kernel.invokeFunction(\n",
              "            'suggestCharts', [key], {});\n",
              "      } catch (error) {\n",
              "        console.error('Error during call to suggestCharts:', error);\n",
              "      }\n",
              "      quickchartButtonEl.classList.remove('colab-df-spinner');\n",
              "      quickchartButtonEl.classList.add('colab-df-quickchart-complete');\n",
              "    }\n",
              "    (() => {\n",
              "      let quickchartButtonEl =\n",
              "        document.querySelector('#df-ea13df98-26a2-47e2-9d7a-6bc88768393c button');\n",
              "      quickchartButtonEl.style.display =\n",
              "        google.colab.kernel.accessAllowed ? 'block' : 'none';\n",
              "    })();\n",
              "  </script>\n",
              "</div>\n",
              "    </div>\n",
              "  </div>\n"
            ]
          },
          "metadata": {},
          "execution_count": 20
        }
      ]
    },
    {
      "cell_type": "code",
      "source": [
        "song_df"
      ],
      "metadata": {
        "colab": {
          "base_uri": "https://localhost:8080/"
        },
        "id": "ZskPCegy9NAQ",
        "outputId": "bd6b22e8-9967-4c16-ab2c-d5e184a9b3cc"
      },
      "execution_count": null,
      "outputs": [
        {
          "output_type": "execute_result",
          "data": {
            "text/plain": [
              "       Song_ID                                             Lyrics    genre\n",
              "0     34373632  어린 햇살 아래서뛰어놀곤 했었던가쁜 숨결굽이진 골목 지나길을 따라가보면같은 기억어른...   [6, 1]\n",
              "1      8124417  꽃이 언제 피는지 그딴 게 뭐가 중요한데날씨가 언제 풀리는지 그딴 거 알면 뭐 할 ...  [13, 8]\n",
              "2      2705410  늦게 다니지좀 마술은 멀리좀 해봐열살짜리 애처럼 말을 안듣니정말 웃음만 나와누가 누...      [1]\n",
              "3     30205955  난 또 행복한 척 더 더 행복한 척난 또 행복한 척 더 더 행복한 척아무에게도 말하...      [2]\n",
              "4      3590149  밥을 먹어도 혼자야구를 봐도 혼자거리를 걸어도 나 혼자혼자이기 싫은데또 방에 누워도...      [1]\n",
              "...        ...                                                ...      ...\n",
              "1102   3713013  닫힌 내 가슴은 누구도  사랑할 수가 없다 그렇게 믿었는데  어느새 내 가슴이 열리...      [0]\n",
              "1103   4020215  네가 떠나고 늘 슬프다 아무리 슬퍼해도 슬픔이 모자라 맘 놓고 아파할 곳을 찾아 숨...      [3]\n",
              "1104   2797558  오 내 맘이야 맘이야 맘이 맘이야 오 내 맘이야 맘이야 맘이 맘이야         ...   [0, 1]\n",
              "1105  31873020  그대와 자주 가던 그 술집에혼자 널 생각하며 소주 한잔해그대가 좋아하던 김치찌개를가...      [1]\n",
              "1106   2705407                          맘을 받아줘      달콤한 말로    ...   [0, 1]\n",
              "\n",
              "[1107 rows x 3 columns]"
            ],
            "text/html": [
              "\n",
              "  <div id=\"df-63877d0c-af2d-4a84-bad9-0c36ebfcc9de\" class=\"colab-df-container\">\n",
              "    <div>\n",
              "<style scoped>\n",
              "    .dataframe tbody tr th:only-of-type {\n",
              "        vertical-align: middle;\n",
              "    }\n",
              "\n",
              "    .dataframe tbody tr th {\n",
              "        vertical-align: top;\n",
              "    }\n",
              "\n",
              "    .dataframe thead th {\n",
              "        text-align: right;\n",
              "    }\n",
              "</style>\n",
              "<table border=\"1\" class=\"dataframe\">\n",
              "  <thead>\n",
              "    <tr style=\"text-align: right;\">\n",
              "      <th></th>\n",
              "      <th>Song_ID</th>\n",
              "      <th>Lyrics</th>\n",
              "      <th>genre</th>\n",
              "    </tr>\n",
              "  </thead>\n",
              "  <tbody>\n",
              "    <tr>\n",
              "      <th>0</th>\n",
              "      <td>34373632</td>\n",
              "      <td>어린 햇살 아래서뛰어놀곤 했었던가쁜 숨결굽이진 골목 지나길을 따라가보면같은 기억어른...</td>\n",
              "      <td>[6, 1]</td>\n",
              "    </tr>\n",
              "    <tr>\n",
              "      <th>1</th>\n",
              "      <td>8124417</td>\n",
              "      <td>꽃이 언제 피는지 그딴 게 뭐가 중요한데날씨가 언제 풀리는지 그딴 거 알면 뭐 할 ...</td>\n",
              "      <td>[13, 8]</td>\n",
              "    </tr>\n",
              "    <tr>\n",
              "      <th>2</th>\n",
              "      <td>2705410</td>\n",
              "      <td>늦게 다니지좀 마술은 멀리좀 해봐열살짜리 애처럼 말을 안듣니정말 웃음만 나와누가 누...</td>\n",
              "      <td>[1]</td>\n",
              "    </tr>\n",
              "    <tr>\n",
              "      <th>3</th>\n",
              "      <td>30205955</td>\n",
              "      <td>난 또 행복한 척 더 더 행복한 척난 또 행복한 척 더 더 행복한 척아무에게도 말하...</td>\n",
              "      <td>[2]</td>\n",
              "    </tr>\n",
              "    <tr>\n",
              "      <th>4</th>\n",
              "      <td>3590149</td>\n",
              "      <td>밥을 먹어도 혼자야구를 봐도 혼자거리를 걸어도 나 혼자혼자이기 싫은데또 방에 누워도...</td>\n",
              "      <td>[1]</td>\n",
              "    </tr>\n",
              "    <tr>\n",
              "      <th>...</th>\n",
              "      <td>...</td>\n",
              "      <td>...</td>\n",
              "      <td>...</td>\n",
              "    </tr>\n",
              "    <tr>\n",
              "      <th>1102</th>\n",
              "      <td>3713013</td>\n",
              "      <td>닫힌 내 가슴은 누구도  사랑할 수가 없다 그렇게 믿었는데  어느새 내 가슴이 열리...</td>\n",
              "      <td>[0]</td>\n",
              "    </tr>\n",
              "    <tr>\n",
              "      <th>1103</th>\n",
              "      <td>4020215</td>\n",
              "      <td>네가 떠나고 늘 슬프다 아무리 슬퍼해도 슬픔이 모자라 맘 놓고 아파할 곳을 찾아 숨...</td>\n",
              "      <td>[3]</td>\n",
              "    </tr>\n",
              "    <tr>\n",
              "      <th>1104</th>\n",
              "      <td>2797558</td>\n",
              "      <td>오 내 맘이야 맘이야 맘이 맘이야 오 내 맘이야 맘이야 맘이 맘이야         ...</td>\n",
              "      <td>[0, 1]</td>\n",
              "    </tr>\n",
              "    <tr>\n",
              "      <th>1105</th>\n",
              "      <td>31873020</td>\n",
              "      <td>그대와 자주 가던 그 술집에혼자 널 생각하며 소주 한잔해그대가 좋아하던 김치찌개를가...</td>\n",
              "      <td>[1]</td>\n",
              "    </tr>\n",
              "    <tr>\n",
              "      <th>1106</th>\n",
              "      <td>2705407</td>\n",
              "      <td>맘을 받아줘      달콤한 말로    ...</td>\n",
              "      <td>[0, 1]</td>\n",
              "    </tr>\n",
              "  </tbody>\n",
              "</table>\n",
              "<p>1107 rows × 3 columns</p>\n",
              "</div>\n",
              "    <div class=\"colab-df-buttons\">\n",
              "\n",
              "  <div class=\"colab-df-container\">\n",
              "    <button class=\"colab-df-convert\" onclick=\"convertToInteractive('df-63877d0c-af2d-4a84-bad9-0c36ebfcc9de')\"\n",
              "            title=\"Convert this dataframe to an interactive table.\"\n",
              "            style=\"display:none;\">\n",
              "\n",
              "  <svg xmlns=\"http://www.w3.org/2000/svg\" height=\"24px\" viewBox=\"0 -960 960 960\">\n",
              "    <path d=\"M120-120v-720h720v720H120Zm60-500h600v-160H180v160Zm220 220h160v-160H400v160Zm0 220h160v-160H400v160ZM180-400h160v-160H180v160Zm440 0h160v-160H620v160ZM180-180h160v-160H180v160Zm440 0h160v-160H620v160Z\"/>\n",
              "  </svg>\n",
              "    </button>\n",
              "\n",
              "  <style>\n",
              "    .colab-df-container {\n",
              "      display:flex;\n",
              "      gap: 12px;\n",
              "    }\n",
              "\n",
              "    .colab-df-convert {\n",
              "      background-color: #E8F0FE;\n",
              "      border: none;\n",
              "      border-radius: 50%;\n",
              "      cursor: pointer;\n",
              "      display: none;\n",
              "      fill: #1967D2;\n",
              "      height: 32px;\n",
              "      padding: 0 0 0 0;\n",
              "      width: 32px;\n",
              "    }\n",
              "\n",
              "    .colab-df-convert:hover {\n",
              "      background-color: #E2EBFA;\n",
              "      box-shadow: 0px 1px 2px rgba(60, 64, 67, 0.3), 0px 1px 3px 1px rgba(60, 64, 67, 0.15);\n",
              "      fill: #174EA6;\n",
              "    }\n",
              "\n",
              "    .colab-df-buttons div {\n",
              "      margin-bottom: 4px;\n",
              "    }\n",
              "\n",
              "    [theme=dark] .colab-df-convert {\n",
              "      background-color: #3B4455;\n",
              "      fill: #D2E3FC;\n",
              "    }\n",
              "\n",
              "    [theme=dark] .colab-df-convert:hover {\n",
              "      background-color: #434B5C;\n",
              "      box-shadow: 0px 1px 3px 1px rgba(0, 0, 0, 0.15);\n",
              "      filter: drop-shadow(0px 1px 2px rgba(0, 0, 0, 0.3));\n",
              "      fill: #FFFFFF;\n",
              "    }\n",
              "  </style>\n",
              "\n",
              "    <script>\n",
              "      const buttonEl =\n",
              "        document.querySelector('#df-63877d0c-af2d-4a84-bad9-0c36ebfcc9de button.colab-df-convert');\n",
              "      buttonEl.style.display =\n",
              "        google.colab.kernel.accessAllowed ? 'block' : 'none';\n",
              "\n",
              "      async function convertToInteractive(key) {\n",
              "        const element = document.querySelector('#df-63877d0c-af2d-4a84-bad9-0c36ebfcc9de');\n",
              "        const dataTable =\n",
              "          await google.colab.kernel.invokeFunction('convertToInteractive',\n",
              "                                                    [key], {});\n",
              "        if (!dataTable) return;\n",
              "\n",
              "        const docLinkHtml = 'Like what you see? Visit the ' +\n",
              "          '<a target=\"_blank\" href=https://colab.research.google.com/notebooks/data_table.ipynb>data table notebook</a>'\n",
              "          + ' to learn more about interactive tables.';\n",
              "        element.innerHTML = '';\n",
              "        dataTable['output_type'] = 'display_data';\n",
              "        await google.colab.output.renderOutput(dataTable, element);\n",
              "        const docLink = document.createElement('div');\n",
              "        docLink.innerHTML = docLinkHtml;\n",
              "        element.appendChild(docLink);\n",
              "      }\n",
              "    </script>\n",
              "  </div>\n",
              "\n",
              "\n",
              "<div id=\"df-31a7588d-ef7c-4420-b01d-1408b4d1c33a\">\n",
              "  <button class=\"colab-df-quickchart\" onclick=\"quickchart('df-31a7588d-ef7c-4420-b01d-1408b4d1c33a')\"\n",
              "            title=\"Suggest charts.\"\n",
              "            style=\"display:none;\">\n",
              "\n",
              "<svg xmlns=\"http://www.w3.org/2000/svg\" height=\"24px\"viewBox=\"0 0 24 24\"\n",
              "     width=\"24px\">\n",
              "    <g>\n",
              "        <path d=\"M19 3H5c-1.1 0-2 .9-2 2v14c0 1.1.9 2 2 2h14c1.1 0 2-.9 2-2V5c0-1.1-.9-2-2-2zM9 17H7v-7h2v7zm4 0h-2V7h2v10zm4 0h-2v-4h2v4z\"/>\n",
              "    </g>\n",
              "</svg>\n",
              "  </button>\n",
              "\n",
              "<style>\n",
              "  .colab-df-quickchart {\n",
              "      --bg-color: #E8F0FE;\n",
              "      --fill-color: #1967D2;\n",
              "      --hover-bg-color: #E2EBFA;\n",
              "      --hover-fill-color: #174EA6;\n",
              "      --disabled-fill-color: #AAA;\n",
              "      --disabled-bg-color: #DDD;\n",
              "  }\n",
              "\n",
              "  [theme=dark] .colab-df-quickchart {\n",
              "      --bg-color: #3B4455;\n",
              "      --fill-color: #D2E3FC;\n",
              "      --hover-bg-color: #434B5C;\n",
              "      --hover-fill-color: #FFFFFF;\n",
              "      --disabled-bg-color: #3B4455;\n",
              "      --disabled-fill-color: #666;\n",
              "  }\n",
              "\n",
              "  .colab-df-quickchart {\n",
              "    background-color: var(--bg-color);\n",
              "    border: none;\n",
              "    border-radius: 50%;\n",
              "    cursor: pointer;\n",
              "    display: none;\n",
              "    fill: var(--fill-color);\n",
              "    height: 32px;\n",
              "    padding: 0;\n",
              "    width: 32px;\n",
              "  }\n",
              "\n",
              "  .colab-df-quickchart:hover {\n",
              "    background-color: var(--hover-bg-color);\n",
              "    box-shadow: 0 1px 2px rgba(60, 64, 67, 0.3), 0 1px 3px 1px rgba(60, 64, 67, 0.15);\n",
              "    fill: var(--button-hover-fill-color);\n",
              "  }\n",
              "\n",
              "  .colab-df-quickchart-complete:disabled,\n",
              "  .colab-df-quickchart-complete:disabled:hover {\n",
              "    background-color: var(--disabled-bg-color);\n",
              "    fill: var(--disabled-fill-color);\n",
              "    box-shadow: none;\n",
              "  }\n",
              "\n",
              "  .colab-df-spinner {\n",
              "    border: 2px solid var(--fill-color);\n",
              "    border-color: transparent;\n",
              "    border-bottom-color: var(--fill-color);\n",
              "    animation:\n",
              "      spin 1s steps(1) infinite;\n",
              "  }\n",
              "\n",
              "  @keyframes spin {\n",
              "    0% {\n",
              "      border-color: transparent;\n",
              "      border-bottom-color: var(--fill-color);\n",
              "      border-left-color: var(--fill-color);\n",
              "    }\n",
              "    20% {\n",
              "      border-color: transparent;\n",
              "      border-left-color: var(--fill-color);\n",
              "      border-top-color: var(--fill-color);\n",
              "    }\n",
              "    30% {\n",
              "      border-color: transparent;\n",
              "      border-left-color: var(--fill-color);\n",
              "      border-top-color: var(--fill-color);\n",
              "      border-right-color: var(--fill-color);\n",
              "    }\n",
              "    40% {\n",
              "      border-color: transparent;\n",
              "      border-right-color: var(--fill-color);\n",
              "      border-top-color: var(--fill-color);\n",
              "    }\n",
              "    60% {\n",
              "      border-color: transparent;\n",
              "      border-right-color: var(--fill-color);\n",
              "    }\n",
              "    80% {\n",
              "      border-color: transparent;\n",
              "      border-right-color: var(--fill-color);\n",
              "      border-bottom-color: var(--fill-color);\n",
              "    }\n",
              "    90% {\n",
              "      border-color: transparent;\n",
              "      border-bottom-color: var(--fill-color);\n",
              "    }\n",
              "  }\n",
              "</style>\n",
              "\n",
              "  <script>\n",
              "    async function quickchart(key) {\n",
              "      const quickchartButtonEl =\n",
              "        document.querySelector('#' + key + ' button');\n",
              "      quickchartButtonEl.disabled = true;  // To prevent multiple clicks.\n",
              "      quickchartButtonEl.classList.add('colab-df-spinner');\n",
              "      try {\n",
              "        const charts = await google.colab.kernel.invokeFunction(\n",
              "            'suggestCharts', [key], {});\n",
              "      } catch (error) {\n",
              "        console.error('Error during call to suggestCharts:', error);\n",
              "      }\n",
              "      quickchartButtonEl.classList.remove('colab-df-spinner');\n",
              "      quickchartButtonEl.classList.add('colab-df-quickchart-complete');\n",
              "    }\n",
              "    (() => {\n",
              "      let quickchartButtonEl =\n",
              "        document.querySelector('#df-31a7588d-ef7c-4420-b01d-1408b4d1c33a button');\n",
              "      quickchartButtonEl.style.display =\n",
              "        google.colab.kernel.accessAllowed ? 'block' : 'none';\n",
              "    })();\n",
              "  </script>\n",
              "</div>\n",
              "    </div>\n",
              "  </div>\n"
            ]
          },
          "metadata": {},
          "execution_count": 21
        }
      ]
    },
    {
      "cell_type": "code",
      "source": [
        "# 반복되는 가사를 어떻게 한번만 등장하게끔 만들 수 있을까?"
      ],
      "metadata": {
        "id": "htUKtSx63Sjk"
      },
      "execution_count": null,
      "outputs": []
    },
    {
      "cell_type": "code",
      "source": [
        "# 한 노래의 장르가 여러개일 경우 어떻게 처리하지?\n",
        "# 예측할 때 하나라도 맞추면 맞았다고 해야하는지?\n",
        "# 다중 레이블 분류 찾아보기"
      ],
      "metadata": {
        "id": "p9TwJtRKU9QA"
      },
      "execution_count": null,
      "outputs": []
    },
    {
      "cell_type": "markdown",
      "source": [
        "### 모델 돌려보기"
      ],
      "metadata": {
        "id": "aA29FvMX-jWk"
      }
    },
    {
      "cell_type": "code",
      "source": [
        "!pip install transformers"
      ],
      "metadata": {
        "id": "EvCQwnGECJrr"
      },
      "execution_count": null,
      "outputs": []
    },
    {
      "cell_type": "code",
      "source": [
        "import pandas as pd\n",
        "import numpy as np\n",
        "import random\n",
        "import time\n",
        "import datetime\n",
        "from tqdm import tqdm\n",
        "\n",
        "import csv\n",
        "import os\n",
        "\n",
        "import tensorflow as tf\n",
        "import torch\n",
        "\n",
        "# BERT 사용을 위함\n",
        "from transformers import BertTokenizer\n",
        "from transformers import BertForSequenceClassification, AdamW, BertConfig\n",
        "from transformers import get_linear_schedule_with_warmup\n",
        "from torch.utils.data import TensorDataset, DataLoader, RandomSampler, SequentialSampler\n",
        "\n",
        "# for padding\n",
        "from tensorflow.keras.preprocessing.sequence import pad_sequences\n",
        "\n",
        "# 전처리 및 평가 지표\n",
        "from sklearn.model_selection import train_test_split\n",
        "from sklearn.preprocessing import MultiLabelBinarizer\n",
        "from sklearn.metrics import f1_score, roc_auc_score, accuracy_score, hamming_loss"
      ],
      "metadata": {
        "id": "5ivrypGxCJo8"
      },
      "execution_count": null,
      "outputs": []
    },
    {
      "cell_type": "code",
      "source": [
        "!pip install datasets"
      ],
      "metadata": {
        "id": "lPyRd64nUm7n"
      },
      "execution_count": null,
      "outputs": []
    },
    {
      "cell_type": "code",
      "source": [
        "from datasets import load_dataset\n",
        "\n",
        "dataset = load_dataset(\"jeanlee/kmhas_korean_hate_speech\")"
      ],
      "metadata": {
        "id": "zXx55No8CJkT"
      },
      "execution_count": null,
      "outputs": []
    },
    {
      "cell_type": "code",
      "source": [
        "# 훈련 데이터, 검증 데이터, 테스트 데이터를 로드합니다.\n",
        "\n",
        "train = load_dataset(\"jeanlee/kmhas_korean_hate_speech\", split=\"train\")\n",
        "validation = load_dataset(\"jeanlee/kmhas_korean_hate_speech\", split=\"validation\")\n",
        "test = load_dataset(\"jeanlee/kmhas_korean_hate_speech\", split=\"test\")"
      ],
      "metadata": {
        "id": "1nlj9If6CJgs"
      },
      "execution_count": null,
      "outputs": []
    },
    {
      "cell_type": "code",
      "source": [
        "train['label']"
      ],
      "metadata": {
        "id": "BPee6f9hU4Zf"
      },
      "execution_count": null,
      "outputs": []
    },
    {
      "cell_type": "code",
      "source": [
        "train['text']"
      ],
      "metadata": {
        "id": "4PHn-QiKUuK8"
      },
      "execution_count": null,
      "outputs": []
    },
    {
      "cell_type": "code",
      "source": [],
      "metadata": {
        "id": "hPmkgendUuGj"
      },
      "execution_count": null,
      "outputs": []
    },
    {
      "cell_type": "markdown",
      "source": [
        "### 데이터 준비하기"
      ],
      "metadata": {
        "id": "ZN69XaGoYuPr"
      }
    },
    {
      "cell_type": "markdown",
      "source": [
        "#### 데이터셋 만들기 - 훈련 데이터, 테스트 데이터 나누기"
      ],
      "metadata": {
        "id": "T4067JZ-VG-j"
      }
    },
    {
      "cell_type": "code",
      "source": [
        "from torch.utils.data import Dataset"
      ],
      "metadata": {
        "id": "IlFNbhUQaT5o"
      },
      "execution_count": null,
      "outputs": []
    },
    {
      "cell_type": "code",
      "source": [
        "class SongDataset(Dataset):\n",
        "    def __init__(self, x_data, y_data):\n",
        "        # self.data = pd.DataFrame(data, columns=['lyrics', 'genre'])\n",
        "        self.x_data = x_data\n",
        "        self.y_data = y_data\n",
        "\n",
        "    def __len__(self):\n",
        "        return len(self.x_data)\n",
        "\n",
        "    def __getitem__(self, idx):\n",
        "        x = self.x_data[idx]\n",
        "        y = self.y_data[idx]\n",
        "\n",
        "        return x, y"
      ],
      "metadata": {
        "id": "_H8Jd-peaLXT"
      },
      "execution_count": null,
      "outputs": []
    },
    {
      "cell_type": "code",
      "source": [
        "# 사용할 데이터 : song_df\n",
        "X = song_df['Lyrics']\n",
        "Y = song_df['genre']"
      ],
      "metadata": {
        "id": "uIhoJJu2UuEj"
      },
      "execution_count": null,
      "outputs": []
    },
    {
      "cell_type": "code",
      "source": [
        "# 학습데이터 테스트 데이터 나누기 - 80% 20%\n",
        "from sklearn.model_selection import train_test_split\n",
        "X_train, X_test, y_train, y_test = train_test_split(\n",
        "    X, Y, test_size = 0.2, random_state = 42\n",
        ")"
      ],
      "metadata": {
        "id": "ztZc_xWAUuCM"
      },
      "execution_count": null,
      "outputs": []
    },
    {
      "cell_type": "markdown",
      "source": [
        "train_data, train_label, test_data, test_label"
      ],
      "metadata": {
        "id": "A0eUGS0nmvcf"
      }
    },
    {
      "cell_type": "code",
      "source": [
        "train_data = X_train.reset_index(drop=True)\n",
        "train_label = y_train.reset_index(drop=True)\n",
        "test_data = X_test.reset_index(drop=True)\n",
        "test_label = y_test.reset_index(drop=True)"
      ],
      "metadata": {
        "id": "fwLoSrT-kCV5"
      },
      "execution_count": null,
      "outputs": []
    },
    {
      "cell_type": "code",
      "source": [
        "# train_dataset = SongDataset(train_data)\n",
        "# test_dataset = SongDataset(test_data)\n",
        "train_dataset = SongDataset(train_data, train_label)\n",
        "test_dataset = SongDataset(test_data, test_label)"
      ],
      "metadata": {
        "id": "PgVn7dSTemKx"
      },
      "execution_count": null,
      "outputs": []
    },
    {
      "cell_type": "code",
      "source": [
        "train_dataset.__getitem__(3)"
      ],
      "metadata": {
        "colab": {
          "base_uri": "https://localhost:8080/"
        },
        "id": "bd8yJX3Ii0j8",
        "outputId": "53d33db4-c2f8-4b40-d812-37bc6b7f2803"
      },
      "execution_count": null,
      "outputs": [
        {
          "output_type": "execute_result",
          "data": {
            "text/plain": [
              "('어쩜 이렇게 하늘은 더 파란 건지 오늘따라 왜 바람은 또 완벽한지 그냥 모르는 척 하나 못들은 척 지워버린 척 딴 얘길 시작할까 아무 말 못하게 입맞출까 눈물이 차올라서 고갤 들어 흐르지 못하게 또 살짝 웃어 내게 왜 이러는지 무슨 말을 하는지 오늘 했던 모든 말 저 하늘 위로 한번도 못했던 말 울면서 할 줄은 나 몰랐던 말 나는요 오빠가 좋은걸 어떡해 새로 바뀐 내 머리가 별로였는지 입고 나왔던 옷이 실수였던 건지 아직 모르는 척 기억 안 나는 척 아무 일없던 것처럼 굴어볼까 그냥 나가자고 얘기할까 눈물이 차올라서 고갤 들어 흐르지 못하게 또 살짝 웃어 내게 왜 이러는지 무슨 말을 하는지 오늘 했던 모든 말 저 하늘 위로 한번도 못했던 말 울면서 할 줄은 나 몰랐던 말 나는요 오빠가 좋은걸 어떡해 이런 나를 보고 그런 슬픈 말은 하지 말아요 철없는 건지 조금 둔한 건지 믿을 수가 없는걸요 눈물은 나오는데 활짝 웃어 네 앞을 막고서 막 크게 웃어 내가 왜 이러는지 부끄럼도 없는지 자존심은 곱게 접어 하늘위로 한 번도 못했던 말 어쩌면 다신 못할 바로 그 말 나는요 오빠가 좋은걸 아이쿠 하나 둘                    이렇게 좋은 날',\n",
              " [1, 0])"
            ]
          },
          "metadata": {},
          "execution_count": 33
        }
      ]
    },
    {
      "cell_type": "code",
      "source": [],
      "metadata": {
        "id": "iLw57gkilfVh"
      },
      "execution_count": null,
      "outputs": []
    },
    {
      "cell_type": "markdown",
      "source": [
        "#### 데이터셋 전처리"
      ],
      "metadata": {
        "id": "vkwC44akuKzA"
      }
    },
    {
      "cell_type": "code",
      "source": [
        "train_sentences = list(map(lambda x: '[CLS] ' + str(x) + ' [SEP]', train_data))\n",
        "test_sentences = list(map(lambda x: '[CLS] ' + str(x) + ' [SEP]', test_data))"
      ],
      "metadata": {
        "id": "x1-i2NtbmfHD"
      },
      "execution_count": null,
      "outputs": []
    },
    {
      "cell_type": "code",
      "source": [
        "from sklearn.preprocessing import MultiLabelBinarizer"
      ],
      "metadata": {
        "id": "nk_G3boOsYyP"
      },
      "execution_count": null,
      "outputs": []
    },
    {
      "cell_type": "code",
      "source": [
        "enc = MultiLabelBinarizer()\n",
        "enc.fit([list(range(0, 14))])\n",
        "\n",
        "def multi_label(label):\n",
        "    enc_label = enc.transform(label)\n",
        "    float_arr = np.vstack(enc_label[:]).astype(float)\n",
        "    update_label = float_arr.tolist()\n",
        "    return update_label"
      ],
      "metadata": {
        "id": "VW2hvqPGsYuT"
      },
      "execution_count": null,
      "outputs": []
    },
    {
      "cell_type": "code",
      "source": [
        "genre_to_idx"
      ],
      "metadata": {
        "colab": {
          "base_uri": "https://localhost:8080/"
        },
        "id": "dcGxA-KeKeQr",
        "outputId": "3fc2bed8-09a4-4c71-f0e9-d71d116cc633"
      },
      "execution_count": null,
      "outputs": [
        {
          "output_type": "execute_result",
          "data": {
            "text/plain": [
              "{'댄스': 0,\n",
              " '발라드': 1,\n",
              " 'R&B/Soul': 2,\n",
              " '랩/힙합': 3,\n",
              " '성인가요/트로트': 4,\n",
              " '록/메탈': 5,\n",
              " '국내드라마': 6,\n",
              " '일렉트로니카': 7,\n",
              " '포크/블루스': 8,\n",
              " '크로스오버': 9,\n",
              " '애시드/퓨전/팝': 10,\n",
              " '클래식': 11,\n",
              " '재즈': 12,\n",
              " '인디음악': 13}"
            ]
          },
          "metadata": {},
          "execution_count": 135
        }
      ]
    },
    {
      "cell_type": "code",
      "source": [
        "train_label"
      ],
      "metadata": {
        "colab": {
          "base_uri": "https://localhost:8080/"
        },
        "id": "uMI8stvrKX6f",
        "outputId": "5056431b-928a-4982-e690-f5ae9b5494df"
      },
      "execution_count": null,
      "outputs": [
        {
          "output_type": "execute_result",
          "data": {
            "text/plain": [
              "0       [1, 2]\n",
              "1       [0, 1]\n",
              "2      [2, 13]\n",
              "3       [1, 0]\n",
              "4       [0, 1]\n",
              "        ...   \n",
              "880     [1, 6]\n",
              "881        [1]\n",
              "882     [0, 1]\n",
              "883     [0, 1]\n",
              "884     [1, 6]\n",
              "Name: genre, Length: 885, dtype: object"
            ]
          },
          "metadata": {},
          "execution_count": 134
        }
      ]
    },
    {
      "cell_type": "code",
      "source": [
        "train_labels = multi_label(train_label)\n",
        "test_labels = multi_label(test_label)"
      ],
      "metadata": {
        "id": "bZzQey10tRZ8"
      },
      "execution_count": null,
      "outputs": []
    },
    {
      "cell_type": "code",
      "source": [
        "print(len(train_labels), len(train_labels[0]))\n",
        "print(len(test_labels), len(test_labels[0]))"
      ],
      "metadata": {
        "colab": {
          "base_uri": "https://localhost:8080/"
        },
        "id": "te4FZFX-Kqs_",
        "outputId": "0736729b-9940-4bf8-ca29-7676c31eb2a7"
      },
      "execution_count": null,
      "outputs": [
        {
          "output_type": "stream",
          "name": "stdout",
          "text": [
            "885 14\n",
            "222 14\n"
          ]
        }
      ]
    },
    {
      "cell_type": "markdown",
      "source": [
        "#### BERT 토크나이저를 이용한 전처리"
      ],
      "metadata": {
        "id": "91_9PV_vmcMN"
      }
    },
    {
      "cell_type": "code",
      "source": [
        "# 한국어 BERT 중 하나인 'klue/bert-base'를 사용.\n",
        "tokenizer = BertTokenizer.from_pretrained('klue/bert-base')"
      ],
      "metadata": {
        "id": "TrLs93hNmfNz"
      },
      "execution_count": null,
      "outputs": []
    },
    {
      "cell_type": "code",
      "source": [
        "# train_data, train_label, test_data, test_label"
      ],
      "metadata": {
        "id": "v_kZ4tBImfLT"
      },
      "execution_count": null,
      "outputs": []
    },
    {
      "cell_type": "code",
      "source": [
        "max([len(lyrics) for lyrics in song_df['Lyrics']])"
      ],
      "metadata": {
        "colab": {
          "base_uri": "https://localhost:8080/"
        },
        "id": "u4l_7G8HuAQD",
        "outputId": "bb4d4346-c48e-4a2b-aab9-e155a29bf8ed"
      },
      "execution_count": null,
      "outputs": [
        {
          "output_type": "execute_result",
          "data": {
            "text/plain": [
              "1888"
            ]
          },
          "metadata": {},
          "execution_count": 145
        }
      ]
    },
    {
      "cell_type": "code",
      "source": [
        "tokenizer.tokenize('가나다')"
      ],
      "metadata": {
        "colab": {
          "base_uri": "https://localhost:8080/"
        },
        "id": "ssMS3H0x3Wfa",
        "outputId": "c4d983da-95a4-4564-826f-6601b79fdcaa"
      },
      "execution_count": null,
      "outputs": [
        {
          "output_type": "execute_result",
          "data": {
            "text/plain": [
              "['가나', '##다']"
            ]
          },
          "metadata": {},
          "execution_count": 146
        }
      ]
    },
    {
      "cell_type": "code",
      "source": [
        "MAX_LEN = 400\n",
        "\n",
        "def data_to_tensor(sentences, labels):\n",
        "    # 정수 인코딩\n",
        "    tokenized_texts = [tokenizer.tokenize(sent) for sent in sentences]\n",
        "    input_ids = [tokenizer.convert_tokens_to_ids(x) for x in tokenized_texts]\n",
        "     # pad_sequence: 패딩, 주어진 최대 길이보다 짧으면 뒤에 0으로 채워준다\n",
        "    input_ids = pad_sequences(list(input_ids), maxlen=MAX_LEN, dtype=\"long\",\n",
        "                              truncating = \"post\", padding=\"post\")\n",
        "    attention_masks = []\n",
        "\n",
        "    for seq in input_ids:\n",
        "        seq_mask = [float(i > 0) for i in seq]\n",
        "        attention_masks.append(seq_mask)\n",
        "\n",
        "    tensor_inputs = torch.tensor(input_ids)\n",
        "    tensor_labels = torch.tensor(labels)\n",
        "    tensor_masks = torch.tensor(attention_masks)\n",
        "\n",
        "    return tensor_inputs, tensor_labels, tensor_masks"
      ],
      "metadata": {
        "id": "lu-G9fNGuAUI"
      },
      "execution_count": null,
      "outputs": []
    },
    {
      "cell_type": "markdown",
      "source": [
        "train_sentences, test_sentences, train_labels, test_labels"
      ],
      "metadata": {
        "id": "lD2vHe2SwZlm"
      }
    },
    {
      "cell_type": "code",
      "source": [
        "train_inputs, train_labels, train_masks = data_to_tensor(train_sentences, train_labels)\n",
        "test_inputs, test_labels, test_masks = data_to_tensor(test_sentences, test_labels)\n"
      ],
      "metadata": {
        "id": "KK29lI39uAJE"
      },
      "execution_count": null,
      "outputs": []
    },
    {
      "cell_type": "code",
      "source": [
        "train_labels.shape"
      ],
      "metadata": {
        "colab": {
          "base_uri": "https://localhost:8080/"
        },
        "id": "MjkrmIunJLnh",
        "outputId": "c84f18b1-4f1a-4adf-ef89-593ea0526809"
      },
      "execution_count": null,
      "outputs": [
        {
          "output_type": "execute_result",
          "data": {
            "text/plain": [
              "torch.Size([885, 14])"
            ]
          },
          "metadata": {},
          "execution_count": 149
        }
      ]
    },
    {
      "cell_type": "code",
      "source": [
        "test_labels.shape"
      ],
      "metadata": {
        "colab": {
          "base_uri": "https://localhost:8080/"
        },
        "id": "vMYcMeO6JHuU",
        "outputId": "5e7308c2-0c41-4087-e0cf-1c36b92ed0bf"
      },
      "execution_count": null,
      "outputs": [
        {
          "output_type": "execute_result",
          "data": {
            "text/plain": [
              "torch.Size([222, 14])"
            ]
          },
          "metadata": {},
          "execution_count": 150
        }
      ]
    },
    {
      "cell_type": "code",
      "source": [
        "batch_size = 16\n",
        "\n",
        "train_data = TensorDataset(train_inputs, train_masks, train_labels)\n",
        "train_sampler = RandomSampler(train_data)\n",
        "train_dataloader = DataLoader(train_data, sampler=train_sampler, batch_size=batch_size)\n",
        "\n",
        "test_data = TensorDataset(test_inputs, test_masks, test_labels)\n",
        "test_sampler = RandomSampler(test_data)\n",
        "test_dataloader = DataLoader(test_data, sampler=test_sampler, batch_size=batch_size)"
      ],
      "metadata": {
        "id": "XeiCHSIX5w1T"
      },
      "execution_count": null,
      "outputs": []
    },
    {
      "cell_type": "code",
      "source": [
        "print('훈련 데이터의 크기:', len(train_labels))\n",
        "print('테스트 데이터의 크기:', len(test_labels))"
      ],
      "metadata": {
        "colab": {
          "base_uri": "https://localhost:8080/"
        },
        "id": "lWFLL3I75wy9",
        "outputId": "ee637235-0314-42bb-f32c-f964f81c0cb9"
      },
      "execution_count": null,
      "outputs": [
        {
          "output_type": "stream",
          "name": "stdout",
          "text": [
            "훈련 데이터의 크기: 885\n",
            "테스트 데이터의 크기: 222\n"
          ]
        }
      ]
    },
    {
      "cell_type": "markdown",
      "source": [
        "### 모델 만들기"
      ],
      "metadata": {
        "id": "xrMFAybvg-dm"
      }
    },
    {
      "cell_type": "code",
      "source": [
        "# GPU가 잘 사용되는지 테스트할 때는 아래 코드를 사용해 보세요\n",
        "import torch\n",
        "torch.rand(10).to(\"cuda:0\")\n",
        "torch.rand(10).cuda()"
      ],
      "metadata": {
        "colab": {
          "base_uri": "https://localhost:8080/"
        },
        "id": "KOq4nm-l5ww2",
        "outputId": "c1d5279f-828d-4abc-e329-c3934158ed0b"
      },
      "execution_count": null,
      "outputs": [
        {
          "output_type": "execute_result",
          "data": {
            "text/plain": [
              "tensor([0.5782, 0.0600, 0.2846, 0.2007, 0.5014, 0.3139, 0.4654, 0.1612, 0.1568,\n",
              "        0.2083], device='cuda:0')"
            ]
          },
          "metadata": {},
          "execution_count": 153
        }
      ]
    },
    {
      "cell_type": "code",
      "source": [
        "if torch.cuda.is_available():\n",
        "    device = torch.device(\"cuda\")\n",
        "    print('There are %d GPU(s) available.' % torch.cuda.device_count())\n",
        "    print('We will use the GPU:', torch.cuda.get_device_name(0))\n",
        "else:\n",
        "    device = torch.device(\"cpu\")\n",
        "    print('No GPU available, using the CPU instead.')"
      ],
      "metadata": {
        "colab": {
          "base_uri": "https://localhost:8080/"
        },
        "id": "Rgh-mqXG5wum",
        "outputId": "d7989a9b-e1ab-4e76-cb73-a2355c4fed27"
      },
      "execution_count": null,
      "outputs": [
        {
          "output_type": "stream",
          "name": "stdout",
          "text": [
            "There are 1 GPU(s) available.\n",
            "We will use the GPU: Tesla T4\n"
          ]
        }
      ]
    },
    {
      "cell_type": "code",
      "source": [
        "num_labels = 14\n",
        "\n",
        "model = BertForSequenceClassification.from_pretrained(\"klue/bert-base\",\n",
        "        num_labels=num_labels, problem_type=\"multi_label_classification\")\n",
        "\n",
        "model.cuda()"
      ],
      "metadata": {
        "colab": {
          "base_uri": "https://localhost:8080/"
        },
        "id": "7INVnpek8d2i",
        "outputId": "99af9131-23f8-44c9-d8f7-c05611e9e84f"
      },
      "execution_count": null,
      "outputs": [
        {
          "output_type": "stream",
          "name": "stderr",
          "text": [
            "Some weights of BertForSequenceClassification were not initialized from the model checkpoint at klue/bert-base and are newly initialized: ['classifier.weight', 'classifier.bias']\n",
            "You should probably TRAIN this model on a down-stream task to be able to use it for predictions and inference.\n"
          ]
        },
        {
          "output_type": "execute_result",
          "data": {
            "text/plain": [
              "BertForSequenceClassification(\n",
              "  (bert): BertModel(\n",
              "    (embeddings): BertEmbeddings(\n",
              "      (word_embeddings): Embedding(32000, 768, padding_idx=0)\n",
              "      (position_embeddings): Embedding(512, 768)\n",
              "      (token_type_embeddings): Embedding(2, 768)\n",
              "      (LayerNorm): LayerNorm((768,), eps=1e-12, elementwise_affine=True)\n",
              "      (dropout): Dropout(p=0.1, inplace=False)\n",
              "    )\n",
              "    (encoder): BertEncoder(\n",
              "      (layer): ModuleList(\n",
              "        (0-11): 12 x BertLayer(\n",
              "          (attention): BertAttention(\n",
              "            (self): BertSelfAttention(\n",
              "              (query): Linear(in_features=768, out_features=768, bias=True)\n",
              "              (key): Linear(in_features=768, out_features=768, bias=True)\n",
              "              (value): Linear(in_features=768, out_features=768, bias=True)\n",
              "              (dropout): Dropout(p=0.1, inplace=False)\n",
              "            )\n",
              "            (output): BertSelfOutput(\n",
              "              (dense): Linear(in_features=768, out_features=768, bias=True)\n",
              "              (LayerNorm): LayerNorm((768,), eps=1e-12, elementwise_affine=True)\n",
              "              (dropout): Dropout(p=0.1, inplace=False)\n",
              "            )\n",
              "          )\n",
              "          (intermediate): BertIntermediate(\n",
              "            (dense): Linear(in_features=768, out_features=3072, bias=True)\n",
              "            (intermediate_act_fn): GELUActivation()\n",
              "          )\n",
              "          (output): BertOutput(\n",
              "            (dense): Linear(in_features=3072, out_features=768, bias=True)\n",
              "            (LayerNorm): LayerNorm((768,), eps=1e-12, elementwise_affine=True)\n",
              "            (dropout): Dropout(p=0.1, inplace=False)\n",
              "          )\n",
              "        )\n",
              "      )\n",
              "    )\n",
              "    (pooler): BertPooler(\n",
              "      (dense): Linear(in_features=768, out_features=768, bias=True)\n",
              "      (activation): Tanh()\n",
              "    )\n",
              "  )\n",
              "  (dropout): Dropout(p=0.1, inplace=False)\n",
              "  (classifier): Linear(in_features=768, out_features=14, bias=True)\n",
              ")"
            ]
          },
          "metadata": {},
          "execution_count": 155
        }
      ]
    },
    {
      "cell_type": "code",
      "source": [
        "# 옵티마이저 선택\n",
        "optimizer = AdamW(model.parameters(),\n",
        "                  lr = 2e-5,\n",
        "                  eps = 1e-8)"
      ],
      "metadata": {
        "colab": {
          "base_uri": "https://localhost:8080/"
        },
        "id": "w6DEYxAi8wu8",
        "outputId": "2ea04d22-0ee1-4c20-d278-ba38c3523ebf"
      },
      "execution_count": null,
      "outputs": [
        {
          "output_type": "stream",
          "name": "stderr",
          "text": [
            "/usr/local/lib/python3.10/dist-packages/transformers/optimization.py:411: FutureWarning: This implementation of AdamW is deprecated and will be removed in a future version. Use the PyTorch implementation torch.optim.AdamW instead, or set `no_deprecation_warning=True` to disable this warning\n",
            "  warnings.warn(\n"
          ]
        }
      ]
    },
    {
      "cell_type": "code",
      "source": [
        "# 에포크 설정\n",
        "epochs = 15\n",
        "total_steps = len(train_dataloader) * epochs\n",
        "scheduler = get_linear_schedule_with_warmup(optimizer,\n",
        "                                            num_warmup_steps = 0,\n",
        "                                            num_training_steps = total_steps)"
      ],
      "metadata": {
        "id": "YXATZOlJ8wsU"
      },
      "execution_count": null,
      "outputs": []
    },
    {
      "cell_type": "code",
      "source": [
        "def format_time(elapsed):\n",
        "    elapsed_rounded = int(round((elapsed)))\n",
        "    return str(datetime.timedelta(seconds=elapsed_rounded))  # hh:mm:ss"
      ],
      "metadata": {
        "id": "7y7A832p8woS"
      },
      "execution_count": null,
      "outputs": []
    },
    {
      "cell_type": "code",
      "source": [
        "def multi_label_metrics(predictions, labels, threshold=0.5):\n",
        "\n",
        "    # 모델의 예측에 대해서 시그모이드 함수값을 통과시킨다. (batch_size, num_labels)\n",
        "    sigmoid = torch.nn.Sigmoid()\n",
        "    probs = sigmoid(torch.Tensor(predictions))\n",
        "    print('sigmoid:', sigmoid, ', probs:', probs)\n",
        "\n",
        "    # 만약 threshold 값을 넘는 경우에는 1로 예측했다고 간주한다.\n",
        "    # threshold 값은 일반적으로 로지스틱 회귀 방식에 의하여 0.5를 선택하는 것이 일반적이다.\n",
        "    y_pred = np.zeros(probs.shape)\n",
        "    y_pred[np.where(probs >= threshold)] = 1\n",
        "\n",
        "    y_true = labels\n",
        "\n",
        "    # 사용 가능한 메트릭들을 사용한다.\n",
        "    accuracy = accuracy_score(y_true, y_pred)\n",
        "    f1_macro_average = f1_score(y_true=y_true, y_pred=y_pred, average='macro', zero_division=0)\n",
        "    f1_micro_average = f1_score(y_true=y_true, y_pred=y_pred, average='micro', zero_division=0)\n",
        "    f1_weighted_average = f1_score(y_true=y_true, y_pred=y_pred, average='weighted', zero_division=0)\n",
        "    roc_auc = roc_auc_score(y_true, y_pred, average = 'micro')\n",
        "\n",
        "    # 메트릭 결과에 대해서 리턴\n",
        "    metrics = {'accuracy': accuracy,\n",
        "               'f1_macro': f1_macro_average,\n",
        "               'f1_micro': f1_micro_average,\n",
        "               'f1_weighted': f1_weighted_average,\n",
        "               'roc_auc': roc_auc}\n",
        "\n",
        "    return metrics\n"
      ],
      "metadata": {
        "id": "KN88Rl6x8wl8"
      },
      "execution_count": null,
      "outputs": []
    },
    {
      "cell_type": "markdown",
      "source": [
        "GPU out of memory 에러 발생시 캐시 지우기"
      ],
      "metadata": {
        "id": "D2pkP48rNKRq"
      }
    },
    {
      "cell_type": "code",
      "source": [
        "import torch\n",
        "torch.cuda.empty_cache()\n",
        "\n",
        "import gc\n",
        "\n",
        "gc.collect()\n",
        "\n",
        "torch.cuda.memory_summary(device=None, abbreviated=False)"
      ],
      "metadata": {
        "colab": {
          "base_uri": "https://localhost:8080/",
          "height": 162
        },
        "id": "lxsIpFkH9k-1",
        "outputId": "d2b83262-7406-4b4e-d0ae-6b03adf7b401"
      },
      "execution_count": null,
      "outputs": [
        {
          "output_type": "execute_result",
          "data": {
            "text/plain": [
              "'|===========================================================================|\\n|                  PyTorch CUDA memory summary, device ID 0                 |\\n|---------------------------------------------------------------------------|\\n|            CUDA OOMs: 5            |        cudaMalloc retries: 5         |\\n|===========================================================================|\\n|        Metric         | Cur Usage  | Peak Usage | Tot Alloc  | Tot Freed  |\\n|---------------------------------------------------------------------------|\\n| Allocated memory      |   1299 MiB |  14771 MiB |   6778 GiB |   6777 GiB |\\n|       from large pool |   1297 MiB |  14768 MiB |   6756 GiB |   6754 GiB |\\n|       from small pool |      1 MiB |      4 MiB |     22 GiB |     22 GiB |\\n|---------------------------------------------------------------------------|\\n| Active memory         |   1299 MiB |  14771 MiB |   6778 GiB |   6777 GiB |\\n|       from large pool |   1297 MiB |  14768 MiB |   6756 GiB |   6754 GiB |\\n|       from small pool |      1 MiB |      4 MiB |     22 GiB |     22 GiB |\\n|---------------------------------------------------------------------------|\\n| Requested memory      |   1282 MiB |  14758 MiB |   6775 GiB |   6774 GiB |\\n|       from large pool |   1280 MiB |  14755 MiB |   6753 GiB |   6752 GiB |\\n|       from small pool |      1 MiB |      4 MiB |     22 GiB |     22 GiB |\\n|---------------------------------------------------------------------------|\\n| GPU reserved memory   |   2160 MiB |  14948 MiB |  14952 MiB |  12792 MiB |\\n|       from large pool |   2156 MiB |  14942 MiB |  14942 MiB |  12786 MiB |\\n|       from small pool |      4 MiB |      6 MiB |     10 MiB |      6 MiB |\\n|---------------------------------------------------------------------------|\\n| Non-releasable memory |    860 MiB |   4301 MiB |   7289 GiB |   7289 GiB |\\n|       from large pool |    858 MiB |   4299 MiB |   7267 GiB |   7267 GiB |\\n|       from small pool |      2 MiB |      2 MiB |     22 GiB |     22 GiB |\\n|---------------------------------------------------------------------------|\\n| Allocations           |     620    |    1065    |  324766    |  324146    |\\n|       from large pool |     227    |     488    |  201628    |  201401    |\\n|       from small pool |     393    |     652    |  123138    |  122745    |\\n|---------------------------------------------------------------------------|\\n| Active allocs         |     620    |    1065    |  324766    |  324146    |\\n|       from large pool |     227    |     488    |  201628    |  201401    |\\n|       from small pool |     393    |     652    |  123138    |  122745    |\\n|---------------------------------------------------------------------------|\\n| GPU reserved segments |      49    |     139    |     141    |      92    |\\n|       from large pool |      47    |     136    |     136    |      89    |\\n|       from small pool |       2    |       3    |       5    |       3    |\\n|---------------------------------------------------------------------------|\\n| Non-releasable allocs |      49    |     122    |  141688    |  141639    |\\n|       from large pool |      40    |     118    |   96731    |   96691    |\\n|       from small pool |       9    |      36    |   44957    |   44948    |\\n|---------------------------------------------------------------------------|\\n| Oversize allocations  |       0    |       0    |       0    |       0    |\\n|---------------------------------------------------------------------------|\\n| Oversize GPU segments |       0    |       0    |       0    |       0    |\\n|===========================================================================|\\n'"
            ],
            "application/vnd.google.colaboratory.intrinsic+json": {
              "type": "string"
            }
          },
          "metadata": {},
          "execution_count": 161
        }
      ]
    },
    {
      "cell_type": "code",
      "source": [
        "# 랜덤 시드값.\n",
        "seed_val = 42\n",
        "random.seed(seed_val)\n",
        "np.random.seed(seed_val)\n",
        "torch.manual_seed(seed_val)\n",
        "torch.cuda.manual_seed_all(seed_val)\n",
        "\n",
        "model.zero_grad()\n",
        "for epoch_i in range(0, epochs):\n",
        "    print('======== Epoch {:} / {:} ========'.format(epoch_i + 1, epochs))\n",
        "    t0 = time.time()\n",
        "    total_loss = 0\n",
        "\n",
        "    model.train()\n",
        "\n",
        "    # 에포크 5번마다 모델 저장한다\n",
        "    if epoch_i % 5 == 0:\n",
        "        torch.save(model.state_dict(), f\"BERT_multilabel_model_{epoch_i}.pt\")\n",
        "\n",
        "    for step, batch in tqdm(enumerate(train_dataloader)):\n",
        "        if step % 500 == 0 and not step == 0:\n",
        "            elapsed = format_time(time.time() - t0)\n",
        "            print('  Batch {:>5,}  of  {:>5,}.    Elapsed: {:}.'.format(step, len(train_dataloader), elapsed))\n",
        "\n",
        "        batch = tuple(t.to(device) for t in batch)\n",
        "        b_input_ids, b_input_mask, b_labels = batch\n",
        "\n",
        "        outputs = model(b_input_ids,\n",
        "                        token_type_ids=None,\n",
        "                        attention_mask=b_input_mask,\n",
        "                        labels=b_labels)\n",
        "\n",
        "        loss = outputs[0]\n",
        "        total_loss += loss.item()\n",
        "        loss.backward()\n",
        "\n",
        "        torch.nn.utils.clip_grad_norm_(model.parameters(), 1.0)  # gradient clipping if it is over a threshold\n",
        "        optimizer.step()\n",
        "        scheduler.step()\n",
        "\n",
        "        model.zero_grad()\n",
        "\n",
        "\n",
        "\n",
        "    avg_train_loss = total_loss / len(train_dataloader)\n",
        "\n",
        "    print(\"\")\n",
        "    print(\"  Average training loss: {0:.4f}\".format(avg_train_loss))\n",
        "    print(\"  Training epcoh took: {:}\".format(format_time(time.time() - t0)))"
      ],
      "metadata": {
        "colab": {
          "base_uri": "https://localhost:8080/"
        },
        "id": "lADM2l-58whO",
        "outputId": "5eedd144-e439-40f6-e818-35c85a4603a3"
      },
      "execution_count": null,
      "outputs": [
        {
          "output_type": "stream",
          "name": "stdout",
          "text": [
            "======== Epoch 1 / 15 ========\n"
          ]
        },
        {
          "output_type": "stream",
          "name": "stderr",
          "text": [
            "56it [01:01,  1.09s/it]\n"
          ]
        },
        {
          "output_type": "stream",
          "name": "stdout",
          "text": [
            "\n",
            "  Average training loss: 0.2165\n",
            "  Training epcoh took: 0:01:02\n",
            "======== Epoch 2 / 15 ========\n"
          ]
        },
        {
          "output_type": "stream",
          "name": "stderr",
          "text": [
            "56it [01:01,  1.10s/it]\n"
          ]
        },
        {
          "output_type": "stream",
          "name": "stdout",
          "text": [
            "\n",
            "  Average training loss: 0.1904\n",
            "  Training epcoh took: 0:01:01\n",
            "======== Epoch 3 / 15 ========\n"
          ]
        },
        {
          "output_type": "stream",
          "name": "stderr",
          "text": [
            "56it [01:01,  1.11s/it]\n"
          ]
        },
        {
          "output_type": "stream",
          "name": "stdout",
          "text": [
            "\n",
            "  Average training loss: 0.1632\n",
            "  Training epcoh took: 0:01:02\n",
            "======== Epoch 4 / 15 ========\n"
          ]
        },
        {
          "output_type": "stream",
          "name": "stderr",
          "text": [
            "56it [01:01,  1.10s/it]\n"
          ]
        },
        {
          "output_type": "stream",
          "name": "stdout",
          "text": [
            "\n",
            "  Average training loss: 0.1411\n",
            "  Training epcoh took: 0:01:02\n",
            "======== Epoch 5 / 15 ========\n"
          ]
        },
        {
          "output_type": "stream",
          "name": "stderr",
          "text": [
            "56it [01:01,  1.10s/it]\n"
          ]
        },
        {
          "output_type": "stream",
          "name": "stdout",
          "text": [
            "\n",
            "  Average training loss: 0.1210\n",
            "  Training epcoh took: 0:01:01\n",
            "======== Epoch 6 / 15 ========\n"
          ]
        },
        {
          "output_type": "stream",
          "name": "stderr",
          "text": [
            "56it [01:01,  1.10s/it]\n"
          ]
        },
        {
          "output_type": "stream",
          "name": "stdout",
          "text": [
            "\n",
            "  Average training loss: 0.1069\n",
            "  Training epcoh took: 0:01:03\n",
            "======== Epoch 7 / 15 ========\n"
          ]
        },
        {
          "output_type": "stream",
          "name": "stderr",
          "text": [
            "56it [01:01,  1.10s/it]\n"
          ]
        },
        {
          "output_type": "stream",
          "name": "stdout",
          "text": [
            "\n",
            "  Average training loss: 0.0964\n",
            "  Training epcoh took: 0:01:02\n",
            "======== Epoch 8 / 15 ========\n"
          ]
        },
        {
          "output_type": "stream",
          "name": "stderr",
          "text": [
            "56it [01:01,  1.10s/it]\n"
          ]
        },
        {
          "output_type": "stream",
          "name": "stdout",
          "text": [
            "\n",
            "  Average training loss: 0.0863\n",
            "  Training epcoh took: 0:01:01\n",
            "======== Epoch 9 / 15 ========\n"
          ]
        },
        {
          "output_type": "stream",
          "name": "stderr",
          "text": [
            "56it [01:01,  1.10s/it]\n"
          ]
        },
        {
          "output_type": "stream",
          "name": "stdout",
          "text": [
            "\n",
            "  Average training loss: 0.0785\n",
            "  Training epcoh took: 0:01:01\n",
            "======== Epoch 10 / 15 ========\n"
          ]
        },
        {
          "output_type": "stream",
          "name": "stderr",
          "text": [
            "56it [01:01,  1.10s/it]\n"
          ]
        },
        {
          "output_type": "stream",
          "name": "stdout",
          "text": [
            "\n",
            "  Average training loss: 0.0721\n",
            "  Training epcoh took: 0:01:01\n",
            "======== Epoch 11 / 15 ========\n"
          ]
        },
        {
          "output_type": "stream",
          "name": "stderr",
          "text": [
            "56it [01:01,  1.10s/it]\n"
          ]
        },
        {
          "output_type": "stream",
          "name": "stdout",
          "text": [
            "\n",
            "  Average training loss: 0.0668\n",
            "  Training epcoh took: 0:01:08\n",
            "======== Epoch 12 / 15 ========\n"
          ]
        },
        {
          "output_type": "stream",
          "name": "stderr",
          "text": [
            "56it [01:01,  1.10s/it]\n"
          ]
        },
        {
          "output_type": "stream",
          "name": "stdout",
          "text": [
            "\n",
            "  Average training loss: 0.0636\n",
            "  Training epcoh took: 0:01:01\n",
            "======== Epoch 13 / 15 ========\n"
          ]
        },
        {
          "output_type": "stream",
          "name": "stderr",
          "text": [
            "56it [01:01,  1.10s/it]\n"
          ]
        },
        {
          "output_type": "stream",
          "name": "stdout",
          "text": [
            "\n",
            "  Average training loss: 0.0598\n",
            "  Training epcoh took: 0:01:02\n",
            "======== Epoch 14 / 15 ========\n"
          ]
        },
        {
          "output_type": "stream",
          "name": "stderr",
          "text": [
            "56it [01:01,  1.10s/it]\n"
          ]
        },
        {
          "output_type": "stream",
          "name": "stdout",
          "text": [
            "\n",
            "  Average training loss: 0.0587\n",
            "  Training epcoh took: 0:01:01\n",
            "======== Epoch 15 / 15 ========\n"
          ]
        },
        {
          "output_type": "stream",
          "name": "stderr",
          "text": [
            "56it [01:01,  1.10s/it]"
          ]
        },
        {
          "output_type": "stream",
          "name": "stdout",
          "text": [
            "\n",
            "  Average training loss: 0.0571\n",
            "  Training epcoh took: 0:01:01\n"
          ]
        },
        {
          "output_type": "stream",
          "name": "stderr",
          "text": [
            "\n"
          ]
        }
      ]
    },
    {
      "cell_type": "code",
      "source": [
        "epoch_i"
      ],
      "metadata": {
        "colab": {
          "base_uri": "https://localhost:8080/"
        },
        "id": "aFtXEzs9SwN1",
        "outputId": "6a52fd42-f4ad-496f-acb5-9d17665bb12c"
      },
      "execution_count": null,
      "outputs": [
        {
          "output_type": "execute_result",
          "data": {
            "text/plain": [
              "14"
            ]
          },
          "metadata": {},
          "execution_count": 169
        }
      ]
    },
    {
      "cell_type": "code",
      "source": [
        "torch.save(model.state_dict(), f\"BERT_multilabel_model_{epoch_i}.pt\")"
      ],
      "metadata": {
        "id": "i5TzbdOPSvgL"
      },
      "execution_count": null,
      "outputs": []
    },
    {
      "cell_type": "code",
      "source": [],
      "metadata": {
        "id": "m24rK_vWS10Z"
      },
      "execution_count": null,
      "outputs": []
    },
    {
      "cell_type": "code",
      "source": [
        "# 예측하기\n",
        "\n",
        "t0 = time.time()\n",
        "model.eval()\n",
        "accum_logits, accum_label_ids = [], []\n",
        "\n",
        "for step, batch in tqdm(enumerate(test_dataloader)):\n",
        "    if step % 100 == 0 and not step == 0:\n",
        "        elapsed = format_time(time.time() - t0)\n",
        "        print('  Batch {:>5,}  of  {:>5,}.    Elapsed: {:}.'.format(step, len(test_dataloader), elapsed))\n",
        "\n",
        "    batch = tuple(t.to(device) for t in batch)\n",
        "    b_input_ids, b_input_mask, b_labels = batch\n",
        "\n",
        "    with torch.no_grad():\n",
        "        outputs = model(b_input_ids,\n",
        "                        token_type_ids=None,\n",
        "                        attention_mask=b_input_mask)\n",
        "\n",
        "    logits = outputs[0]\n",
        "    logits = logits.detach().cpu().numpy()\n",
        "    label_ids = b_labels.to('cpu').numpy()\n",
        "\n",
        "    for b in logits:\n",
        "        accum_logits.append(list(b))\n",
        "\n",
        "    for b in label_ids:\n",
        "        accum_label_ids.append(list(b))\n",
        "\n",
        "accum_logits = np.array(accum_logits)\n",
        "accum_label_ids = np.array(accum_label_ids)"
      ],
      "metadata": {
        "colab": {
          "base_uri": "https://localhost:8080/"
        },
        "id": "IRCfcWT25wr-",
        "outputId": "3183e3b9-d072-492d-dee9-d06ffe017ec0"
      },
      "execution_count": null,
      "outputs": [
        {
          "output_type": "stream",
          "name": "stderr",
          "text": [
            "14it [00:05,  2.67it/s]\n"
          ]
        }
      ]
    },
    {
      "cell_type": "code",
      "source": [
        "results = multi_label_metrics(accum_logits, accum_label_ids)\n",
        "\n",
        "print(\"Accuracy: {0:.4f}\".format(results['accuracy']))\n",
        "print(\"F1 (Macro) Score: {0:.4f}\".format(results['f1_macro']))\n",
        "print(\"F1 (Micro) Score: {0:.4f}\".format(results['f1_micro']))\n",
        "print(\"F1 (Weighted) Score: {0:.4f}\".format(results['f1_weighted']))\n",
        "print(\"ROC-AUC: {0:.4f}\".format(results['roc_auc']))"
      ],
      "metadata": {
        "colab": {
          "base_uri": "https://localhost:8080/"
        },
        "id": "2GAPBY9sS54x",
        "outputId": "5ea022bc-5868-48d8-d2b2-074bf934ea3e"
      },
      "execution_count": null,
      "outputs": [
        {
          "output_type": "stream",
          "name": "stdout",
          "text": [
            "sigmoid: Sigmoid() , probs: tensor([[0.8876, 0.7996, 0.0192,  ..., 0.0128, 0.0089, 0.0200],\n",
            "        [0.1511, 0.9419, 0.0311,  ..., 0.0073, 0.0056, 0.0166],\n",
            "        [0.1691, 0.6913, 0.1379,  ..., 0.0051, 0.0035, 0.0138],\n",
            "        ...,\n",
            "        [0.0912, 0.6537, 0.0835,  ..., 0.0044, 0.0040, 0.0143],\n",
            "        [0.7413, 0.9706, 0.0247,  ..., 0.0080, 0.0065, 0.0094],\n",
            "        [0.0295, 0.9758, 0.0327,  ..., 0.0116, 0.0126, 0.0195]])\n",
            "Accuracy: 0.3108\n",
            "F1 (Macro) Score: 0.1767\n",
            "F1 (Micro) Score: 0.5668\n",
            "F1 (Weighted) Score: 0.5035\n",
            "ROC-AUC: 0.7210\n"
          ]
        }
      ]
    },
    {
      "cell_type": "code",
      "source": [
        "results = multi_label_metrics(accum_logits, accum_label_ids)\n",
        "\n",
        "print(\"Accuracy: {0:.4f}\".format(results['accuracy']))\n",
        "print(\"F1 (Macro) Score: {0:.4f}\".format(results['f1_macro']))\n",
        "print(\"F1 (Micro) Score: {0:.4f}\".format(results['f1_micro']))\n",
        "print(\"F1 (Weighted) Score: {0:.4f}\".format(results['f1_weighted']))\n",
        "print(\"ROC-AUC: {0:.4f}\".format(results['roc_auc']))"
      ],
      "metadata": {
        "id": "rh5n5MDDlfTM",
        "colab": {
          "base_uri": "https://localhost:8080/"
        },
        "outputId": "c8425ce0-cd84-4854-9a03-33cb1f8bfe54"
      },
      "execution_count": null,
      "outputs": [
        {
          "output_type": "stream",
          "name": "stdout",
          "text": [
            "sigmoid: Sigmoid() , probs: tensor([[0.1970, 0.7628, 0.1588,  ..., 0.0372, 0.0307, 0.0769],\n",
            "        [0.5800, 0.6887, 0.1566,  ..., 0.0370, 0.0340, 0.0648],\n",
            "        [0.2225, 0.6106, 0.0970,  ..., 0.0280, 0.0284, 0.0523],\n",
            "        ...,\n",
            "        [0.1380, 0.7825, 0.1634,  ..., 0.0408, 0.0359, 0.0785],\n",
            "        [0.2959, 0.2505, 0.1168,  ..., 0.0342, 0.0334, 0.0454],\n",
            "        [0.2576, 0.6955, 0.1578,  ..., 0.0307, 0.0285, 0.0741]])\n",
            "accuracy 구하기 전\n",
            "y_true.shape: (222, 14)\n",
            "y_pred.shape: (222, 14)\n",
            "accuracy: 0.3153153153153153\n",
            "f1_macro_average: 0.13540670121242182\n",
            "f1_micro_average: 0.5507246376811594\n",
            "f1_weighted_average: 0.46064875244405096\n",
            "roc_auc: 0.7134253831876277\n",
            "Accuracy: 0.3153\n",
            "F1 (Macro) Score: 0.1354\n",
            "F1 (Micro) Score: 0.5507\n",
            "F1 (Weighted) Score: 0.4606\n",
            "ROC-AUC: 0.7134\n"
          ]
        }
      ]
    },
    {
      "cell_type": "code",
      "source": [],
      "metadata": {
        "id": "a_L9Xk6PNwqj"
      },
      "execution_count": null,
      "outputs": []
    },
    {
      "cell_type": "code",
      "source": [
        "# 모델 저장\n",
        "# torch.save(model.state_dict(), path+\"BERT_multilabel_model.pt\")"
      ],
      "metadata": {
        "id": "z0dfEpMiNwoE"
      },
      "execution_count": null,
      "outputs": []
    },
    {
      "cell_type": "code",
      "source": [
        "# 모델 로드\n",
        "# model.load_state_dict(torch.load(path+\"BERT_multilabel_model.pt\"))"
      ],
      "metadata": {
        "id": "_LKvdXt0NwkF"
      },
      "execution_count": null,
      "outputs": []
    },
    {
      "cell_type": "code",
      "source": [],
      "metadata": {
        "id": "lUXZTG3FNwbw"
      },
      "execution_count": null,
      "outputs": []
    },
    {
      "cell_type": "markdown",
      "source": [
        "### 예측"
      ],
      "metadata": {
        "id": "3BROd8U-TVQv"
      }
    },
    {
      "cell_type": "code",
      "source": [
        "from transformers import pipeline\n",
        "\n",
        "pipe = pipeline(\"text-classification\", model=model.cuda(), tokenizer=tokenizer, device=0, max_length=512,\n",
        "                return_all_scores=True, function_to_apply='sigmoid')"
      ],
      "metadata": {
        "colab": {
          "base_uri": "https://localhost:8080/"
        },
        "id": "uJ9zgHLHNwZq",
        "outputId": "118a7e41-591d-4b36-c164-bf87a2a5c069"
      },
      "execution_count": null,
      "outputs": [
        {
          "output_type": "stream",
          "name": "stderr",
          "text": [
            "/usr/local/lib/python3.10/dist-packages/transformers/pipelines/text_classification.py:105: UserWarning: `return_all_scores` is now deprecated,  if want a similar functionality use `top_k=None` instead of `return_all_scores=True` or `top_k=1` instead of `return_all_scores=False`.\n",
            "  warnings.warn(\n"
          ]
        }
      ]
    },
    {
      "cell_type": "code",
      "source": [
        "genre_to_idx"
      ],
      "metadata": {
        "colab": {
          "base_uri": "https://localhost:8080/"
        },
        "id": "C6jPtKipYLiH",
        "outputId": "22680964-3b11-45c8-ef86-a2fb7fd93648"
      },
      "execution_count": null,
      "outputs": [
        {
          "output_type": "execute_result",
          "data": {
            "text/plain": [
              "{'댄스': 0,\n",
              " '발라드': 1,\n",
              " 'R&B/Soul': 2,\n",
              " '랩/힙합': 3,\n",
              " '성인가요/트로트': 4,\n",
              " '록/메탈': 5,\n",
              " '국내드라마': 6,\n",
              " '일렉트로니카': 7,\n",
              " '포크/블루스': 8,\n",
              " '크로스오버': 9,\n",
              " '애시드/퓨전/팝': 10,\n",
              " '클래식': 11,\n",
              " '재즈': 12,\n",
              " '인디음악': 13}"
            ]
          },
          "metadata": {},
          "execution_count": 188
        }
      ]
    },
    {
      "cell_type": "code",
      "source": [
        "for idx, val in enumerate(genre_to_idx):\n",
        "    print(idx, val)"
      ],
      "metadata": {
        "colab": {
          "base_uri": "https://localhost:8080/"
        },
        "id": "ShywKj66YlAx",
        "outputId": "89ccaa0b-8eed-44e8-de79-788f020ff7ce"
      },
      "execution_count": null,
      "outputs": [
        {
          "output_type": "stream",
          "name": "stdout",
          "text": [
            "0 댄스\n",
            "1 발라드\n",
            "2 R&B/Soul\n",
            "3 랩/힙합\n",
            "4 성인가요/트로트\n",
            "5 록/메탈\n",
            "6 국내드라마\n",
            "7 일렉트로니카\n",
            "8 포크/블루스\n",
            "9 크로스오버\n",
            "10 애시드/퓨전/팝\n",
            "11 클래식\n",
            "12 재즈\n",
            "13 인디음악\n"
          ]
        }
      ]
    },
    {
      "cell_type": "code",
      "source": [
        "label_dict = {f\"LABEL_{idx}\" : val for idx, val  in enumerate(genre_to_idx)}"
      ],
      "metadata": {
        "id": "rGWuZmAKYTII"
      },
      "execution_count": null,
      "outputs": []
    },
    {
      "cell_type": "code",
      "source": [
        "def prediction(text):\n",
        "    result = pipe(text)\n",
        "    return [label_dict[res['label']] for res in result[0] if res['score'] > 0.5]"
      ],
      "metadata": {
        "id": "0qx2U_fUZES5"
      },
      "execution_count": null,
      "outputs": []
    },
    {
      "cell_type": "code",
      "source": [
        "lyrics = '''\n",
        "Bring the fire\n",
        "거침없이 Yeah\n",
        "기나긴 밤 이겨냈지\n",
        "선명한 너의 그 상처는 빛났어\n",
        "Oh\n",
        "주먹 쥐고 턱을 올려\n",
        "그래 Ad Astra\n",
        "아득한 미래도 내 손안에 잡아\n",
        "Feeling like a rockstar\n",
        "Lights on us\n",
        "쏟아지는 갈채속의 Fire\n",
        "We go\n",
        "We go\n",
        "We go hard\n",
        "Hard like a criminal\n",
        "Hard like the beat\n",
        "Hard like ma flow\n",
        "너도 원했니\n",
        "밤이 녹을 만큼\n",
        "뜨겁고 진한\n",
        "새로운 히트\n",
        "멈추지\n",
        "못 했다지?\n",
        "Hard like a criminal\n",
        "Hard like the beat\n",
        "Hard like ma flow\n",
        "구미 당겼지\n",
        "Yeah\n",
        "멋 내 봐 맛을 봐\n",
        "누가 누가 와\n",
        "너를 놀래키나\n",
        "We go hard\n",
        "걸음은 킹콩\n",
        "그 놈 참 물건\n",
        "잠시 한 눈 좀 팔아도\n",
        "다시 챔피언\n",
        "왕관은 주인을 되찾아내\n",
        "세상의 끝까지\n",
        "Yeah we don’t stop\n",
        "Oh\n",
        "시간이 아까워 Tic Toc\n",
        "서둘러\n",
        "Sold out\n",
        "목말랐던 만큼 원하고 원해 봐\n",
        "Feeling like a rockstar\n",
        "Lights on us\n",
        "걸어 나와 네 순간을 마셔\n",
        "We bring the fire\n",
        "We go\n",
        "We go\n",
        "We go hard\n",
        "Hard like a criminal\n",
        "Hard like the beat\n",
        "Hard like ma flow\n",
        "너도 원했니\n",
        "밤이 녹을 만큼\n",
        "뜨겁고 진한\n",
        "새로운 히트\n",
        "멈추지\n",
        "못 했다지?\n",
        "Hard like a criminal\n",
        "Hard like the beat\n",
        "Hard like ma flow\n",
        "구미 당겼지\n",
        "Yeah\n",
        "멋 내 봐 맛을 봐\n",
        "누가 누가 와\n",
        "너를 놀래키나\n",
        "We go hard\n",
        "같이 가볼까\n",
        "되감을 순 없어\n",
        "지금 이 순간만 기억해 줘\n",
        "No looking back\n",
        "넌 알잖아\n",
        "미쳐 봐 날아 봐\n",
        "우린 강해\n",
        "We get you right\n",
        "KO\n",
        "We gon’ knock you out\n",
        "거기 MC count down to...\n",
        "Zero\n",
        "Yesir\n",
        "We go\n",
        "We go\n",
        "We go hard\n",
        "Hard like a criminal\n",
        "Hard like the beat\n",
        "Hard like ma flow\n",
        "너도 원했지\n",
        "밤이 녹을 만큼\n",
        "뜨겁고 진한\n",
        "새로운 히트\n",
        "멈추지\n",
        "못 했다지?\n",
        "Hard like a criminal\n",
        "Hard like the beat\n",
        "Hard like ma flow\n",
        "구미 당겼지\n",
        "Yeah\n",
        "멋 내 봐 맛을 봐\n",
        "누가 누가 와\n",
        "너를 놀래키나\n",
        "We go hard\n",
        "'''"
      ],
      "metadata": {
        "id": "dC6xjGJUTd2e"
      },
      "execution_count": null,
      "outputs": []
    },
    {
      "cell_type": "code",
      "source": [
        "lyrics = preprocess([lyrics])"
      ],
      "metadata": {
        "id": "oD4WTXc8iNnw",
        "colab": {
          "base_uri": "https://localhost:8080/"
        },
        "outputId": "feb3407d-abb0-4f5a-fba9-7008a68b2fa4"
      },
      "execution_count": null,
      "outputs": [
        {
          "output_type": "execute_result",
          "data": {
            "text/plain": [
              "['거침없이 기나긴 밤 이겨냈지선명한 너의 그 상처는 빛났어주먹 쥐고 턱을 올려그래  아득한 미래도 내 손안에 잡아     쏟아지는 갈채속의              너도 원했니밤이 녹을 만큼뜨겁고 진한새로운 히트멈추지못 했다지         구미 당겼지멋 내 봐 맛을 봐누가 누가 와너를 놀래키나  걸음은 킹콩그 놈 참 물건잠시 한 눈 좀 팔아도다시 챔피언왕관은 주인을 되찾아내세상의 끝까지   시간이 아까워  서둘러 목말랐던 만큼 원하고 원해 봐     걸어 나와 네 순간을 마셔                너도 원했니밤이 녹을 만큼뜨겁고 진한새로운 히트멈추지못 했다지         구미 당겼지멋 내 봐 맛을 봐누가 누가 와너를 놀래키나  같이 가볼까되감을 순 없어지금 이 순간만 기억해 줘  넌 알잖아미쳐 봐 날아 봐우린 강해       거기                 너도 원했지밤이 녹을 만큼뜨겁고 진한새로운 히트멈추지못 했다지         구미 당겼지멋 내 봐 맛을 봐누가 누가 와너를 놀래키나']"
            ]
          },
          "metadata": {},
          "execution_count": 186
        }
      ]
    },
    {
      "cell_type": "code",
      "source": [
        "result = pipe(lyrics)\n",
        "print(result)"
      ],
      "metadata": {
        "colab": {
          "base_uri": "https://localhost:8080/"
        },
        "id": "6a1V0ZZfTd4b",
        "outputId": "ab6148cd-03bc-4df5-dc24-4c1944a1c9da"
      },
      "execution_count": null,
      "outputs": [
        {
          "output_type": "stream",
          "name": "stderr",
          "text": [
            "Truncation was not explicitly activated but `max_length` is provided a specific value, please use `truncation=True` to explicitly truncate examples to max length. Defaulting to 'longest_first' truncation strategy. If you encode pairs of sequences (GLUE-style) with the tokenizer you can select this strategy more precisely by providing a specific strategy to `truncation`.\n"
          ]
        },
        {
          "output_type": "stream",
          "name": "stdout",
          "text": [
            "[[{'label': 'LABEL_0', 'score': 0.9876783490180969}, {'label': 'LABEL_1', 'score': 0.5617058873176575}, {'label': 'LABEL_2', 'score': 0.03496751934289932}, {'label': 'LABEL_3', 'score': 0.10405497997999191}, {'label': 'LABEL_4', 'score': 0.012061669491231441}, {'label': 'LABEL_5', 'score': 0.0755143016576767}, {'label': 'LABEL_6', 'score': 0.01566191390156746}, {'label': 'LABEL_7', 'score': 0.036784231662750244}, {'label': 'LABEL_8', 'score': 0.02031835727393627}, {'label': 'LABEL_9', 'score': 0.013626680709421635}, {'label': 'LABEL_10', 'score': 0.015070327557623386}, {'label': 'LABEL_11', 'score': 0.014247684739530087}, {'label': 'LABEL_12', 'score': 0.012642097659409046}, {'label': 'LABEL_13', 'score': 0.01169545017182827}]]\n"
          ]
        }
      ]
    },
    {
      "cell_type": "code",
      "source": [
        "prediction(lyrics)"
      ],
      "metadata": {
        "colab": {
          "base_uri": "https://localhost:8080/"
        },
        "id": "ES09a_60ZSLD",
        "outputId": "ccdc91f6-efae-40d4-cd5d-592b9de9290b"
      },
      "execution_count": null,
      "outputs": [
        {
          "output_type": "execute_result",
          "data": {
            "text/plain": [
              "['댄스', '발라드']"
            ]
          },
          "metadata": {},
          "execution_count": 201
        }
      ]
    },
    {
      "cell_type": "code",
      "source": [],
      "metadata": {
        "id": "QkzUpW4l-jIc"
      },
      "execution_count": null,
      "outputs": []
    }
  ]
}